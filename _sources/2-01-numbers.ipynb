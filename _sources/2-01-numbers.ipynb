{
 "cells": [
  {
   "cell_type": "markdown",
   "id": "440be14a",
   "metadata": {},
   "source": [
    "<div class=\"licence\">\n",
    "<span>Licence CC BY-NC-ND</span>\n",
    "<span>Thierry Parmentelat</span>\n",
    "<span><img src=\"media/inria-25-alpha.png\" /></span>\n",
    "</div>"
   ]
  },
  {
   "cell_type": "markdown",
   "id": "2c707b41",
   "metadata": {},
   "source": [
    "# les nombres"
   ]
  },
  {
   "cell_type": "markdown",
   "id": "e21dbc83",
   "metadata": {
    "slideshow": {
     "slide_type": "slide"
    }
   },
   "source": [
    "## types de base `int`, `float`, `complex`\n",
    "\n",
    "* conversion automatique si nécessaire\n",
    "* les `int` ont une précision illimitée\n",
    "  * Python peut calculer nativement"
   ]
  },
  {
   "cell_type": "code",
   "execution_count": 1,
   "id": "72bdedcc",
   "metadata": {},
   "outputs": [
    {
     "data": {
      "text/plain": [
       "88081805538117400166084413860573792922096998567618527026079"
      ]
     },
     "execution_count": 1,
     "metadata": {},
     "output_type": "execute_result"
    }
   ],
   "source": [
    "92857234957203457234572203957 * 948572349572039457029347529347"
   ]
  },
  {
   "cell_type": "markdown",
   "id": "f8faee2c",
   "metadata": {},
   "source": [
    "* ceux qui ont eu à faire ça en C apprécieront"
   ]
  },
  {
   "cell_type": "markdown",
   "id": "8ec9acda",
   "metadata": {
    "slideshow": {
     "slide_type": "slide"
    }
   },
   "source": [
    "### division"
   ]
  },
  {
   "cell_type": "code",
   "execution_count": 2,
   "id": "c9f54732",
   "metadata": {},
   "outputs": [
    {
     "data": {
      "text/plain": [
       "2.5"
      ]
     },
     "execution_count": 2,
     "metadata": {},
     "output_type": "execute_result"
    }
   ],
   "source": [
    "# division exacte/flottante\n",
    "5 / 2           "
   ]
  },
  {
   "cell_type": "code",
   "execution_count": 3,
   "id": "669c43ef",
   "metadata": {
    "cell_style": "split",
    "slideshow": {
     "slide_type": ""
    }
   },
   "outputs": [
    {
     "data": {
      "text/plain": [
       "2"
      ]
     },
     "execution_count": 3,
     "metadata": {},
     "output_type": "execute_result"
    }
   ],
   "source": [
    "# division entière\n",
    "8 // 3          "
   ]
  },
  {
   "cell_type": "code",
   "execution_count": 4,
   "id": "58822b46",
   "metadata": {
    "cell_style": "split",
    "slideshow": {
     "slide_type": ""
    }
   },
   "outputs": [
    {
     "data": {
      "text/plain": [
       "2.0"
      ]
     },
     "execution_count": 4,
     "metadata": {},
     "output_type": "execute_result"
    }
   ],
   "source": [
    "# division entière\n",
    "8.0 // 3        "
   ]
  },
  {
   "cell_type": "markdown",
   "id": "8cc9828a",
   "metadata": {
    "slideshow": {
     "slide_type": "slide"
    }
   },
   "source": [
    "### nombres : opérateurs"
   ]
  },
  {
   "cell_type": "code",
   "execution_count": 5,
   "id": "6171b99a",
   "metadata": {
    "cell_style": "split"
   },
   "outputs": [
    {
     "data": {
      "text/plain": [
       "2"
      ]
     },
     "execution_count": 5,
     "metadata": {},
     "output_type": "execute_result"
    }
   ],
   "source": [
    "# reste div. entière\n",
    "5 % 3       "
   ]
  },
  {
   "cell_type": "code",
   "execution_count": 6,
   "id": "3aaed9c1",
   "metadata": {
    "cell_style": "split",
    "slideshow": {
     "slide_type": ""
    }
   },
   "outputs": [
    {
     "data": {
      "text/plain": [
       "0.5"
      ]
     },
     "execution_count": 6,
     "metadata": {},
     "output_type": "execute_result"
    }
   ],
   "source": [
    "# reste div. entière\n",
    "5 % 1.5       "
   ]
  },
  {
   "cell_type": "code",
   "execution_count": 7,
   "id": "90d182c2",
   "metadata": {
    "slideshow": {
     "slide_type": ""
    }
   },
   "outputs": [
    {
     "data": {
      "text/plain": [
       "4294967296"
      ]
     },
     "execution_count": 7,
     "metadata": {},
     "output_type": "execute_result"
    }
   ],
   "source": [
    "2 ** 32         # puissance"
   ]
  },
  {
   "cell_type": "code",
   "execution_count": 8,
   "id": "d2d46e86",
   "metadata": {
    "slideshow": {
     "slide_type": ""
    }
   },
   "outputs": [
    {
     "data": {
      "text/plain": [
       "234"
      ]
     },
     "execution_count": 8,
     "metadata": {},
     "output_type": "execute_result"
    }
   ],
   "source": [
    "int(234.5)      # cast float ➔ int"
   ]
  },
  {
   "cell_type": "markdown",
   "id": "d35780ae",
   "metadata": {
    "slideshow": {
     "slide_type": "slide"
    }
   },
   "source": [
    "### nombres complexes"
   ]
  },
  {
   "cell_type": "code",
   "execution_count": 9,
   "id": "c521c6a0",
   "metadata": {},
   "outputs": [
    {
     "data": {
      "text/plain": [
       "(-1+0j)"
      ]
     },
     "execution_count": 9,
     "metadata": {},
     "output_type": "execute_result"
    }
   ],
   "source": [
    "1j * 1j         # nombres complexes"
   ]
  },
  {
   "cell_type": "code",
   "execution_count": 10,
   "id": "9d8448a4",
   "metadata": {},
   "outputs": [
    {
     "data": {
      "text/plain": [
       "3.0"
      ]
     },
     "execution_count": 10,
     "metadata": {},
     "output_type": "execute_result"
    }
   ],
   "source": [
    "a = 3 + 4j\n",
    "a.real          # partie réelle"
   ]
  },
  {
   "cell_type": "code",
   "execution_count": 11,
   "id": "00c6ebfe",
   "metadata": {},
   "outputs": [
    {
     "data": {
      "text/plain": [
       "4.0"
      ]
     },
     "execution_count": 11,
     "metadata": {},
     "output_type": "execute_result"
    }
   ],
   "source": [
    "a.imag          # partie imaginaire"
   ]
  },
  {
   "cell_type": "markdown",
   "id": "1a601ab3",
   "metadata": {
    "slideshow": {
     "slide_type": "slide"
    },
    "tags": [
     "level_intermediate"
    ]
   },
   "source": [
    "### en hexa, binaire, octal"
   ]
  },
  {
   "cell_type": "code",
   "execution_count": 12,
   "id": "77837538",
   "metadata": {},
   "outputs": [
    {
     "data": {
      "text/plain": [
       "255"
      ]
     },
     "execution_count": 12,
     "metadata": {},
     "output_type": "execute_result"
    }
   ],
   "source": [
    "0xff            # hexadécimal"
   ]
  },
  {
   "cell_type": "code",
   "execution_count": 13,
   "id": "51395be3",
   "metadata": {},
   "outputs": [
    {
     "data": {
      "text/plain": [
       "255"
      ]
     },
     "execution_count": 13,
     "metadata": {},
     "output_type": "execute_result"
    }
   ],
   "source": [
    "0b11111111      # binaire"
   ]
  },
  {
   "cell_type": "code",
   "execution_count": 14,
   "id": "b05373a9",
   "metadata": {},
   "outputs": [
    {
     "data": {
      "text/plain": [
       "255"
      ]
     },
     "execution_count": 14,
     "metadata": {},
     "output_type": "execute_result"
    }
   ],
   "source": [
    "0o377           # octal"
   ]
  },
  {
   "cell_type": "markdown",
   "id": "85a90b48",
   "metadata": {
    "slideshow": {
     "slide_type": "slide"
    },
    "tags": [
     "level_intermediate"
    ]
   },
   "source": [
    "### sous forme hexa, binaire, octale"
   ]
  },
  {
   "cell_type": "code",
   "execution_count": 15,
   "id": "0456b2d2",
   "metadata": {},
   "outputs": [
    {
     "data": {
      "text/plain": [
       "'0xff'"
      ]
     },
     "execution_count": 15,
     "metadata": {},
     "output_type": "execute_result"
    }
   ],
   "source": [
    "hex(255)    # traduire en hexa (-> str)"
   ]
  },
  {
   "cell_type": "code",
   "execution_count": 16,
   "id": "810a167f",
   "metadata": {},
   "outputs": [
    {
     "data": {
      "text/plain": [
       "'0b11111111'"
      ]
     },
     "execution_count": 16,
     "metadata": {},
     "output_type": "execute_result"
    }
   ],
   "source": [
    "bin(255)    # traduire en binaire (-> str)"
   ]
  },
  {
   "cell_type": "code",
   "execution_count": 17,
   "id": "b5ae3f74",
   "metadata": {},
   "outputs": [
    {
     "data": {
      "text/plain": [
       "'0o377'"
      ]
     },
     "execution_count": 17,
     "metadata": {},
     "output_type": "execute_result"
    }
   ],
   "source": [
    "oct(255)    # traduire en octal (-> str)"
   ]
  },
  {
   "cell_type": "markdown",
   "id": "e35bb0b7",
   "metadata": {
    "slideshow": {
     "slide_type": "slide"
    },
    "tags": [
     "level_intermediate"
    ]
   },
   "source": [
    "### décalages"
   ]
  },
  {
   "cell_type": "code",
   "execution_count": 18,
   "id": "fca43d8d",
   "metadata": {
    "cell_style": "split"
   },
   "outputs": [
    {
     "data": {
      "text/plain": [
       "3072"
      ]
     },
     "execution_count": 18,
     "metadata": {},
     "output_type": "execute_result"
    }
   ],
   "source": [
    "x = 3\n",
    "y = x << 10 # décalage à gauche \n",
    "y"
   ]
  },
  {
   "cell_type": "code",
   "execution_count": 19,
   "id": "391e1e80",
   "metadata": {
    "cell_style": "split"
   },
   "outputs": [
    {
     "data": {
      "text/plain": [
       "3072"
      ]
     },
     "execution_count": 19,
     "metadata": {},
     "output_type": "execute_result"
    }
   ],
   "source": [
    "2**11 + 2**10"
   ]
  },
  {
   "cell_type": "code",
   "execution_count": 20,
   "id": "fe1df4f8",
   "metadata": {},
   "outputs": [
    {
     "data": {
      "text/plain": [
       "3"
      ]
     },
     "execution_count": 20,
     "metadata": {},
     "output_type": "execute_result"
    }
   ],
   "source": [
    "x          # l'argument n'est pas modifié"
   ]
  },
  {
   "cell_type": "code",
   "execution_count": 21,
   "id": "935badbb",
   "metadata": {
    "cell_style": "split"
   },
   "outputs": [
    {
     "data": {
      "text/plain": [
       "384"
      ]
     },
     "execution_count": 21,
     "metadata": {},
     "output_type": "execute_result"
    }
   ],
   "source": [
    "y >> 3     # décalage à droite "
   ]
  },
  {
   "cell_type": "code",
   "execution_count": 22,
   "id": "2c05556d",
   "metadata": {
    "cell_style": "split"
   },
   "outputs": [
    {
     "data": {
      "text/plain": [
       "384"
      ]
     },
     "execution_count": 22,
     "metadata": {},
     "output_type": "execute_result"
    }
   ],
   "source": [
    "2**8 + 2**7"
   ]
  },
  {
   "cell_type": "markdown",
   "id": "11e4a7b5",
   "metadata": {
    "slideshow": {
     "slide_type": "slide"
    },
    "tags": [
     "level_intermediate"
    ]
   },
   "source": [
    "### opérations *bitwise*"
   ]
  },
  {
   "cell_type": "code",
   "execution_count": 23,
   "id": "4834c5cb",
   "metadata": {},
   "outputs": [
    {
     "data": {
      "text/plain": [
       "6"
      ]
     },
     "execution_count": 23,
     "metadata": {},
     "output_type": "execute_result"
    }
   ],
   "source": [
    "y = 4\n",
    "y | 2      # bitwise OR de 0100 (4) et 0010 (2) "
   ]
  },
  {
   "cell_type": "code",
   "execution_count": 24,
   "id": "3d240d13",
   "metadata": {},
   "outputs": [
    {
     "data": {
      "text/plain": [
       "0"
      ]
     },
     "execution_count": 24,
     "metadata": {},
     "output_type": "execute_result"
    }
   ],
   "source": [
    "y & 2      # bitwise AND de 0100 (4) et 0010 (2)"
   ]
  },
  {
   "cell_type": "code",
   "execution_count": 25,
   "id": "bdfb7e7b",
   "metadata": {},
   "outputs": [
    {
     "data": {
      "text/plain": [
       "4"
      ]
     },
     "execution_count": 25,
     "metadata": {},
     "output_type": "execute_result"
    }
   ],
   "source": [
    "y & 15     # bitwise AND de 0100 (4) et 1111 (15)"
   ]
  },
  {
   "cell_type": "code",
   "execution_count": 26,
   "id": "c975d763",
   "metadata": {},
   "outputs": [
    {
     "data": {
      "text/plain": [
       "11"
      ]
     },
     "execution_count": 26,
     "metadata": {},
     "output_type": "execute_result"
    }
   ],
   "source": [
    "y ^ 15     # bitwise XOR de 0100 (4) et 1111 (15)"
   ]
  },
  {
   "cell_type": "markdown",
   "id": "32781593",
   "metadata": {},
   "source": [
    "* rarement utile d’utiliser les opérations bitwise en Python\n",
    "* mieux vaut utiliser les structures de données fournies\n",
    "* parfois utile avec numpy toutefois"
   ]
  },
  {
   "cell_type": "markdown",
   "id": "d91851aa",
   "metadata": {
    "slideshow": {
     "slide_type": "slide"
    }
   },
   "source": [
    "### le module `math`"
   ]
  },
  {
   "cell_type": "code",
   "execution_count": 27,
   "id": "b147f57d",
   "metadata": {
    "cell_style": "split"
   },
   "outputs": [
    {
     "data": {
      "text/plain": [
       "['sqrt', 'tan', 'tanh', 'tau', 'trunc', 'ulp']"
      ]
     },
     "execution_count": 27,
     "metadata": {},
     "output_type": "execute_result"
    }
   ],
   "source": [
    "# pour anticiper un peu \n",
    "# sur les listes...\n",
    "# les 6 derniers symboles\n",
    "# dans le module math\n",
    "import math\n",
    "dir(math)[-6:]"
   ]
  },
  {
   "cell_type": "code",
   "execution_count": 28,
   "id": "9db3c059",
   "metadata": {
    "cell_style": "split"
   },
   "outputs": [
    {
     "data": {
      "text/plain": [
       "6.283185307179586"
      ]
     },
     "execution_count": 28,
     "metadata": {},
     "output_type": "execute_result"
    }
   ],
   "source": [
    "math.tau"
   ]
  },
  {
   "cell_type": "code",
   "execution_count": 29,
   "id": "00eadaa7",
   "metadata": {
    "cell_style": "split"
   },
   "outputs": [
    {
     "data": {
      "text/plain": [
       "1.2246467991473532e-16"
      ]
     },
     "execution_count": 29,
     "metadata": {},
     "output_type": "execute_result"
    }
   ],
   "source": [
    "math.sin(math.pi)"
   ]
  },
  {
   "cell_type": "markdown",
   "id": "421d528e",
   "metadata": {},
   "source": [
    "**Important**: Entraînez vous aussi à trouver la doc dans google:\n",
    "\n",
    "https://www.google.com/search?q=python+module+math"
   ]
  },
  {
   "cell_type": "markdown",
   "id": "6a8fc377",
   "metadata": {
    "slideshow": {
     "slide_type": "slide"
    }
   },
   "source": [
    "## booléens"
   ]
  },
  {
   "cell_type": "code",
   "execution_count": 30,
   "id": "dc0e38f0",
   "metadata": {
    "cell_style": "split",
    "slideshow": {
     "slide_type": ""
    }
   },
   "outputs": [
    {
     "data": {
      "text/plain": [
       "True"
      ]
     },
     "execution_count": 30,
     "metadata": {},
     "output_type": "execute_result"
    }
   ],
   "source": [
    "True == 1"
   ]
  },
  {
   "cell_type": "code",
   "execution_count": 31,
   "id": "05774424",
   "metadata": {
    "cell_style": "split"
   },
   "outputs": [
    {
     "data": {
      "text/plain": [
       "True"
      ]
     },
     "execution_count": 31,
     "metadata": {},
     "output_type": "execute_result"
    }
   ],
   "source": [
    "\n",
    "False == 0"
   ]
  },
  {
   "cell_type": "code",
   "execution_count": 32,
   "id": "20438968",
   "metadata": {
    "cell_style": "split",
    "slideshow": {
     "slide_type": ""
    }
   },
   "outputs": [
    {
     "data": {
      "text/plain": [
       "4"
      ]
     },
     "execution_count": 32,
     "metadata": {},
     "output_type": "execute_result"
    }
   ],
   "source": [
    "3 + True"
   ]
  },
  {
   "cell_type": "code",
   "execution_count": 33,
   "id": "5fe6fd1e",
   "metadata": {
    "cell_style": "split"
   },
   "outputs": [
    {
     "data": {
      "text/plain": [
       "3"
      ]
     },
     "execution_count": 33,
     "metadata": {},
     "output_type": "execute_result"
    }
   ],
   "source": [
    "3 + False"
   ]
  },
  {
   "cell_type": "markdown",
   "id": "9cfec089",
   "metadata": {
    "slideshow": {
     "slide_type": "slide"
    }
   },
   "source": [
    "### booléens et tests (1)"
   ]
  },
  {
   "cell_type": "code",
   "execution_count": 34,
   "id": "1b655b30",
   "metadata": {
    "cell_style": "split"
   },
   "outputs": [
    {
     "data": {
      "text/plain": [
       "bool"
      ]
     },
     "execution_count": 34,
     "metadata": {},
     "output_type": "execute_result"
    }
   ],
   "source": [
    "# on peut faire un `if`\n",
    "# (ou un while) sur un booléen\n",
    "a = 3\n",
    "b = 4\n",
    "\n",
    "type(a == b)"
   ]
  },
  {
   "cell_type": "code",
   "execution_count": 35,
   "id": "e40d0151",
   "metadata": {
    "cell_style": "split"
   },
   "outputs": [
    {
     "name": "stdout",
     "output_type": "stream",
     "text": [
      "différents\n"
     ]
    }
   ],
   "source": [
    "# sujet du if = booléen\n",
    "\n",
    "if a == b:\n",
    "    print(\"pareils\")\n",
    "else:\n",
    "    print(\"différents\")"
   ]
  },
  {
   "cell_type": "markdown",
   "id": "000e7a43",
   "metadata": {
    "slideshow": {
     "slide_type": "slide"
    }
   },
   "source": [
    "### booléens et tests (2)"
   ]
  },
  {
   "cell_type": "code",
   "execution_count": 36,
   "id": "f780a67a",
   "metadata": {
    "cell_style": "split"
   },
   "outputs": [
    {
     "name": "stdout",
     "output_type": "stream",
     "text": [
      "pas faux\n"
     ]
    }
   ],
   "source": [
    "# mais aussi : avec n'importe quoi d'autre\n",
    "\n",
    "if a:\n",
    "    print(\"pas faux\")"
   ]
  },
  {
   "cell_type": "code",
   "execution_count": 37,
   "id": "eb990dcc",
   "metadata": {
    "cell_style": "split"
   },
   "outputs": [
    {
     "name": "stdout",
     "output_type": "stream",
     "text": [
      "pas faux\n"
     ]
    }
   ],
   "source": [
    "# en fait équivalent à ceci:\n",
    "\n",
    "if bool(a):\n",
    "    print(\"pas faux\")"
   ]
  },
  {
   "cell_type": "markdown",
   "id": "602e1708",
   "metadata": {
    "slideshow": {
     "slide_type": "slide"
    }
   },
   "source": [
    "## conversions"
   ]
  },
  {
   "cell_type": "markdown",
   "id": "89c85dee",
   "metadata": {},
   "source": [
    "* c'est la **mécanique générale** pour convertir entre types de données:"
   ]
  },
  {
   "cell_type": "code",
   "execution_count": 38,
   "id": "df38cd5e",
   "metadata": {
    "cell_style": "split"
   },
   "outputs": [
    {
     "data": {
      "text/plain": [
       "3"
      ]
     },
     "execution_count": 38,
     "metadata": {},
     "output_type": "execute_result"
    }
   ],
   "source": [
    "# si on appelle int() on convertit en entier\n",
    "int(3.4)"
   ]
  },
  {
   "cell_type": "code",
   "execution_count": 39,
   "id": "12a4e291",
   "metadata": {
    "cell_style": "split"
   },
   "outputs": [
    {
     "data": {
      "text/plain": [
       "True"
      ]
     },
     "execution_count": 39,
     "metadata": {},
     "output_type": "execute_result"
    }
   ],
   "source": [
    "# si on appelle bool() on convertit en booléen\n",
    "\n",
    "bool(3.4)"
   ]
  },
  {
   "cell_type": "code",
   "execution_count": 40,
   "id": "b8004354",
   "metadata": {
    "cell_style": "split"
   },
   "outputs": [
    {
     "data": {
      "text/plain": [
       "False"
      ]
     },
     "execution_count": 40,
     "metadata": {},
     "output_type": "execute_result"
    }
   ],
   "source": [
    "bool(0)"
   ]
  },
  {
   "cell_type": "code",
   "execution_count": 41,
   "id": "794e6584",
   "metadata": {
    "cell_style": "split"
   },
   "outputs": [
    {
     "data": {
      "text/plain": [
       "False"
      ]
     },
     "execution_count": 41,
     "metadata": {},
     "output_type": "execute_result"
    }
   ],
   "source": [
    "bool(\"\")"
   ]
  },
  {
   "cell_type": "markdown",
   "id": "ee880328",
   "metadata": {
    "slideshow": {
     "slide_type": "slide"
    },
    "tags": [
     "level_intermediate"
    ]
   },
   "source": [
    "### booléens - épilogue"
   ]
  },
  {
   "cell_type": "markdown",
   "id": "679747bd",
   "metadata": {},
   "source": [
    "* attention à ne pas confondre\n",
    "* les opérations bit à bit avec les opérations booléennes"
   ]
  },
  {
   "cell_type": "code",
   "execution_count": 42,
   "id": "19eb2b14",
   "metadata": {
    "slideshow": {
     "slide_type": "-"
    }
   },
   "outputs": [
    {
     "name": "stdout",
     "output_type": "stream",
     "text": [
      "a True b True a^b False\n"
     ]
    }
   ],
   "source": [
    "a = True; b = True\n",
    "print(\"a\", bool(a), \"b\", bool(b), \"a^b\", bool(a^b))"
   ]
  },
  {
   "cell_type": "code",
   "execution_count": 43,
   "id": "2c6b4806",
   "metadata": {
    "slideshow": {
     "slide_type": ""
    }
   },
   "outputs": [
    {
     "name": "stdout",
     "output_type": "stream",
     "text": [
      "a True b True a^b True\n"
     ]
    }
   ],
   "source": [
    "a = 1; b = 2\n",
    "print(\"a\", bool(a), \"b\", bool(b), \"a^b\", bool(a^b))"
   ]
  },
  {
   "cell_type": "markdown",
   "id": "41df4189",
   "metadata": {
    "slideshow": {
     "slide_type": "slide"
    }
   },
   "source": [
    "## l'encodage des flottants"
   ]
  },
  {
   "cell_type": "markdown",
   "id": "a3cb94be",
   "metadata": {},
   "source": [
    "* représentés en machine comme des fractions en base 2\n",
    "* le plus souvent une **approximation**\n",
    "  * quand pas une fraction binaire exacte\n",
    "* pas une spécificité de Python\n",
    "  * IEE-754: [WikiPedia](https://en.wikipedia.org/wiki/IEEE_754) - [interactif **64bits**](http://www.binaryconvert.com/convert_double.html)"
   ]
  },
  {
   "cell_type": "code",
   "execution_count": 44,
   "id": "8c1a2997",
   "metadata": {
    "cell_style": "split",
    "slideshow": {
     "slide_type": "-"
    }
   },
   "outputs": [
    {
     "data": {
      "text/plain": [
       "0.30000000000000004"
      ]
     },
     "execution_count": 44,
     "metadata": {},
     "output_type": "execute_result"
    }
   ],
   "source": [
    "0.1 + 0.2"
   ]
  },
  {
   "cell_type": "code",
   "execution_count": 45,
   "id": "ec23a96a",
   "metadata": {
    "cell_style": "split",
    "slideshow": {
     "slide_type": "-"
    }
   },
   "outputs": [
    {
     "data": {
      "text/plain": [
       "False"
      ]
     },
     "execution_count": 45,
     "metadata": {},
     "output_type": "execute_result"
    }
   ],
   "source": [
    "0.1 + 0.2 == 0.3"
   ]
  },
  {
   "cell_type": "markdown",
   "id": "9627321d",
   "metadata": {
    "slideshow": {
     "slide_type": "slide"
    }
   },
   "source": [
    "### contournements"
   ]
  },
  {
   "cell_type": "markdown",
   "id": "71b4b2f0",
   "metadata": {},
   "source": [
    "##### selon les usages\n",
    "\n",
    "* le [module `decimal`](https://docs.python.org/3/library/decimal.html), pour travailler sur des nombres décimaux\n",
    "  * avec plus de précision et de contrôle qu’avec le type `float`\n",
    "* le [module `fractions`](https://docs.python.org/3/library/fractions.html) permet de travailler sur des rationnels"
   ]
  },
  {
   "cell_type": "markdown",
   "id": "1ac4f4c3",
   "metadata": {
    "slideshow": {
     "slide_type": "slide"
    }
   },
   "source": [
    "### exemples - `decimal`"
   ]
  },
  {
   "cell_type": "code",
   "execution_count": 46,
   "id": "eb194679",
   "metadata": {
    "cell_style": "split"
   },
   "outputs": [],
   "source": [
    "from decimal import Decimal\n",
    "x = Decimal('0.1') + Decimal('0.2')"
   ]
  },
  {
   "cell_type": "code",
   "execution_count": 47,
   "id": "0ca01a2f",
   "metadata": {
    "cell_style": "split"
   },
   "outputs": [
    {
     "data": {
      "text/plain": [
       "True"
      ]
     },
     "execution_count": 47,
     "metadata": {},
     "output_type": "execute_result"
    }
   ],
   "source": [
    "x == Decimal('0.3')"
   ]
  },
  {
   "cell_type": "markdown",
   "id": "49de8b33",
   "metadata": {
    "slideshow": {
     "slide_type": "slide"
    }
   },
   "source": [
    "### exemples - `fractions`"
   ]
  },
  {
   "cell_type": "code",
   "execution_count": 48,
   "id": "db9b4c3c",
   "metadata": {
    "cell_style": "center"
   },
   "outputs": [
    {
     "data": {
      "text/plain": [
       "Fraction(3, 10)"
      ]
     },
     "execution_count": 48,
     "metadata": {},
     "output_type": "execute_result"
    }
   ],
   "source": [
    "from fractions import Fraction\n",
    "x = Fraction(1, 10) + Fraction(2, 10)\n",
    "x"
   ]
  },
  {
   "cell_type": "code",
   "execution_count": 49,
   "id": "86732d51",
   "metadata": {
    "cell_style": "split"
   },
   "outputs": [
    {
     "data": {
      "text/plain": [
       "True"
      ]
     },
     "execution_count": 49,
     "metadata": {},
     "output_type": "execute_result"
    }
   ],
   "source": [
    "x == Fraction(3, 10)"
   ]
  },
  {
   "cell_type": "code",
   "execution_count": 50,
   "id": "34e405ee",
   "metadata": {
    "cell_style": "split"
   },
   "outputs": [
    {
     "data": {
      "text/plain": [
       "False"
      ]
     },
     "execution_count": 50,
     "metadata": {},
     "output_type": "execute_result"
    }
   ],
   "source": [
    "x == 0.3"
   ]
  }
 ],
 "metadata": {
  "celltoolbar": "Slideshow",
  "jupytext": {
   "cell_metadata_filter": "all,-hidden,-heading_collapsed",
   "formats": "md:myst",
   "notebook_metadata_filter": "all,-language_info,-toc,-jupytext.text_representation.jupytext_version,-jupytext.text_representation.format_version",
   "text_representation": {
    "extension": ".md",
    "format_name": "myst"
   }
  },
  "kernelspec": {
   "display_name": "Python 3",
   "language": "python",
   "name": "python3"
  },
  "language_info": {
   "codemirror_mode": {
    "name": "ipython",
    "version": 3
   },
   "file_extension": ".py",
   "mimetype": "text/x-python",
   "name": "python",
   "nbconvert_exporter": "python",
   "pygments_lexer": "ipython3",
   "version": "3.9.6"
  },
  "notebookname": "nombres",
  "rise": {
   "autolaunch": true,
   "slideNumber": "c/t",
   "start_slideshow_at": "selected",
   "theme": "sky",
   "transition": "cube"
  },
  "source_map": [
   22,
   30,
   34,
   42,
   44,
   48,
   52,
   57,
   67,
   77,
   81,
   88,
   98,
   106,
   114,
   118,
   122,
   127,
   131,
   135,
   139,
   143,
   147,
   151,
   155,
   159,
   163,
   167,
   175,
   181,
   185,
   191,
   197,
   201,
   206,
   210,
   214,
   216,
   222,
   226,
   237,
   243,
   247,
   253,
   257,
   266,
   273,
   282,
   288,
   292,
   303,
   314,
   318,
   327,
   336,
   340,
   344,
   351,
   359,
   365,
   371,
   375,
   380,
   389,
   398,
   402,
   410,
   419,
   428,
   432,
   440,
   444,
   451,
   457,
   461,
   469,
   475
  ],
  "version": "1.0"
 },
 "nbformat": 4,
 "nbformat_minor": 5
}