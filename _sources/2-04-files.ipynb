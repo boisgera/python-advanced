{
 "cells": [
  {
   "cell_type": "markdown",
   "id": "dc699ee5",
   "metadata": {},
   "source": [
    "<div class=\"licence\">\n",
    "<span>Licence CC BY-NC-ND</span>\n",
    "<span>Thierry Parmentelat</span>\n",
    "<span><img src=\"media/inria-25-alpha.png\" /></span>\n",
    "</div>"
   ]
  },
  {
   "cell_type": "markdown",
   "id": "9666b02a",
   "metadata": {},
   "source": [
    "# les fichiers"
   ]
  },
  {
   "cell_type": "markdown",
   "id": "1ad57345",
   "metadata": {
    "slideshow": {
     "slide_type": "slide"
    }
   },
   "source": [
    "* lire et écrire un fichier est très facile en Python\n",
    "* ouvrir un fichier pour créer un objet \"fichier\"\n",
    "* `open('mon_fichier.txt', 'r')`\n",
    "  * `'r'` ouvre le fichier en lecture (défaut),\n",
    "  * `‘w’` en écriture,\n",
    "  * `‘a’` en écriture à la suite (*append*),"
   ]
  },
  {
   "cell_type": "markdown",
   "id": "7b07fc2d",
   "metadata": {
    "slideshow": {
     "slide_type": "slide"
    }
   },
   "source": [
    "## utilisez un `with`"
   ]
  },
  {
   "cell_type": "markdown",
   "id": "bdeeddf3",
   "metadata": {},
   "source": [
    "* prenez l'habitude de **toujours utiliser un context manager**"
   ]
  },
  {
   "cell_type": "code",
   "execution_count": 1,
   "id": "ff695c05",
   "metadata": {},
   "outputs": [],
   "source": [
    "# on n'a pas encore étudié l'instruction with\n",
    "# mais je vous conseille de toujours procéder comme ceci\n",
    "\n",
    "# avec with on n'a pas besoin de fermer le fichier\n",
    "with open('temporaire.txt', 'w') as f:\n",
    "    for i in 10, 20, 30:\n",
    "        f.write(f'{i} {i**2}\\n')"
   ]
  },
  {
   "cell_type": "code",
   "execution_count": 2,
   "id": "ba8d8da7",
   "metadata": {},
   "outputs": [
    {
     "name": "stdout",
     "output_type": "stream",
     "text": [
      "10 100\r\n",
      "20 400\r\n",
      "30 900\r\n"
     ]
    }
   ],
   "source": [
    "# on triche un peu pour regarder le contenu\n",
    "# du fichier qu'on vient de créer\n",
    "\n",
    "!cat temporaire.txt"
   ]
  },
  {
   "cell_type": "markdown",
   "id": "6fb86b19",
   "metadata": {
    "slideshow": {
     "slide_type": "slide"
    }
   },
   "source": [
    "## lecture avec `for`"
   ]
  },
  {
   "cell_type": "markdown",
   "id": "2b101abe",
   "metadata": {},
   "source": [
    "* l'objet fichier est un **itérable** lui-même\n",
    "* on peut faire un `for` dessus\n",
    "* **attention** toutefois, les lignes vont contenir un caractère `\"\\n\"` de fin de ligne"
   ]
  },
  {
   "cell_type": "code",
   "execution_count": 3,
   "id": "e4912a39",
   "metadata": {
    "cell_style": "split"
   },
   "outputs": [
    {
     "name": "stdout",
     "output_type": "stream",
     "text": [
      "-- 10 100\n",
      "-- 20 400\n",
      "-- 30 900\n"
     ]
    }
   ],
   "source": [
    "# lire un fichier texte \n",
    "# ligne par ligne\n",
    "# difficile de faire\n",
    "# plus compact et lisible !\n",
    "\n",
    "# remarquez aussi:\n",
    "# open() sans le mode ⇔ open('r')\n",
    "\n",
    "with open('temporaire.txt') as f:\n",
    "    for line in f:\n",
    "        print(f\"-- {line}\", end='')"
   ]
  },
  {
   "cell_type": "code",
   "execution_count": 4,
   "id": "09ff41dd",
   "metadata": {
    "cell_style": "split"
   },
   "outputs": [
    {
     "name": "stdout",
     "output_type": "stream",
     "text": [
      "-- 10 100\n",
      "\n",
      "-- 20 400\n",
      "\n",
      "-- 30 900\n",
      "\n"
     ]
    }
   ],
   "source": [
    "# si on ne fait rien\n",
    "# on obtient 2 fins de ligne\n",
    "# (i.e. une ligne blanche)\n",
    "\n",
    "with open('temporaire.txt') as f:\n",
    "    for line in f:\n",
    "        print(f\"-- {line}\") "
   ]
  },
  {
   "cell_type": "markdown",
   "id": "c8a9566e",
   "metadata": {},
   "source": [
    "**Précision**\n",
    "\n",
    "* `print(...)` ajoute une fin de ligne\n",
    "* `print(..., end=\"\")` évite cet ajout automatique"
   ]
  },
  {
   "cell_type": "markdown",
   "id": "5de88a6b",
   "metadata": {
    "slideshow": {
     "slide_type": "slide"
    }
   },
   "source": [
    "## fichiers texte ou binaire"
   ]
  },
  {
   "cell_type": "markdown",
   "id": "3c58d4a8",
   "metadata": {},
   "source": [
    "* parfois utile d'ouvrir un fichier en binaire  \n",
    "  par ex. un exécutable, un fichier dans un format propriétaire\n",
    "\n",
    "* ajouter `'b'` au mode pour ouvrir **en binaire**\n",
    "  * pas de décodage\n",
    "  * travaille alors à base de **`bytes`** et non de `str`"
   ]
  },
  {
   "cell_type": "code",
   "execution_count": 5,
   "id": "2725cd67",
   "metadata": {
    "cell_style": "center",
    "slideshow": {
     "slide_type": "slide"
    }
   },
   "outputs": [
    {
     "data": {
      "text/plain": [
       "b'no\\xc3\\xabl en \\xc3\\xa9t\\xc3\\xa9\\n'"
      ]
     },
     "execution_count": 5,
     "metadata": {},
     "output_type": "execute_result"
    }
   ],
   "source": [
    "# on part d'une chaine avec des accents\n",
    "text = \"noël en été\\n\"\n",
    "\n",
    "# rappelez vous la section sur Unicode\n",
    "# j'ai besoin d'un objet bytes\n",
    "# j'encode mon str en un bytes\n",
    "binaire = text.encode(encoding=\"utf-8\")\n",
    "\n",
    "binaire"
   ]
  },
  {
   "cell_type": "code",
   "execution_count": 6,
   "id": "62abd8ee",
   "metadata": {
    "cell_style": "center"
   },
   "outputs": [],
   "source": [
    "# remarquez le 'b' dans le mode d'ouverture\n",
    "\n",
    "with open('temporaire.bin', 'wb') as out_file:\n",
    "    # je peux du coup écrire un objet bytes\n",
    "    out_file.write(binaire)"
   ]
  },
  {
   "cell_type": "code",
   "execution_count": 7,
   "id": "968b1072",
   "metadata": {},
   "outputs": [
    {
     "name": "stdout",
     "output_type": "stream",
     "text": [
      "noël en été\r\n"
     ]
    }
   ],
   "source": [
    "!cat temporaire.bin"
   ]
  },
  {
   "cell_type": "code",
   "execution_count": 8,
   "id": "266173e2",
   "metadata": {
    "slideshow": {
     "slide_type": "slide"
    }
   },
   "outputs": [],
   "source": [
    "# pareil en lecture, le mode avec un 'b'\n",
    "# va faire que read() retourne un objet bytes\n",
    "\n",
    "with open('temporaire.bin', 'rb') as in_file:\n",
    "    binaire2 = in_file.read()"
   ]
  },
  {
   "cell_type": "code",
   "execution_count": 9,
   "id": "2e261eb6",
   "metadata": {
    "slideshow": {
     "slide_type": ""
    }
   },
   "outputs": [
    {
     "data": {
      "text/plain": [
       "True"
      ]
     },
     "execution_count": 9,
     "metadata": {},
     "output_type": "execute_result"
    }
   ],
   "source": [
    "# et donc on retombe bien sur nos pieds\n",
    "binaire2 == binaire"
   ]
  },
  {
   "cell_type": "code",
   "execution_count": 10,
   "id": "296d5a97",
   "metadata": {},
   "outputs": [
    {
     "data": {
      "text/plain": [
       "True"
      ]
     },
     "execution_count": 10,
     "metadata": {},
     "output_type": "execute_result"
    }
   ],
   "source": [
    "# on aurait pu aussi bien faire\n",
    "with open('temporaire.bin') as feed:\n",
    "    text2 = feed.read()\n",
    "    \n",
    "text2 == text"
   ]
  },
  {
   "cell_type": "markdown",
   "id": "70b89585",
   "metadata": {
    "slideshow": {
     "slide_type": "slide"
    },
    "tags": [
     "level_intermediate"
    ]
   },
   "source": [
    "## le module `pathlib`"
   ]
  },
  {
   "cell_type": "markdown",
   "id": "c9efce75",
   "metadata": {
    "slideshow": {
     "slide_type": "-"
    }
   },
   "source": [
    "### objectifs\n",
    "\n",
    "* simplifier la gestion des noms de fichier \n",
    "  * pour rendre le code plus concis\n",
    "  * et donc plus lisible\n",
    "  * sous-titre: *object-oriented filesystem paths*\n",
    "  \n",
    "* capable de \n",
    "  * ouvrir les fichiers\n",
    "  * savoir si le fichier existe, si c'est un dossier...\n",
    "  * accéder aux métadata (taille, date)\n",
    "  * parcourir un dossier par pattern-matching\n",
    "  * ..."
   ]
  },
  {
   "cell_type": "markdown",
   "id": "9cfcb38a",
   "metadata": {
    "slideshow": {
     "slide_type": "slide"
    }
   },
   "source": [
    "### un exemple"
   ]
  },
  {
   "cell_type": "code",
   "execution_count": 11,
   "id": "05ce6d20",
   "metadata": {
    "cell_style": "split"
   },
   "outputs": [
    {
     "name": "stdout",
     "output_type": "stream",
     "text": [
      "c'est un fichier\n"
     ]
    }
   ],
   "source": [
    "# savoir si un chemin correspond à un dossier\n",
    "from pathlib import Path\n",
    "\n",
    "tmp = Path(\"temporaire.txt\")\n",
    "\n",
    "if tmp.is_file():\n",
    "    print(\"c'est un fichier\")"
   ]
  },
  {
   "cell_type": "code",
   "execution_count": 12,
   "id": "402c9ba1",
   "metadata": {
    "cell_style": "split"
   },
   "outputs": [
    {
     "name": "stdout",
     "output_type": "stream",
     "text": [
      "10 100\n",
      "20 400\n",
      "30 900\n"
     ]
    }
   ],
   "source": [
    "# donc on peut l'ouvrir\n",
    "\n",
    "with tmp.open() as feed:\n",
    "    for line in feed:\n",
    "        print(line, end=\"\")"
   ]
  },
  {
   "cell_type": "markdown",
   "id": "2ccedd19",
   "metadata": {},
   "source": [
    "### construire un objet `Path`"
   ]
  },
  {
   "cell_type": "code",
   "execution_count": 13,
   "id": "4b734c4a",
   "metadata": {
    "cell_style": "split"
   },
   "outputs": [],
   "source": [
    "# un chemin absolu\n",
    "prefix = Path(\"/etc\")\n",
    "\n",
    "# le chemin absolu du directory courant\n",
    "dot = Path.cwd()\n",
    "\n",
    "# ou du homedir\n",
    "home = Path.home()\n",
    "\n",
    "# un nom de ficher\n",
    "filename = Path(\"apache\")"
   ]
  },
  {
   "cell_type": "code",
   "execution_count": 14,
   "id": "23202d92",
   "metadata": {
    "cell_style": "split"
   },
   "outputs": [
    {
     "data": {
      "text/plain": [
       "PosixPath('/home/runner/work/python-advanced/python-advanced/notebooks')"
      ]
     },
     "execution_count": 14,
     "metadata": {},
     "output_type": "execute_result"
    }
   ],
   "source": [
    "# par exemple le répertoire courant est\n",
    "\n",
    "dot"
   ]
  },
  {
   "cell_type": "markdown",
   "id": "ba2ee4c6",
   "metadata": {
    "slideshow": {
     "slide_type": "slide"
    }
   },
   "source": [
    "### l'opérateur `/`"
   ]
  },
  {
   "cell_type": "markdown",
   "id": "11197a5a",
   "metadata": {},
   "source": [
    "un exemple intéressant de surcharge d'opérateur - ici `/`  \n",
    "selon le type de ses opérandes, `/` fait .. ce qu'il faut  \n",
    "par exemple ici on ne fait pas une division !"
   ]
  },
  {
   "cell_type": "code",
   "execution_count": 15,
   "id": "1fc36dc5",
   "metadata": {
    "cell_style": "center"
   },
   "outputs": [
    {
     "data": {
      "text/plain": [
       "pathlib.PosixPath"
      ]
     },
     "execution_count": 15,
     "metadata": {},
     "output_type": "execute_result"
    }
   ],
   "source": [
    "# Path / Path -> Path bien sûr\n",
    "type(prefix / filename)"
   ]
  },
  {
   "cell_type": "code",
   "execution_count": 16,
   "id": "3b43cecb",
   "metadata": {
    "cell_style": "split",
    "slideshow": {
     "slide_type": "slide"
    }
   },
   "outputs": [
    {
     "data": {
      "text/plain": [
       "pathlib.PosixPath"
      ]
     },
     "execution_count": 16,
     "metadata": {},
     "output_type": "execute_result"
    }
   ],
   "source": [
    "# Path / str -> Path\n",
    "type(prefix / \"apache2\")"
   ]
  },
  {
   "cell_type": "code",
   "execution_count": 17,
   "id": "1c3d6fc6",
   "metadata": {
    "cell_style": "split"
   },
   "outputs": [
    {
     "data": {
      "text/plain": [
       "pathlib.PosixPath"
      ]
     },
     "execution_count": 17,
     "metadata": {},
     "output_type": "execute_result"
    }
   ],
   "source": [
    "# str / Path -> Path\n",
    "type(\"/etc\" / Path(\"apache2\"))"
   ]
  },
  {
   "cell_type": "code",
   "execution_count": 18,
   "id": "9b8f9d45",
   "metadata": {},
   "outputs": [
    {
     "name": "stdout",
     "output_type": "stream",
     "text": [
      "OOPS unsupported operand type(s) for /: 'str' and 'str'\n"
     ]
    }
   ],
   "source": [
    "# mais bien sûr str / str -> TypeError\n",
    "try:\n",
    "    \"/etc\" / \"apache2\"\n",
    "except Exception as e:\n",
    "    print(\"OOPS\", e)"
   ]
  },
  {
   "cell_type": "markdown",
   "id": "c9c9235c",
   "metadata": {
    "slideshow": {
     "slide_type": "slide"
    }
   },
   "source": [
    "### calculs sur les chemins"
   ]
  },
  {
   "cell_type": "markdown",
   "id": "390eba80",
   "metadata": {
    "cell_style": "split"
   },
   "source": [
    "j'ai créé un petite hiérarchie de fichiers dans un dossier `filepath-globbing` qui ressemble à ceci"
   ]
  },
  {
   "cell_type": "markdown",
   "id": "9f45c0c4",
   "metadata": {
    "cell_style": "split"
   },
   "source": [
    "![](media/filepath-globbing.png)"
   ]
  },
  {
   "cell_type": "code",
   "execution_count": 19,
   "id": "bcab1a80",
   "metadata": {
    "slideshow": {
     "slide_type": "slide"
    }
   },
   "outputs": [
    {
     "data": {
      "text/plain": [
       "PosixPath('/home/runner/work/python-advanced/python-advanced/notebooks/filepath-globbing')"
      ]
     },
     "execution_count": 19,
     "metadata": {},
     "output_type": "execute_result"
    }
   ],
   "source": [
    "# voilà comment on peut d'abord trouver son chemin absolu\n",
    "\n",
    "globbing = Path(\"filepath-globbing\")\n",
    "absolute = globbing.absolute()\n",
    "absolute"
   ]
  },
  {
   "cell_type": "code",
   "execution_count": 20,
   "id": "8d5619dc",
   "metadata": {},
   "outputs": [
    {
     "data": {
      "text/plain": [
       "'/home/runner/work/python-advanced/python-advanced/notebooks/filepath-globbing'"
      ]
     },
     "execution_count": 20,
     "metadata": {},
     "output_type": "execute_result"
    }
   ],
   "source": [
    "# si on a besoin d'un str, comme toujours il suffit de faire\n",
    "str(absolute)"
   ]
  },
  {
   "cell_type": "code",
   "execution_count": 21,
   "id": "5d2c3756",
   "metadata": {},
   "outputs": [
    {
     "data": {
      "text/plain": [
       "('/',\n",
       " 'home',\n",
       " 'runner',\n",
       " 'work',\n",
       " 'python-advanced',\n",
       " 'python-advanced',\n",
       " 'notebooks',\n",
       " 'filepath-globbing')"
      ]
     },
     "execution_count": 21,
     "metadata": {},
     "output_type": "execute_result"
    }
   ],
   "source": [
    "# les différents morceaux de ce chemin absolu\n",
    "absolute.parts"
   ]
  },
  {
   "cell_type": "code",
   "execution_count": 22,
   "id": "77b8f2ea",
   "metadata": {
    "cell_style": "split"
   },
   "outputs": [
    {
     "data": {
      "text/plain": [
       "'filepath-globbing'"
      ]
     },
     "execution_count": 22,
     "metadata": {},
     "output_type": "execute_result"
    }
   ],
   "source": [
    "# juste le nom du fichier, sans le chemin\n",
    "absolute.name"
   ]
  },
  {
   "cell_type": "code",
   "execution_count": 23,
   "id": "0d753ab4",
   "metadata": {
    "cell_style": "split"
   },
   "outputs": [
    {
     "data": {
      "text/plain": [
       "PosixPath('/home/runner/work/python-advanced/python-advanced/notebooks')"
      ]
     },
     "execution_count": 23,
     "metadata": {},
     "output_type": "execute_result"
    }
   ],
   "source": [
    "# le chemin, sans le nom du fichier\n",
    "absolute.parent"
   ]
  },
  {
   "cell_type": "code",
   "execution_count": 24,
   "id": "695482c1",
   "metadata": {},
   "outputs": [
    {
     "data": {
      "text/plain": [
       "[PosixPath('/home/runner/work/python-advanced/python-advanced/notebooks'),\n",
       " PosixPath('/home/runner/work/python-advanced/python-advanced'),\n",
       " PosixPath('/home/runner/work/python-advanced'),\n",
       " PosixPath('/home/runner/work'),\n",
       " PosixPath('/home/runner'),\n",
       " PosixPath('/home'),\n",
       " PosixPath('/')]"
      ]
     },
     "execution_count": 24,
     "metadata": {},
     "output_type": "execute_result"
    }
   ],
   "source": [
    "# tous les dossiers parent\n",
    "\n",
    "list(absolute.parents)"
   ]
  },
  {
   "cell_type": "markdown",
   "id": "e74b58e6",
   "metadata": {
    "slideshow": {
     "slide_type": "slide"
    }
   },
   "source": [
    "### pattern-matching"
   ]
  },
  {
   "cell_type": "code",
   "execution_count": 25,
   "id": "872d6fe6",
   "metadata": {
    "cell_style": "center",
    "slideshow": {
     "slide_type": ""
    }
   },
   "outputs": [
    {
     "data": {
      "text/plain": [
       "True"
      ]
     },
     "execution_count": 25,
     "metadata": {},
     "output_type": "execute_result"
    }
   ],
   "source": [
    "# est-ce que le nom de mon objet Path \n",
    "# a une certaine forme ?\n",
    "\n",
    "absolute.match(\"**/notebooks/*\")"
   ]
  },
  {
   "cell_type": "code",
   "execution_count": 26,
   "id": "6f468536",
   "metadata": {},
   "outputs": [
    {
     "data": {
      "text/plain": [
       "True"
      ]
     },
     "execution_count": 26,
     "metadata": {},
     "output_type": "execute_result"
    }
   ],
   "source": [
    "absolute.match(\"**/*globbing*\")"
   ]
  },
  {
   "cell_type": "markdown",
   "id": "2140cb83",
   "metadata": {
    "slideshow": {
     "slide_type": "slide"
    }
   },
   "source": [
    "#### pattern-matching - suite"
   ]
  },
  {
   "cell_type": "markdown",
   "id": "16e73f5d",
   "metadata": {
    "cell_style": "split"
   },
   "source": [
    "recherche dans un répertoire"
   ]
  },
  {
   "cell_type": "code",
   "execution_count": 27,
   "id": "fbee0530",
   "metadata": {
    "cell_style": "split"
   },
   "outputs": [
    {
     "name": "stdout",
     "output_type": "stream",
     "text": [
      "filepath-globbing/a1\r\n",
      "\r\n",
      "filepath-globbing/b:\r\n",
      "b2\r\n",
      "\r\n",
      "filepath-globbing/c:\r\n",
      "c1\r\n"
     ]
    }
   ],
   "source": [
    "# un répertoire qui contient quelques fichiers\n",
    "!ls filepath-globbing/**"
   ]
  },
  {
   "cell_type": "code",
   "execution_count": 28,
   "id": "777f4ea2",
   "metadata": {
    "slideshow": {
     "slide_type": "slide"
    }
   },
   "outputs": [
    {
     "data": {
      "text/plain": [
       "[PosixPath('filepath-globbing/c'),\n",
       " PosixPath('filepath-globbing/b'),\n",
       " PosixPath('filepath-globbing/a1')]"
      ]
     },
     "execution_count": 28,
     "metadata": {},
     "output_type": "execute_result"
    }
   ],
   "source": [
    "# à présent c'est plus intéressant\n",
    "# avec des chemins relatifs\n",
    "globbing = Path(\"filepath-globbing\")\n",
    "\n",
    "list(globbing.glob(\"*\"))"
   ]
  },
  {
   "cell_type": "code",
   "execution_count": 29,
   "id": "da1d0707",
   "metadata": {},
   "outputs": [
    {
     "data": {
      "text/plain": [
       "[PosixPath('filepath-globbing/a1')]"
      ]
     },
     "execution_count": 29,
     "metadata": {},
     "output_type": "execute_result"
    }
   ],
   "source": [
    "list(globbing.glob(\"*[0-9]\"))"
   ]
  },
  {
   "cell_type": "code",
   "execution_count": 30,
   "id": "737b1e86",
   "metadata": {},
   "outputs": [
    {
     "data": {
      "text/plain": [
       "[PosixPath('filepath-globbing'),\n",
       " PosixPath('filepath-globbing/c'),\n",
       " PosixPath('filepath-globbing/c/c1'),\n",
       " PosixPath('filepath-globbing/b')]"
      ]
     },
     "execution_count": 30,
     "metadata": {},
     "output_type": "execute_result"
    }
   ],
   "source": [
    "list(globbing.glob(\"**\"))"
   ]
  },
  {
   "cell_type": "code",
   "execution_count": 31,
   "id": "6cc033c6",
   "metadata": {},
   "outputs": [
    {
     "data": {
      "text/plain": [
       "[PosixPath('filepath-globbing/a1'),\n",
       " PosixPath('filepath-globbing/c/c1'),\n",
       " PosixPath('filepath-globbing/c/c1/c2'),\n",
       " PosixPath('filepath-globbing/b/b2')]"
      ]
     },
     "execution_count": 31,
     "metadata": {},
     "output_type": "execute_result"
    }
   ],
   "source": [
    "list(globbing.glob(\"**/*[0-9]\"))"
   ]
  },
  {
   "cell_type": "code",
   "execution_count": 32,
   "id": "e86bc3a2",
   "metadata": {},
   "outputs": [
    {
     "data": {
      "text/plain": [
       "'filepath-globbing'"
      ]
     },
     "execution_count": 32,
     "metadata": {},
     "output_type": "execute_result"
    }
   ],
   "source": [
    "str(globbing)"
   ]
  }
 ],
 "metadata": {
  "celltoolbar": "Slideshow",
  "jupytext": {
   "cell_metadata_filter": "all,-hidden,-heading_collapsed",
   "formats": "md:myst",
   "notebook_metadata_filter": "all,-language_info,-toc,-jupytext.text_representation.jupytext_version,-jupytext.text_representation.format_version",
   "text_representation": {
    "extension": ".md",
    "format_name": "myst"
   }
  },
  "kernelspec": {
   "display_name": "Python 3",
   "language": "python",
   "name": "python3"
  },
  "language_info": {
   "codemirror_mode": {
    "name": "ipython",
    "version": 3
   },
   "file_extension": ".py",
   "mimetype": "text/x-python",
   "name": "python",
   "nbconvert_exporter": "python",
   "pygments_lexer": "ipython3",
   "version": "3.9.6"
  },
  "notebookname": "fichiers",
  "rise": {
   "autolaunch": true,
   "slideNumber": "c/t",
   "start_slideshow_at": "selected",
   "theme": "sky",
   "transition": "cube"
  },
  "source_map": [
   22,
   30,
   34,
   43,
   47,
   51,
   61,
   68,
   72,
   78,
   94,
   104,
   111,
   115,
   124,
   141,
   151,
   155,
   167,
   176,
   184,
   188,
   204,
   208,
   220,
   228,
   232,
   248,
   256,
   260,
   266,
   273,
   283,
   290,
   298,
   302,
   306,
   310,
   322,
   327,
   332,
   339,
   346,
   352,
   356,
   368,
   372,
   376,
   380,
   387,
   399,
   403,
   407,
   411
  ],
  "version": "1.0"
 },
 "nbformat": 4,
 "nbformat_minor": 5
}