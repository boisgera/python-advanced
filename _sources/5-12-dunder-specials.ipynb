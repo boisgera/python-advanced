{
 "cells": [
  {
   "cell_type": "markdown",
   "id": "8ab77657",
   "metadata": {},
   "source": [
    "<div class=\"licence\">\n",
    "<span>Licence CC BY-NC-ND</span>\n",
    "<span>Thierry Parmentelat</span>\n",
    "<span><img src=\"media/inria-25-alpha.png\" /></span>\n",
    "</div>"
   ]
  },
  {
   "cell_type": "markdown",
   "id": "990acf87",
   "metadata": {
    "slideshow": {
     "slide_type": ""
    }
   },
   "source": [
    "# classes : rappels (2)\n",
    "\n",
    "les méthodes spéciales (aussi appelées *dunder methods*)"
   ]
  },
  {
   "cell_type": "markdown",
   "id": "76018c0a",
   "metadata": {
    "slideshow": {
     "slide_type": "slide"
    }
   },
   "source": [
    "## méthodes spéciales / *dunder methods*\n",
    "\n",
    "* sur une classe on peut définir des **méthodes spéciales**  \n",
    "* pour bien intégrer les objets dans le langage  \n",
    "* c'est-à-dire donner du sens à des constructions du langage\n",
    "\n",
    "e.g. que peuvent vouloir dire :\n",
    "\n",
    "* avec les fonctions *builtin*, e.g. `len(obj)`, `int(obj)`\n",
    "* opérateurs comme `obj + x`  \n",
    "* itération `for item in obj`\n",
    "* test d'appartenance `x in obj` \n",
    "* indexation `obj[x]` \n",
    "* même appel! `obj(x)`\n",
    "* etc..."
   ]
  },
  {
   "cell_type": "markdown",
   "id": "1d29a0c8",
   "metadata": {
    "slideshow": {
     "slide_type": "slide"
    }
   },
   "source": [
    "## `len(obj)`"
   ]
  },
  {
   "cell_type": "code",
   "execution_count": 1,
   "id": "b2b6fd19",
   "metadata": {
    "cell_style": "split"
   },
   "outputs": [],
   "source": [
    "class Classe:\n",
    "    \n",
    "    def __init__(self, students):\n",
    "        self.students = students\n",
    "        \n",
    "    def __len__(self):\n",
    "        return len(self.students)"
   ]
  },
  {
   "cell_type": "code",
   "execution_count": 2,
   "id": "ef1d2ff6",
   "metadata": {
    "cell_style": "split"
   },
   "outputs": [
    {
     "data": {
      "text/plain": [
       "3"
      ]
     },
     "execution_count": 2,
     "metadata": {},
     "output_type": "execute_result"
    }
   ],
   "source": [
    "classe = Classe(['jean', 'laurent', 'benoit'])\n",
    "\n",
    "len(classe)"
   ]
  },
  {
   "cell_type": "markdown",
   "id": "9a0bfc5f",
   "metadata": {},
   "source": [
    "de manière similaire : \n",
    "* `__int__(self)` pour redéfinir `int(obj)` et similaires"
   ]
  },
  {
   "cell_type": "markdown",
   "id": "eca2c91f",
   "metadata": {
    "slideshow": {
     "slide_type": "slide"
    }
   },
   "source": [
    "## `bool(obj)`"
   ]
  },
  {
   "cell_type": "code",
   "execution_count": 3,
   "id": "504a157a",
   "metadata": {
    "cell_style": "split"
   },
   "outputs": [],
   "source": [
    "class Classe:\n",
    "    \n",
    "    def __init__(self, students):\n",
    "        self.students = students\n",
    "        \n",
    "    def __bool__(self):\n",
    "        return self.students != []"
   ]
  },
  {
   "cell_type": "code",
   "execution_count": 4,
   "id": "b33c49d0",
   "metadata": {
    "cell_style": "split"
   },
   "outputs": [
    {
     "name": "stdout",
     "output_type": "stream",
     "text": [
      "classe1 est fausse\n",
      "classe2 est vraie\n"
     ]
    }
   ],
   "source": [
    "classe1 = Classe([])\n",
    "classe2 = Classe(['jean', 'laurent', 'benoit'])\n",
    "\n",
    "if not classe1:\n",
    "    print(\"classe1 est fausse\")\n",
    "if classe2:\n",
    "    print(\"classe2 est vraie\")"
   ]
  },
  {
   "cell_type": "markdown",
   "id": "ad28fbc0",
   "metadata": {
    "slideshow": {
     "slide_type": "slide"
    }
   },
   "source": [
    "## opérateurs"
   ]
  },
  {
   "cell_type": "code",
   "execution_count": 5,
   "id": "edefd750",
   "metadata": {
    "cell_style": "split"
   },
   "outputs": [],
   "source": [
    "class Classe:\n",
    "    \n",
    "    def __init__(self, students):\n",
    "        self.students = students\n",
    "        \n",
    "    def __add__(self, other):\n",
    "        return Classe(self.students + other.students)\n",
    "    \n",
    "    def __repr__(self):\n",
    "        return f\"[{len(self.students)} students]\""
   ]
  },
  {
   "cell_type": "code",
   "execution_count": 6,
   "id": "5abed28e",
   "metadata": {
    "cell_style": "split"
   },
   "outputs": [
    {
     "data": {
      "text/plain": [
       "[4 students]"
      ]
     },
     "execution_count": 6,
     "metadata": {},
     "output_type": "execute_result"
    }
   ],
   "source": [
    "classe1 = Classe(['marie', 'claire'])\n",
    "classe2 = Classe(['jean', 'laurent'])\n",
    "\n",
    "classe1 + classe2"
   ]
  },
  {
   "cell_type": "markdown",
   "id": "2d010254",
   "metadata": {
    "slideshow": {
     "slide_type": "slide"
    }
   },
   "source": [
    "## itérations"
   ]
  },
  {
   "cell_type": "code",
   "execution_count": 7,
   "id": "beaf1155",
   "metadata": {
    "cell_style": "split"
   },
   "outputs": [],
   "source": [
    "class Classe:\n",
    "\n",
    "    def __init__(self, students):\n",
    "        self.students = students\n",
    "\n",
    "    def __iter__(self):\n",
    "        return iter(self.students)"
   ]
  },
  {
   "cell_type": "code",
   "execution_count": 8,
   "id": "e469b1b4",
   "metadata": {
    "cell_style": "split"
   },
   "outputs": [
    {
     "name": "stdout",
     "output_type": "stream",
     "text": [
      "jean\n",
      "laurent\n",
      "benoit\n"
     ]
    }
   ],
   "source": [
    "classe = Classe(['jean', 'laurent', 'benoit'])\n",
    "\n",
    "for s in classe:\n",
    "    print(s)"
   ]
  },
  {
   "cell_type": "markdown",
   "id": "b9a38538",
   "metadata": {
    "slideshow": {
     "slide_type": "slide"
    }
   },
   "source": [
    "## appartenance"
   ]
  },
  {
   "cell_type": "code",
   "execution_count": 9,
   "id": "387d8ea0",
   "metadata": {
    "cell_style": "split"
   },
   "outputs": [],
   "source": [
    "class Classe:\n",
    "\n",
    "    def __init__(self, students):\n",
    "        self.students = students\n",
    "\n",
    "    def __contains__(self, student):\n",
    "        return student in self.students"
   ]
  },
  {
   "cell_type": "code",
   "execution_count": 10,
   "id": "12a67b62",
   "metadata": {
    "cell_style": "split"
   },
   "outputs": [
    {
     "data": {
      "text/plain": [
       "True"
      ]
     },
     "execution_count": 10,
     "metadata": {},
     "output_type": "execute_result"
    }
   ],
   "source": [
    "classe = Classe(['jean', 'laurent', 'benoit'])\n",
    "\n",
    "'jean' in classe"
   ]
  },
  {
   "cell_type": "markdown",
   "id": "b9aecc3a",
   "metadata": {
    "slideshow": {
     "slide_type": "slide"
    }
   },
   "source": [
    "## indexations"
   ]
  },
  {
   "cell_type": "code",
   "execution_count": 11,
   "id": "17cf0578",
   "metadata": {
    "cell_style": "split"
   },
   "outputs": [],
   "source": [
    "class Classe:\n",
    "\n",
    "    def __init__(self, students):\n",
    "        self.students = students\n",
    "\n",
    "    def __getitem__(self, index):\n",
    "        if isinstance(index, int):\n",
    "            return self.students[index]\n",
    "        elif isinstance(index, str):\n",
    "            if index in self.students:\n",
    "                return index\n",
    "            else:\n",
    "                return None"
   ]
  },
  {
   "cell_type": "code",
   "execution_count": 12,
   "id": "8d069cc0",
   "metadata": {
    "cell_style": "split"
   },
   "outputs": [
    {
     "data": {
      "text/plain": [
       "'laurent'"
      ]
     },
     "execution_count": 12,
     "metadata": {},
     "output_type": "execute_result"
    }
   ],
   "source": [
    "classe = Classe(['jean', 'laurent', 'benoit'])\n",
    "\n",
    "classe[1]"
   ]
  },
  {
   "cell_type": "code",
   "execution_count": 13,
   "id": "935f09cc",
   "metadata": {
    "cell_style": "split"
   },
   "outputs": [
    {
     "data": {
      "text/plain": [
       "'jean'"
      ]
     },
     "execution_count": 13,
     "metadata": {},
     "output_type": "execute_result"
    }
   ],
   "source": [
    "classe['jean']"
   ]
  },
  {
   "cell_type": "code",
   "execution_count": 14,
   "id": "1def0713",
   "metadata": {
    "cell_style": "split"
   },
   "outputs": [
    {
     "data": {
      "text/plain": [
       "True"
      ]
     },
     "execution_count": 14,
     "metadata": {},
     "output_type": "execute_result"
    }
   ],
   "source": [
    "classe['pierre'] is None"
   ]
  },
  {
   "cell_type": "markdown",
   "id": "5db9c846",
   "metadata": {
    "slideshow": {
     "slide_type": "slide"
    }
   },
   "source": [
    "## appel\n",
    "\n",
    "on peut même donner du sens à `obj(x)`"
   ]
  },
  {
   "cell_type": "code",
   "execution_count": 15,
   "id": "29bae87d",
   "metadata": {
    "cell_style": "split"
   },
   "outputs": [],
   "source": [
    "class Line:\n",
    "    \"\"\"\n",
    "    modelling the line of equation\n",
    "    y = ax + b\n",
    "    \"\"\"\n",
    "    def __init__(self, a, b):\n",
    "        self.a = a\n",
    "        self.b = b\n",
    "        \n",
    "    def __call__(self, x):\n",
    "        return self.a * x + self.b"
   ]
  },
  {
   "cell_type": "code",
   "execution_count": 16,
   "id": "be352ba4",
   "metadata": {
    "cell_style": "split",
    "tags": []
   },
   "outputs": [
    {
     "data": {
      "text/plain": [
       "4"
      ]
     },
     "execution_count": 16,
     "metadata": {},
     "output_type": "execute_result"
    }
   ],
   "source": [
    "# cet objet se comporte\n",
    "# comme une fonction\n",
    "\n",
    "line = Line(2, 2)\n",
    "\n",
    "\n",
    "# c'est intéressant de pouvoir l'appeler\n",
    "# comme si c'était une fonction\n",
    "\n",
    "line(1)"
   ]
  },
  {
   "cell_type": "markdown",
   "id": "ae4fa072",
   "metadata": {
    "slideshow": {
     "slide_type": "slide"
    }
   },
   "source": [
    "## pour en savoir plus\n",
    "\n",
    "la liste exhaustive des méthodes spéciales est donnée dans la documentation officielle ici\n",
    "\n",
    "https://docs.python.org/3/reference/datamodel.html#special-method-names"
   ]
  },
  {
   "cell_type": "markdown",
   "id": "849e2d30",
   "metadata": {
    "slideshow": {
     "slide_type": "slide"
    }
   },
   "source": [
    "## résumé\n",
    "  \n",
    "une classe peut définir des **méthodes spéciales**\n",
    "\n",
    "* notamment le constructeur pour l'initialisation,\n",
    "* souvent un afficheur pour `print()`\n",
    "* optionnellement d'autres pour donner du sens à  \n",
    "  des constructions du langage sur ces objets\n",
    "* ces méthodes ont toutes un nom en `__truc__` (*dunder methods*)"
   ]
  }
 ],
 "metadata": {
  "celltoolbar": "Slideshow",
  "jupytext": {
   "cell_metadata_filter": "all,-hidden,-heading_collapsed",
   "formats": "md:myst",
   "notebook_metadata_filter": "all,-language_info,-toc,-jupytext.text_representation.jupytext_version,-jupytext.text_representation.format_version",
   "text_representation": {
    "extension": ".md",
    "format_name": "myst"
   }
  },
  "kernelspec": {
   "display_name": "Python 3",
   "language": "python",
   "name": "python3"
  },
  "language_info": {
   "codemirror_mode": {
    "name": "ipython",
    "version": 3
   },
   "file_extension": ".py",
   "mimetype": "text/x-python",
   "name": "python",
   "nbconvert_exporter": "python",
   "pygments_lexer": "ipython3",
   "version": "3.9.6"
  },
  "notebookname": "classes et objets",
  "rise": {
   "autolaunch": true,
   "slideNumber": "c/t",
   "start_slideshow_at": "selected",
   "theme": "sky",
   "transition": "cube"
  },
  "source_map": [
   22,
   30,
   36,
   54,
   58,
   70,
   76,
   81,
   85,
   97,
   109,
   113,
   128,
   137,
   141,
   153,
   162,
   166,
   178,
   186,
   190,
   208,
   216,
   222,
   228,
   234,
   250,
   266,
   274
  ],
  "version": "1.0"
 },
 "nbformat": 4,
 "nbformat_minor": 5
}