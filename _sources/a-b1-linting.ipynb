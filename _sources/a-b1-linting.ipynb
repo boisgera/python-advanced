{
 "cells": [
  {
   "cell_type": "markdown",
   "id": "586b5631",
   "metadata": {},
   "source": [
    "# Qualité du code"
   ]
  },
  {
   "cell_type": "markdown",
   "id": "9f08962b",
   "metadata": {},
   "source": [
    "Après avoir écrit et optimisé un module Python, vous souhaitez le distribuer à la communauté en l'exposant sur github par exemple. Seulement là, vous vous demandez si votre code respecte la PEP8, s'il est cohérent dans le choix de la casse des noms de variables, classes, *et caetera*. Distribuer un code de bonne qualité, c'est s'assurer qu'il soit intelligible et utilisable pour un autre utilisateur (ou même vous dans 2 mois)."
   ]
  },
  {
   "cell_type": "markdown",
   "id": "3ebb34eb",
   "metadata": {},
   "source": [
    "On ne va pas se le cacher, si quelqu'un prétend qu'il documente et commente au fur et à mesure de l'écriture du code, **il ment**. Généralement, ça fonctionne par tâtonnements, donc on est pas sûr que le code final ressemblera à notre premier jet (même plutôt sûrs que ce sera assez différent). Heureusement,les outils de **linting** sont là pour nous aider à faire un grand coup de ménage avant de distribuer le code."
   ]
  },
  {
   "cell_type": "markdown",
   "id": "c6677fec",
   "metadata": {},
   "source": [
    "## c'est quoi le *linting* ?"
   ]
  },
  {
   "cell_type": "markdown",
   "id": "aaf8e988",
   "metadata": {},
   "source": [
    "Le *linting* c'est une analyse du code comme texte cette fois. Elle a notamment pour but :\n",
    " - la vérification du respect de certaines règles (conventions de nommage, ...) ; \n",
    " - la détection d'erreurs grossières (mauvais nombres d'arguments, ...) ; \n",
    " - la détection des variables non utilisées (des restes de vos 352 versions successives de l'algorithme).\n",
    "\n",
    "**Attention :** le *linting* ne permet pas de s'assurer avec certitude que le code va s'exécuter sans erreur. :("
   ]
  },
  {
   "cell_type": "markdown",
   "id": "13f552a6",
   "metadata": {},
   "source": [
    "## en pratique : `pylint`"
   ]
  },
  {
   "cell_type": "markdown",
   "id": "7c614dcd",
   "metadata": {},
   "source": [
    "### Dans VSCode\n",
    "\n",
    "Il existe plusieurs outils de *linting* pour Python. Aujourd'hui le choix se porte sur `pylint`. On peut l'installer grâce à VSCode :\n",
    "\n",
    " - ouvrez la palette (Ctrl/Cmd + Maj + P) ;\n",
    " - tapez `python lint` dans la barre de recherche, et selectionnez `Python: Select Linter` ; \n",
    " - choisissez `pylint` (et remarquer les autres linter disponibles) et laissez-vous guider si vous avez besoin de l'installer. \n",
    "\n",
    "Si vous ouvrez maintenant un fichier Python (au pif de votre évaluation du S1) vous verrez des \"zigouigouis\" (c'est le terme technique idoine) apparaître sous certains fragments de code. En approchant la souris du code souligné, un pop-up apparaît et vous explique le problème.\n",
    "\n",
    "![](media/vscode-linter.png)"
   ]
  },
  {
   "cell_type": "markdown",
   "id": "ea773ea9",
   "metadata": {},
   "source": [
    "### En ligne de commande\n",
    "\n",
    "`pylint` peut aussi être utilisé en ligne de commande comme suit :"
   ]
  },
  {
   "cell_type": "code",
   "execution_count": 1,
   "id": "901846d8",
   "metadata": {},
   "outputs": [
    {
     "name": "stdout",
     "output_type": "stream",
     "text": [
      "/usr/bin/sh: 1: pylint: not found\r\n"
     ]
    }
   ],
   "source": [
    "! pylint fibo.py"
   ]
  },
  {
   "cell_type": "markdown",
   "id": "80f8de52",
   "metadata": {},
   "source": [
    "En ligne de commande, l'utilitaire vous renvoie une note (parfois négative...). Les lignes se lisent comme suit :\n",
    "\n",
    "`nom du fichier : ligne : indentation : identifiant de l'erreur : message d'explication (nom de l'erreur pylint)`\n",
    "\n",
    "Le nom entre parenthèses est très utile quand on ne comprend pas le message : il suffit alors de chercher sur votre moteur de recherche préféré 'pylint import-outside-toplevel' pour la dernière ligne par exemple."
   ]
  },
  {
   "cell_type": "markdown",
   "id": "60691ba1",
   "metadata": {},
   "source": [
    "## **exercice**"
   ]
  },
  {
   "cell_type": "markdown",
   "id": "fe25837d",
   "metadata": {},
   "source": [
    "Reprenez votre code de l'évaluation du S1 et calculez votre note globale en tapant : \n",
    "```bash\n",
    "pylint puzzle8/*.py\n",
    "```\n",
    "dans votre terminal. \n",
    "Prenez un peu de temps pour essayer d'améliorer votre note. :) Arriver à 10/10 peut prendre du temps."
   ]
  },
  {
   "cell_type": "markdown",
   "id": "f38db164",
   "metadata": {
    "tags": [
     "level_intermediate"
    ]
   },
   "source": [
    "## Avancé -- Génération d'un fichier de configuration\n",
    "\n",
    "Parfois, les conventions de nommage par défaut de pylint ne conviennent pas, ou l'on souhaite éviter d'avoir des avertissement car `x`, `y`, `z` et `t` ne sont pas des bons noms de variable. Il est alors possible de générer un fichier de configuration avec la commande (à lancer dans un terminal): \n",
    "```bash\n",
    "pylint --generate_rcfile > mypylintrc\n",
    "```\n",
    "\n",
    "Ouvrez ensuite le fichier généré `pylintrc`. Il contient toutes les valeurs par défaut. Vous pouvez par exemple réduite le nombre de caractères par ligne à 80 en modifiant la ligne suivante :\n",
    "\n",
    "```\n",
    "# Maximum number of characters on a single line.\n",
    "max-line-length=100\n",
    "```\n",
    "\n",
    "Ou encore ajouter `x`, `y`, `z` et `t`à la liste des good guys.\n",
    "\n",
    "```\n",
    "# Good variable names which should always be accepted, separated by a comma.\n",
    "good-names=i,\n",
    "           j,\n",
    "           k,\n",
    "           ex,\n",
    "           Run,\n",
    "           _\n",
    "```\n",
    "puis relancer l'utilitaire : \n",
    "\n",
    "```bash\n",
    "pylint --rcfile=mypylintrc ./puzzle8/*.py\n",
    "```\n",
    "\n",
    "On peut ainsi avoir des conventions différentes en fonction des projets. Dans ce cas, `pylint` se débrouille comme un grand pour trouver le fichier de configuration qui doit se trouver à la racine du projet ou dans le répertoire `pylintrc` situé lui-même à la racine du projet."
   ]
  },
  {
   "cell_type": "markdown",
   "id": "0e884140",
   "metadata": {
    "tags": []
   },
   "source": [
    "## *see also*"
   ]
  },
  {
   "cell_type": "markdown",
   "id": "a2a914db",
   "metadata": {},
   "source": [
    "Le site officiel de [pylint](https://www.pylint.org/)\n",
    "\n",
    "Une petite vidéo (en anglais) sur la [base de pylint](https://www.youtube.com/watch?v=fFY5103p5-c)"
   ]
  }
 ],
 "metadata": {
  "jupytext": {
   "cell_metadata_filter": "all,-hidden,-heading_collapsed,-run_control,-trusted",
   "notebook_metadata_filter": "all,-language_info,-toc,-jupytext.text_representation.jupytext_version,-jupytext.text_representation.format_version",
   "text_representation": {
    "extension": ".md",
    "format_name": "myst"
   }
  },
  "kernelspec": {
   "display_name": "Python 3",
   "language": "python",
   "name": "python3"
  },
  "language_info": {
   "codemirror_mode": {
    "name": "ipython",
    "version": 3
   },
   "file_extension": ".py",
   "mimetype": "text/x-python",
   "name": "python",
   "nbconvert_exporter": "python",
   "pygments_lexer": "ipython3",
   "version": "3.9.6"
  },
  "nbhosting": {
   "title": "linting"
  },
  "source_map": [
   14,
   18,
   22,
   26,
   30,
   39,
   43,
   57,
   63,
   65,
   73,
   77,
   86,
   121,
   125
  ]
 },
 "nbformat": 4,
 "nbformat_minor": 5
}