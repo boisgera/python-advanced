{
 "cells": [
  {
   "cell_type": "markdown",
   "id": "4530d383",
   "metadata": {
    "slideshow": {
     "slide_type": "-"
    },
    "tags": []
   },
   "source": [
    "<div class=\"licence\">\n",
    "<span>Licence CC BY-NC-ND</span>\n",
    "<span>Thierry Parmentelat</span>\n",
    "</div>\n",
    "\n",
    "<style>\n",
    ".smaller {font-size: smaller}\n",
    "</style>"
   ]
  },
  {
   "cell_type": "markdown",
   "id": "3794344d",
   "metadata": {
    "slideshow": {
     "slide_type": ""
    }
   },
   "source": [
    "# properties"
   ]
  },
  {
   "cell_type": "markdown",
   "id": "7e7a2fc1",
   "metadata": {},
   "source": [
    "en guise de complément, ce notebook introduit la notion de *property*"
   ]
  },
  {
   "cell_type": "markdown",
   "id": "b5f6f5ee",
   "metadata": {},
   "source": [
    "## propos"
   ]
  },
  {
   "cell_type": "markdown",
   "id": "c382158e",
   "metadata": {
    "tags": []
   },
   "source": [
    "on a vu qu'en général, une classe expose\n",
    "\n",
    "* des attributs, pour accéder directement aux différents 'morceaux' qui constituent une instance\n",
    "* et des méthodes, qui sont des fonctions"
   ]
  },
  {
   "cell_type": "markdown",
   "id": "2e572a17",
   "metadata": {},
   "source": [
    "il arrive qu'on se trouve dans une situation un peu mixte, où on voudrait \n",
    "\n",
    "* pouvoir accéder aux morceaux de données,\n",
    "* mais **au travers d'une fonction**; qui puisse, par exemple, faire des contrôles sur la validité des valeurs; ou simplement parce que l'accès en question se fait au travers d'une indirection"
   ]
  },
  {
   "cell_type": "markdown",
   "id": "dfb4796a",
   "metadata": {},
   "source": [
    "## exemple 1 : indirection"
   ]
  },
  {
   "cell_type": "markdown",
   "id": "840e20c1",
   "metadata": {},
   "source": [
    "imaginez par exemple que vous avez lu une dataframe, qui contient la liste des stations de métro"
   ]
  },
  {
   "cell_type": "code",
   "execution_count": 1,
   "id": "da67f395",
   "metadata": {},
   "outputs": [],
   "source": [
    "import pandas as pd\n",
    "\n",
    "stations = pd.read_csv(\"data/stations.txt\")"
   ]
  },
  {
   "cell_type": "code",
   "execution_count": 2,
   "id": "589d019f",
   "metadata": {},
   "outputs": [
    {
     "data": {
      "text/html": [
       "<div>\n",
       "<style scoped>\n",
       "    .dataframe tbody tr th:only-of-type {\n",
       "        vertical-align: middle;\n",
       "    }\n",
       "\n",
       "    .dataframe tbody tr th {\n",
       "        vertical-align: top;\n",
       "    }\n",
       "\n",
       "    .dataframe thead th {\n",
       "        text-align: right;\n",
       "    }\n",
       "</style>\n",
       "<table border=\"1\" class=\"dataframe\">\n",
       "  <thead>\n",
       "    <tr style=\"text-align: right;\">\n",
       "      <th></th>\n",
       "      <th>station_id</th>\n",
       "      <th>latitude</th>\n",
       "      <th>longitude</th>\n",
       "    </tr>\n",
       "  </thead>\n",
       "  <tbody>\n",
       "    <tr>\n",
       "      <th>0</th>\n",
       "      <td>2122</td>\n",
       "      <td>48.866856</td>\n",
       "      <td>2.290038</td>\n",
       "    </tr>\n",
       "    <tr>\n",
       "      <th>1</th>\n",
       "      <td>2177</td>\n",
       "      <td>48.829863</td>\n",
       "      <td>2.350623</td>\n",
       "    </tr>\n",
       "  </tbody>\n",
       "</table>\n",
       "</div>"
      ],
      "text/plain": [
       "   station_id   latitude  longitude\n",
       "0        2122  48.866856   2.290038\n",
       "1        2177  48.829863   2.350623"
      ]
     },
     "execution_count": 2,
     "metadata": {},
     "output_type": "execute_result"
    }
   ],
   "source": [
    "stations.head(2)"
   ]
  },
  {
   "cell_type": "markdown",
   "id": "0f166202",
   "metadata": {},
   "source": [
    "et maintenant, on veut définir une classe `Station` pour manipuler ce contenu"
   ]
  },
  {
   "cell_type": "code",
   "execution_count": 3,
   "id": "06fb4ec8",
   "metadata": {},
   "outputs": [],
   "source": [
    "class Station:\n",
    "    def __init__(self, indice):\n",
    "        self.row = stations.iloc[indice]"
   ]
  },
  {
   "cell_type": "markdown",
   "id": "18217e8b",
   "metadata": {},
   "source": [
    "on a donc une classe qui 'emballe' un objet de type `pandas.Series`  \n",
    "et on aimerait bien d'exposer un attribut `latitude`, pour pouvoir écrire par exemple"
   ]
  },
  {
   "cell_type": "code",
   "execution_count": 4,
   "id": "5804f112",
   "metadata": {},
   "outputs": [],
   "source": [
    "# ce code ne marche pas\n",
    "\n",
    "class Station:\n",
    "    def __init__(self, indice):\n",
    "        self.row = stations.iloc[indice]\n",
    "    def __repr__(self):\n",
    "        # ici self.latitude ne veut rien dire\n",
    "        return f\"[Station {self.latitude:.2f}]\""
   ]
  },
  {
   "cell_type": "markdown",
   "id": "8cbcb5b1",
   "metadata": {},
   "source": [
    "mais bien entendu, ça ne fonctionne pas dans l'état, puisque l'attibut `latitude` n'est pas présent dans l'objet `station`"
   ]
  },
  {
   "cell_type": "code",
   "execution_count": 5,
   "id": "f3300e10",
   "metadata": {},
   "outputs": [],
   "source": [
    "# ça ne marche pas !\n",
    "# Station(0)"
   ]
  },
  {
   "cell_type": "markdown",
   "id": "c59ed6ed",
   "metadata": {},
   "source": [
    "ça oblige à écrire plutôt `station.row.latitude` (ou, encore pire, à copier les colonnes de la dataframe sous forme d'attributs - une trè mauvaise idée); mais ça n'est pas du tout pratique, il va falloir se souvenir de cette particularité à chaque fois qu'on aura besoin d'accéder à `latitude`"
   ]
  },
  {
   "cell_type": "markdown",
   "id": "cbe39201",
   "metadata": {},
   "source": [
    "dans ce premier exemple, on peut s'en sortir simplement avec une *property* :"
   ]
  },
  {
   "cell_type": "code",
   "execution_count": 6,
   "id": "0cfb16ad",
   "metadata": {},
   "outputs": [],
   "source": [
    "# maintenant ça fonctionne\n",
    "\n",
    "class Station:\n",
    "    def __init__(self, indice):\n",
    "        self.row = stations.iloc[indice]\n",
    "    def __repr__(self):\n",
    "        # plus de problème\n",
    "        return f\"[Station {self.latitude:.2f}]\"\n",
    "    \n",
    "    # grâce à cett property, on peut accéder à l'attribut self.latitude\n",
    "    @property\n",
    "    def latitude(self):\n",
    "        return self.row.latitude"
   ]
  },
  {
   "cell_type": "code",
   "execution_count": 7,
   "id": "1ce2ab33",
   "metadata": {},
   "outputs": [
    {
     "data": {
      "text/plain": [
       "[Station 48.87]"
      ]
     },
     "execution_count": 7,
     "metadata": {},
     "output_type": "execute_result"
    }
   ],
   "source": [
    "station0 = Station(0)\n",
    "station0"
   ]
  },
  {
   "cell_type": "markdown",
   "id": "72312545",
   "metadata": {},
   "source": [
    "## exemple 2 : une jauge"
   ]
  },
  {
   "cell_type": "markdown",
   "id": "0a6175b7",
   "metadata": {},
   "source": [
    "on veut une classe qui manipule une valeur, dont on veut être sûr qu'elle appartient à un intervalle; disons entre 0 et 100"
   ]
  },
  {
   "cell_type": "markdown",
   "id": "2c5c2e0b",
   "metadata": {},
   "source": [
    "sans les properties, on est obligé de définir une méthode `set_value`; comme c'est une fonction, elle va pouvoir faire des contrôles"
   ]
  },
  {
   "cell_type": "code",
   "execution_count": 8,
   "id": "8944525e",
   "metadata": {},
   "outputs": [],
   "source": [
    "# en définissant un setter\n",
    "# ça marche mais c'est vraiment moche comme approche\n",
    "\n",
    "class Gauge:\n",
    "    def __repr__(self):\n",
    "        return f\"[Gauge {self._value}]\"\n",
    "    def __init__(self, value):\n",
    "        self.set_value(value)\n",
    "    def set_value(self, newvalue):\n",
    "        # on force la nouvelle valeur à être dans l'intervalle\n",
    "        self._value = max(0, min(newvalue, 100))"
   ]
  },
  {
   "cell_type": "code",
   "execution_count": 9,
   "id": "c64fa776",
   "metadata": {},
   "outputs": [
    {
     "data": {
      "text/plain": [
       "[Gauge 100]"
      ]
     },
     "execution_count": 9,
     "metadata": {},
     "output_type": "execute_result"
    }
   ],
   "source": [
    "Gauge(1000)"
   ]
  },
  {
   "cell_type": "markdown",
   "id": "df5b1b87",
   "metadata": {},
   "source": [
    "mais à nouveau ce n'est pas du tout pratique :\n",
    "\n",
    "* d'abord il faut \"cacher\" l'attribut pour éviter que l'on fasse accidentellement `gauge.value = 1000`\n",
    "* ensuite du coup il faut aussi exposer une autr méthode `self.get_value()` pour lire la valeur\n",
    "* et une fois qu'on a fait tout ça, on se retrouve à devoir écrire un code bavard et pas très lisible, bref c'est super moche\n",
    "* enfin, ça change l'API, et s'il y a déjà du code qui utilise l'attibut `.value` il faut tout changer\n",
    "\n",
    "pour information, cette technique est celle employée dans les langages comme C++ et Java, on appelle ces méthodes des *getters* et *setters*; pas du tout pythonique comme pratique !"
   ]
  },
  {
   "cell_type": "markdown",
   "id": "77ae0b38",
   "metadata": {},
   "source": [
    "à nouveau dans cette situtation les properties viennent à la rescousse; voici comment ça se présenterait"
   ]
  },
  {
   "cell_type": "code",
   "execution_count": 10,
   "id": "cb03b285",
   "metadata": {},
   "outputs": [],
   "source": [
    "# version avec une property\n",
    "\n",
    "class Gauge:\n",
    "    \n",
    "    @property\n",
    "    def value(self):\n",
    "        return self._value\n",
    "    \n",
    "    # la syntaxe pour définir le 'setter' correspondant \n",
    "    # à la property 'value'\n",
    "    # et c'est pour ça bien sûr qu'on écrit '@value'\n",
    "    @value.setter\n",
    "    def value(self, newvalue):\n",
    "        self._value = max(0, min(newvalue, 100))\n",
    "        \n",
    "    def __init__(self, value):\n",
    "        self.value = value\n",
    "        \n",
    "    def __repr__(self):\n",
    "        return f\"[Gauge {self._value}]\""
   ]
  },
  {
   "cell_type": "markdown",
   "id": "508ffa62",
   "metadata": {},
   "source": [
    "avec ce code, on peut manipuler les objets de la classe \"normalement\", \n",
    "et pourtant on contrôle bien la validité de la valeur"
   ]
  },
  {
   "cell_type": "code",
   "execution_count": 11,
   "id": "9117a162",
   "metadata": {},
   "outputs": [
    {
     "data": {
      "text/plain": [
       "[Gauge 100]"
      ]
     },
     "execution_count": 11,
     "metadata": {},
     "output_type": "execute_result"
    }
   ],
   "source": [
    "# à la création\n",
    "g = Gauge(1000); g"
   ]
  },
  {
   "cell_type": "code",
   "execution_count": 12,
   "id": "49e19303",
   "metadata": {},
   "outputs": [
    {
     "data": {
      "text/plain": [
       "[Gauge 0]"
      ]
     },
     "execution_count": 12,
     "metadata": {},
     "output_type": "execute_result"
    }
   ],
   "source": [
    "# ou à la modification\n",
    "g.value = -10\n",
    "g"
   ]
  },
  {
   "cell_type": "markdown",
   "id": "e11f3b36",
   "metadata": {
    "tags": [
     "level_intermediate"
    ]
   },
   "source": [
    "## l'autre syntaxe"
   ]
  },
  {
   "cell_type": "markdown",
   "id": "c6b08a26",
   "metadata": {
    "tags": [
     "level_intermediate"
    ]
   },
   "source": [
    "en fait il y a deux syntaxes pour définir une property, choisir entre les deux est une question de goût\n",
    "\n",
    "voici la deuxième syntaxe utilisée dans la classe `Gauge`"
   ]
  },
  {
   "cell_type": "code",
   "execution_count": 13,
   "id": "17aef817",
   "metadata": {
    "tags": [
     "level_intermediate"
    ]
   },
   "outputs": [],
   "source": [
    "# version avec une property - deuxième syntaxe\n",
    "\n",
    "class Gauge:\n",
    "    \n",
    "    # je choisis de cacher cette méthode car elle n'est \n",
    "    # pas supposée être appelée directement\n",
    "    def _get_value(self):\n",
    "        return self._value\n",
    "\n",
    "    # pareil\n",
    "    def _set_value(self, newvalue):\n",
    "        self._value = max(0, min(newvalue, 100))\n",
    "        \n",
    "    # la syntaxe pour définir la property\n",
    "    value = property(_get_value, _set_value)\n",
    "\n",
    "    # le reste est inchangé        \n",
    "    def __init__(self, value):\n",
    "        self.value = value\n",
    "        \n",
    "    def __repr__(self):\n",
    "        return f\"[Gauge {self._value}]\""
   ]
  },
  {
   "cell_type": "code",
   "execution_count": 14,
   "id": "65b78e47",
   "metadata": {
    "tags": [
     "level_intermediate"
    ]
   },
   "outputs": [
    {
     "data": {
      "text/plain": [
       "[Gauge 100]"
      ]
     },
     "execution_count": 14,
     "metadata": {},
     "output_type": "execute_result"
    }
   ],
   "source": [
    "# à la création\n",
    "g = Gauge(1000); g"
   ]
  },
  {
   "cell_type": "code",
   "execution_count": 15,
   "id": "5aeac66a",
   "metadata": {
    "tags": [
     "level_intermediate"
    ]
   },
   "outputs": [
    {
     "data": {
      "text/plain": [
       "[Gauge 0]"
      ]
     },
     "execution_count": 15,
     "metadata": {},
     "output_type": "execute_result"
    }
   ],
   "source": [
    "# ou à la modification\n",
    "g.value = -10\n",
    "g"
   ]
  },
  {
   "cell_type": "markdown",
   "id": "230da037",
   "metadata": {},
   "source": [
    "## conclusion"
   ]
  },
  {
   "cell_type": "markdown",
   "id": "9450bbc3",
   "metadata": {},
   "source": [
    "* en Python, on aime bien **accéder aux attributs** d'un objet **directement**, et ne pas **s'encombrer de *getters* et *setters*** qui obscurcissent le code pour rien\n",
    "* on a parfois besoin que l'accès à un attribut passe par une **couche de logique**\n",
    "  * soit pour implémenter une indirection\n",
    "  * soit pour contrôler la validité des arguments\n",
    "* et dans ces cas-là on **définit une property**\n",
    "* qui permet de conserver le code existant (pas de changement de l'API)"
   ]
  }
 ],
 "metadata": {
  "jupytext": {
   "cell_metadata_filter": "all,-hidden,-heading_collapsed,-run_control",
   "encoding": "# -*- coding: utf-8 -*-",
   "notebook_metadata_filter": "all,-language_info,-toc,-jupytext.text_representation.jupytext_version,-jupytext.text_representation.format_version",
   "text_representation": {
    "extension": ".md",
    "format_name": "myst"
   }
  },
  "kernelspec": {
   "display_name": "Python 3",
   "language": "python",
   "name": "python3"
  },
  "language_info": {
   "codemirror_mode": {
    "name": "ipython",
    "version": 3
   },
   "file_extension": ".py",
   "mimetype": "text/x-python",
   "name": "python",
   "nbconvert_exporter": "python",
   "pygments_lexer": "ipython3",
   "version": "3.9.6"
  },
  "notebookname": "properties",
  "source_map": [
   16,
   27,
   31,
   35,
   39,
   46,
   53,
   57,
   61,
   67,
   69,
   73,
   77,
   82,
   91,
   95,
   98,
   102,
   106,
   122,
   125,
   129,
   133,
   137,
   151,
   153,
   164,
   168,
   189,
   194,
   199,
   205,
   209,
   215,
   242,
   249,
   255,
   259
  ]
 },
 "nbformat": 4,
 "nbformat_minor": 5
}