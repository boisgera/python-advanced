{
 "cells": [
  {
   "cell_type": "markdown",
   "id": "1926d679",
   "metadata": {},
   "source": [
    "# Le théorème de Taylor illustré"
   ]
  },
  {
   "cell_type": "markdown",
   "id": "abd95d36",
   "metadata": {},
   "source": [
    "## exercice : niveau avancé"
   ]
  },
  {
   "cell_type": "markdown",
   "id": "a91d21d9",
   "metadata": {},
   "source": [
    "En guise d'application de ce qu'on a vu jusqu'ici, je vous invite à réaliser une visualisation\n",
    "du théorème de Taylor; je vous renvoie à votre cours d'analyse, [ou à wikipedia](https://fr.wikipedia.org/wiki/Th%C3%A9or%C3%A8me_de_Taylor) pour une présentation détaillée de ce théorème, mais ce que nous en retenons se résume à ceci.\n",
    "\n",
    "\n",
    "On peut approximer une fonction \"suffisamment régulière\" - disons $C^\\infty$ pour fixer les idées - par un polynôme d'ordre $n$, dont les coefficients dépendent uniquement des $n$ dérivées successives au voisinage d'un point :\n",
    "\n",
    "$$f_n(x) = \\sum_{i=0}^{n}\\frac{f^{(i)}(0).x^i}{i!}$$\n",
    "\n",
    "Sans perte de généralité nous avons ici fixé le point de référence comme étant égal à 0, il suffit de translater $f$ par changement de variable pour se ramener à ce cas-là.\n",
    "\n",
    "Le théorème de Taylor nous dit que la suite de fonctions $(f_n)$ converge vers $f$."
   ]
  },
  {
   "cell_type": "markdown",
   "id": "faf8effb",
   "metadata": {},
   "source": [
    "On pourrait penser - c'était mon cas la première fois que j'ai entendu parler de ce théorème - que l'approximation est valable **au voisinage de 0** seulement; si on pense en particulier à **sinus**, on peut accepter l'idée que ça va nous donner une période autour de 0 peut-être.\n",
    "\n",
    "En fait, c'est réellement bluffant de voir que ça marche vraiment incroyablement bien et loin."
   ]
  },
  {
   "cell_type": "markdown",
   "id": "8ff208f7",
   "metadata": {},
   "source": [
    "## mon implémentation"
   ]
  },
  {
   "cell_type": "markdown",
   "id": "abda28f8",
   "metadata": {},
   "source": [
    "Je commence par vous montrer **seulement le résultat** de l'implémentation que j'ai faite.\n",
    "\n",
    "Pour calculer les dérivées successives j'utilise la librairie `autograd`.\n",
    "\n",
    "Ce code est relativement générique, vous pouvez visualiser l'approximation de Taylor avec une fonction que vous passez en paramètre - qui doit avoir tout de même la bonne propriété d'être vectorisée, et d'utiliser la couche `numpy` exposée par `autograd` :"
   ]
  },
  {
   "cell_type": "code",
   "execution_count": 1,
   "id": "df8beea7",
   "metadata": {},
   "outputs": [],
   "source": [
    "# to compute derivatives\n",
    "import autograd\n",
    "import autograd.numpy as np"
   ]
  },
  {
   "cell_type": "markdown",
   "id": "8b5bbb5c",
   "metadata": {},
   "source": [
    "Sinon pour les autres dépendances, j'ai utilisé les `ipywidgets` et `bokeh`"
   ]
  },
  {
   "cell_type": "code",
   "execution_count": 2,
   "id": "a0101569",
   "metadata": {},
   "outputs": [],
   "source": [
    "from math import factorial\n",
    "\n",
    "from ipywidgets import interact, IntSlider, Layout"
   ]
  },
  {
   "cell_type": "code",
   "execution_count": 3,
   "id": "07f60b8e",
   "metadata": {},
   "outputs": [
    {
     "data": {
      "text/html": [
       "\n",
       "<div class=\"bk-root\">\n",
       "    <a href=\"https://bokeh.org\" target=\"_blank\" class=\"bk-logo bk-logo-small bk-logo-notebook\"></a>\n",
       "    <span id=\"1002\">Loading BokehJS ...</span>\n",
       "</div>"
      ]
     },
     "metadata": {},
     "output_type": "display_data"
    },
    {
     "data": {
      "application/javascript": [
       "\n",
       "(function(root) {\n",
       "  function now() {\n",
       "    return new Date();\n",
       "  }\n",
       "\n",
       "  var force = true;\n",
       "\n",
       "  if (typeof root._bokeh_onload_callbacks === \"undefined\" || force === true) {\n",
       "    root._bokeh_onload_callbacks = [];\n",
       "    root._bokeh_is_loading = undefined;\n",
       "  }\n",
       "\n",
       "  var JS_MIME_TYPE = 'application/javascript';\n",
       "  var HTML_MIME_TYPE = 'text/html';\n",
       "  var EXEC_MIME_TYPE = 'application/vnd.bokehjs_exec.v0+json';\n",
       "  var CLASS_NAME = 'output_bokeh rendered_html';\n",
       "\n",
       "  /**\n",
       "   * Render data to the DOM node\n",
       "   */\n",
       "  function render(props, node) {\n",
       "    var script = document.createElement(\"script\");\n",
       "    node.appendChild(script);\n",
       "  }\n",
       "\n",
       "  /**\n",
       "   * Handle when an output is cleared or removed\n",
       "   */\n",
       "  function handleClearOutput(event, handle) {\n",
       "    var cell = handle.cell;\n",
       "\n",
       "    var id = cell.output_area._bokeh_element_id;\n",
       "    var server_id = cell.output_area._bokeh_server_id;\n",
       "    // Clean up Bokeh references\n",
       "    if (id != null && id in Bokeh.index) {\n",
       "      Bokeh.index[id].model.document.clear();\n",
       "      delete Bokeh.index[id];\n",
       "    }\n",
       "\n",
       "    if (server_id !== undefined) {\n",
       "      // Clean up Bokeh references\n",
       "      var cmd = \"from bokeh.io.state import curstate; print(curstate().uuid_to_server['\" + server_id + \"'].get_sessions()[0].document.roots[0]._id)\";\n",
       "      cell.notebook.kernel.execute(cmd, {\n",
       "        iopub: {\n",
       "          output: function(msg) {\n",
       "            var id = msg.content.text.trim();\n",
       "            if (id in Bokeh.index) {\n",
       "              Bokeh.index[id].model.document.clear();\n",
       "              delete Bokeh.index[id];\n",
       "            }\n",
       "          }\n",
       "        }\n",
       "      });\n",
       "      // Destroy server and session\n",
       "      var cmd = \"import bokeh.io.notebook as ion; ion.destroy_server('\" + server_id + \"')\";\n",
       "      cell.notebook.kernel.execute(cmd);\n",
       "    }\n",
       "  }\n",
       "\n",
       "  /**\n",
       "   * Handle when a new output is added\n",
       "   */\n",
       "  function handleAddOutput(event, handle) {\n",
       "    var output_area = handle.output_area;\n",
       "    var output = handle.output;\n",
       "\n",
       "    // limit handleAddOutput to display_data with EXEC_MIME_TYPE content only\n",
       "    if ((output.output_type != \"display_data\") || (!Object.prototype.hasOwnProperty.call(output.data, EXEC_MIME_TYPE))) {\n",
       "      return\n",
       "    }\n",
       "\n",
       "    var toinsert = output_area.element.find(\".\" + CLASS_NAME.split(' ')[0]);\n",
       "\n",
       "    if (output.metadata[EXEC_MIME_TYPE][\"id\"] !== undefined) {\n",
       "      toinsert[toinsert.length - 1].firstChild.textContent = output.data[JS_MIME_TYPE];\n",
       "      // store reference to embed id on output_area\n",
       "      output_area._bokeh_element_id = output.metadata[EXEC_MIME_TYPE][\"id\"];\n",
       "    }\n",
       "    if (output.metadata[EXEC_MIME_TYPE][\"server_id\"] !== undefined) {\n",
       "      var bk_div = document.createElement(\"div\");\n",
       "      bk_div.innerHTML = output.data[HTML_MIME_TYPE];\n",
       "      var script_attrs = bk_div.children[0].attributes;\n",
       "      for (var i = 0; i < script_attrs.length; i++) {\n",
       "        toinsert[toinsert.length - 1].firstChild.setAttribute(script_attrs[i].name, script_attrs[i].value);\n",
       "        toinsert[toinsert.length - 1].firstChild.textContent = bk_div.children[0].textContent\n",
       "      }\n",
       "      // store reference to server id on output_area\n",
       "      output_area._bokeh_server_id = output.metadata[EXEC_MIME_TYPE][\"server_id\"];\n",
       "    }\n",
       "  }\n",
       "\n",
       "  function register_renderer(events, OutputArea) {\n",
       "\n",
       "    function append_mime(data, metadata, element) {\n",
       "      // create a DOM node to render to\n",
       "      var toinsert = this.create_output_subarea(\n",
       "        metadata,\n",
       "        CLASS_NAME,\n",
       "        EXEC_MIME_TYPE\n",
       "      );\n",
       "      this.keyboard_manager.register_events(toinsert);\n",
       "      // Render to node\n",
       "      var props = {data: data, metadata: metadata[EXEC_MIME_TYPE]};\n",
       "      render(props, toinsert[toinsert.length - 1]);\n",
       "      element.append(toinsert);\n",
       "      return toinsert\n",
       "    }\n",
       "\n",
       "    /* Handle when an output is cleared or removed */\n",
       "    events.on('clear_output.CodeCell', handleClearOutput);\n",
       "    events.on('delete.Cell', handleClearOutput);\n",
       "\n",
       "    /* Handle when a new output is added */\n",
       "    events.on('output_added.OutputArea', handleAddOutput);\n",
       "\n",
       "    /**\n",
       "     * Register the mime type and append_mime function with output_area\n",
       "     */\n",
       "    OutputArea.prototype.register_mime_type(EXEC_MIME_TYPE, append_mime, {\n",
       "      /* Is output safe? */\n",
       "      safe: true,\n",
       "      /* Index of renderer in `output_area.display_order` */\n",
       "      index: 0\n",
       "    });\n",
       "  }\n",
       "\n",
       "  // register the mime type if in Jupyter Notebook environment and previously unregistered\n",
       "  if (root.Jupyter !== undefined) {\n",
       "    var events = require('base/js/events');\n",
       "    var OutputArea = require('notebook/js/outputarea').OutputArea;\n",
       "\n",
       "    if (OutputArea.prototype.mime_types().indexOf(EXEC_MIME_TYPE) == -1) {\n",
       "      register_renderer(events, OutputArea);\n",
       "    }\n",
       "  }\n",
       "\n",
       "  \n",
       "  if (typeof (root._bokeh_timeout) === \"undefined\" || force === true) {\n",
       "    root._bokeh_timeout = Date.now() + 5000;\n",
       "    root._bokeh_failed_load = false;\n",
       "  }\n",
       "\n",
       "  var NB_LOAD_WARNING = {'data': {'text/html':\n",
       "     \"<div style='background-color: #fdd'>\\n\"+\n",
       "     \"<p>\\n\"+\n",
       "     \"BokehJS does not appear to have successfully loaded. If loading BokehJS from CDN, this \\n\"+\n",
       "     \"may be due to a slow or bad network connection. Possible fixes:\\n\"+\n",
       "     \"</p>\\n\"+\n",
       "     \"<ul>\\n\"+\n",
       "     \"<li>re-rerun `output_notebook()` to attempt to load from CDN again, or</li>\\n\"+\n",
       "     \"<li>use INLINE resources instead, as so:</li>\\n\"+\n",
       "     \"</ul>\\n\"+\n",
       "     \"<code>\\n\"+\n",
       "     \"from bokeh.resources import INLINE\\n\"+\n",
       "     \"output_notebook(resources=INLINE)\\n\"+\n",
       "     \"</code>\\n\"+\n",
       "     \"</div>\"}};\n",
       "\n",
       "  function display_loaded() {\n",
       "    var el = document.getElementById(\"1002\");\n",
       "    if (el != null) {\n",
       "      el.textContent = \"BokehJS is loading...\";\n",
       "    }\n",
       "    if (root.Bokeh !== undefined) {\n",
       "      if (el != null) {\n",
       "        el.textContent = \"BokehJS \" + root.Bokeh.version + \" successfully loaded.\";\n",
       "      }\n",
       "    } else if (Date.now() < root._bokeh_timeout) {\n",
       "      setTimeout(display_loaded, 100)\n",
       "    }\n",
       "  }\n",
       "\n",
       "\n",
       "  function run_callbacks() {\n",
       "    try {\n",
       "      root._bokeh_onload_callbacks.forEach(function(callback) {\n",
       "        if (callback != null)\n",
       "          callback();\n",
       "      });\n",
       "    } finally {\n",
       "      delete root._bokeh_onload_callbacks\n",
       "    }\n",
       "    console.debug(\"Bokeh: all callbacks have finished\");\n",
       "  }\n",
       "\n",
       "  function load_libs(css_urls, js_urls, callback) {\n",
       "    if (css_urls == null) css_urls = [];\n",
       "    if (js_urls == null) js_urls = [];\n",
       "\n",
       "    root._bokeh_onload_callbacks.push(callback);\n",
       "    if (root._bokeh_is_loading > 0) {\n",
       "      console.debug(\"Bokeh: BokehJS is being loaded, scheduling callback at\", now());\n",
       "      return null;\n",
       "    }\n",
       "    if (js_urls == null || js_urls.length === 0) {\n",
       "      run_callbacks();\n",
       "      return null;\n",
       "    }\n",
       "    console.debug(\"Bokeh: BokehJS not loaded, scheduling load and callback at\", now());\n",
       "    root._bokeh_is_loading = css_urls.length + js_urls.length;\n",
       "\n",
       "    function on_load() {\n",
       "      root._bokeh_is_loading--;\n",
       "      if (root._bokeh_is_loading === 0) {\n",
       "        console.debug(\"Bokeh: all BokehJS libraries/stylesheets loaded\");\n",
       "        run_callbacks()\n",
       "      }\n",
       "    }\n",
       "\n",
       "    function on_error(url) {\n",
       "      console.error(\"failed to load \" + url);\n",
       "    }\n",
       "\n",
       "    for (let i = 0; i < css_urls.length; i++) {\n",
       "      const url = css_urls[i];\n",
       "      const element = document.createElement(\"link\");\n",
       "      element.onload = on_load;\n",
       "      element.onerror = on_error.bind(null, url);\n",
       "      element.rel = \"stylesheet\";\n",
       "      element.type = \"text/css\";\n",
       "      element.href = url;\n",
       "      console.debug(\"Bokeh: injecting link tag for BokehJS stylesheet: \", url);\n",
       "      document.body.appendChild(element);\n",
       "    }\n",
       "\n",
       "    const hashes = {\"https://cdn.bokeh.org/bokeh/release/bokeh-2.3.3.min.js\": \"dM3QQsP+wXdHg42wTqW85BjZQdLNNIXqlPw/BgKoExPmTG7ZLML4EGqLMfqHT6ON\", \"https://cdn.bokeh.org/bokeh/release/bokeh-tables-2.3.3.min.js\": \"8x57I4YuIfu8XyZfFo0XVr2WAT8EK4rh/uDe3wF7YuW2FNUSNEpJbsPaB1nJ2fz2\", \"https://cdn.bokeh.org/bokeh/release/bokeh-widgets-2.3.3.min.js\": \"3QTqdz9LyAm2i0sG5XTePsHec3UHWwVsrOL68SYRoAXsafvfAyqtQ+h440+qIBhS\"};\n",
       "\n",
       "    for (let i = 0; i < js_urls.length; i++) {\n",
       "      const url = js_urls[i];\n",
       "      const element = document.createElement('script');\n",
       "      element.onload = on_load;\n",
       "      element.onerror = on_error.bind(null, url);\n",
       "      element.async = false;\n",
       "      element.src = url;\n",
       "      if (url in hashes) {\n",
       "        element.crossOrigin = \"anonymous\";\n",
       "        element.integrity = \"sha384-\" + hashes[url];\n",
       "      }\n",
       "      console.debug(\"Bokeh: injecting script tag for BokehJS library: \", url);\n",
       "      document.head.appendChild(element);\n",
       "    }\n",
       "  };\n",
       "\n",
       "  function inject_raw_css(css) {\n",
       "    const element = document.createElement(\"style\");\n",
       "    element.appendChild(document.createTextNode(css));\n",
       "    document.body.appendChild(element);\n",
       "  }\n",
       "\n",
       "  \n",
       "  var js_urls = [\"https://cdn.bokeh.org/bokeh/release/bokeh-2.3.3.min.js\", \"https://cdn.bokeh.org/bokeh/release/bokeh-widgets-2.3.3.min.js\", \"https://cdn.bokeh.org/bokeh/release/bokeh-tables-2.3.3.min.js\"];\n",
       "  var css_urls = [];\n",
       "  \n",
       "\n",
       "  var inline_js = [\n",
       "    function(Bokeh) {\n",
       "      Bokeh.set_log_level(\"info\");\n",
       "    },\n",
       "    function(Bokeh) {\n",
       "    \n",
       "    \n",
       "    }\n",
       "  ];\n",
       "\n",
       "  function run_inline_js() {\n",
       "    \n",
       "    if (root.Bokeh !== undefined || force === true) {\n",
       "      \n",
       "    for (var i = 0; i < inline_js.length; i++) {\n",
       "      inline_js[i].call(root, root.Bokeh);\n",
       "    }\n",
       "    if (force === true) {\n",
       "        display_loaded();\n",
       "      }} else if (Date.now() < root._bokeh_timeout) {\n",
       "      setTimeout(run_inline_js, 100);\n",
       "    } else if (!root._bokeh_failed_load) {\n",
       "      console.log(\"Bokeh: BokehJS failed to load within specified timeout.\");\n",
       "      root._bokeh_failed_load = true;\n",
       "    } else if (force !== true) {\n",
       "      var cell = $(document.getElementById(\"1002\")).parents('.cell').data().cell;\n",
       "      cell.output_area.append_execute_result(NB_LOAD_WARNING)\n",
       "    }\n",
       "\n",
       "  }\n",
       "\n",
       "  if (root._bokeh_is_loading === 0) {\n",
       "    console.debug(\"Bokeh: BokehJS loaded, going straight to plotting\");\n",
       "    run_inline_js();\n",
       "  } else {\n",
       "    load_libs(css_urls, js_urls, function() {\n",
       "      console.debug(\"Bokeh: BokehJS plotting callback run at\", now());\n",
       "      run_inline_js();\n",
       "    });\n",
       "  }\n",
       "}(window));"
      ],
      "application/vnd.bokehjs_load.v0+json": "\n(function(root) {\n  function now() {\n    return new Date();\n  }\n\n  var force = true;\n\n  if (typeof root._bokeh_onload_callbacks === \"undefined\" || force === true) {\n    root._bokeh_onload_callbacks = [];\n    root._bokeh_is_loading = undefined;\n  }\n\n  \n\n  \n  if (typeof (root._bokeh_timeout) === \"undefined\" || force === true) {\n    root._bokeh_timeout = Date.now() + 5000;\n    root._bokeh_failed_load = false;\n  }\n\n  var NB_LOAD_WARNING = {'data': {'text/html':\n     \"<div style='background-color: #fdd'>\\n\"+\n     \"<p>\\n\"+\n     \"BokehJS does not appear to have successfully loaded. If loading BokehJS from CDN, this \\n\"+\n     \"may be due to a slow or bad network connection. Possible fixes:\\n\"+\n     \"</p>\\n\"+\n     \"<ul>\\n\"+\n     \"<li>re-rerun `output_notebook()` to attempt to load from CDN again, or</li>\\n\"+\n     \"<li>use INLINE resources instead, as so:</li>\\n\"+\n     \"</ul>\\n\"+\n     \"<code>\\n\"+\n     \"from bokeh.resources import INLINE\\n\"+\n     \"output_notebook(resources=INLINE)\\n\"+\n     \"</code>\\n\"+\n     \"</div>\"}};\n\n  function display_loaded() {\n    var el = document.getElementById(\"1002\");\n    if (el != null) {\n      el.textContent = \"BokehJS is loading...\";\n    }\n    if (root.Bokeh !== undefined) {\n      if (el != null) {\n        el.textContent = \"BokehJS \" + root.Bokeh.version + \" successfully loaded.\";\n      }\n    } else if (Date.now() < root._bokeh_timeout) {\n      setTimeout(display_loaded, 100)\n    }\n  }\n\n\n  function run_callbacks() {\n    try {\n      root._bokeh_onload_callbacks.forEach(function(callback) {\n        if (callback != null)\n          callback();\n      });\n    } finally {\n      delete root._bokeh_onload_callbacks\n    }\n    console.debug(\"Bokeh: all callbacks have finished\");\n  }\n\n  function load_libs(css_urls, js_urls, callback) {\n    if (css_urls == null) css_urls = [];\n    if (js_urls == null) js_urls = [];\n\n    root._bokeh_onload_callbacks.push(callback);\n    if (root._bokeh_is_loading > 0) {\n      console.debug(\"Bokeh: BokehJS is being loaded, scheduling callback at\", now());\n      return null;\n    }\n    if (js_urls == null || js_urls.length === 0) {\n      run_callbacks();\n      return null;\n    }\n    console.debug(\"Bokeh: BokehJS not loaded, scheduling load and callback at\", now());\n    root._bokeh_is_loading = css_urls.length + js_urls.length;\n\n    function on_load() {\n      root._bokeh_is_loading--;\n      if (root._bokeh_is_loading === 0) {\n        console.debug(\"Bokeh: all BokehJS libraries/stylesheets loaded\");\n        run_callbacks()\n      }\n    }\n\n    function on_error(url) {\n      console.error(\"failed to load \" + url);\n    }\n\n    for (let i = 0; i < css_urls.length; i++) {\n      const url = css_urls[i];\n      const element = document.createElement(\"link\");\n      element.onload = on_load;\n      element.onerror = on_error.bind(null, url);\n      element.rel = \"stylesheet\";\n      element.type = \"text/css\";\n      element.href = url;\n      console.debug(\"Bokeh: injecting link tag for BokehJS stylesheet: \", url);\n      document.body.appendChild(element);\n    }\n\n    const hashes = {\"https://cdn.bokeh.org/bokeh/release/bokeh-2.3.3.min.js\": \"dM3QQsP+wXdHg42wTqW85BjZQdLNNIXqlPw/BgKoExPmTG7ZLML4EGqLMfqHT6ON\", \"https://cdn.bokeh.org/bokeh/release/bokeh-tables-2.3.3.min.js\": \"8x57I4YuIfu8XyZfFo0XVr2WAT8EK4rh/uDe3wF7YuW2FNUSNEpJbsPaB1nJ2fz2\", \"https://cdn.bokeh.org/bokeh/release/bokeh-widgets-2.3.3.min.js\": \"3QTqdz9LyAm2i0sG5XTePsHec3UHWwVsrOL68SYRoAXsafvfAyqtQ+h440+qIBhS\"};\n\n    for (let i = 0; i < js_urls.length; i++) {\n      const url = js_urls[i];\n      const element = document.createElement('script');\n      element.onload = on_load;\n      element.onerror = on_error.bind(null, url);\n      element.async = false;\n      element.src = url;\n      if (url in hashes) {\n        element.crossOrigin = \"anonymous\";\n        element.integrity = \"sha384-\" + hashes[url];\n      }\n      console.debug(\"Bokeh: injecting script tag for BokehJS library: \", url);\n      document.head.appendChild(element);\n    }\n  };\n\n  function inject_raw_css(css) {\n    const element = document.createElement(\"style\");\n    element.appendChild(document.createTextNode(css));\n    document.body.appendChild(element);\n  }\n\n  \n  var js_urls = [\"https://cdn.bokeh.org/bokeh/release/bokeh-2.3.3.min.js\", \"https://cdn.bokeh.org/bokeh/release/bokeh-widgets-2.3.3.min.js\", \"https://cdn.bokeh.org/bokeh/release/bokeh-tables-2.3.3.min.js\"];\n  var css_urls = [];\n  \n\n  var inline_js = [\n    function(Bokeh) {\n      Bokeh.set_log_level(\"info\");\n    },\n    function(Bokeh) {\n    \n    \n    }\n  ];\n\n  function run_inline_js() {\n    \n    if (root.Bokeh !== undefined || force === true) {\n      \n    for (var i = 0; i < inline_js.length; i++) {\n      inline_js[i].call(root, root.Bokeh);\n    }\n    if (force === true) {\n        display_loaded();\n      }} else if (Date.now() < root._bokeh_timeout) {\n      setTimeout(run_inline_js, 100);\n    } else if (!root._bokeh_failed_load) {\n      console.log(\"Bokeh: BokehJS failed to load within specified timeout.\");\n      root._bokeh_failed_load = true;\n    } else if (force !== true) {\n      var cell = $(document.getElementById(\"1002\")).parents('.cell').data().cell;\n      cell.output_area.append_execute_result(NB_LOAD_WARNING)\n    }\n\n  }\n\n  if (root._bokeh_is_loading === 0) {\n    console.debug(\"Bokeh: BokehJS loaded, going straight to plotting\");\n    run_inline_js();\n  } else {\n    load_libs(css_urls, js_urls, function() {\n      console.debug(\"Bokeh: BokehJS plotting callback run at\", now());\n      run_inline_js();\n    });\n  }\n}(window));"
     },
     "metadata": {},
     "output_type": "display_data"
    }
   ],
   "source": [
    "from bokeh.plotting import figure, show\n",
    "from bokeh.io import push_notebook, output_notebook\n",
    "\n",
    "output_notebook()"
   ]
  },
  {
   "cell_type": "markdown",
   "id": "849e8e58",
   "metadata": {},
   "source": [
    "### la classe `Taylor`"
   ]
  },
  {
   "cell_type": "markdown",
   "id": "018cc33d",
   "metadata": {},
   "source": [
    "J'ai défini une classe `Taylor`, je ne vous montre pas encore le code, je vais vous inviter à en écrire une vous même; nous allons voir tout de suite comment l'utiliser, mais pour la voir fonctionner il vous faut l'évaluer :"
   ]
  },
  {
   "cell_type": "markdown",
   "id": "b09fe131",
   "metadata": {},
   "source": [
    "<span style='background-color: #9EBC9E; padding:5px;'>↓↓↓↓↓ ↓↓↓↓↓ assurez-vous de **bien évaluer la cellule cachée** ici ↓↓↓↓↓ ↓↓↓↓↓</span>"
   ]
  },
  {
   "cell_type": "code",
   "execution_count": 4,
   "id": "d8df286e",
   "metadata": {
    "hide_input": true
   },
   "outputs": [],
   "source": [
    "# @BEG@ name=taylor\n",
    "class Taylor:\n",
    "    \"\"\"\n",
    "    provides an animated view of Taylor approximation\n",
    "    where one can change the degree interactively\n",
    "        \n",
    "    Taylor is applied on X=0, translate as needed\n",
    "    \"\"\"\n",
    "\n",
    "    def __init__(self, function, domain):\n",
    "        self.function = function\n",
    "        self.domain = domain\n",
    "        \n",
    "    def display(self, y_range):\n",
    "        \"\"\"\n",
    "        create initial drawing with degree=0\n",
    "        \n",
    "        Parameters:\n",
    "          y_range: a (ymin, ymax) tuple\n",
    "            for the animation to run smoothly, we need to display\n",
    "            all Taylor degrees with a fixed y-axis range\n",
    "        \"\"\"\n",
    "        # create figure\n",
    "        x_range = (self.domain[0], self.domain[-1])\n",
    "        self.figure = figure(title=self.function.__name__,\n",
    "                             x_range=x_range, y_range=y_range)\n",
    "\n",
    "        # each of the 2 curves is a bokeh line object\n",
    "        self.figure.line(self.domain, self.function(self.domain), color='green')\n",
    "        # store this in an attribute so _update can do its job\n",
    "        self.line_approx = self.figure.line(\n",
    "            self.domain, self._approximated(0), color='red', line_width=2)\n",
    "\n",
    "        # needed so that push_notebook can do its job down the road\n",
    "        self.handle = show(self.figure, notebook_handle=True)\n",
    "# @END@\n",
    "\n",
    "# @BEG@ name=taylor continued=true\n",
    "    def _approximated(self, degree):\n",
    "        \"\"\"\n",
    "        Computes and returns the Y array, the images of the domain\n",
    "        through Taylor approximation\n",
    "        \n",
    "        Parameters:\n",
    "          degree: the degree for Taylor approximation\n",
    "        \"\"\"\n",
    "        # initialize with a constant f(0)\n",
    "        # 0 * self.domain allows to create an array\n",
    "        # with the right length\n",
    "        result = 0 * self.domain + self.function(0.)\n",
    "        # f'\n",
    "        derivative = autograd.grad(self.function)\n",
    "        for n in range(1, degree+1):\n",
    "            # the term in f(n)(x)/n!\n",
    "            result += derivative(0.)/factorial(n) * self.domain**n\n",
    "            # next-order derivative\n",
    "            derivative = autograd.grad(derivative)\n",
    "        return result\n",
    "\n",
    "    def _update(self, degree):\n",
    "        # update the second curve only, of course\n",
    "        # the 2 magic lines for bokeh updates\n",
    "        self.line_approx.data_source.data['y'] = self._approximated(degree)\n",
    "        push_notebook(handle=self.handle)\n",
    "        \n",
    "    def interact(self, degree_widget):\n",
    "        \"\"\"\n",
    "        Parameters:\n",
    "          degree_widget: a ipywidget, typically an IntSlider\n",
    "            styled at your convenience\n",
    "        \"\"\"\n",
    "        interact(lambda degree: self._update(degree), degree=degree_widget)\n",
    "# @END@"
   ]
  },
  {
   "cell_type": "markdown",
   "id": "f48406c3",
   "metadata": {},
   "source": [
    "<span style='background-color: #9EBC9E; padding:5px;'>↑↑↑↑↑ ↑↑↑↑↑ assurez-vous de **bien évaluer la cellule cachée** ici ↑↑↑↑↑ ↑↑↑↑↑</span>"
   ]
  },
  {
   "cell_type": "code",
   "execution_count": 5,
   "id": "c6c0b355",
   "metadata": {},
   "outputs": [
    {
     "name": "stdout",
     "output_type": "stream",
     "text": [
      "Help on class Taylor in module __main__:\n",
      "\n",
      "class Taylor(builtins.object)\n",
      " |  Taylor(function, domain)\n",
      " |  \n",
      " |  provides an animated view of Taylor approximation\n",
      " |  where one can change the degree interactively\n",
      " |      \n",
      " |  Taylor is applied on X=0, translate as needed\n",
      " |  \n",
      " |  Methods defined here:\n",
      " |  \n",
      " |  __init__(self, function, domain)\n",
      " |      Initialize self.  See help(type(self)) for accurate signature.\n",
      " |  \n",
      " |  display(self, y_range)\n",
      " |      create initial drawing with degree=0\n",
      " |      \n",
      " |      Parameters:\n",
      " |        y_range: a (ymin, ymax) tuple\n",
      " |          for the animation to run smoothly, we need to display\n",
      " |          all Taylor degrees with a fixed y-axis range\n",
      " |  \n",
      " |  interact(self, degree_widget)\n",
      " |      Parameters:\n",
      " |        degree_widget: a ipywidget, typically an IntSlider\n",
      " |          styled at your convenience\n",
      " |  \n",
      " |  ----------------------------------------------------------------------\n",
      " |  Data descriptors defined here:\n",
      " |  \n",
      " |  __dict__\n",
      " |      dictionary for instance variables (if defined)\n",
      " |  \n",
      " |  __weakref__\n",
      " |      list of weak references to the object (if defined)\n",
      "\n"
     ]
    }
   ],
   "source": [
    "# check the code was properly loaded\n",
    "help(Taylor)"
   ]
  },
  {
   "cell_type": "markdown",
   "id": "fb5781cf",
   "metadata": {},
   "source": [
    "### sinus"
   ]
  },
  {
   "cell_type": "markdown",
   "id": "c1a26775",
   "metadata": {},
   "source": [
    "Ma classe `Taylor` s'utilise comme ceci : d'abord on crée une instance à partir d'une fonction\n",
    "et d'un domaine, i.e. l'intervalle des X qui nous intéresse."
   ]
  },
  {
   "cell_type": "code",
   "execution_count": 6,
   "id": "1382b114",
   "metadata": {},
   "outputs": [],
   "source": [
    "# between -4π and 4π\n",
    "DOMAIN = np.linspace(-4*np.pi, 4*np.pi, 250)\n",
    "\n",
    "# an instance\n",
    "sinus_animator = Taylor(np.sin, DOMAIN)"
   ]
  },
  {
   "cell_type": "markdown",
   "id": "99b3cf34",
   "metadata": {},
   "source": [
    "**Remarquez bien** qu'ici la fonction que je passe au constructeur est **en réalité `autograd.numpy.sin`** et non pas `numpy.sin`, vu la façon dont on a défini notre symbole `np` lors des imports (et ça ne marcherait pas du tout avec `numpy.sin`)."
   ]
  },
  {
   "cell_type": "markdown",
   "id": "ac30119b",
   "metadata": {},
   "source": [
    "Ensuite on crée un `ipywidget` qui va nous permettre de choisir le degré $n$; dans le cas de sinus, qui est impaire, les degrés intéressants sont impairs (vous pouvez vérifier que les coefficients de Taylor pairs sont nuls lorsque $f$ est impaire)."
   ]
  },
  {
   "cell_type": "code",
   "execution_count": 7,
   "id": "6fb17335",
   "metadata": {},
   "outputs": [],
   "source": [
    "# the widget to select a degree\n",
    "sinus_widget = IntSlider(\n",
    "   min=1, max=33, step=2,        # sinus being odd we skip even degrees\n",
    "   layout=Layout(width='100%'))  # more convenient with the whole page width"
   ]
  },
  {
   "cell_type": "markdown",
   "id": "d5e0d583",
   "metadata": {},
   "source": [
    "Pour lancer l'interaction, on n'a plus qu'à :\n",
    "\n",
    "* afficher le diagramme avec la méthode `display()`; on a besoin pour cela de préciser les bornes en Y, qui resteront constantes au cours de l'animation (sinon la visualisation est vilaine)\n",
    "\n",
    "puis lancer l'interaction en passant en paramètre le widget qui choisit le degré, ce qui donne :"
   ]
  },
  {
   "cell_type": "code",
   "execution_count": 8,
   "id": "625484ea",
   "metadata": {},
   "outputs": [
    {
     "data": {
      "text/html": [
       "\n",
       "\n",
       "\n",
       "\n",
       "\n",
       "\n",
       "<div class=\"bk-root\" id=\"25fbf160-86e3-4812-afb3-b31029414fc8\" data-root-id=\"1003\"></div>\n"
      ]
     },
     "metadata": {},
     "output_type": "display_data"
    },
    {
     "data": {
      "application/javascript": [
       "(function(root) {\n",
       "  function embed_document(root) {\n",
       "    \n",
       "  var docs_json = {\"4bb5b167-4227-454d-926f-692ff07efeb5\":{\"defs\":[],\"roots\":{\"references\":[{\"attributes\":{\"below\":[{\"id\":\"1014\"}],\"center\":[{\"id\":\"1017\"},{\"id\":\"1021\"}],\"left\":[{\"id\":\"1018\"}],\"renderers\":[{\"id\":\"1039\"},{\"id\":\"1044\"}],\"title\":{\"id\":\"1004\"},\"toolbar\":{\"id\":\"1029\"},\"x_range\":{\"id\":\"1006\"},\"x_scale\":{\"id\":\"1010\"},\"y_range\":{\"id\":\"1008\"},\"y_scale\":{\"id\":\"1012\"}},\"id\":\"1003\",\"subtype\":\"Figure\",\"type\":\"Plot\"},{\"attributes\":{\"data_source\":{\"id\":\"1041\"},\"glyph\":{\"id\":\"1042\"},\"hover_glyph\":null,\"muted_glyph\":null,\"nonselection_glyph\":{\"id\":\"1043\"},\"view\":{\"id\":\"1045\"}},\"id\":\"1044\",\"type\":\"GlyphRenderer\"},{\"attributes\":{},\"id\":\"1047\",\"type\":\"BasicTickFormatter\"},{\"attributes\":{\"bottom_units\":\"screen\",\"fill_alpha\":0.5,\"fill_color\":\"lightgrey\",\"left_units\":\"screen\",\"level\":\"overlay\",\"line_alpha\":1.0,\"line_color\":\"black\",\"line_dash\":[4,4],\"line_width\":2,\"right_units\":\"screen\",\"syncable\":false,\"top_units\":\"screen\"},\"id\":\"1028\",\"type\":\"BoxAnnotation\"},{\"attributes\":{\"source\":{\"id\":\"1041\"}},\"id\":\"1045\",\"type\":\"CDSView\"},{\"attributes\":{},\"id\":\"1054\",\"type\":\"UnionRenderers\"},{\"attributes\":{\"data_source\":{\"id\":\"1036\"},\"glyph\":{\"id\":\"1037\"},\"hover_glyph\":null,\"muted_glyph\":null,\"nonselection_glyph\":{\"id\":\"1038\"},\"view\":{\"id\":\"1040\"}},\"id\":\"1039\",\"type\":\"GlyphRenderer\"},{\"attributes\":{\"end\":1.5,\"start\":-1.5},\"id\":\"1008\",\"type\":\"Range1d\"},{\"attributes\":{},\"id\":\"1015\",\"type\":\"BasicTicker\"},{\"attributes\":{},\"id\":\"1049\",\"type\":\"AllLabels\"},{\"attributes\":{},\"id\":\"1012\",\"type\":\"LinearScale\"},{\"attributes\":{},\"id\":\"1025\",\"type\":\"SaveTool\"},{\"attributes\":{},\"id\":\"1050\",\"type\":\"BasicTickFormatter\"},{\"attributes\":{},\"id\":\"1026\",\"type\":\"ResetTool\"},{\"attributes\":{},\"id\":\"1022\",\"type\":\"PanTool\"},{\"attributes\":{\"overlay\":{\"id\":\"1028\"}},\"id\":\"1024\",\"type\":\"BoxZoomTool\"},{\"attributes\":{},\"id\":\"1052\",\"type\":\"AllLabels\"},{\"attributes\":{\"end\":12.566370614359172,\"start\":-12.566370614359172},\"id\":\"1006\",\"type\":\"Range1d\"},{\"attributes\":{},\"id\":\"1055\",\"type\":\"Selection\"},{\"attributes\":{},\"id\":\"1010\",\"type\":\"LinearScale\"},{\"attributes\":{\"line_alpha\":0.1,\"line_color\":\"red\",\"line_width\":2,\"x\":{\"field\":\"x\"},\"y\":{\"field\":\"y\"}},\"id\":\"1043\",\"type\":\"Line\"},{\"attributes\":{},\"id\":\"1023\",\"type\":\"WheelZoomTool\"},{\"attributes\":{\"line_alpha\":0.1,\"line_color\":\"green\",\"x\":{\"field\":\"x\"},\"y\":{\"field\":\"y\"}},\"id\":\"1038\",\"type\":\"Line\"},{\"attributes\":{},\"id\":\"1057\",\"type\":\"Selection\"},{\"attributes\":{\"axis\":{\"id\":\"1014\"},\"ticker\":null},\"id\":\"1017\",\"type\":\"Grid\"},{\"attributes\":{\"active_multi\":null,\"tools\":[{\"id\":\"1022\"},{\"id\":\"1023\"},{\"id\":\"1024\"},{\"id\":\"1025\"},{\"id\":\"1026\"},{\"id\":\"1027\"}]},\"id\":\"1029\",\"type\":\"Toolbar\"},{\"attributes\":{\"data\":{\"x\":{\"__ndarray__\":\"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\",\"dtype\":\"float64\",\"order\":\"little\",\"shape\":[250]},\"y\":{\"__ndarray__\":\"AAAAAAAAAAAAAAAAAAAAAAAAAAAAAAAAAAAAAAAAAAAAAAAAAAAAAAAAAAAAAAAAAAAAAAAAAAAAAAAAAAAAAAAAAAAAAAAAAAAAAAAAAAAAAAAAAAAAAAAAAAAAAAAAAAAAAAAAAAAAAAAAAAAAAAAAAAAAAAAAAAAAAAAAAAAAAAAAAAAAAAAAAAAAAAAAAAAAAAAAAAAAAAAAAAAAAAAAAAAAAAAAAAAAAAAAAAAAAAAAAAAAAAAAAAAAAAAAAAAAAAAAAAAAAAAAAAAAAAAAAAAAAAAAAAAAAAAAAAAAAAAAAAAAAAAAAAAAAAAAAAAAAAAAAAAAAAAAAAAAAAAAAAAAAAAAAAAAAAAAAAAAAAAAAAAAAAAAAAAAAAAAAAAAAAAAAAAAAAAAAAAAAAAAAAAAAAAAAAAAAAAAAAAAAAAAAAAAAAAAAAAAAAAAAAAAAAAAAAAAAAAAAAAAAAAAAAAAAAAAAAAAAAAAAAAAAAAAAAAAAAAAAAAAAAAAAAAAAAAAAAAAAAAAAAAAAAAAAAAAAAAAAAAAAAAAAAAAAAAAAAAAAAAAAAAAAAAAAAAAAAAAAAAAAAAAAAAAAAAAAAAAAAAAAAAAAAAAAAAAAAAAAAAAAAAAAAAAAAAAAAAAAAAAAAAAAAAAAAAAAAAAAAAAAAAAAAAAAAAAAAAAAAAAAAAAAAAAAAAAAAAAAAAAAAAAAAAAAAAAAAAAAAAAAAAAAAAAAAAAAAAAAAAAAAAAAAAAAAAAAAAAAAAAAAAAAAAAAAAAAAAAAAAAAAAAAAAAAAAAAAAAAAAAAAAAAAAAAAAAAAAAAAAAAAAAAAAAAAAAAAAAAAAAAAAAAAAAAAAAAAAAAAAAAAAAAAAAAAAAAAAAAAAAAAAAAAAAAAAAAAAAAAAAAAAAAAAAAAAAAAAAAAAAAAAAAAAAAAAAAAAAAAAAAAAAAAAAAAAAAAAAAAAAAAAAAAAAAAAAAAAAAAAAAAAAAAAAAAAAAAAAAAAAAAAAAAAAAAAAAAAAAAAAAAAAAAAAAAAAAAAAAAAAAAAAAAAAAAAAAAAAAAAAAAAAAAAAAAAAAAAAAAAAAAAAAAAAAAAAAAAAAAAAAAAAAAAAAAAAAAAAAAAAAAAAAAAAAAAAAAAAAAAAAAAAAAAAAAAAAAAAAAAAAAAAAAAAAAAAAAAAAAAAAAAAAAAAAAAAAAAAAAAAAAAAAAAAAAAAAAAAAAAAAAAAAAAAAAAAAAAAAAAAAAAAAAAAAAAAAAAAAAAAAAAAAAAAAAAAAAAAAAAAAAAAAAAAAAAAAAAAAAAAAAAAAAAAAAAAAAAAAAAAAAAAAAAAAAAAAAAAAAAAAAAAAAAAAAAAAAAAAAAAAAAAAAAAAAAAAAAAAAAAAAAAAAAAAAAAAAAAAAAAAAAAAAAAAAAAAAAAAAAAAAAAAAAAAAAAAAAAAAAAAAAAAAAAAAAAAAAAAAAAAAAAAAAAAAAAAAAAAAAAAAAAAAAAAAAAAAAAAAAAAAAAAAAAAAAAAAAAAAAAAAAAAAAAAAAAAAAAAAAAAAAAAAAAAAAAAAAAAAAAAAAAAAAAAAAAAAAAAAAAAAAAAAAAAAAAAAAAAAAAAAAAAAAAAAAAAAAAAAAAAAAAAAAAAAAAAAAAAAAAAAAAAAAAAAAAAAAAAAAAAAAAAAAAAAAAAAAAAAAAAAAAAAAAAAAAAAAAAAAAAAAAAAAAAAAAAAAAAAAAAAAAAAAAAAAAAAAAAAAAAAAAAAAAAAAAAAAAAAAAAAAAAAAAAAAAAAAAAAAAAAAAAAAAAAAAAAAAAAAAAAAAAAAAAAAAAAAAAAAAAAAAAAAAAAAAAAAAAAAAAAAAAAAAAAAAAAAAAAAAAAAAAAAAAAAAAAAAAAAAAAAAAAAAAAAAAAAAAAAAAAAAAAAAAAAAAAAAAAAAAAAAAAAAAAAAAAAAAAAAAAAAAAAAAAAAAAAAAAAAAAAAAAAAAAAAAAAAAAAAAAAAAAAAAAAAAAAAAAAAAAAAAAAAAAAAAAAAAAAAAAAAAAAAAAAAAAAAAAAAAAAAAAAAAAAAAAAAAAAAAAAAAAAAAAAAAAAAAAAAAAAAAAAAAAAAAAAAAAAAAAAAAAAAAAAAAAAAAAAAAAAAAAAAAAAAAAAAAAAAAAAAAAAAAAAAAAAAAAAAAAAAAAAAAAAAAAAAAAAAAAAAAAAAAAAAAAAAAAAAAAAAAAAAAAAAAAAAAAAAAAAAAAAAAAAAAAAAAAAAAAAAAAAAAAAAAAAAAAAAAAAAAAAAAAAAAAAAAAAAAAAAAAAAAAAAAAAAAAAAAAAAAAAAAAAAAAAAAAAAAAAAAAAAAAAAAAAAAAAAAAAAAAAAAAAAAAAAAAAAAAAAAAAAAAAAAAAAAAAAAAAAAAAAAAAAAAAAAAAAAAAAAAAAAAAAAAAAAAAAAAAAAAAAAAAAAAAAAAAAAAAAAAAAAAAAAAAAAAAAAAAAAAAAAAAAAAAAAAAAAAAAAAAAAAAAAAAAAAAAAAAAAAAAAAAAAAAAAAAAAAAAAAAAAAAAAAAAAAAAAAAAAAAAAAAAAAAAAAAAAAAAAAAAAAAAAAAAAAAAAAAAAAAAAAAAAAAAAAAAAAAAAAAAAAAAAAAAAAAAAAAAAAAAAAAAAAAAAAAAAAAAAAAAAAAAAAAAAAA=\",\"dtype\":\"float64\",\"order\":\"little\",\"shape\":[250]}},\"selected\":{\"id\":\"1057\"},\"selection_policy\":{\"id\":\"1056\"}},\"id\":\"1041\",\"type\":\"ColumnDataSource\"},{\"attributes\":{\"text\":\"sin\"},\"id\":\"1004\",\"type\":\"Title\"},{\"attributes\":{\"formatter\":{\"id\":\"1050\"},\"major_label_policy\":{\"id\":\"1052\"},\"ticker\":{\"id\":\"1019\"}},\"id\":\"1018\",\"type\":\"LinearAxis\"},{\"attributes\":{\"data\":{\"x\":{\"__ndarray__\":\"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\",\"dtype\":\"float64\",\"order\":\"little\",\"shape\":[250]},\"y\":{\"__ndarray__\":\"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\",\"dtype\":\"float64\",\"order\":\"little\",\"shape\":[250]}},\"selected\":{\"id\":\"1055\"},\"selection_policy\":{\"id\":\"1054\"}},\"id\":\"1036\",\"type\":\"ColumnDataSource\"},{\"attributes\":{\"axis\":{\"id\":\"1018\"},\"dimension\":1,\"ticker\":null},\"id\":\"1021\",\"type\":\"Grid\"},{\"attributes\":{},\"id\":\"1027\",\"type\":\"HelpTool\"},{\"attributes\":{\"source\":{\"id\":\"1036\"}},\"id\":\"1040\",\"type\":\"CDSView\"},{\"attributes\":{\"line_color\":\"red\",\"line_width\":2,\"x\":{\"field\":\"x\"},\"y\":{\"field\":\"y\"}},\"id\":\"1042\",\"type\":\"Line\"},{\"attributes\":{},\"id\":\"1019\",\"type\":\"BasicTicker\"},{\"attributes\":{\"line_color\":\"green\",\"x\":{\"field\":\"x\"},\"y\":{\"field\":\"y\"}},\"id\":\"1037\",\"type\":\"Line\"},{\"attributes\":{\"formatter\":{\"id\":\"1047\"},\"major_label_policy\":{\"id\":\"1049\"},\"ticker\":{\"id\":\"1015\"}},\"id\":\"1014\",\"type\":\"LinearAxis\"},{\"attributes\":{},\"id\":\"1056\",\"type\":\"UnionRenderers\"}],\"root_ids\":[\"1003\"]},\"title\":\"Bokeh Application\",\"version\":\"2.3.3\"}};\n",
       "  var render_items = [{\"docid\":\"4bb5b167-4227-454d-926f-692ff07efeb5\",\"notebook_comms_target\":\"1058\",\"root_ids\":[\"1003\"],\"roots\":{\"1003\":\"25fbf160-86e3-4812-afb3-b31029414fc8\"}}];\n",
       "  root.Bokeh.embed.embed_items_notebook(docs_json, render_items);\n",
       "\n",
       "  }\n",
       "  if (root.Bokeh !== undefined) {\n",
       "    embed_document(root);\n",
       "  } else {\n",
       "    var attempts = 0;\n",
       "    var timer = setInterval(function(root) {\n",
       "      if (root.Bokeh !== undefined) {\n",
       "        clearInterval(timer);\n",
       "        embed_document(root);\n",
       "      } else {\n",
       "        attempts++;\n",
       "        if (attempts > 100) {\n",
       "          clearInterval(timer);\n",
       "          console.log(\"Bokeh: ERROR: Unable to run BokehJS code because BokehJS library is missing\");\n",
       "        }\n",
       "      }\n",
       "    }, 10, root)\n",
       "  }\n",
       "})(window);"
      ],
      "application/vnd.bokehjs_exec.v0+json": ""
     },
     "metadata": {
      "application/vnd.bokehjs_exec.v0+json": {
       "id": "1003"
      }
     },
     "output_type": "display_data"
    },
    {
     "data": {
      "application/vnd.jupyter.widget-view+json": {
       "model_id": "44c80867db394f02a61ac76f651b9d3a",
       "version_major": 2,
       "version_minor": 0
      },
      "text/plain": [
       "interactive(children=(IntSlider(value=1, description='degree', layout=Layout(width='100%'), max=33, min=1, ste…"
      ]
     },
     "metadata": {},
     "output_type": "display_data"
    }
   ],
   "source": [
    "# fixed limits in Y\n",
    "sinus_animator.display((-1.5, 1.5))\n",
    "\n",
    "sinus_animator.interact(sinus_widget)"
   ]
  },
  {
   "cell_type": "markdown",
   "id": "d0cf3b97",
   "metadata": {},
   "source": [
    "### cosinus"
   ]
  },
  {
   "cell_type": "markdown",
   "id": "b1c83f3a",
   "metadata": {},
   "source": [
    "La même chose avec cosinus nous donnerait ceci :"
   ]
  },
  {
   "cell_type": "code",
   "execution_count": 9,
   "id": "385e0147",
   "metadata": {},
   "outputs": [
    {
     "data": {
      "text/html": [
       "\n",
       "\n",
       "\n",
       "\n",
       "\n",
       "\n",
       "<div class=\"bk-root\" id=\"bdc1157e-d282-4284-87f7-391d6891ff7a\" data-root-id=\"1121\"></div>\n"
      ]
     },
     "metadata": {},
     "output_type": "display_data"
    },
    {
     "data": {
      "application/javascript": [
       "(function(root) {\n",
       "  function embed_document(root) {\n",
       "    \n",
       "  var docs_json = {\"7476f12b-4cd5-4a3b-94c9-f598242ea116\":{\"defs\":[],\"roots\":{\"references\":[{\"attributes\":{\"below\":[{\"id\":\"1132\"}],\"center\":[{\"id\":\"1135\"},{\"id\":\"1139\"}],\"left\":[{\"id\":\"1136\"}],\"renderers\":[{\"id\":\"1157\"},{\"id\":\"1162\"}],\"title\":{\"id\":\"1122\"},\"toolbar\":{\"id\":\"1147\"},\"x_range\":{\"id\":\"1124\"},\"x_scale\":{\"id\":\"1128\"},\"y_range\":{\"id\":\"1126\"},\"y_scale\":{\"id\":\"1130\"}},\"id\":\"1121\",\"subtype\":\"Figure\",\"type\":\"Plot\"},{\"attributes\":{\"end\":12.566370614359172,\"start\":-12.566370614359172},\"id\":\"1124\",\"type\":\"Range1d\"},{\"attributes\":{\"data\":{\"x\":{\"__ndarray__\":\"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\",\"dtype\":\"float64\",\"order\":\"little\",\"shape\":[250]},\"y\":{\"__ndarray__\":\"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\",\"dtype\":\"float64\",\"order\":\"little\",\"shape\":[250]}},\"selected\":{\"id\":\"1187\"},\"selection_policy\":{\"id\":\"1186\"}},\"id\":\"1159\",\"type\":\"ColumnDataSource\"},{\"attributes\":{\"bottom_units\":\"screen\",\"fill_alpha\":0.5,\"fill_color\":\"lightgrey\",\"left_units\":\"screen\",\"level\":\"overlay\",\"line_alpha\":1.0,\"line_color\":\"black\",\"line_dash\":[4,4],\"line_width\":2,\"right_units\":\"screen\",\"syncable\":false,\"top_units\":\"screen\"},\"id\":\"1146\",\"type\":\"BoxAnnotation\"},{\"attributes\":{\"formatter\":{\"id\":\"1180\"},\"major_label_policy\":{\"id\":\"1182\"},\"ticker\":{\"id\":\"1137\"}},\"id\":\"1136\",\"type\":\"LinearAxis\"},{\"attributes\":{\"formatter\":{\"id\":\"1177\"},\"major_label_policy\":{\"id\":\"1179\"},\"ticker\":{\"id\":\"1133\"}},\"id\":\"1132\",\"type\":\"LinearAxis\"},{\"attributes\":{\"source\":{\"id\":\"1154\"}},\"id\":\"1158\",\"type\":\"CDSView\"},{\"attributes\":{},\"id\":\"1180\",\"type\":\"BasicTickFormatter\"},{\"attributes\":{\"data_source\":{\"id\":\"1154\"},\"glyph\":{\"id\":\"1155\"},\"hover_glyph\":null,\"muted_glyph\":null,\"nonselection_glyph\":{\"id\":\"1156\"},\"view\":{\"id\":\"1158\"}},\"id\":\"1157\",\"type\":\"GlyphRenderer\"},{\"attributes\":{\"end\":1.5,\"start\":-1.5},\"id\":\"1126\",\"type\":\"Range1d\"},{\"attributes\":{},\"id\":\"1145\",\"type\":\"HelpTool\"},{\"attributes\":{},\"id\":\"1128\",\"type\":\"LinearScale\"},{\"attributes\":{},\"id\":\"1130\",\"type\":\"LinearScale\"},{\"attributes\":{\"active_multi\":null,\"tools\":[{\"id\":\"1140\"},{\"id\":\"1141\"},{\"id\":\"1142\"},{\"id\":\"1143\"},{\"id\":\"1144\"},{\"id\":\"1145\"}]},\"id\":\"1147\",\"type\":\"Toolbar\"},{\"attributes\":{},\"id\":\"1182\",\"type\":\"AllLabels\"},{\"attributes\":{},\"id\":\"1133\",\"type\":\"BasicTicker\"},{\"attributes\":{\"axis\":{\"id\":\"1132\"},\"ticker\":null},\"id\":\"1135\",\"type\":\"Grid\"},{\"attributes\":{\"source\":{\"id\":\"1159\"}},\"id\":\"1163\",\"type\":\"CDSView\"},{\"attributes\":{\"axis\":{\"id\":\"1136\"},\"dimension\":1,\"ticker\":null},\"id\":\"1139\",\"type\":\"Grid\"},{\"attributes\":{\"line_color\":\"red\",\"line_width\":2,\"x\":{\"field\":\"x\"},\"y\":{\"field\":\"y\"}},\"id\":\"1160\",\"type\":\"Line\"},{\"attributes\":{},\"id\":\"1137\",\"type\":\"BasicTicker\"},{\"attributes\":{\"data_source\":{\"id\":\"1159\"},\"glyph\":{\"id\":\"1160\"},\"hover_glyph\":null,\"muted_glyph\":null,\"nonselection_glyph\":{\"id\":\"1161\"},\"view\":{\"id\":\"1163\"}},\"id\":\"1162\",\"type\":\"GlyphRenderer\"},{\"attributes\":{\"text\":\"cos\"},\"id\":\"1122\",\"type\":\"Title\"},{\"attributes\":{},\"id\":\"1141\",\"type\":\"WheelZoomTool\"},{\"attributes\":{},\"id\":\"1140\",\"type\":\"PanTool\"},{\"attributes\":{\"overlay\":{\"id\":\"1146\"}},\"id\":\"1142\",\"type\":\"BoxZoomTool\"},{\"attributes\":{},\"id\":\"1143\",\"type\":\"SaveTool\"},{\"attributes\":{},\"id\":\"1144\",\"type\":\"ResetTool\"},{\"attributes\":{\"data\":{\"x\":{\"__ndarray__\":\"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\",\"dtype\":\"float64\",\"order\":\"little\",\"shape\":[250]},\"y\":{\"__ndarray__\":\"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\",\"dtype\":\"float64\",\"order\":\"little\",\"shape\":[250]}},\"selected\":{\"id\":\"1185\"},\"selection_policy\":{\"id\":\"1184\"}},\"id\":\"1154\",\"type\":\"ColumnDataSource\"},{\"attributes\":{},\"id\":\"1184\",\"type\":\"UnionRenderers\"},{\"attributes\":{},\"id\":\"1185\",\"type\":\"Selection\"},{\"attributes\":{\"line_alpha\":0.1,\"line_color\":\"red\",\"line_width\":2,\"x\":{\"field\":\"x\"},\"y\":{\"field\":\"y\"}},\"id\":\"1161\",\"type\":\"Line\"},{\"attributes\":{\"line_alpha\":0.1,\"line_color\":\"green\",\"x\":{\"field\":\"x\"},\"y\":{\"field\":\"y\"}},\"id\":\"1156\",\"type\":\"Line\"},{\"attributes\":{},\"id\":\"1177\",\"type\":\"BasicTickFormatter\"},{\"attributes\":{},\"id\":\"1186\",\"type\":\"UnionRenderers\"},{\"attributes\":{\"line_color\":\"green\",\"x\":{\"field\":\"x\"},\"y\":{\"field\":\"y\"}},\"id\":\"1155\",\"type\":\"Line\"},{\"attributes\":{},\"id\":\"1187\",\"type\":\"Selection\"},{\"attributes\":{},\"id\":\"1179\",\"type\":\"AllLabels\"}],\"root_ids\":[\"1121\"]},\"title\":\"Bokeh Application\",\"version\":\"2.3.3\"}};\n",
       "  var render_items = [{\"docid\":\"7476f12b-4cd5-4a3b-94c9-f598242ea116\",\"notebook_comms_target\":\"1188\",\"root_ids\":[\"1121\"],\"roots\":{\"1121\":\"bdc1157e-d282-4284-87f7-391d6891ff7a\"}}];\n",
       "  root.Bokeh.embed.embed_items_notebook(docs_json, render_items);\n",
       "\n",
       "  }\n",
       "  if (root.Bokeh !== undefined) {\n",
       "    embed_document(root);\n",
       "  } else {\n",
       "    var attempts = 0;\n",
       "    var timer = setInterval(function(root) {\n",
       "      if (root.Bokeh !== undefined) {\n",
       "        clearInterval(timer);\n",
       "        embed_document(root);\n",
       "      } else {\n",
       "        attempts++;\n",
       "        if (attempts > 100) {\n",
       "          clearInterval(timer);\n",
       "          console.log(\"Bokeh: ERROR: Unable to run BokehJS code because BokehJS library is missing\");\n",
       "        }\n",
       "      }\n",
       "    }, 10, root)\n",
       "  }\n",
       "})(window);"
      ],
      "application/vnd.bokehjs_exec.v0+json": ""
     },
     "metadata": {
      "application/vnd.bokehjs_exec.v0+json": {
       "id": "1121"
      }
     },
     "output_type": "display_data"
    },
    {
     "data": {
      "application/vnd.jupyter.widget-view+json": {
       "model_id": "57bc2476a58940da99bd808b8b638348",
       "version_major": 2,
       "version_minor": 0
      },
      "text/plain": [
       "interactive(children=(IntSlider(value=0, description='degree', layout=Layout(width='100%'), max=34, step=2), O…"
      ]
     },
     "metadata": {},
     "output_type": "display_data"
    }
   ],
   "source": [
    "# allows to select a degree\n",
    "sinus_widget = IntSlider(\n",
    "   min=0, max=34, step=2,      # only even degrees\n",
    "   layout=Layout(width='100%'))\n",
    "\n",
    "### ready to go\n",
    "sinus_animator = Taylor(np.cos, DOMAIN)\n",
    "sinus_animator.display((-1.5, 1.5))\n",
    "sinus_animator.interact(sinus_widget)"
   ]
  },
  {
   "cell_type": "markdown",
   "id": "d4efefc0",
   "metadata": {},
   "source": [
    "### exponentielle"
   ]
  },
  {
   "cell_type": "code",
   "execution_count": 10,
   "id": "a5eca8dd",
   "metadata": {},
   "outputs": [
    {
     "data": {
      "text/html": [
       "\n",
       "\n",
       "\n",
       "\n",
       "\n",
       "\n",
       "<div class=\"bk-root\" id=\"3c63ea1e-7eca-491c-92bf-4bd28a52af0b\" data-root-id=\"1251\"></div>\n"
      ]
     },
     "metadata": {},
     "output_type": "display_data"
    },
    {
     "data": {
      "application/javascript": [
       "(function(root) {\n",
       "  function embed_document(root) {\n",
       "    \n",
       "  var docs_json = {\"e7ed97d9-b420-49c7-a246-c0bffc59d061\":{\"defs\":[],\"roots\":{\"references\":[{\"attributes\":{\"below\":[{\"id\":\"1262\"}],\"center\":[{\"id\":\"1265\"},{\"id\":\"1269\"}],\"left\":[{\"id\":\"1266\"}],\"renderers\":[{\"id\":\"1287\"},{\"id\":\"1292\"}],\"title\":{\"id\":\"1252\"},\"toolbar\":{\"id\":\"1277\"},\"x_range\":{\"id\":\"1254\"},\"x_scale\":{\"id\":\"1258\"},\"y_range\":{\"id\":\"1256\"},\"y_scale\":{\"id\":\"1260\"}},\"id\":\"1251\",\"subtype\":\"Figure\",\"type\":\"Plot\"},{\"attributes\":{\"formatter\":{\"id\":\"1322\"},\"major_label_policy\":{\"id\":\"1324\"},\"ticker\":{\"id\":\"1267\"}},\"id\":\"1266\",\"type\":\"LinearAxis\"},{\"attributes\":{},\"id\":\"1260\",\"type\":\"LinearScale\"},{\"attributes\":{\"data\":{\"x\":{\"__ndarray__\":\"AAAAAAAAFMByIepm0LITwOVC1M2gZRPAWGS+NHEYE8DKhaibQcsSwDynkgISfhLAr8h8aeIwEsAi6mbQsuMRwJQLUTeDlhHABi07nlNJEcB5TiUFJPwQwOxvD2z0rhDAXpH50sRhEMDQsuM5lRQQwIaom0HLjg/Aa+tvD2z0DsBQLkTdDFoOwDVxGKutvw3AGrTseE4lDcD/9sBG74oMwOQ5lRSQ8AvAyXxp4jBWC8Cuvz2w0bsKwJMCEn5yIQrAeEXmSxOHCcBdiLoZtOwIwELLjudUUgjAJw5jtfW3B8AMUTeDlh0HwPGTC1E3gwbA1tbfHtjoBcC7GbTseE4FwKBciLoZtATAhZ9ciLoZBMBq4jBWW38DwE8lBST85ALANGjZ8ZxKAsAZq62/PbABwP7tgY3eFQHA4zBWW397AMCQ51RSQML/v1pt/e2Bjf6/JPOlicNY/b/ueE4lBST8v7j+9sBG7/q/goSfXIi6+b9MCkj4yYX4vxaQ8JMLUfe/4BWZL00c9r+qm0HLjuf0v3Qh6mbQsvO/PqeSAhJ+8r8ILTueU0nxv9Ky4zmVFPC/OHEYq62/7b/QfGniMFbrv2CIuhm07Oi/8JMLUTeD5r+In1yIuhnkvyCrrb89sOG/YG397YGN3r+AhJ9ciLrZv7CbQcuO59S/4LLjOZUU0L8AlAtRN4PGv4CEn1yIurm/AIWfXIi6mb8AhJ9ciLqpP8Cy4zmVFMA/gISfXIi6yT8Qq62/PbDRP+CTC1E3g9Y/wHxp4jBW2z/QsuM5lRTgPzinkgISfuI/oJtBy47n5D8QkPCTC1HnP4CEn1yIuuk/6HhOJQUk7D9Qbf3tgY3uP+AwVlt/e/A/GKutvz2w8T9MJQUk/OTyP4CfXIi6GfQ/uBm07HhO9T/wkwtRN4P2PyQOY7X1t/c/WIi6GbTs+D+QAhJ+ciH6P8h8aeIwVvs//PbARu+K/D8wcRirrb/9P2jrbw9s9P4/0LLjOZUUAEDqbw9s9K4AQAQtO55TSQFAIOpm0LLjAUA8p5ICEn4CQFZkvjRxGANAcCHqZtCyA0CM3hWZL00EQKibQcuO5wRAwlht/e2BBUDcFZkvTRwGQPjSxGGstgZAFJDwkwtRB0AuTRzGausHQEgKSPjJhQhAZMdzKikgCUCAhJ9ciLoJQJhBy47nVApAtP72wEbvCkDQuyLzpYkLQOx4TiUFJAxACDZ6V2S+DEAg86WJw1gNQDyw0bsi8w1AWG397YGNDkBwKikg4ScPQIznVFJAwg9AVFJAwk8uEEDiMFZbf3sQQHAPbPSuyBBA/O2Bjd4VEUCKzJcmDmMRQBirrb89sBFApInDWG39EUAyaNnxnEoSQMBG74rMlxJATiUFJPzkEkDcAxu9KzITQGjiMFZbfxNA9sBG74rME0CEn1yIuhkUQBB+ciHqZhRAnlyIuhm0FEAsO55TSQEVQLoZtOx4ThVASPjJhaibFUDU1t8e2OgVQGK19bcHNhZA8JMLUTeDFkB8ciHqZtAWQApRN4OWHRdAmC9NHMZqF0AmDmO19bcXQLTseE4lBRhAQMuO51RSGEDOqaSAhJ8YQFyIuhm07BhA6GbQsuM5GUB2ReZLE4cZQAQk/ORC1BlAkgISfnIhGkAg4ScXom4aQKy/PbDRuxpAOp5TSQEJG0DIfGniMFYbQFRbf3tgoxtA4jmVFJDwG0BwGKutvz0cQP72wEbvihxAjNXW3x7YHEAYtOx4TiUdQKaSAhJ+ch1ANHEYq62/HUDATy5E3QweQE4uRN0MWh5A3AxadjynHkBq628PbPQeQPjJhaibQR9AhKibQcuOH0ASh7Ha+tsfQNCy4zmVFCBAFqJuBi07IEBdkfnSxGEgQKSAhJ9ciCBA628PbPSuIEAyX5o4jNUgQHhOJQUk/CBAvz2w0bsiIUAGLTueU0khQEwcxmrrbyFAkwtRN4OWIUDa+tsDG70hQCHqZtCy4yFAaNnxnEoKIkCuyHxp4jAiQPW3BzZ6VyJAPKeSAhJ+IkCClh3PqaQiQMmFqJtByyJAEHUzaNnxIkBXZL40cRgjQJ5TSQEJPyNA5ELUzaBlI0ArMl+aOIwjQHIh6mbQsiNAuBB1M2jZI0AAAAAAAAAkQA==\",\"dtype\":\"float64\",\"order\":\"little\",\"shape\":[200]},\"y\":{\"__ndarray__\":\"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\",\"dtype\":\"float64\",\"order\":\"little\",\"shape\":[200]}},\"selected\":{\"id\":\"1327\"},\"selection_policy\":{\"id\":\"1326\"}},\"id\":\"1284\",\"type\":\"ColumnDataSource\"},{\"attributes\":{},\"id\":\"1263\",\"type\":\"BasicTicker\"},{\"attributes\":{},\"id\":\"1258\",\"type\":\"LinearScale\"},{\"attributes\":{},\"id\":\"1275\",\"type\":\"HelpTool\"},{\"attributes\":{\"line_color\":\"green\",\"x\":{\"field\":\"x\"},\"y\":{\"field\":\"y\"}},\"id\":\"1285\",\"type\":\"Line\"},{\"attributes\":{\"data_source\":{\"id\":\"1289\"},\"glyph\":{\"id\":\"1290\"},\"hover_glyph\":null,\"muted_glyph\":null,\"nonselection_glyph\":{\"id\":\"1291\"},\"view\":{\"id\":\"1293\"}},\"id\":\"1292\",\"type\":\"GlyphRenderer\"},{\"attributes\":{\"formatter\":{\"id\":\"1319\"},\"major_label_policy\":{\"id\":\"1321\"},\"ticker\":{\"id\":\"1263\"}},\"id\":\"1262\",\"type\":\"LinearAxis\"},{\"attributes\":{\"end\":25000,\"start\":-15000},\"id\":\"1256\",\"type\":\"Range1d\"},{\"attributes\":{\"source\":{\"id\":\"1284\"}},\"id\":\"1288\",\"type\":\"CDSView\"},{\"attributes\":{\"line_alpha\":0.1,\"line_color\":\"red\",\"line_width\":2,\"x\":{\"field\":\"x\"},\"y\":{\"field\":\"y\"}},\"id\":\"1291\",\"type\":\"Line\"},{\"attributes\":{},\"id\":\"1328\",\"type\":\"UnionRenderers\"},{\"attributes\":{\"text\":\"exp\"},\"id\":\"1252\",\"type\":\"Title\"},{\"attributes\":{},\"id\":\"1329\",\"type\":\"Selection\"},{\"attributes\":{\"active_multi\":null,\"tools\":[{\"id\":\"1270\"},{\"id\":\"1271\"},{\"id\":\"1272\"},{\"id\":\"1273\"},{\"id\":\"1274\"},{\"id\":\"1275\"}]},\"id\":\"1277\",\"type\":\"Toolbar\"},{\"attributes\":{\"bottom_units\":\"screen\",\"fill_alpha\":0.5,\"fill_color\":\"lightgrey\",\"left_units\":\"screen\",\"level\":\"overlay\",\"line_alpha\":1.0,\"line_color\":\"black\",\"line_dash\":[4,4],\"line_width\":2,\"right_units\":\"screen\",\"syncable\":false,\"top_units\":\"screen\"},\"id\":\"1276\",\"type\":\"BoxAnnotation\"},{\"attributes\":{},\"id\":\"1267\",\"type\":\"BasicTicker\"},{\"attributes\":{\"line_alpha\":0.1,\"line_color\":\"green\",\"x\":{\"field\":\"x\"},\"y\":{\"field\":\"y\"}},\"id\":\"1286\",\"type\":\"Line\"},{\"attributes\":{\"axis\":{\"id\":\"1266\"},\"dimension\":1,\"ticker\":null},\"id\":\"1269\",\"type\":\"Grid\"},{\"attributes\":{\"source\":{\"id\":\"1289\"}},\"id\":\"1293\",\"type\":\"CDSView\"},{\"attributes\":{},\"id\":\"1271\",\"type\":\"WheelZoomTool\"},{\"attributes\":{\"axis\":{\"id\":\"1262\"},\"ticker\":null},\"id\":\"1265\",\"type\":\"Grid\"},{\"attributes\":{},\"id\":\"1319\",\"type\":\"BasicTickFormatter\"},{\"attributes\":{\"data\":{\"x\":{\"__ndarray__\":\"AAAAAAAAFMByIepm0LITwOVC1M2gZRPAWGS+NHEYE8DKhaibQcsSwDynkgISfhLAr8h8aeIwEsAi6mbQsuMRwJQLUTeDlhHABi07nlNJEcB5TiUFJPwQwOxvD2z0rhDAXpH50sRhEMDQsuM5lRQQwIaom0HLjg/Aa+tvD2z0DsBQLkTdDFoOwDVxGKutvw3AGrTseE4lDcD/9sBG74oMwOQ5lRSQ8AvAyXxp4jBWC8Cuvz2w0bsKwJMCEn5yIQrAeEXmSxOHCcBdiLoZtOwIwELLjudUUgjAJw5jtfW3B8AMUTeDlh0HwPGTC1E3gwbA1tbfHtjoBcC7GbTseE4FwKBciLoZtATAhZ9ciLoZBMBq4jBWW38DwE8lBST85ALANGjZ8ZxKAsAZq62/PbABwP7tgY3eFQHA4zBWW397AMCQ51RSQML/v1pt/e2Bjf6/JPOlicNY/b/ueE4lBST8v7j+9sBG7/q/goSfXIi6+b9MCkj4yYX4vxaQ8JMLUfe/4BWZL00c9r+qm0HLjuf0v3Qh6mbQsvO/PqeSAhJ+8r8ILTueU0nxv9Ky4zmVFPC/OHEYq62/7b/QfGniMFbrv2CIuhm07Oi/8JMLUTeD5r+In1yIuhnkvyCrrb89sOG/YG397YGN3r+AhJ9ciLrZv7CbQcuO59S/4LLjOZUU0L8AlAtRN4PGv4CEn1yIurm/AIWfXIi6mb8AhJ9ciLqpP8Cy4zmVFMA/gISfXIi6yT8Qq62/PbDRP+CTC1E3g9Y/wHxp4jBW2z/QsuM5lRTgPzinkgISfuI/oJtBy47n5D8QkPCTC1HnP4CEn1yIuuk/6HhOJQUk7D9Qbf3tgY3uP+AwVlt/e/A/GKutvz2w8T9MJQUk/OTyP4CfXIi6GfQ/uBm07HhO9T/wkwtRN4P2PyQOY7X1t/c/WIi6GbTs+D+QAhJ+ciH6P8h8aeIwVvs//PbARu+K/D8wcRirrb/9P2jrbw9s9P4/0LLjOZUUAEDqbw9s9K4AQAQtO55TSQFAIOpm0LLjAUA8p5ICEn4CQFZkvjRxGANAcCHqZtCyA0CM3hWZL00EQKibQcuO5wRAwlht/e2BBUDcFZkvTRwGQPjSxGGstgZAFJDwkwtRB0AuTRzGausHQEgKSPjJhQhAZMdzKikgCUCAhJ9ciLoJQJhBy47nVApAtP72wEbvCkDQuyLzpYkLQOx4TiUFJAxACDZ6V2S+DEAg86WJw1gNQDyw0bsi8w1AWG397YGNDkBwKikg4ScPQIznVFJAwg9AVFJAwk8uEEDiMFZbf3sQQHAPbPSuyBBA/O2Bjd4VEUCKzJcmDmMRQBirrb89sBFApInDWG39EUAyaNnxnEoSQMBG74rMlxJATiUFJPzkEkDcAxu9KzITQGjiMFZbfxNA9sBG74rME0CEn1yIuhkUQBB+ciHqZhRAnlyIuhm0FEAsO55TSQEVQLoZtOx4ThVASPjJhaibFUDU1t8e2OgVQGK19bcHNhZA8JMLUTeDFkB8ciHqZtAWQApRN4OWHRdAmC9NHMZqF0AmDmO19bcXQLTseE4lBRhAQMuO51RSGEDOqaSAhJ8YQFyIuhm07BhA6GbQsuM5GUB2ReZLE4cZQAQk/ORC1BlAkgISfnIhGkAg4ScXom4aQKy/PbDRuxpAOp5TSQEJG0DIfGniMFYbQFRbf3tgoxtA4jmVFJDwG0BwGKutvz0cQP72wEbvihxAjNXW3x7YHEAYtOx4TiUdQKaSAhJ+ch1ANHEYq62/HUDATy5E3QweQE4uRN0MWh5A3AxadjynHkBq628PbPQeQPjJhaibQR9AhKibQcuOH0ASh7Ha+tsfQNCy4zmVFCBAFqJuBi07IEBdkfnSxGEgQKSAhJ9ciCBA628PbPSuIEAyX5o4jNUgQHhOJQUk/CBAvz2w0bsiIUAGLTueU0khQEwcxmrrbyFAkwtRN4OWIUDa+tsDG70hQCHqZtCy4yFAaNnxnEoKIkCuyHxp4jAiQPW3BzZ6VyJAPKeSAhJ+IkCClh3PqaQiQMmFqJtByyJAEHUzaNnxIkBXZL40cRgjQJ5TSQEJPyNA5ELUzaBlI0ArMl+aOIwjQHIh6mbQsiNAuBB1M2jZI0AAAAAAAAAkQA==\",\"dtype\":\"float64\",\"order\":\"little\",\"shape\":[200]},\"y\":{\"__ndarray__\":\"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\",\"dtype\":\"float64\",\"order\":\"little\",\"shape\":[200]}},\"selected\":{\"id\":\"1329\"},\"selection_policy\":{\"id\":\"1328\"}},\"id\":\"1289\",\"type\":\"ColumnDataSource\"},{\"attributes\":{\"data_source\":{\"id\":\"1284\"},\"glyph\":{\"id\":\"1285\"},\"hover_glyph\":null,\"muted_glyph\":null,\"nonselection_glyph\":{\"id\":\"1286\"},\"view\":{\"id\":\"1288\"}},\"id\":\"1287\",\"type\":\"GlyphRenderer\"},{\"attributes\":{},\"id\":\"1321\",\"type\":\"AllLabels\"},{\"attributes\":{\"overlay\":{\"id\":\"1276\"}},\"id\":\"1272\",\"type\":\"BoxZoomTool\"},{\"attributes\":{},\"id\":\"1273\",\"type\":\"SaveTool\"},{\"attributes\":{},\"id\":\"1270\",\"type\":\"PanTool\"},{\"attributes\":{},\"id\":\"1274\",\"type\":\"ResetTool\"},{\"attributes\":{\"line_color\":\"red\",\"line_width\":2,\"x\":{\"field\":\"x\"},\"y\":{\"field\":\"y\"}},\"id\":\"1290\",\"type\":\"Line\"},{\"attributes\":{},\"id\":\"1322\",\"type\":\"BasicTickFormatter\"},{\"attributes\":{},\"id\":\"1324\",\"type\":\"AllLabels\"},{\"attributes\":{},\"id\":\"1326\",\"type\":\"UnionRenderers\"},{\"attributes\":{},\"id\":\"1327\",\"type\":\"Selection\"},{\"attributes\":{\"end\":10.0,\"start\":-5.0},\"id\":\"1254\",\"type\":\"Range1d\"}],\"root_ids\":[\"1251\"]},\"title\":\"Bokeh Application\",\"version\":\"2.3.3\"}};\n",
       "  var render_items = [{\"docid\":\"e7ed97d9-b420-49c7-a246-c0bffc59d061\",\"notebook_comms_target\":\"1330\",\"root_ids\":[\"1251\"],\"roots\":{\"1251\":\"3c63ea1e-7eca-491c-92bf-4bd28a52af0b\"}}];\n",
       "  root.Bokeh.embed.embed_items_notebook(docs_json, render_items);\n",
       "\n",
       "  }\n",
       "  if (root.Bokeh !== undefined) {\n",
       "    embed_document(root);\n",
       "  } else {\n",
       "    var attempts = 0;\n",
       "    var timer = setInterval(function(root) {\n",
       "      if (root.Bokeh !== undefined) {\n",
       "        clearInterval(timer);\n",
       "        embed_document(root);\n",
       "      } else {\n",
       "        attempts++;\n",
       "        if (attempts > 100) {\n",
       "          clearInterval(timer);\n",
       "          console.log(\"Bokeh: ERROR: Unable to run BokehJS code because BokehJS library is missing\");\n",
       "        }\n",
       "      }\n",
       "    }, 10, root)\n",
       "  }\n",
       "})(window);"
      ],
      "application/vnd.bokehjs_exec.v0+json": ""
     },
     "metadata": {
      "application/vnd.bokehjs_exec.v0+json": {
       "id": "1251"
      }
     },
     "output_type": "display_data"
    },
    {
     "data": {
      "application/vnd.jupyter.widget-view+json": {
       "model_id": "b4496fdc9e3c4b94862b5a11443fb4a3",
       "version_major": 2,
       "version_minor": 0
      },
      "text/plain": [
       "interactive(children=(IntSlider(value=0, description='degree', layout=Layout(width='100%'), max=17), Output())…"
      ]
     },
     "metadata": {},
     "output_type": "display_data"
    }
   ],
   "source": [
    "# allows to select a degree\n",
    "exp_widget = IntSlider(min=0, max=17,\n",
    "   layout=Layout(width='100%'))\n",
    "\n",
    "### ready to go\n",
    "exp_animator = Taylor(np.exp, np.linspace(-5, 10, 200))\n",
    "exp_animator.display((-15_000, 25000))\n",
    "exp_animator.interact(exp_widget)"
   ]
  },
  {
   "cell_type": "markdown",
   "id": "de8dba50",
   "metadata": {},
   "source": [
    "## quelques indices"
   ]
  },
  {
   "cell_type": "markdown",
   "id": "d63599d8",
   "metadata": {},
   "source": [
    "### affichage"
   ]
  },
  {
   "cell_type": "markdown",
   "id": "cf882a83",
   "metadata": {},
   "source": [
    "Ici j'ai utilisé `bokeh`, mais on peut tout à fait arriver à quelque chose de similaire avec `matplotlib` sans aucun doute"
   ]
  },
  {
   "cell_type": "markdown",
   "id": "5b738a76",
   "metadata": {},
   "source": [
    "### conception"
   ]
  },
  {
   "cell_type": "markdown",
   "id": "d713325d",
   "metadata": {},
   "source": [
    "Ma classe `Taylor` s'inspire très exactement de la technique décrite dans le Complément #6 \"Autres bibliothèques de visualisation\", et notamment la classe `Animation`, modulo quelques renommages."
   ]
  },
  {
   "cell_type": "markdown",
   "id": "ee801861",
   "metadata": {},
   "source": [
    "### calcul de dérivées avec `autograd`"
   ]
  },
  {
   "cell_type": "markdown",
   "id": "bb2d4a6a",
   "metadata": {},
   "source": [
    "La seule fonction que j'ai utilisée de la bibliothèque `autograd` est `grad` :"
   ]
  },
  {
   "cell_type": "code",
   "execution_count": 11,
   "id": "80e32521",
   "metadata": {},
   "outputs": [],
   "source": [
    "from autograd import grad"
   ]
  },
  {
   "cell_type": "code",
   "execution_count": 12,
   "id": "760a515d",
   "metadata": {},
   "outputs": [
    {
     "data": {
      "text/plain": [
       "0.0"
      ]
     },
     "execution_count": 12,
     "metadata": {},
     "output_type": "execute_result"
    }
   ],
   "source": [
    "# dans le cas de sinus par exemple\n",
    "# les dérivées successives en 0 se retrouvent comme ceci\n",
    "f = np.sin  # à nouveau cette fonction est autograd.numpy.sin\n",
    "f(0.)"
   ]
  },
  {
   "cell_type": "code",
   "execution_count": 13,
   "id": "ce72d8f8",
   "metadata": {
    "cell_style": "split"
   },
   "outputs": [
    {
     "data": {
      "text/plain": [
       "1.0"
      ]
     },
     "execution_count": 13,
     "metadata": {},
     "output_type": "execute_result"
    }
   ],
   "source": [
    "# ordre 1\n",
    "f1 = grad(f)\n",
    "f1(0.)"
   ]
  },
  {
   "cell_type": "code",
   "execution_count": 14,
   "id": "f5fd3825",
   "metadata": {
    "cell_style": "split"
   },
   "outputs": [
    {
     "data": {
      "text/plain": [
       "-0.0"
      ]
     },
     "execution_count": 14,
     "metadata": {},
     "output_type": "execute_result"
    }
   ],
   "source": [
    "# ordre 2\n",
    "f2 = grad(f1)\n",
    "f2(0.)"
   ]
  },
  {
   "cell_type": "markdown",
   "id": "fabb1b95",
   "metadata": {},
   "source": [
    "## votre implémentation"
   ]
  },
  {
   "cell_type": "markdown",
   "id": "92cfb944",
   "metadata": {},
   "source": [
    "Je vous invite à écrire votre propre implémentation, qui se comporte en gros comme notre classe `Taylor`.\n",
    "\n",
    "Vous pouvez naturellement simplifier autant que vous le souhaitez, ou modifier la signature comme vous le sentez (pensez alors à modifier aussi la cellule de test).\n",
    "\n",
    "À titre indicatif ma classe `Taylor` fait environ 30 lignes de code utile, i.e. sans compter les lignes blanches, les docstrings et les commentaires."
   ]
  },
  {
   "cell_type": "code",
   "execution_count": 15,
   "id": "f870c0f7",
   "metadata": {},
   "outputs": [],
   "source": [
    "# à vous de jouer\n",
    "\n",
    "class MyTaylor:\n",
    "    def __init__(self, function, domain):\n",
    "        ...\n",
    "    def display(self, y_range):\n",
    "        # là on veut créer le dessin original, c'est à dire\n",
    "        # la figure, la courbe de f qui ne chagera plus,\n",
    "        # et la courbe approchée avec disons n=0 (donc y=f(0))\n",
    "        ...\n",
    "    def _update(self, n):\n",
    "        # modifier la courbe approximative avec Taylor à l'ordre n\n",
    "        # je vous recommande de créer cette méthode privée\n",
    "        # pour pouvoir l'appeler dans interact()\n",
    "        ...\n",
    "    def interact(self, widget):\n",
    "        # là clairement il va y avoir un appel à \n",
    "        # interact() de ipywidgets\n",
    "        print(\"inactive for now\")"
   ]
  },
  {
   "cell_type": "code",
   "execution_count": 16,
   "id": "8a192b11",
   "metadata": {},
   "outputs": [
    {
     "name": "stdout",
     "output_type": "stream",
     "text": [
      "inactive for now\n"
     ]
    }
   ],
   "source": [
    "# testing MyTaylor on cosinus\n",
    "\n",
    "sinus_widget = IntSlider(\n",
    "   min=0, max=34, step=2,      # only even degrees\n",
    "   layout=Layout(width='100%'))\n",
    "\n",
    "### ready to go\n",
    "sinus_animator = MyTaylor(np.cos, DOMAIN)\n",
    "sinus_animator.display((-1.5, 1.5))\n",
    "sinus_animator.interact(sinus_widget)"
   ]
  }
 ],
 "metadata": {
  "jupytext": {
   "cell_metadata_filter": "all,-hidden,-heading_collapsed,-run_control,-trusted",
   "encoding": "# -*- coding: utf-8 -*-",
   "notebook_metadata_filter": "all,-language_info,-toc,-jupytext.text_representation.jupytext_version,-jupytext.text_representation.format_version",
   "text_representation": {
    "extension": ".md",
    "format_name": "myst"
   }
  },
  "kernelspec": {
   "display_name": "Python 3",
   "language": "python",
   "name": "python3"
  },
  "language_info": {
   "codemirror_mode": {
    "name": "ipython",
    "version": 3
   },
   "file_extension": ".py",
   "mimetype": "text/x-python",
   "name": "python",
   "nbconvert_exporter": "python",
   "pygments_lexer": "ipython3",
   "version": "3.9.6"
  },
  "nbhosting": {
   "title": "Exercice: Taylor"
  },
  "source_map": [
   15,
   19,
   23,
   37,
   43,
   47,
   55,
   59,
   63,
   69,
   74,
   78,
   82,
   86,
   162,
   166,
   169,
   173,
   178,
   184,
   188,
   192,
   197,
   205,
   210,
   214,
   218,
   228,
   232,
   241,
   245,
   249,
   253,
   257,
   261,
   265,
   269,
   273,
   280,
   288,
   294,
   298,
   306,
   328
  ],
  "widgets": {
   "application/vnd.jupyter.widget-state+json": {
    "state": {
     "03c00d9e29d54fc28433b06639a1b32b": {
      "model_module": "@jupyter-widgets/base",
      "model_module_version": "1.2.0",
      "model_name": "LayoutModel",
      "state": {
       "_model_module": "@jupyter-widgets/base",
       "_model_module_version": "1.2.0",
       "_model_name": "LayoutModel",
       "_view_count": null,
       "_view_module": "@jupyter-widgets/base",
       "_view_module_version": "1.2.0",
       "_view_name": "LayoutView",
       "align_content": null,
       "align_items": null,
       "align_self": null,
       "border": null,
       "bottom": null,
       "display": null,
       "flex": null,
       "flex_flow": null,
       "grid_area": null,
       "grid_auto_columns": null,
       "grid_auto_flow": null,
       "grid_auto_rows": null,
       "grid_column": null,
       "grid_gap": null,
       "grid_row": null,
       "grid_template_areas": null,
       "grid_template_columns": null,
       "grid_template_rows": null,
       "height": null,
       "justify_content": null,
       "justify_items": null,
       "left": null,
       "margin": null,
       "max_height": null,
       "max_width": null,
       "min_height": null,
       "min_width": null,
       "object_fit": null,
       "object_position": null,
       "order": null,
       "overflow": null,
       "overflow_x": null,
       "overflow_y": null,
       "padding": null,
       "right": null,
       "top": null,
       "visibility": null,
       "width": "100%"
      }
     },
     "1746b4746fe748b7828141b85a152bdc": {
      "model_module": "@jupyter-widgets/controls",
      "model_module_version": "1.5.0",
      "model_name": "IntSliderModel",
      "state": {
       "_dom_classes": [],
       "_model_module": "@jupyter-widgets/controls",
       "_model_module_version": "1.5.0",
       "_model_name": "IntSliderModel",
       "_view_count": null,
       "_view_module": "@jupyter-widgets/controls",
       "_view_module_version": "1.5.0",
       "_view_name": "IntSliderView",
       "continuous_update": true,
       "description": "degree",
       "description_tooltip": null,
       "disabled": false,
       "layout": "IPY_MODEL_03c00d9e29d54fc28433b06639a1b32b",
       "max": 33,
       "min": 1,
       "orientation": "horizontal",
       "readout": true,
       "readout_format": "d",
       "step": 2,
       "style": "IPY_MODEL_c06fb20102504292b50b31913f2f3c61",
       "value": 1
      }
     },
     "38e6a8dab42c47028600bd889220252b": {
      "model_module": "@jupyter-widgets/base",
      "model_module_version": "1.2.0",
      "model_name": "LayoutModel",
      "state": {
       "_model_module": "@jupyter-widgets/base",
       "_model_module_version": "1.2.0",
       "_model_name": "LayoutModel",
       "_view_count": null,
       "_view_module": "@jupyter-widgets/base",
       "_view_module_version": "1.2.0",
       "_view_name": "LayoutView",
       "align_content": null,
       "align_items": null,
       "align_self": null,
       "border": null,
       "bottom": null,
       "display": null,
       "flex": null,
       "flex_flow": null,
       "grid_area": null,
       "grid_auto_columns": null,
       "grid_auto_flow": null,
       "grid_auto_rows": null,
       "grid_column": null,
       "grid_gap": null,
       "grid_row": null,
       "grid_template_areas": null,
       "grid_template_columns": null,
       "grid_template_rows": null,
       "height": null,
       "justify_content": null,
       "justify_items": null,
       "left": null,
       "margin": null,
       "max_height": null,
       "max_width": null,
       "min_height": null,
       "min_width": null,
       "object_fit": null,
       "object_position": null,
       "order": null,
       "overflow": null,
       "overflow_x": null,
       "overflow_y": null,
       "padding": null,
       "right": null,
       "top": null,
       "visibility": null,
       "width": "100%"
      }
     },
     "44c80867db394f02a61ac76f651b9d3a": {
      "model_module": "@jupyter-widgets/controls",
      "model_module_version": "1.5.0",
      "model_name": "VBoxModel",
      "state": {
       "_dom_classes": [
        "widget-interact"
       ],
       "_model_module": "@jupyter-widgets/controls",
       "_model_module_version": "1.5.0",
       "_model_name": "VBoxModel",
       "_view_count": null,
       "_view_module": "@jupyter-widgets/controls",
       "_view_module_version": "1.5.0",
       "_view_name": "VBoxView",
       "box_style": "",
       "children": [
        "IPY_MODEL_1746b4746fe748b7828141b85a152bdc",
        "IPY_MODEL_451c4b4374574c1698a597621146fe62"
       ],
       "layout": "IPY_MODEL_c31efdac03174b48a00a96780dec1c88"
      }
     },
     "451c4b4374574c1698a597621146fe62": {
      "model_module": "@jupyter-widgets/output",
      "model_module_version": "1.0.0",
      "model_name": "OutputModel",
      "state": {
       "_dom_classes": [],
       "_model_module": "@jupyter-widgets/output",
       "_model_module_version": "1.0.0",
       "_model_name": "OutputModel",
       "_view_count": null,
       "_view_module": "@jupyter-widgets/output",
       "_view_module_version": "1.0.0",
       "_view_name": "OutputView",
       "layout": "IPY_MODEL_7a2ee24f8b2345088e405ad98bbced68",
       "msg_id": "",
       "outputs": []
      }
     },
     "4f9db387153e470c8e2fdfb727b0a156": {
      "model_module": "@jupyter-widgets/controls",
      "model_module_version": "1.5.0",
      "model_name": "IntSliderModel",
      "state": {
       "_dom_classes": [],
       "_model_module": "@jupyter-widgets/controls",
       "_model_module_version": "1.5.0",
       "_model_name": "IntSliderModel",
       "_view_count": null,
       "_view_module": "@jupyter-widgets/controls",
       "_view_module_version": "1.5.0",
       "_view_name": "IntSliderView",
       "continuous_update": true,
       "description": "degree",
       "description_tooltip": null,
       "disabled": false,
       "layout": "IPY_MODEL_bf7eaed64648455ca16a0750ebe81297",
       "max": 17,
       "min": 0,
       "orientation": "horizontal",
       "readout": true,
       "readout_format": "d",
       "step": 1,
       "style": "IPY_MODEL_736d1f54359d454e80bb3469b6b5c4bd",
       "value": 0
      }
     },
     "578542c0976f487ea0cbf01bbf0985f9": {
      "model_module": "@jupyter-widgets/base",
      "model_module_version": "1.2.0",
      "model_name": "LayoutModel",
      "state": {
       "_model_module": "@jupyter-widgets/base",
       "_model_module_version": "1.2.0",
       "_model_name": "LayoutModel",
       "_view_count": null,
       "_view_module": "@jupyter-widgets/base",
       "_view_module_version": "1.2.0",
       "_view_name": "LayoutView",
       "align_content": null,
       "align_items": null,
       "align_self": null,
       "border": null,
       "bottom": null,
       "display": null,
       "flex": null,
       "flex_flow": null,
       "grid_area": null,
       "grid_auto_columns": null,
       "grid_auto_flow": null,
       "grid_auto_rows": null,
       "grid_column": null,
       "grid_gap": null,
       "grid_row": null,
       "grid_template_areas": null,
       "grid_template_columns": null,
       "grid_template_rows": null,
       "height": null,
       "justify_content": null,
       "justify_items": null,
       "left": null,
       "margin": null,
       "max_height": null,
       "max_width": null,
       "min_height": null,
       "min_width": null,
       "object_fit": null,
       "object_position": null,
       "order": null,
       "overflow": null,
       "overflow_x": null,
       "overflow_y": null,
       "padding": null,
       "right": null,
       "top": null,
       "visibility": null,
       "width": null
      }
     },
     "57bc2476a58940da99bd808b8b638348": {
      "model_module": "@jupyter-widgets/controls",
      "model_module_version": "1.5.0",
      "model_name": "VBoxModel",
      "state": {
       "_dom_classes": [
        "widget-interact"
       ],
       "_model_module": "@jupyter-widgets/controls",
       "_model_module_version": "1.5.0",
       "_model_name": "VBoxModel",
       "_view_count": null,
       "_view_module": "@jupyter-widgets/controls",
       "_view_module_version": "1.5.0",
       "_view_name": "VBoxView",
       "box_style": "",
       "children": [
        "IPY_MODEL_e2282a800c00404daafa2a225e8da34d",
        "IPY_MODEL_dc43da82a1be4c08bbd362af6e83fb2c"
       ],
       "layout": "IPY_MODEL_578542c0976f487ea0cbf01bbf0985f9"
      }
     },
     "6cbb5d509bb74bbabf303c74c04e5812": {
      "model_module": "@jupyter-widgets/base",
      "model_module_version": "1.2.0",
      "model_name": "LayoutModel",
      "state": {
       "_model_module": "@jupyter-widgets/base",
       "_model_module_version": "1.2.0",
       "_model_name": "LayoutModel",
       "_view_count": null,
       "_view_module": "@jupyter-widgets/base",
       "_view_module_version": "1.2.0",
       "_view_name": "LayoutView",
       "align_content": null,
       "align_items": null,
       "align_self": null,
       "border": null,
       "bottom": null,
       "display": null,
       "flex": null,
       "flex_flow": null,
       "grid_area": null,
       "grid_auto_columns": null,
       "grid_auto_flow": null,
       "grid_auto_rows": null,
       "grid_column": null,
       "grid_gap": null,
       "grid_row": null,
       "grid_template_areas": null,
       "grid_template_columns": null,
       "grid_template_rows": null,
       "height": null,
       "justify_content": null,
       "justify_items": null,
       "left": null,
       "margin": null,
       "max_height": null,
       "max_width": null,
       "min_height": null,
       "min_width": null,
       "object_fit": null,
       "object_position": null,
       "order": null,
       "overflow": null,
       "overflow_x": null,
       "overflow_y": null,
       "padding": null,
       "right": null,
       "top": null,
       "visibility": null,
       "width": null
      }
     },
     "736d1f54359d454e80bb3469b6b5c4bd": {
      "model_module": "@jupyter-widgets/controls",
      "model_module_version": "1.5.0",
      "model_name": "SliderStyleModel",
      "state": {
       "_model_module": "@jupyter-widgets/controls",
       "_model_module_version": "1.5.0",
       "_model_name": "SliderStyleModel",
       "_view_count": null,
       "_view_module": "@jupyter-widgets/base",
       "_view_module_version": "1.2.0",
       "_view_name": "StyleView",
       "description_width": "",
       "handle_color": null
      }
     },
     "7a2ee24f8b2345088e405ad98bbced68": {
      "model_module": "@jupyter-widgets/base",
      "model_module_version": "1.2.0",
      "model_name": "LayoutModel",
      "state": {
       "_model_module": "@jupyter-widgets/base",
       "_model_module_version": "1.2.0",
       "_model_name": "LayoutModel",
       "_view_count": null,
       "_view_module": "@jupyter-widgets/base",
       "_view_module_version": "1.2.0",
       "_view_name": "LayoutView",
       "align_content": null,
       "align_items": null,
       "align_self": null,
       "border": null,
       "bottom": null,
       "display": null,
       "flex": null,
       "flex_flow": null,
       "grid_area": null,
       "grid_auto_columns": null,
       "grid_auto_flow": null,
       "grid_auto_rows": null,
       "grid_column": null,
       "grid_gap": null,
       "grid_row": null,
       "grid_template_areas": null,
       "grid_template_columns": null,
       "grid_template_rows": null,
       "height": null,
       "justify_content": null,
       "justify_items": null,
       "left": null,
       "margin": null,
       "max_height": null,
       "max_width": null,
       "min_height": null,
       "min_width": null,
       "object_fit": null,
       "object_position": null,
       "order": null,
       "overflow": null,
       "overflow_x": null,
       "overflow_y": null,
       "padding": null,
       "right": null,
       "top": null,
       "visibility": null,
       "width": null
      }
     },
     "a8f1412134684012ad7bf7881f7b2195": {
      "model_module": "@jupyter-widgets/output",
      "model_module_version": "1.0.0",
      "model_name": "OutputModel",
      "state": {
       "_dom_classes": [],
       "_model_module": "@jupyter-widgets/output",
       "_model_module_version": "1.0.0",
       "_model_name": "OutputModel",
       "_view_count": null,
       "_view_module": "@jupyter-widgets/output",
       "_view_module_version": "1.0.0",
       "_view_name": "OutputView",
       "layout": "IPY_MODEL_6cbb5d509bb74bbabf303c74c04e5812",
       "msg_id": "",
       "outputs": []
      }
     },
     "b4496fdc9e3c4b94862b5a11443fb4a3": {
      "model_module": "@jupyter-widgets/controls",
      "model_module_version": "1.5.0",
      "model_name": "VBoxModel",
      "state": {
       "_dom_classes": [
        "widget-interact"
       ],
       "_model_module": "@jupyter-widgets/controls",
       "_model_module_version": "1.5.0",
       "_model_name": "VBoxModel",
       "_view_count": null,
       "_view_module": "@jupyter-widgets/controls",
       "_view_module_version": "1.5.0",
       "_view_name": "VBoxView",
       "box_style": "",
       "children": [
        "IPY_MODEL_4f9db387153e470c8e2fdfb727b0a156",
        "IPY_MODEL_a8f1412134684012ad7bf7881f7b2195"
       ],
       "layout": "IPY_MODEL_fe9c78e376ec412195a762c13f315f7a"
      }
     },
     "bf7eaed64648455ca16a0750ebe81297": {
      "model_module": "@jupyter-widgets/base",
      "model_module_version": "1.2.0",
      "model_name": "LayoutModel",
      "state": {
       "_model_module": "@jupyter-widgets/base",
       "_model_module_version": "1.2.0",
       "_model_name": "LayoutModel",
       "_view_count": null,
       "_view_module": "@jupyter-widgets/base",
       "_view_module_version": "1.2.0",
       "_view_name": "LayoutView",
       "align_content": null,
       "align_items": null,
       "align_self": null,
       "border": null,
       "bottom": null,
       "display": null,
       "flex": null,
       "flex_flow": null,
       "grid_area": null,
       "grid_auto_columns": null,
       "grid_auto_flow": null,
       "grid_auto_rows": null,
       "grid_column": null,
       "grid_gap": null,
       "grid_row": null,
       "grid_template_areas": null,
       "grid_template_columns": null,
       "grid_template_rows": null,
       "height": null,
       "justify_content": null,
       "justify_items": null,
       "left": null,
       "margin": null,
       "max_height": null,
       "max_width": null,
       "min_height": null,
       "min_width": null,
       "object_fit": null,
       "object_position": null,
       "order": null,
       "overflow": null,
       "overflow_x": null,
       "overflow_y": null,
       "padding": null,
       "right": null,
       "top": null,
       "visibility": null,
       "width": "100%"
      }
     },
     "c06fb20102504292b50b31913f2f3c61": {
      "model_module": "@jupyter-widgets/controls",
      "model_module_version": "1.5.0",
      "model_name": "SliderStyleModel",
      "state": {
       "_model_module": "@jupyter-widgets/controls",
       "_model_module_version": "1.5.0",
       "_model_name": "SliderStyleModel",
       "_view_count": null,
       "_view_module": "@jupyter-widgets/base",
       "_view_module_version": "1.2.0",
       "_view_name": "StyleView",
       "description_width": "",
       "handle_color": null
      }
     },
     "c31efdac03174b48a00a96780dec1c88": {
      "model_module": "@jupyter-widgets/base",
      "model_module_version": "1.2.0",
      "model_name": "LayoutModel",
      "state": {
       "_model_module": "@jupyter-widgets/base",
       "_model_module_version": "1.2.0",
       "_model_name": "LayoutModel",
       "_view_count": null,
       "_view_module": "@jupyter-widgets/base",
       "_view_module_version": "1.2.0",
       "_view_name": "LayoutView",
       "align_content": null,
       "align_items": null,
       "align_self": null,
       "border": null,
       "bottom": null,
       "display": null,
       "flex": null,
       "flex_flow": null,
       "grid_area": null,
       "grid_auto_columns": null,
       "grid_auto_flow": null,
       "grid_auto_rows": null,
       "grid_column": null,
       "grid_gap": null,
       "grid_row": null,
       "grid_template_areas": null,
       "grid_template_columns": null,
       "grid_template_rows": null,
       "height": null,
       "justify_content": null,
       "justify_items": null,
       "left": null,
       "margin": null,
       "max_height": null,
       "max_width": null,
       "min_height": null,
       "min_width": null,
       "object_fit": null,
       "object_position": null,
       "order": null,
       "overflow": null,
       "overflow_x": null,
       "overflow_y": null,
       "padding": null,
       "right": null,
       "top": null,
       "visibility": null,
       "width": null
      }
     },
     "c8f131bb9f93490a8ebf34a4d09f506b": {
      "model_module": "@jupyter-widgets/controls",
      "model_module_version": "1.5.0",
      "model_name": "SliderStyleModel",
      "state": {
       "_model_module": "@jupyter-widgets/controls",
       "_model_module_version": "1.5.0",
       "_model_name": "SliderStyleModel",
       "_view_count": null,
       "_view_module": "@jupyter-widgets/base",
       "_view_module_version": "1.2.0",
       "_view_name": "StyleView",
       "description_width": "",
       "handle_color": null
      }
     },
     "cab5a1f5781242c7ba44c459a5dd7145": {
      "model_module": "@jupyter-widgets/controls",
      "model_module_version": "1.5.0",
      "model_name": "IntSliderModel",
      "state": {
       "_dom_classes": [],
       "_model_module": "@jupyter-widgets/controls",
       "_model_module_version": "1.5.0",
       "_model_name": "IntSliderModel",
       "_view_count": null,
       "_view_module": "@jupyter-widgets/controls",
       "_view_module_version": "1.5.0",
       "_view_name": "IntSliderView",
       "continuous_update": true,
       "description": "",
       "description_tooltip": null,
       "disabled": false,
       "layout": "IPY_MODEL_38e6a8dab42c47028600bd889220252b",
       "max": 34,
       "min": 0,
       "orientation": "horizontal",
       "readout": true,
       "readout_format": "d",
       "step": 2,
       "style": "IPY_MODEL_e220909dc6e34133a0e1044bcc410ac0",
       "value": 0
      }
     },
     "d9a478b0be604901b09c5e0859c39faa": {
      "model_module": "@jupyter-widgets/base",
      "model_module_version": "1.2.0",
      "model_name": "LayoutModel",
      "state": {
       "_model_module": "@jupyter-widgets/base",
       "_model_module_version": "1.2.0",
       "_model_name": "LayoutModel",
       "_view_count": null,
       "_view_module": "@jupyter-widgets/base",
       "_view_module_version": "1.2.0",
       "_view_name": "LayoutView",
       "align_content": null,
       "align_items": null,
       "align_self": null,
       "border": null,
       "bottom": null,
       "display": null,
       "flex": null,
       "flex_flow": null,
       "grid_area": null,
       "grid_auto_columns": null,
       "grid_auto_flow": null,
       "grid_auto_rows": null,
       "grid_column": null,
       "grid_gap": null,
       "grid_row": null,
       "grid_template_areas": null,
       "grid_template_columns": null,
       "grid_template_rows": null,
       "height": null,
       "justify_content": null,
       "justify_items": null,
       "left": null,
       "margin": null,
       "max_height": null,
       "max_width": null,
       "min_height": null,
       "min_width": null,
       "object_fit": null,
       "object_position": null,
       "order": null,
       "overflow": null,
       "overflow_x": null,
       "overflow_y": null,
       "padding": null,
       "right": null,
       "top": null,
       "visibility": null,
       "width": null
      }
     },
     "dc43da82a1be4c08bbd362af6e83fb2c": {
      "model_module": "@jupyter-widgets/output",
      "model_module_version": "1.0.0",
      "model_name": "OutputModel",
      "state": {
       "_dom_classes": [],
       "_model_module": "@jupyter-widgets/output",
       "_model_module_version": "1.0.0",
       "_model_name": "OutputModel",
       "_view_count": null,
       "_view_module": "@jupyter-widgets/output",
       "_view_module_version": "1.0.0",
       "_view_name": "OutputView",
       "layout": "IPY_MODEL_d9a478b0be604901b09c5e0859c39faa",
       "msg_id": "",
       "outputs": []
      }
     },
     "e220909dc6e34133a0e1044bcc410ac0": {
      "model_module": "@jupyter-widgets/controls",
      "model_module_version": "1.5.0",
      "model_name": "SliderStyleModel",
      "state": {
       "_model_module": "@jupyter-widgets/controls",
       "_model_module_version": "1.5.0",
       "_model_name": "SliderStyleModel",
       "_view_count": null,
       "_view_module": "@jupyter-widgets/base",
       "_view_module_version": "1.2.0",
       "_view_name": "StyleView",
       "description_width": "",
       "handle_color": null
      }
     },
     "e2282a800c00404daafa2a225e8da34d": {
      "model_module": "@jupyter-widgets/controls",
      "model_module_version": "1.5.0",
      "model_name": "IntSliderModel",
      "state": {
       "_dom_classes": [],
       "_model_module": "@jupyter-widgets/controls",
       "_model_module_version": "1.5.0",
       "_model_name": "IntSliderModel",
       "_view_count": null,
       "_view_module": "@jupyter-widgets/controls",
       "_view_module_version": "1.5.0",
       "_view_name": "IntSliderView",
       "continuous_update": true,
       "description": "degree",
       "description_tooltip": null,
       "disabled": false,
       "layout": "IPY_MODEL_febf3a002f2c4d8f87a07b7fa2ccc779",
       "max": 34,
       "min": 0,
       "orientation": "horizontal",
       "readout": true,
       "readout_format": "d",
       "step": 2,
       "style": "IPY_MODEL_c8f131bb9f93490a8ebf34a4d09f506b",
       "value": 0
      }
     },
     "fe9c78e376ec412195a762c13f315f7a": {
      "model_module": "@jupyter-widgets/base",
      "model_module_version": "1.2.0",
      "model_name": "LayoutModel",
      "state": {
       "_model_module": "@jupyter-widgets/base",
       "_model_module_version": "1.2.0",
       "_model_name": "LayoutModel",
       "_view_count": null,
       "_view_module": "@jupyter-widgets/base",
       "_view_module_version": "1.2.0",
       "_view_name": "LayoutView",
       "align_content": null,
       "align_items": null,
       "align_self": null,
       "border": null,
       "bottom": null,
       "display": null,
       "flex": null,
       "flex_flow": null,
       "grid_area": null,
       "grid_auto_columns": null,
       "grid_auto_flow": null,
       "grid_auto_rows": null,
       "grid_column": null,
       "grid_gap": null,
       "grid_row": null,
       "grid_template_areas": null,
       "grid_template_columns": null,
       "grid_template_rows": null,
       "height": null,
       "justify_content": null,
       "justify_items": null,
       "left": null,
       "margin": null,
       "max_height": null,
       "max_width": null,
       "min_height": null,
       "min_width": null,
       "object_fit": null,
       "object_position": null,
       "order": null,
       "overflow": null,
       "overflow_x": null,
       "overflow_y": null,
       "padding": null,
       "right": null,
       "top": null,
       "visibility": null,
       "width": null
      }
     },
     "febf3a002f2c4d8f87a07b7fa2ccc779": {
      "model_module": "@jupyter-widgets/base",
      "model_module_version": "1.2.0",
      "model_name": "LayoutModel",
      "state": {
       "_model_module": "@jupyter-widgets/base",
       "_model_module_version": "1.2.0",
       "_model_name": "LayoutModel",
       "_view_count": null,
       "_view_module": "@jupyter-widgets/base",
       "_view_module_version": "1.2.0",
       "_view_name": "LayoutView",
       "align_content": null,
       "align_items": null,
       "align_self": null,
       "border": null,
       "bottom": null,
       "display": null,
       "flex": null,
       "flex_flow": null,
       "grid_area": null,
       "grid_auto_columns": null,
       "grid_auto_flow": null,
       "grid_auto_rows": null,
       "grid_column": null,
       "grid_gap": null,
       "grid_row": null,
       "grid_template_areas": null,
       "grid_template_columns": null,
       "grid_template_rows": null,
       "height": null,
       "justify_content": null,
       "justify_items": null,
       "left": null,
       "margin": null,
       "max_height": null,
       "max_width": null,
       "min_height": null,
       "min_width": null,
       "object_fit": null,
       "object_position": null,
       "order": null,
       "overflow": null,
       "overflow_x": null,
       "overflow_y": null,
       "padding": null,
       "right": null,
       "top": null,
       "visibility": null,
       "width": "100%"
      }
     }
    },
    "version_major": 2,
    "version_minor": 0
   }
  }
 },
 "nbformat": 4,
 "nbformat_minor": 5
}