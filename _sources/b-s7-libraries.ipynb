{
 "cells": [
  {
   "cell_type": "markdown",
   "id": "84295b70",
   "metadata": {},
   "source": [
    "<span style=\"float:left;\">Licence CC BY-NC-ND</span><span style=\"float:right;\">Thierry Parmentelat<img src=\"media/inria-25-alpha.png\" style=\"display:inline\"></span><br/>"
   ]
  },
  {
   "cell_type": "markdown",
   "id": "696deccd",
   "metadata": {
    "slideshow": {
     "slide_type": "slide"
    }
   },
   "source": [
    "# les librairies disponibles"
   ]
  },
  {
   "cell_type": "code",
   "execution_count": 1,
   "id": "f6cd5039",
   "metadata": {
    "slideshow": {
     "slide_type": "fragment"
    }
   },
   "outputs": [],
   "source": [
    "import asyncio"
   ]
  },
  {
   "cell_type": "markdown",
   "id": "348258a0",
   "metadata": {},
   "source": [
    "à ce stade vous avez les bases pour pouvoir utiliser les parties vraiment utiles de la librairie `asyncio`, ainsi d'ailleurs que tout l'écosystème qui s'est construit autour"
   ]
  },
  {
   "cell_type": "markdown",
   "id": "c672cf2b",
   "metadata": {},
   "source": [
    "## `asyncio`"
   ]
  },
  {
   "cell_type": "markdown",
   "id": "55c8f576",
   "metadata": {},
   "source": [
    "Le contenu de la `asyncio` est assez hétérogène en fait, car on y trouve\n",
    "\n",
    "* la boucle d'événements dont a parlé dans la séquence précédente\n",
    "* un objet du type 'Queue' pour gérer les accès concurrents\n",
    "* mais aussi - heureusement - des outils qui adressent spécifiquement des interactions avec le système d'exploitation, notamment en ce qui concerne\n",
    "  * la gestion des sous-processus\n",
    "  * le réseau, notamment seulement les couches basses (TCP/IP)"
   ]
  },
  {
   "cell_type": "markdown",
   "id": "51374b34",
   "metadata": {},
   "source": [
    "## autres"
   ]
  },
  {
   "cell_type": "markdown",
   "id": "9ecc8eb2",
   "metadata": {},
   "source": [
    "Pour tous usages de plus haut niveau - par exemple si vous voulez faire du HTTP, ou du SSH, ou tout autre - il vous faudra installer des librairies supplémentaires comme par exemple\n",
    "\n",
    "* `oifiles` pour accéder aux fichiers de l'ordinateur d'une façon compatible avec le paradigme qu'on étudie\n",
    "* `aiohttp` qu'on a utilisée pour nos premiers exemples\n",
    "* `asyncssh` pour contrôler plein de machines en même temps avec une seule connexion ssh\n",
    "* `asyncpg` pour dialoguer de façon asynchrone avec une base de données postgresql,\n",
    "* ..."
   ]
  },
  {
   "cell_type": "markdown",
   "id": "e7c4a58e",
   "metadata": {},
   "source": [
    "## `Queue`"
   ]
  },
  {
   "cell_type": "markdown",
   "id": "cff44280",
   "metadata": {},
   "source": [
    "Pour montrer un petit exemple d'utilisation de la classe `Queue`, on va implémenter un mécanisme de 'throttle' qui permet de limiter le nombre de trucs qui tournent en même temps\n",
    "\n",
    "Comme toujours je prends un exemple bidon; chaque tâche appelle notre utilitaire `sequence`"
   ]
  },
  {
   "cell_type": "code",
   "execution_count": 2,
   "id": "932cca07",
   "metadata": {},
   "outputs": [],
   "source": [
    "from asynchelpers import start_timer, show_timer, sequence"
   ]
  },
  {
   "cell_type": "code",
   "execution_count": 3,
   "id": "ac189743",
   "metadata": {},
   "outputs": [],
   "source": [
    "async def job(name):\n",
    "    await sequence(name, delay=2)"
   ]
  },
  {
   "cell_type": "markdown",
   "id": "7bdb586d",
   "metadata": {},
   "source": [
    "Imaginons maintenant que j'ai plein de jobs de ce genre"
   ]
  },
  {
   "cell_type": "code",
   "execution_count": 4,
   "id": "1eddd165",
   "metadata": {},
   "outputs": [],
   "source": [
    "# lancer n jobs indentiques en parallèle\n",
    "async def hurd(nbjobs):\n",
    "    await asyncio.gather(*(job(f\"job #{i+1:03d}\") for i in range(nbjobs)))"
   ]
  },
  {
   "cell_type": "markdown",
   "id": "9156ced4",
   "metadata": {},
   "source": [
    "Qaudn je les lance tous ensemble, ça donne ceci"
   ]
  },
  {
   "cell_type": "code",
   "execution_count": 5,
   "id": "7dc815a4",
   "metadata": {},
   "outputs": [
    {
     "name": "stdout",
     "output_type": "stream",
     "text": [
      "---------- zero\n",
      "0s + 000ms >>> job #001\n",
      "0s + 000ms >>> job #002\n",
      "0s + 001ms >>> job #003\n",
      "0s + 001ms >>> job #004\n",
      "0s + 002ms >>> job #005\n",
      "0s + 002ms >>> job #006\n",
      "0s + 002ms >>> job #007\n",
      "0s + 003ms >>> job #008\n"
     ]
    },
    {
     "name": "stdout",
     "output_type": "stream",
     "text": [
      "2s + 001ms <<< job #001\n",
      "2s + 001ms <<< job #002\n",
      "2s + 002ms <<< job #003\n",
      "2s + 003ms <<< job #004\n",
      "2s + 003ms <<< job #005\n",
      "2s + 003ms <<< job #006\n",
      "2s + 004ms <<< job #007\n",
      "2s + 004ms <<< job #008\n"
     ]
    }
   ],
   "source": [
    "start_timer()\n",
    "await hurd(8)"
   ]
  },
  {
   "cell_type": "markdown",
   "id": "3d0f4111",
   "metadata": {},
   "source": [
    "OK; maintenant disons que je veux limiter le nombre de jobs actifs à un instant t\n",
    "\n",
    "Pour ne pas devoir faire une arithmétique compliquée, je vais juste utiliser une queue"
   ]
  },
  {
   "cell_type": "code",
   "execution_count": 6,
   "id": "564d3795",
   "metadata": {},
   "outputs": [],
   "source": [
    "# l'objet queue s'ssure qu'il n'y a pas plus de n jetons pris à un instant t\n",
    "\n",
    "async def job2(name, queue):\n",
    "    # j'occupe une place dans la queue\n",
    "    await queue.put(1)\n",
    "    await sequence(name, delay=2)\n",
    "    # je la libère\n",
    "    await queue.get()    "
   ]
  },
  {
   "cell_type": "code",
   "execution_count": 7,
   "id": "279ed830",
   "metadata": {},
   "outputs": [],
   "source": [
    "# maintenant il me suffit de créer la queue avec la taille qui va bien\n",
    "\n",
    "async def hurd2(n, throttle):\n",
    "    queue = asyncio.Queue(throttle)\n",
    "    await asyncio.gather(*(job2(f\"job #{i+1:03d}\", queue) for i in range(n)))"
   ]
  },
  {
   "cell_type": "code",
   "execution_count": 8,
   "id": "8867a566",
   "metadata": {},
   "outputs": [
    {
     "name": "stdout",
     "output_type": "stream",
     "text": [
      "---------- zero\n",
      "0s + 000ms >>> job #001\n",
      "0s + 000ms >>> job #002\n",
      "0s + 000ms >>> job #003\n",
      "0s + 000ms >>> job #004\n",
      "0s + 000ms >>> job #005\n",
      "0s + 000ms >>> job #006\n",
      "0s + 000ms >>> job #007\n",
      "0s + 000ms >>> job #008\n"
     ]
    },
    {
     "name": "stdout",
     "output_type": "stream",
     "text": [
      "2s + 003ms <<< job #001\n",
      "2s + 003ms <<< job #002\n",
      "2s + 004ms <<< job #003\n",
      "2s + 004ms <<< job #004\n",
      "2s + 004ms <<< job #005\n",
      "2s + 004ms <<< job #006\n",
      "2s + 004ms <<< job #007\n",
      "2s + 004ms <<< job #008\n",
      "2s + 004ms >>> job #009\n",
      "2s + 004ms >>> job #010\n",
      "2s + 004ms >>> job #011\n",
      "2s + 005ms >>> job #012\n"
     ]
    },
    {
     "name": "stdout",
     "output_type": "stream",
     "text": [
      "4s + 007ms <<< job #009\n",
      "4s + 007ms <<< job #010\n",
      "4s + 007ms <<< job #011\n",
      "4s + 009ms <<< job #012\n"
     ]
    }
   ],
   "source": [
    "# et maintenant je n'ai que 'throttle' jobs qui tournent en même temps\n",
    "start_timer()\n",
    "await hurd2(12, 8)"
   ]
  },
  {
   "cell_type": "markdown",
   "id": "cac358ed",
   "metadata": {},
   "source": [
    "## réseau"
   ]
  },
  {
   "cell_type": "markdown",
   "id": "7c3126b0",
   "metadata": {},
   "source": [
    "je tire cet exemple de la doc Python ici\n",
    "https://docs.python.org/3/library/asyncio-stream.html#tcp-echo-client-using-streams\n",
    "\n",
    "ça devrait résonner par rapport au dernier cours de Basile Marchand..."
   ]
  },
  {
   "cell_type": "markdown",
   "id": "37fd6454",
   "metadata": {},
   "source": [
    "### serveur TCP"
   ]
  },
  {
   "cell_type": "code",
   "execution_count": 9,
   "id": "f934996e",
   "metadata": {},
   "outputs": [],
   "source": [
    "import asyncio\n",
    "\n",
    "async def handle_echo(reader, writer):\n",
    "    data = await reader.read(100)\n",
    "    message = data.decode()\n",
    "    addr = writer.get_extra_info('peername')\n",
    "\n",
    "    print(f\"server Received {message!r} from {addr!r}\")\n",
    "    \n",
    "    # simulate a small delay\n",
    "    await asyncio.sleep(1)\n",
    "\n",
    "    print(f\"server Send: {message!r}\")\n",
    "    writer.write(data)\n",
    "    await writer.drain()\n",
    "\n",
    "    print(\"server Close the connection\")\n",
    "    writer.close()"
   ]
  },
  {
   "cell_type": "code",
   "execution_count": 10,
   "id": "388d02b9",
   "metadata": {},
   "outputs": [],
   "source": [
    "async def server_mainloop(port):\n",
    "    server = await asyncio.start_server(\n",
    "        handle_echo, '127.0.0.1', port)\n",
    "\n",
    "    addr = server.sockets[0].getsockname()\n",
    "    print(f'Serving on {addr}')\n",
    "\n",
    "    async with server:\n",
    "        await server.serve_forever()"
   ]
  },
  {
   "cell_type": "code",
   "execution_count": 11,
   "id": "02358532",
   "metadata": {},
   "outputs": [],
   "source": [
    "server_task = asyncio.ensure_future(server_mainloop(8080))"
   ]
  },
  {
   "cell_type": "code",
   "execution_count": 12,
   "id": "8e88c229",
   "metadata": {},
   "outputs": [
    {
     "name": "stdout",
     "output_type": "stream",
     "text": [
      "Serving on ('127.0.0.1', 8080)\n"
     ]
    }
   ],
   "source": [
    "# comme on l'a vu, si ça se passe mal on n'a pas de retour\n",
    "if server_task.done():\n",
    "    print(server_task.exception())"
   ]
  },
  {
   "cell_type": "code",
   "execution_count": 13,
   "id": "08d80af7",
   "metadata": {},
   "outputs": [],
   "source": [
    "# pour arrêter le serveur\n",
    "# server_task.cancel()"
   ]
  },
  {
   "cell_type": "markdown",
   "id": "acf48d18",
   "metadata": {},
   "source": [
    "### client"
   ]
  },
  {
   "cell_type": "markdown",
   "id": "a31df20f",
   "metadata": {},
   "source": [
    "maintenant que le serveur tourne je peux lancer des clients"
   ]
  },
  {
   "cell_type": "code",
   "execution_count": 14,
   "id": "aa2f5faa",
   "metadata": {},
   "outputs": [],
   "source": [
    "import asyncio\n",
    "\n",
    "async def tcp_echo_client(port, message):\n",
    "    reader, writer = await asyncio.open_connection(\n",
    "        '127.0.0.1', port)\n",
    "\n",
    "    print(f'client Send: {message!r}')\n",
    "    writer.write(message.encode())\n",
    "\n",
    "    data = await reader.read(100)\n",
    "    print(f'client Received: {data.decode()!r}')\n",
    "\n",
    "    print('Close the connection')\n",
    "    writer.close()"
   ]
  },
  {
   "cell_type": "code",
   "execution_count": 15,
   "id": "50852816",
   "metadata": {
    "scrolled": true
   },
   "outputs": [
    {
     "data": {
      "text/plain": [
       "<Task pending name='Task-27' coro=<tcp_echo_client() running at /tmp/ipykernel_2301/2125229441.py:3>>"
      ]
     },
     "execution_count": 15,
     "metadata": {},
     "output_type": "execute_result"
    }
   ],
   "source": [
    "# un seul client \n",
    "asyncio.ensure_future(tcp_echo_client(8080, \"Hey\"))"
   ]
  },
  {
   "cell_type": "code",
   "execution_count": 16,
   "id": "7ebd91e4",
   "metadata": {},
   "outputs": [
    {
     "name": "stdout",
     "output_type": "stream",
     "text": [
      "client Send: 'Hey'\n",
      "server Received 'Hey' from ('127.0.0.1', 58268)\n"
     ]
    }
   ],
   "source": [
    "async def hurd(nb_clients):\n",
    "    await asyncio.gather(*(tcp_echo_client(8080, f\"client#{i:03d}\") for i in range(nb_clients)))"
   ]
  },
  {
   "cell_type": "code",
   "execution_count": 17,
   "id": "4f6c71d7",
   "metadata": {
    "scrolled": false
   },
   "outputs": [],
   "source": [
    "client_task = asyncio.ensure_future(hurd(30))"
   ]
  },
  {
   "cell_type": "markdown",
   "id": "dfb94953",
   "metadata": {},
   "source": [
    "## et plus..."
   ]
  },
  {
   "cell_type": "markdown",
   "id": "01a86269",
   "metadata": {},
   "source": [
    "Pour ceux qui voudraient en savoir plus, je vous invite à consulter la semaine 8 du MOOC Python sur fun-mooc.fr, et notamment\n",
    "\n",
    "* la séquence 8 où on montre un exemple de gestion de sous-processus\n",
    "* pour les geeks la séquence 5 où j'explique la mécanique interne de la boucle d'événements"
   ]
  }
 ],
 "metadata": {
  "jupytext": {
   "cell_metadata_filter": "all,-hidden,-heading_collapsed,-run_control,-trusted",
   "notebook_metadata_filter": "all,-language_info,-toc,-jupytext.text_representation.jupytext_version,-jupytext.text_representation.format_version",
   "text_representation": {
    "extension": ".md",
    "format_name": "myst"
   }
  },
  "kernelspec": {
   "display_name": "Python 3",
   "language": "python",
   "name": "python3"
  },
  "language_info": {
   "codemirror_mode": {
    "name": "ipython",
    "version": 3
   },
   "file_extension": ".py",
   "mimetype": "text/x-python",
   "name": "python",
   "nbconvert_exporter": "python",
   "pygments_lexer": "ipython3",
   "version": "3.9.6"
  },
  "nbhosting": {
   "title": "les librairies"
  },
  "source_map": [
   14,
   18,
   22,
   28,
   32,
   36,
   46,
   50,
   60,
   64,
   70,
   74,
   77,
   81,
   85,
   89,
   92,
   98,
   109,
   117,
   121,
   125,
   132,
   136,
   157,
   169,
   173,
   179,
   182,
   186,
   190,
   207,
   214,
   219,
   223,
   227
  ]
 },
 "nbformat": 4,
 "nbformat_minor": 5
}