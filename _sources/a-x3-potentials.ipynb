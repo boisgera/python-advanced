{
 "cells": [
  {
   "cell_type": "markdown",
   "id": "d904644f",
   "metadata": {},
   "source": [
    "# Tracés de champs de vitesses\n",
    "\n",
    "On se propose dans ce notebook d'utiliser le mécanisme d'`interact` pour réprésenter des champs de vitesse dérivant de potentiels complexes. Pour rappel, on écrit un potentiel complexe comme suit : \n",
    "\n",
    "\\begin{equation}\n",
    " f(z) = \\phi(z) + i \\psi (z)\n",
    "\\end{equation}\n",
    "\n",
    "Où les fonctions $\\phi$ et $\\psi$ sont harmoniques (à Laplacien nul). Cette écriture permet de représenter des écoulants plans incompressibles et irrotationnels. En dérivant ce potentiel par rappord à la variable complexe $z=x + iy$ on obtient les composantes du champ des vitesses associé : \n",
    "\\begin{equation}\n",
    " f'(z) = \\frac{\\partial f}{\\partial x} = -i \\frac{\\partial f}{\\partial y}=u - i v\n",
    "\\end{equation}\n",
    "\n",
    "On peut directement remonter à $u$ et $v$ à partir de la partie réelle ou imaginaire du potentiel:\n",
    "\\begin{eqnarray}\n",
    " u = \\frac{\\partial \\phi}{\\partial x} = \\frac{\\partial \\psi}{\\partial y}\\\\\n",
    " v = \\frac{\\partial \\phi}{\\partial y} = -\\frac{\\partial \\psi}{\\partial x}\n",
    "\\end{eqnarray}\n",
    "\n",
    "\n",
    "## Un exemple en statique\n",
    "\n",
    "On s'intéresse ici à un potentiel exponentiel à la forme extrêmement simple. Il se met sous la forme : \n",
    "\\begin{equation}\n",
    "f(z) = V_0 \\exp(-i\\theta)z = \\phi(z) + i \\psi(z)\n",
    "\\end{equation}\n",
    "alors on a : \n",
    "\\begin{equation}\n",
    "f'(z) = V_0\\exp(-i\\theta) = V_0(\\cos\\theta - i\\sin\\theta) = u -iv\n",
    "\\end{equation}\n",
    "et le champ de vitesse est de la forme : \n",
    "\\begin{equation}\n",
    "u = V_0\\cos(\\theta) \\quad ; \\quad v = V_0\\sin(\\theta)\n",
    "\\end{equation}"
   ]
  },
  {
   "cell_type": "code",
   "execution_count": null,
   "id": "5c5faa97",
   "metadata": {},
   "outputs": [],
   "source": [
    "%matplotlib inline\n",
    "import numpy as np\n",
    "import matplotlib.pyplot as plt\n",
    "\n",
    "# Les deux paramètres de notre champ\n",
    "V0 = 1.\n",
    "alpha = np.pi/4.\n",
    "\n",
    "# On va tracer dans le carré [-1, 1]x[-1, 1] \n",
    "X = np.linspace(-1., 1., 20)\n",
    "\n",
    "# Construction d'un maillage. Ce sera un tableau dont la forme sera (X.size, X.size).\n",
    "XX, YY = np.meshgrid(X, X)\n",
    "\n",
    "# Dans ce cas très particulier, le vecteur vitesse ne dépend pas de la position.\n",
    "u = np.full_like(XX, V0*np.cos(alpha))\n",
    "v = np.full_like(YY, V0*np.sin(alpha))\n",
    "\n",
    "# Calcul de la norme, ici on pourrait remplir directement le tableau avec V0 mais c'est\n",
    "# un cas très particulier.\n",
    "n = np.sqrt(np.square(u)+np.square(v))\n",
    "\n",
    "# Création de la figure\n",
    "fig = plt.figure(figsize=(10., 10.))\n",
    "ax = fig.add_subplot(111, aspect=1.)\n",
    "ax.grid(True)\n",
    "ax.set_xlabel(\"Position x\", fontsize=16.)\n",
    "ax.set_ylabel(\"Position y\", fontsize=16.) \n",
    "# Quiver = carquois en anglais\n",
    "# ax.quiver(posx, posy, dx, dy, n)\n",
    "# posx, posy position du vecteur\n",
    "# dx, dy coordonnées du vecteur\n",
    "# n norme (pour la coloration)\n",
    "# Ici on ne trace que des vecteur de norme 1 pour plus de lisibilité.\n",
    "ax.quiver(XX, YY, u/n, v/n, n)\n",
    "plt.show()"
   ]
  },
  {
   "cell_type": "markdown",
   "id": "592376b8",
   "metadata": {},
   "source": [
    "## Passage en interactif\n",
    "Comme première partie d'exercice, vous pouvez passer le tracé de ce graphe en interactif. Puisque l'on trace des vecteurs normalisés, vous ne verrez pas d'impact de la valeur de $V0$."
   ]
  },
  {
   "cell_type": "code",
   "execution_count": null,
   "id": "d216d35f",
   "metadata": {},
   "outputs": [],
   "source": [
    "from ipywidgets import interact, FloatSlider\n",
    "\n",
    "# À vous de jouer ! "
   ]
  },
  {
   "cell_type": "markdown",
   "id": "cd683c62",
   "metadata": {},
   "source": [
    "## Implémentations des potentiels\n",
    "\n",
    "L'objectif du TP est de construire des interfaces de visualisations de champs de vitesses, obtenus en superposant plusieurs champs issus de différents potentiels. La première étape est d'implémenter les différents potentiels. Suivez l'exemple du potentiel `flow` ci-dessous."
   ]
  },
  {
   "cell_type": "code",
   "execution_count": null,
   "id": "32782d29",
   "metadata": {},
   "outputs": [],
   "source": [
    "def flow(x, y, V0, alpha):\n",
    "    # Le potentiel précédent, déjà implémenté.\n",
    "    u = np.full_like(x, V0*np.cos(np.radians(alpha)))\n",
    "    v = np.full_like(y, V0*np.sin(np.radians(alpha)))\n",
    "    return u, v"
   ]
  },
  {
   "cell_type": "markdown",
   "id": "63581596",
   "metadata": {},
   "source": [
    "### Source ponctuelle ou puit ponctuel\n",
    "Considérons maintenant un potentiel de la forme\n",
    "\\begin{equation}\n",
    "f(z) = \\frac{\\varepsilon D}{2\\pi}\\log(z-z_0) = \\frac{\\varepsilon D}{2\\pi}\\left(\\log(|z-z_0|)+i(\\arg(z)-\\arg(z_0))\\right)\n",
    "\\end{equation}\n",
    "Il vient :\n",
    "\\begin{equation}\n",
    " u = \\frac{\\partial \\varphi}{\\partial x} = \\frac{\\varepsilon D}{2\\pi} \\frac{x}{x^2+y^2} \\quad ; \\quad v = \\frac{\\partial \\varphi}{\\partial y} = \\frac{\\varepsilon D}{2\\pi} \\frac{y}{x^2+y^2} \n",
    "\\end{equation}\n",
    "En fonction du signe de $\\varepsilon\\in\\{1, -1\\}$ on a soit un puits soit une source de débit $D>0 $."
   ]
  },
  {
   "cell_type": "code",
   "execution_count": null,
   "id": "6310c16c",
   "metadata": {},
   "outputs": [],
   "source": [
    "def ponctual(x, y, eps=1.,  D=1., hx=0., hy=0.):\n",
    "    # À vous de jouer ! \n",
    "    return u, v"
   ]
  },
  {
   "cell_type": "markdown",
   "id": "2708b889",
   "metadata": {},
   "source": [
    "## Le tourbillon\n",
    "Considérons maintenant un potentiel de la forme\n",
    "\\begin{equation}\n",
    "f(z) = i\\frac{\\varepsilon\\Gamma}{2\\pi}\\log(z-z_0) = \\frac{\\varepsilon\\Gamma}{2\\pi}\\left(i\\log(|z-z_0|)-(\\arg(z)-\\arg(z_0))\\right)\n",
    "\\end{equation}\n",
    "Il vient :\n",
    "\\begin{equation}\n",
    " u = \\frac{\\partial \\psi}{\\partial y} = \\frac{\\varepsilon\\Gamma}{2\\pi} \\frac{y}{x^2+y^2} \\quad ; \\quad v = -\\frac{\\partial \\psi}{\\partial x} = -\\frac{\\varepsilon\\Gamma}{2\\pi} \\frac{y}{x^2+y^2} \n",
    "\\end{equation}\n",
    "Ici, on a un tourbillon de circulation $\\Gamma>0$. Le signe de $\\varepsilon\\in\\{1, -1\\}$ donne le sens de rotation du tourbillon."
   ]
  },
  {
   "cell_type": "code",
   "execution_count": null,
   "id": "a5fc45c1",
   "metadata": {},
   "outputs": [],
   "source": [
    "def vortex(x, y, eps=1., gamma=1., hx=0., hy=0.):\n",
    "    # À vous de jouer ! \n",
    "    return u, v"
   ]
  },
  {
   "cell_type": "markdown",
   "id": "6d3bf04a",
   "metadata": {},
   "source": [
    "## Doublet\n",
    "Avec une potentiel de la forme suivante : \n",
    "\\begin{equation}\n",
    "f(z) = - \\frac{\\varepsilon K}{2\\pi z} = -\\frac{\\varepsilon K}{2\\pi} \\left(\\frac{x}{r^2} - i \\frac{y}{r^2}\\right)\n",
    "\\end{equation}\n",
    "On détermine : \n",
    "\\begin{equation}\n",
    "u = \\frac{\\varepsilon K}{2\\pi} \\frac{x^2-y^2}{r^4} \\quad ; \\quad v = \\frac{\\varepsilon K}{2\\pi}\\frac{2xy}{r^4}\n",
    "\\end{equation}"
   ]
  },
  {
   "cell_type": "code",
   "execution_count": null,
   "id": "b0403656",
   "metadata": {},
   "outputs": [],
   "source": [
    "def doublet(x, y, eps=1., K=1., hx=0., hy=0.):\n",
    "    # À vous de jouer ! \n",
    "    return u, v"
   ]
  },
  {
   "cell_type": "markdown",
   "id": "d21233ef",
   "metadata": {},
   "source": [
    "## Une usine à  *dashboard* \n",
    "Dans cette première partie, on cherche à créer automatiquement un *dashboard* seulement à partir d'une chaîne de caractères. Par example, on souhaite qu'en tapant `make_dashboard(\"vortex\")` apparaisse une figure avec le champ de vitesses d'un tourbillon et les sliders associés. \n",
    "\n",
    "**Note :** Il serait judicieux de stocker dans le conteneur le mieux adapté une référence vers la fonction permettant de calculer les composantes du champ des vitesses ainsi que toutes les données nécessaires sur les paramètres du modèle."
   ]
  },
  {
   "cell_type": "code",
   "execution_count": null,
   "id": "22ac244c",
   "metadata": {},
   "outputs": [],
   "source": [
    "# À vous de jouer ! "
   ]
  },
  {
   "cell_type": "code",
   "execution_count": null,
   "id": "7e13ab0c",
   "metadata": {},
   "outputs": [],
   "source": [
    "make_dashboard(\"flow\")"
   ]
  },
  {
   "cell_type": "markdown",
   "id": "68f26fc8",
   "metadata": {},
   "source": [
    "## Superposition de champs\n",
    "\n",
    "Imaginons maintenant que l'on veuille superposer plusieurs potentiels pour créer des champs plus complexes. On peut dans un premier temps utiliser une approche fonctionnelle comme précédemment. Cependant, puisqu'il faut stocker un grand nombre de données (quels sont les arguments de quel potentiel, etc...) écrire une classe permettrait sûrement d'y voir plus clair."
   ]
  },
  {
   "cell_type": "code",
   "execution_count": null,
   "id": "5c23f620",
   "metadata": {},
   "outputs": [],
   "source": [
    "# À vous de jouer ! "
   ]
  },
  {
   "cell_type": "code",
   "execution_count": null,
   "id": "e13669a6",
   "metadata": {},
   "outputs": [],
   "source": []
  }
 ],
 "metadata": {
  "jupytext": {
   "cell_metadata_filter": "all,-hidden,-heading_collapsed,-run_control,-trusted",
   "notebook_metadata_filter": "all,-language_info,-toc,-jupytext.text_representation.jupytext_version,-jupytext.text_representation.format_version",
   "text_representation": {
    "extension": ".md",
    "format_name": "myst"
   }
  },
  "kernelspec": {
   "display_name": "Python 3",
   "language": "python",
   "name": "python3"
  },
  "nbhosting": {
   "title": "visu de champs de vitesse"
  },
  "source_map": [
   14,
   51,
   88,
   93,
   97,
   103,
   109,
   122,
   126,
   139,
   143,
   155,
   159,
   166,
   170,
   172,
   178,
   182
  ]
 },
 "nbformat": 4,
 "nbformat_minor": 5
}