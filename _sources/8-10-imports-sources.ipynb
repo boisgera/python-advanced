{
 "cells": [
  {
   "cell_type": "markdown",
   "id": "06668120",
   "metadata": {
    "slideshow": {
     "slide_type": "-"
    },
    "tags": []
   },
   "source": [
    "<div class=\"licence\">\n",
    "<span>Licence CC BY-NC-ND</span>\n",
    "<span>Thierry Parmentelat</span>\n",
    "</div>\n",
    "\n",
    "<style>\n",
    ".smaller {font-size: smaller}\n",
    "</style>"
   ]
  },
  {
   "cell_type": "markdown",
   "id": "456496ca",
   "metadata": {
    "slideshow": {
     "slide_type": ""
    }
   },
   "source": [
    "# Imports et organisation du code"
   ]
  },
  {
   "cell_type": "markdown",
   "id": "40a40ad2",
   "metadata": {},
   "source": [
    "## Modules et packages"
   ]
  },
  {
   "cell_type": "markdown",
   "id": "81a0bbdc",
   "metadata": {},
   "source": [
    "La notion de ***package*** est une extension de la notion de *module*\n",
    "* de même qu'un **module** usuel correspond - en général - à un **fichier** .py\n",
    "* le **package** correspond à un **dossier**"
   ]
  },
  {
   "cell_type": "markdown",
   "id": "d2c0b3e9",
   "metadata": {},
   "source": [
    "Et de même qu'un dossier est un cas particulier de fichier, un package est un cas particulier de module.\n",
    "\n",
    "C'est-à-dire notamment que\n",
    "* **un package est aussi un module**\n",
    "* simplement, alors que dans un module usuel, les **attributs** sont des objets de type code (fonctions et classes typiquement)\n",
    "* dans un package on va trouver des attributs qui sont **aussi des modules**"
   ]
  },
  {
   "cell_type": "markdown",
   "id": "73c65f09",
   "metadata": {},
   "source": [
    "### Exemple"
   ]
  },
  {
   "cell_type": "markdown",
   "id": "ea7c21df",
   "metadata": {},
   "source": [
    "Voici un un programme Python réparti sur 3 fichiers, qui ne sont pas dans le même dossier\n",
    "\n",
    "```\n",
    "./mainimport.py\n",
    "./folder/\n",
    "    foo.py\n",
    "    bar.py\n",
    "```"
   ]
  },
  {
   "cell_type": "code",
   "execution_count": 1,
   "id": "08357922",
   "metadata": {},
   "outputs": [
    {
     "name": "stdout",
     "output_type": "stream",
     "text": [
      "# pour importer une fonction\r\n",
      "# qui se trouve dans folder/foo.py\r\n",
      "from folder.foo import function\r\n",
      "\r\n",
      "function(\"hello\")\r\n"
     ]
    }
   ],
   "source": [
    "# le programme principal est dans le dossier racine\n",
    "%cat mainimport.py"
   ]
  },
  {
   "cell_type": "code",
   "execution_count": 2,
   "id": "2686c932",
   "metadata": {},
   "outputs": [
    {
     "name": "stdout",
     "output_type": "stream",
     "text": [
      "# le module bar se trouve dans le même dossier\r\n",
      "# le plus simple du coup c'est d'utiliser\r\n",
      "# ce qu'on appelle un import relatif comme ceci\r\n",
      "\r\n",
      "from .bar import Bar\r\n",
      "\r\n",
      "# maintenant je peux utiliser la variable Bar\r\n",
      "\r\n",
      "def function(x):\r\n",
      "    print(Bar(x))\r\n",
      "    \r\n"
     ]
    }
   ],
   "source": [
    "# le premier fichier utilisé est dans le dossier 'folder'\n",
    "%cat folder/foo.py"
   ]
  },
  {
   "cell_type": "code",
   "execution_count": 3,
   "id": "2fd1de16",
   "metadata": {},
   "outputs": [
    {
     "name": "stdout",
     "output_type": "stream",
     "text": [
      "# aucun import ici, juste une simple classe\r\n",
      "\r\n",
      "class Bar:\r\n",
      "\r\n",
      "    def __init__(self, value):\r\n",
      "        self.value = value\r\n",
      "\r\n",
      "    def __repr__(self):\r\n",
      "        return f\"Bar({self.value})\"\r\n"
     ]
    }
   ],
   "source": [
    "# a son tour, foo.py utilise un troisième fichier, dans le même dossier folder\n",
    "%cat folder/bar.py"
   ]
  },
  {
   "cell_type": "markdown",
   "id": "7b008dd8",
   "metadata": {},
   "source": [
    "On peut exécuter le programme comme d'habitude"
   ]
  },
  {
   "cell_type": "code",
   "execution_count": 4,
   "id": "1f42fe9e",
   "metadata": {},
   "outputs": [
    {
     "name": "stdout",
     "output_type": "stream",
     "text": [
      "Bar(hello)\r\n"
     ]
    }
   ],
   "source": [
    "# avec le ! on fait comme si cette commande était tapée dans le terminal\n",
    "!python mainimport.py"
   ]
  },
  {
   "cell_type": "markdown",
   "id": "7713002e",
   "metadata": {},
   "source": [
    "Et donc pour bien préciser le vocabulaire, dans `mainimport.py` :\n",
    "* l'objet `folder` dénote un **package**\n",
    "* et `folder.foo` dénote un **module**"
   ]
  },
  {
   "cell_type": "code",
   "execution_count": 5,
   "id": "e0be4cdb",
   "metadata": {},
   "outputs": [],
   "source": [
    "import folder.foo"
   ]
  },
  {
   "cell_type": "code",
   "execution_count": 6,
   "id": "ea12acad",
   "metadata": {
    "cell_style": "split"
   },
   "outputs": [
    {
     "data": {
      "text/plain": [
       "module"
      ]
     },
     "execution_count": 6,
     "metadata": {},
     "output_type": "execute_result"
    }
   ],
   "source": [
    "# un package est un module\n",
    "type(folder)"
   ]
  },
  {
   "cell_type": "code",
   "execution_count": 7,
   "id": "edeca036",
   "metadata": {
    "cell_style": "split"
   },
   "outputs": [
    {
     "data": {
      "text/plain": [
       "module"
      ]
     },
     "execution_count": 7,
     "metadata": {},
     "output_type": "execute_result"
    }
   ],
   "source": [
    "# dans lequel se trouvent\n",
    "# d'autres modules\n",
    "type(folder.foo)"
   ]
  },
  {
   "cell_type": "markdown",
   "id": "67c2ea3a",
   "metadata": {
    "tags": [
     "level_intermediate"
    ]
   },
   "source": [
    "###  `__init__.py`"
   ]
  },
  {
   "cell_type": "markdown",
   "id": "ce076f01",
   "metadata": {
    "tags": [
     "level_intermediate"
    ]
   },
   "source": [
    "Dans ce premier exemple, si je fais simplement\n",
    "\n",
    "```python\n",
    "import folder\n",
    "```\n",
    "\n",
    "il ne va .. rien se passer de particulier; on va bien créer un objet module, mais celui-ci sera vide !"
   ]
  },
  {
   "cell_type": "markdown",
   "id": "a9541fff",
   "metadata": {
    "tags": [
     "level_intermediate"
    ]
   },
   "source": [
    "Pourquoi ? eh bien le fait d'importer un module ça revient à exécuter le code qui est dedans; mais dans le dossier lui-même, il n'y a pas de code !\n",
    "\n",
    "Si on voulait changer ce comportement, on pourrait créer un fichier qui s'appelle `__init__.py` dans le dossier; et dans ce cas-là le fait d'importer le module-package va bien exécuter le code dans `__init__.py`"
   ]
  },
  {
   "cell_type": "markdown",
   "id": "943eee12",
   "metadata": {
    "tags": [
     "level_intermediate"
    ]
   },
   "source": [
    "Pour illustrer cela, on va créer un second dossier `folder2` qui a exactement le même contenu que `folder` sauf qu'on y a ajouté un `__init__.py` qui contient ceci :"
   ]
  },
  {
   "cell_type": "code",
   "execution_count": 8,
   "id": "04a92126",
   "metadata": {
    "tags": [
     "level_intermediate"
    ]
   },
   "outputs": [
    {
     "name": "stdout",
     "output_type": "stream",
     "text": [
      "# le code dans un __init__.py\r\n",
      "# est exécuté lors du chargement du package\r\n",
      "\r\n",
      "# avec cet import, on force le chargement de folder2.foo\r\n",
      "# si l'appelant fais simplement 'import folder2'\r\n",
      "\r\n",
      "from .foo import function\r\n"
     ]
    }
   ],
   "source": [
    "%cat folder2/__init__.py"
   ]
  },
  {
   "cell_type": "code",
   "execution_count": 9,
   "id": "8ef00cb7",
   "metadata": {
    "tags": [
     "level_intermediate"
    ]
   },
   "outputs": [],
   "source": [
    "# ce qui fait que maintenant si j'importe juste le package\n",
    "\n",
    "import folder2"
   ]
  },
  {
   "cell_type": "code",
   "execution_count": 10,
   "id": "bae71bb1",
   "metadata": {
    "tags": [
     "level_intermediate"
    ]
   },
   "outputs": [
    {
     "name": "stdout",
     "output_type": "stream",
     "text": [
      "Bar(Hi)\n"
     ]
    }
   ],
   "source": [
    "folder2.function('Hi')"
   ]
  },
  {
   "cell_type": "markdown",
   "id": "230762e5",
   "metadata": {
    "tags": [
     "level_intermediate"
    ]
   },
   "source": [
    "De cette façon, j'ai pris la fonction dont le nom canonique est  \n",
    "`folder2.foo.function`  \n",
    "et je l'ai en quelque sorte *promue* pour qu'elle soit accessible aussi comme  \n",
    "`folder2.function`"
   ]
  },
  {
   "cell_type": "markdown",
   "id": "6d39364d",
   "metadata": {},
   "source": [
    "## Les imports"
   ]
  },
  {
   "cell_type": "markdown",
   "id": "ac4b3733",
   "metadata": {},
   "source": [
    "Pour résumer rapidement les différentes formes :\n",
    "\n",
    "* `import module`  \n",
    "  définit la variable `module` (qui désigne un objet de type module)\n",
    "  \n",
    "* `import package.module`  \n",
    "  importe le package, et le module, et définit la variable `module` \n",
    "  \n",
    "* `import module as othername`  \n",
    "  pareil, mais la variable locale qui désigne le module est `othername` et pas `module`\n",
    "  \n",
    "* `from module import attribute`  \n",
    "  le module est chargé entièrement, mais cette forme définit seulement la variable `attribute`\n",
    "  \n",
    "* `from module import attribute as othername`  \n",
    "  pareil, mais on définit la variable `othername` et non pas `attribute`\n",
    "  \n",
    "* `from module import att1, att2 as newname`  \n",
    "  on peut importer plusieurs attributs d'un coup"
   ]
  },
  {
   "cell_type": "markdown",
   "id": "8b016195",
   "metadata": {},
   "source": [
    "Notez aussi, c'est important pour les performances :  \n",
    "* c'est relativement coûteux de charger un module\n",
    "* aussi, l'interpréteur se \"souvient\" des modules déja chargés\n",
    "* et donc on peut importer de manière répétitive sans impact notoire sur les performances"
   ]
  },
  {
   "cell_type": "markdown",
   "id": "ab468c4e",
   "metadata": {},
   "source": [
    "## Comment sont cherchés les modules et packages ?"
   ]
  },
  {
   "cell_type": "markdown",
   "id": "b79a5bef",
   "metadata": {},
   "source": [
    "Pour faire le plus simple possible, lorsque vous écrivez `import tutu`,\n",
    "on cherche un dossier `tutu`, ou un fichier `tutu.py`, selon les règles suivantes :\n",
    "* d'abord dans le dossier où se trouve le point d'entrée\n",
    "* puis dans la variable d'environnement `PYTHONPATH`\n",
    "* puis à l'endroit où sont installés les `pip install ...`"
   ]
  },
  {
   "cell_type": "markdown",
   "id": "7eb2d72a",
   "metadata": {},
   "source": [
    "### Le point d'entrée\n",
    "\n",
    "Le point d'entrée, c'est le fichier que vous passez à l'interpréteur Python; dans l'exemple plus haut avec `mainimport.py`, on lance\n",
    "\n",
    "```python\n",
    "python mainimport.py\n",
    "```\n",
    "\n",
    "et donc le point d'entrée est `mainimport.py`, son dossier c'est le dossier où on est - le dossier courant - et donc c'est là qu'on à chercher; c'est comme ça qu'on a pu faire `import folder`, car `folder` est bien dans le répertoire courant"
   ]
  },
  {
   "cell_type": "markdown",
   "id": "a06377cb",
   "metadata": {},
   "source": [
    "### `PYTHONPATH`"
   ]
  },
  {
   "cell_type": "markdown",
   "id": "1a3e935f",
   "metadata": {},
   "source": [
    "Le fait qu'on puisse configurer l'algorithme de recherche des modules, au travers de cette variable d'environnement, est pratique dans certains cas très spécifiques; mais pour votre usage, retenez simplement ceci : **il ne faut pas s'en servir** !!"
   ]
  },
  {
   "cell_type": "markdown",
   "id": "80157c19",
   "metadata": {},
   "source": [
    "### `pip install`"
   ]
  },
  {
   "cell_type": "markdown",
   "id": "072ebc84",
   "metadata": {},
   "source": [
    "Naturellement, vous l'avez déja constaté par vous même, les librairies installées avec `pip install` sont bien entendu trouvées lorsque Python essaie d'importer.\n",
    "\n",
    "C'est intéressant parce que notamment, - modulo une contrainte très légère - **on peut utiliser `pip install` pour installer notre propre code**."
   ]
  },
  {
   "cell_type": "markdown",
   "id": "b7b8e097",
   "metadata": {},
   "source": [
    "On va voir ça en détail plus bas dans cet exposé."
   ]
  },
  {
   "cell_type": "markdown",
   "id": "28be2731",
   "metadata": {
    "slideshow": {
     "slide_type": "-"
    }
   },
   "source": [
    "## Comment organiser les sources de votre projet Python"
   ]
  },
  {
   "cell_type": "markdown",
   "id": "56ec5e40",
   "metadata": {},
   "source": [
    "Où on va voir que :\n",
    "* c'est bien de grouper son code dans un package\n",
    "* mais à première vue ça casse tout, cependant pas de panique !\n",
    "* il ne **FAUT PAS** tripoter la variable **`PYTHONPATH`**\n",
    "* il faut au contraire créer un `setup.py`, et ensuite lancer une fois  \n",
    "  `pip install -e .`  \n",
    "  pour pouvoir utiliser le code en mode développeur"
   ]
  },
  {
   "cell_type": "markdown",
   "id": "0184f7bd",
   "metadata": {},
   "source": [
    "### Contexte"
   ]
  },
  {
   "cell_type": "markdown",
   "id": "a132f865",
   "metadata": {},
   "source": [
    "Vous venez d'écrire un super algorithme qui simule le climat de l'an 2100, et vous voulez le publier ? Nous allons voir ici comment organiser les sources de votre projet, pour que ce soit à la fois\n",
    "\n",
    "* pratique pour vous de tester votre travail pendant le développement\n",
    "* facile de publier le code pour que d'autres puissent l'installer et l'utiliser\n",
    "* et éventuellement facile pour d'autres de contribuer à votre projet."
   ]
  },
  {
   "cell_type": "markdown",
   "id": "b4c84a25",
   "metadata": {},
   "source": [
    "### Les infrastructures"
   ]
  },
  {
   "cell_type": "markdown",
   "id": "97c582c0",
   "metadata": {},
   "source": [
    "En 2020 on ne travaille plus tout seul dans son coin ; il est à la portée de tous d'utiliser et de tirer profit d'infrastructures, ouvertes et gratuites (pour les usages de base au moins) :\n",
    "\n",
    "Pour ce qui nous concerne ici, voici celles qui vont nous être utiles :\n",
    "\n",
    "* [PyPI](https://pypi.org) - (prononcer \"paille - pis - ail\") pour **Py**thon **P**ackage **I**ndex, est l'endroit où chacun peut publier ses librairies\n",
    "* [github](https://github.com) - ainsi que ses concurrents [gitlab](https://gitlab.com) et [bitbucket](https://bitbucket.org) - sont bien sûr des endroits où l'on peut déposer ses sources pour partage, sous la forme de  dépôt `git`\n",
    "\n",
    "Optionnellement, sachez qu'il existe également des infrastructures pour les deux grandes tâches que sont la documentation et le test, souvent considérées - à tort - comme annexes :\n",
    "\n",
    "* [readthedocs](https://readthedocs.io) est une infra qui permet d'exposer la documentation\n",
    "* [travis](https://travis-ci.com) est - parmi plein d'autres - une infrastructure permettant d'exécuter une suite de tests\n",
    "\n",
    "S'agissant de ces deux derniers points : souvent on s'arrange pour que tout soit **automatique** ; quand tout est en place, il **suffit de pousser un nouveau commit** auprès de github (par exemple) pour que\n",
    "\n",
    "* tous les **tests** soient **repassés** (d'où le terme de **CI*** = *Continuous Integration*) ; du coup on sait en permanence si tel ou tel commit a cassé ou non l'intégrité du code ;\n",
    "* la **documentation** soit **mise à jour**, exposée à tout le monde, et navigable par numéro de version."
   ]
  },
  {
   "cell_type": "markdown",
   "id": "0813096f",
   "metadata": {},
   "source": [
    "Alors bon bien sûr ça c'est le monde idéal ; on ne passe pas d'un seul coup, d'un bout de code qui tient dans un seul module `bidule.py`, à un projet qui utilise tout ceci ; on on n'a **pas forcément besoin** non plus d'utiliser **toutes** ces ressources (et bien entendu, aucun de ces trucs n'est obligatoire).\n",
    "\n",
    "Aussi nous allons commencer par le commencement."
   ]
  },
  {
   "cell_type": "markdown",
   "id": "960592c0",
   "metadata": {},
   "source": [
    "### Le commencement : créer un package"
   ]
  },
  {
   "cell_type": "markdown",
   "id": "f48bc912",
   "metadata": {},
   "source": [
    "Le commencement, ça consiste à se **préparer à coexister** avec d'autres librairies.\n",
    "\n",
    "Si votre code expose disons une classe `Machine` dans le fichier/module `machine.py`, la première chose consiste à  trouver un nom unique ; rien ne vous permet de penser qu'il n'y a pas une autre bibliothèque qui expose un module qui s'appelle aussi `machine` (il y a même fort à parier qu'il y en a plein !).  \n",
    "Aussi ce qu'on va commencer par faire c'est d'installer tout notre code **dans un package**.\n",
    "\n",
    "Concrètement ça va signifier se mettre dans un sous-dossier, mais surtout d'un point de vue des utilisateurs potentiels de la classe, ça veut dire qu'au lieu de faire juste :\n",
    "\n",
    "```from machine import Machine```\n",
    "\n",
    "on va décider qu'à partir de maintenant il faut toujours faire\n",
    "\n",
    "```from bidule.machine import Machine```\n",
    "\n",
    "et de cette façon tous les noms qui sont propres à notre code ne sont accessibles que via l'espace de noms `bidule`, et on évite les conflits avec d'autres bibliothèques."
   ]
  },
  {
   "cell_type": "markdown",
   "id": "ace55a91",
   "metadata": {},
   "source": [
    "### Choisir le nom du package"
   ]
  },
  {
   "cell_type": "markdown",
   "id": "fd9215fe",
   "metadata": {},
   "source": [
    "Bien sûr ceci ne fonctionne que si je peux **être sûr que `bidule` est à moi**, de sorte que **personne** demain ne publie une librairie qui utilise **le même nom**.  \n",
    "\n",
    "C'est pourquoi je **recommande**, à ce stade, de s'assurer de prendre un nom qui n'est **pas déjà pris** ; en toute rigueur c'est optionnel, tant que vous ne prévoyez pas de publier votre appli sur pypi (car bien sûr c'est optionnel de publier sur pypi), mais ça coûte moins cher de le faire très tôt, ça évite des renommages fastidieux plus tard."
   ]
  },
  {
   "cell_type": "markdown",
   "id": "1f2ac0eb",
   "metadata": {},
   "source": [
    "Donc pour s'assurer de cela, on va tout simplement demander à `pypi`, qui va jouer le rôle de *registrar*, et nous garantir l'exclusivité de ce nom. Vous pouvez soit chercher votre nom [directement dans le site pypi](https://pypi.org/search/?q=bidule), ou bien utiliser `pip`\n",
    "\n",
    "    pip search bidule"
   ]
  },
  {
   "cell_type": "markdown",
   "id": "daf48514",
   "metadata": {},
   "source": [
    "Le nom est libre, pour toute la suite **je choisis `bidule` comme mon nom de package**.  \n",
    "Vous trouverez dans ce repo git <https://github.com/flotpython/bidule> un microscopique petit projet qui illustre notre propos."
   ]
  },
  {
   "cell_type": "markdown",
   "id": "18f7bf66",
   "metadata": {},
   "source": [
    "### Adapter son code"
   ]
  },
  {
   "cell_type": "markdown",
   "id": "c7c79cb0",
   "metadata": {},
   "source": [
    "Une fois que j'ai choisi mon nom de package, donc ici `bidule`, je dois :\n",
    "\n",
    "1. mettre tout mon code dans un répertoire qui s'appelle `bidule`,\n",
    "1. et modifier mes importations ; maintenant j'importe tout au travers du seul package `bidule`."
   ]
  },
  {
   "cell_type": "markdown",
   "id": "2229939f",
   "metadata": {},
   "source": [
    "Donc je remplace les importations partout ; ce qui avant aurait été simplement\n",
    "\n",
    "    from machine import Machine\n",
    "\n",
    "devient\n",
    "\n",
    "    from bidule.machine import Machine"
   ]
  },
  {
   "cell_type": "markdown",
   "id": "3b37f450",
   "metadata": {},
   "source": [
    "#### Remarque : imports relatifs\n",
    "\n",
    "Lorsqu'un fichier a besoin d'en importer **dans le même package**, on a le choix ; par exemple ici, `machine.py` a besoin d'importer la fonction `helper` du fichier `helpers.py`, il peut faire\n",
    "\n",
    "    from bidule.helpers import helper\n",
    "\n",
    "mais aussi plus simplement avec un **import relatif** :\n",
    "\n",
    "    from .helpers import helper\n",
    "\n",
    "remarquez le `.` dans `.helpers`, qui signifie *dans le même package que moi*."
   ]
  },
  {
   "cell_type": "markdown",
   "id": "91ae41ae",
   "metadata": {},
   "source": [
    "Je recommande toutefois de ne pas se précipiter avec ces imports relatifs, et notamment de **ne pas les utiliser dans un point d'entrée** (le fichier qu'on passe à l'interpréteur Python) car ça ne fonctionne pas dans ce cas."
   ]
  },
  {
   "cell_type": "markdown",
   "id": "830bba9d",
   "metadata": {},
   "source": [
    "### C'est tout cassé"
   ]
  },
  {
   "cell_type": "markdown",
   "id": "d0135c6c",
   "metadata": {},
   "source": [
    "À ce stade précisément, vous constatez .. que **plus rien ne marche** !\n",
    "\n",
    "En effet, comme on l'a vu dans le complément sur le chargement des modules, Python recherche vos modules dans l'ordre\n",
    "\n",
    "* le dossier du point d'entrée\n",
    "* la variable d'environnement `PYTHONPATH`\n",
    "* les dossiers système\n",
    "\n",
    "Et donc si vous m'avez suivi, vous devez avoir quelque chose comme\n",
    "\n",
    "```bash\n",
    "mon-repo-git/\n",
    "             bidule/\n",
    "                    main.py\n",
    "                    machine.py\n",
    "                    helpers.py\n",
    "```\n",
    "\n",
    "mais alors quand vous faites \n",
    "\n",
    "```bash\n",
    "$ python bidule/main.py\n",
    "Traceback (most recent call last):\n",
    "  File \"bidule/main.py\", line 1, in <module>\n",
    "    from bidule.machine import Machine\n",
    "ModuleNotFoundError: No module named 'bidule'\n",
    "```\n",
    "\n",
    "on va chercher du coup un module `bidule` à partir du répertoire du point d'entrée qui est le dossier `bidule/`, donc on ne trouve pas."
   ]
  },
  {
   "cell_type": "markdown",
   "id": "3f68d921",
   "metadata": {},
   "source": [
    "### Le mauvais réflexe\n",
    "\n",
    "Du coup naturellement, on se dit, ça n'est pas grave, je vais tirer profit de la variable `PYTHONPATH`.  \n",
    "Alors disons-le tout net : **Ce n'est pas une bonne idée**, ce n'est pas du tout pour ce genre de cas qu'elle a été prévue.\n",
    "\n",
    "Le fait de modifier une variable d'environnement est un processus tarabiscoté, même sans parler de Windows, et cette approche est une bonne façon de se tirer une balle dans le pied ; un jour ou l'autre la variable ne sera pas positionnée comme il faut, c'est sûr.\n",
    "\n",
    "Bref, il ne **faut pas faire comme ça !!**"
   ]
  },
  {
   "cell_type": "markdown",
   "id": "b089d3d5",
   "metadata": {},
   "source": [
    "### Le bon réflexe : `setup.py`\n",
    "\n",
    "Non, le bon reflexe ici c'est d'écrire un fichier `setup.py`, et de l'utiliser pour faire ce qu'on pourrait une *installation en mode développeur*. Voyons cela :\n",
    "\n",
    "Je commence donc par créer un fichier `setup.py` à la racine de mon repo git, dans lequel je mets, pour commencer, le minimum :\n",
    "\n",
    "```\n",
    "# minimal setup.py to install in develop mode\n",
    "\n",
    "from setuptools import setup, find_packages\n",
    "\n",
    "setup(\n",
    "    name=\"bidule\",\n",
    "    packages=find_packages(),\n",
    ")\n",
    "```"
   ]
  },
  {
   "cell_type": "markdown",
   "id": "082a4a5e",
   "metadata": {},
   "source": [
    "**Attention** : nous sommes en 2020 et il faut utiliser le package `setuptools`, qui ne fait pas partie de la librairie standard (**et non pas** le module `distutils` qui, lui, en fait pourtant partie) ; donc comme d'habitude si c'est nécessaire, faites dans le terminal :\n",
    "\n",
    "    pip install setuptools"
   ]
  },
  {
   "cell_type": "markdown",
   "id": "760d6b7d",
   "metadata": {},
   "source": [
    "#### Installation en mode developpeur : `pip install -e .`\n",
    "\n",
    "Avec ce fichier en place, et toujours à la racine de mon repo, je peux maintenant faire la formule magique (toujours dans le terminal)\n",
    "\n",
    "```bash\n",
    "$ pip install -e .\n",
    "Obtaining file:///Users/tparment/git/flotpython-course/w6/mon-repo-git\n",
    "Installing collected packages: bidule\n",
    "  Attempting uninstall: bidule\n",
    "    Found existing installation: bidule 0.0.0\n",
    "    Uninstalling bidule-0.0.0:\n",
    "      Successfully uninstalled bidule-0.0.0\n",
    "  Running setup.py develop for bidule\n",
    "Successfully installed bidule\n",
    "```\n",
    "\n",
    "L'effet de cette commande est de modifier mon environnement pour que le répertoire courant\n",
    "(le `.` dans `pip install -e .`) soit utilisé pour la recherche des modules. Ça signifie que\n",
    "je peux maintenant lancer mon programme sans souci :\n",
    "\n",
    "  ```bash\n",
    "  $ python bidule/main.py\n",
    "  ... déroulement normal\n",
    "  ```\n",
    "\n",
    "Grâce à l'option `-e`, je **peux modifier mon code** dans le répertoire courant, ce sera bien ce code-là qui sera utilisé ; cette précision pour ceux qui penseraient que, comme on fait une installation, cela pourrait être fait par copie, mais ce n'est pas le cas, donc sauf gros changement dans le contenu, on n'a **plus besoin de refaire** le `pip install -e .`"
   ]
  },
  {
   "cell_type": "markdown",
   "id": "e0cc969b",
   "metadata": {
    "heading_collapsed": true,
    "tags": [
     "level_advanced"
    ]
   },
   "source": [
    "#### Un `setup.py` plus raisonnable"
   ]
  },
  {
   "cell_type": "markdown",
   "id": "c78593b9",
   "metadata": {
    "hidden": true,
    "tags": [
     "level_advanced"
    ]
   },
   "source": [
    "Au delà de cette première utilité, `setup.py` sert à configurer plein d'aspects de votre application ; lorsque votre projet va gagner en maturité, il sera exécuté lorsque vous préparez le packaging, lorsque vous uploadez le package, et au moment d'installer (comme on vient de le voir)."
   ]
  },
  {
   "cell_type": "markdown",
   "id": "ca522162",
   "metadata": {
    "hidden": true,
    "tags": [
     "level_advanced"
    ]
   },
   "source": [
    "Du coup en pratique, les besoins s'accumulent au fur et à mesure de l'avancement du projet, et on met de plus en plus d'informations dans le `setup.py`; voici, que j'essaie de mettre dans l'ordre chronologique, quelques ajouts très fréquents [reportez-vous à la doc pour une liste complète](https://setuptools.readthedocs.io/en/latest/setuptools.html#developer-s-guide) :\n",
    "\n",
    "* `name` est le nom sous lequel votre projet sera rangé dans PyPI\n",
    "\n",
    "* `packages` est une liste de noms de packages ; tel qu'on l'a écrit, cela sera calculé à partir du contenu de votre dépôt ; dans notre cas on aurait pu aussi bien écrire en dur `['bidule']`;  \n",
    "  dans les cas les plus simples on a `packages == [ name ]`\n",
    "\n",
    "\n",
    "* `version` est bien entendu important dès que vous commencez à publier sur PyPI (et même avant) pour que PyPI puisse servir la version la plus récente, et/ou satisfaire des exigences précises (les applis qui vous utilisent peuvent par exemple préciser une version minimale, etc...)  \n",
    "  Cette chaine devrait être [compatible avec semver (semantic versioning)](https://semver.org/)  \n",
    "  i.e. qu'un numéro de version usuel contient 3 parties (major, minor, patch), comme par ex. \"2.1.3\"  \n",
    "  le terme `semantic` signifie ici que **toute rupture de compatibilité** doit se traduire par une incrémentation du numéro majeur (sauf s'il vaut `0`, on a le droit de tâtonner avec une 0.x; d'où l'importance de la version 1.0)\n",
    "\n",
    "* `install_requires` : si votre package a besoin d'une librairie non-standard, disons par exemple `numpy`, il est **très utile** de le préciser ici ; de cette façon, lorsqu'un de vos utilisateurs installera votre appli avec `pip install bidule`, `pip` pourra **gérer les dépendances** et s'assurer que `numpy` est installé également ;\n",
    "  bien sûr on n'en est pas là, mais je vous recommande de maintenir **dès le début** la liste de vos dépendances ici\n",
    "\n",
    "\n",
    "\n",
    "* informatifs : `author`, `author_email`, `description`, `keywords`, `url`, `license`,  pour affichage sur PyPI ;  \n",
    "  une mention spéciale à propos de `description_long`, qu'en général on veut afficher à partir de `README.md`, d'où l'idiome fréquent :\n",
    "\n",
    "  ```\n",
    "  setup(\n",
    "     ...\n",
    "     long_description=open('README.md').read(),\n",
    "     long_description_content_type = \"text/markdown\",\n",
    "     ...\n",
    "  ```\n",
    "\n",
    "* etc… beaucoup d'autres réglages et subtilités autour de `setup.py` ; je conseille de prendre les choses comme elles viennent : commencez avec la liste qui est ici, et n'ajoutez d'autres trucs que lorsque ça correspond à un besoin pour vous !"
   ]
  },
  {
   "cell_type": "markdown",
   "id": "69b37606",
   "metadata": {
    "heading_collapsed": true,
    "tags": [
     "level_advanced"
    ]
   },
   "source": [
    "#### Packager un point d'entrée"
   ]
  },
  {
   "cell_type": "markdown",
   "id": "6ac6814a",
   "metadata": {
    "hidden": true,
    "tags": [
     "level_advanced"
    ]
   },
   "source": [
    "Assez fréquemment on package des **librairies**; dans ce cas on se soucie d'installer uniquement des modules Python.\n",
    "\n",
    "\n",
    "Mais imaginez maintenant que votre package contient aussi un **point d'entrée** - c'est-à-dire en fin de compte une **commande** que vos utilisateurs vont vouloir lancer **depuis le terminal**. Ce cas de figure change un peu la donne; il faut maintenant installer des choses à d'autres endroits du système (pensez par exemple, sur linux/macos, à quelque chose comme `/usr/bin`).\n",
    "\n",
    "Dans ce cas **surtout n'essayez pas de le faire vous-même**; c'est beaucoup trop compliqué à faire correctement !\n",
    "\n",
    "Pour illustrer la bonne façon de faire dans ce cas, je vous renvoie pour les détails à un exemple réel, mais pour l'essentiel :\n",
    "\n",
    "* je vous conseille d'écrire tout le code en question dans une classe habituelle, que vous rangez normalement avec les autres ;  \n",
    "* cette classe expose typiquement une méthode `main()`, qui retourne, pour suivre les conventions usuelles :\n",
    "  * `0` si tout s'est bien passé\n",
    "  * `1` sinon\n",
    "* vous créez un module `__main__.py` qui se contente de créer une instance et de lui envoyer la méthode `main` - voir l'exemple\n",
    "* vous déclarez cela dans `setup.py` qui se chargera de tout :-)  \n",
    "\n",
    "Voici tout ceci illustré sur un exemple réel.\n",
    "Dans  cet exemple, le package (PyPI) s'appelle `apssh`, la commande qu'on veut exposer s'appelle `apssh`, du coup on a\n",
    " * un dossier `apssh` pour matérialiser le package\n",
    " * un module `apssh/apssh.py`, qui définit\n",
    " * une classe `Apssh`, qui expose une méthode `main()`\n",
    "\n",
    "Voici les différents codes; le détail de la classe elle-même n'est pas pertinent (c'est très long), c'est pour vous montrer un système de nommage, disons habituel :\n",
    "\n",
    "* [la définition de `entry_points` dans `setup.py`](https://github.com/parmentelat/apssh/blob/a97cccd8eb6286a81c68b3c6953fce8a643fe8e9/setup.py#L52-L55)  \n",
    "  ici après installation avec `pip`, nos utilisateurs pourront utiliser la commande `apssh`,  \n",
    "  qui est de cette façon associée au module `__main__.py`  \n",
    "  (les termes `entry_points` et `console_scripts` ne doivent pas être modifiés);\n",
    "\n",
    "* [ le module `__main__.py`](https://github.com/parmentelat/apssh/blob/a97cccd8eb6286a81c68b3c6953fce8a643fe8e9/apssh/__main__.py);\n",
    "\n",
    "* la classe `Apssh` qui fait le travail se trouve [ dans un module usuel, ici `apssh.py`](https://github.com/parmentelat/apssh/blob/a97cccd8eb6286a81c68b3c6953fce8a643fe8e9/apssh/apssh.py)."
   ]
  },
  {
   "cell_type": "markdown",
   "id": "c5004353",
   "metadata": {
    "heading_collapsed": true,
    "tags": [
     "level_advanced"
    ]
   },
   "source": [
    "### Publier sur PyPI"
   ]
  },
  {
   "cell_type": "markdown",
   "id": "3118cfa1",
   "metadata": {
    "hidden": true,
    "tags": [
     "level_advanced"
    ]
   },
   "source": [
    "Pour publier votre application sur PyPI, rien de plus simple :\n",
    "\n",
    "* il faut naturellement obtenir un login/password\n",
    "* avant de pouvoir utiliser le nom `bidule`, il faut l'enregistrer :  \n",
    "  `python setup.py register`\n",
    "* aussi il vous faudra installer `twine`  \n",
    "  `pip install twine`\n",
    "\n",
    "Ensuite à chaque version, une fois que les tests sont passés et tout :\n",
    "\n",
    "* préparer le packaging  \n",
    "  `python setup.py sdist bdist_wheel`\n",
    "* pousser sur PyPI  \n",
    "  `twine upload dist/*`\n",
    "\n",
    "Signalons enfin qu'il existe une infra PyPI \"de test\" sur `https://test.pypi.org` utile quand on ne veut pas polluer l'index officiel."
   ]
  },
  {
   "cell_type": "markdown",
   "id": "924937cc",
   "metadata": {},
   "source": [
    "### Utiliser `pip` pour installer"
   ]
  },
  {
   "cell_type": "markdown",
   "id": "419b5054",
   "metadata": {},
   "source": [
    "Ensuite une fois que c'est fait, le monde entier peut profiter de votre magnifique contribution en faisant bien sûr  \n",
    "`pip install bidule`  \n",
    "\n",
    "Remarquez que l'on conseille parfois, pour éviter d'éventuels soucis de divergence entre les commandes `python`/`python3` et `pip`/`pip3`,\n",
    "* de remplacer tous les appels à `pip`\n",
    "* par plutôt `python -m pip`, qui permet d'être sûr qu'on installe dans le bon environnement.\n",
    "\n",
    "D'autres formes utiles de `pip` :\n",
    "\n",
    "* `pip show bidule` : pour avoir des détails sur un module précis\n",
    "* `pip freeze` : pour une liste complète des modules installés dans l'environnement, avec leur numéro de version\n",
    "* `pip list` : sans grand intérêt, si ce n'est dans sa forme  \n",
    "  `pip list -o` qui permet de lister les modules qui pourraient être mis à jour\n",
    "* `pip install -r requirements.txt` : pour installer les modules dont la liste est dans le fichier `requirements.txt`"
   ]
  },
  {
   "cell_type": "markdown",
   "id": "ae167f6f",
   "metadata": {},
   "source": [
    "### Environnements virtuels"
   ]
  },
  {
   "cell_type": "markdown",
   "id": "d451963c",
   "metadata": {},
   "source": [
    "Terminons ce tour d'horizon pour dire un mot des environnements virtuels.\n",
    "\n",
    "Par le passé, on installait python une seule fois dans le système ; en 2020, c'est une approche qui n'a que des inconvénients :\n",
    "\n",
    "* quand on travaille sur plusieurs projets, on peut avoir besoin de Python-3.6 sur l'un et Python-3.8 sur un autre ;\n",
    "* ou alors on peut avoir un projet qui a besoin de `Django==2.2` et un autre qui ne marche qu'avec `Django>=3.0` ;\n",
    "* en plus par dessus le marché, dans certains cas il faut être super utilisateur pour modifier l'installation ; typiquement on passe son temps à faire `sudo pip` au lieu de `pip`…\n",
    "\n",
    "et le seul avantage, c'est que tous les utilisateurs de l'ordi peuvent partager l'installation ; sauf que, plus de 99 fois sur 100, il n'y a qu'un utilisateur pour un ordi ! Bref, c'est une pratique totalement dépassée."
   ]
  },
  {
   "cell_type": "markdown",
   "id": "bc1a5c07",
   "metadata": {},
   "source": [
    "La création et la gestion d'environnements virtuels sont **très facilee** aujourd'hui. Aussi c'est une **pratique recommandée** de se créer **un virtualenv par projet**. C'est tellement pratique qu'on n'hésite pas une seconde à repartir d'un environnement vide à la moindre occasion, par exemple lorsqu'on a un doute sur les dépendances.\n",
    "\n",
    "Le seul point sur lequel il faut être attentif, c'est de trouver un moyen de **savoir en permanence** dans quel environnement on se trouve. Notamment :\n",
    "\n",
    "* une pratique très répandue consiste à s'arranger pour que **le prompt dans le terminal** indique cela,\n",
    "* dans vs-code, dans la bannière inférieure, on nous montre toujours l'environnement courant."
   ]
  },
  {
   "cell_type": "markdown",
   "id": "24503383",
   "metadata": {
    "cell_style": "center"
   },
   "source": [
    "![](media/venv-terminal.png)\n",
    "\n",
    "**figure :** le prompt dans le terminal nous montre le venv courant"
   ]
  },
  {
   "cell_type": "markdown",
   "id": "7e68eba9",
   "metadata": {
    "cell_style": "center"
   },
   "source": [
    "![](media/venv-vscode.png)\n",
    "\n",
    "**figure :** vs-code nous montre le venv courant et nous permet de le changer"
   ]
  },
  {
   "cell_type": "markdown",
   "id": "d589bb94",
   "metadata": {},
   "source": [
    "#### Les outils"
   ]
  },
  {
   "cell_type": "markdown",
   "id": "87ef5a7e",
   "metadata": {},
   "source": [
    "Par contre il reste le choix entre plusieurs outils, que j'essaie de lister ici :\n",
    "\n",
    "* [`venv`](https://docs.python.org/3/library/venv.html) un module de la librairie standard\n",
    "\n",
    "* [`virtualenv`](https://virtualenv.pypa.io/en/latest/) un module externe, qui préexistait à `venv` et qui a fourni la base des fonctionnalités de `venv`\n",
    "\n",
    "* [`miniconda`](https://docs.conda.io/en/latest/miniconda.html) un sous-produit de anaconda"
   ]
  },
  {
   "cell_type": "markdown",
   "id": "094b6dee",
   "metadata": {},
   "source": [
    "Actuellement j'utilise quant à moi `miniconda`.  \n",
    "Voici à titre indicatif une session sous MacOS en guise de rapide introduction.  \n",
    "Vous remarquerez comme le *prompt* reflète **l'environnement dans lequel on se trouve**, ça semble relativement impératif si on ne veut pas s'emmêler les pinceaux."
   ]
  },
  {
   "cell_type": "markdown",
   "id": "2069d1c9",
   "metadata": {},
   "source": [
    "##### La liste de mes environnements\n",
    "```\n",
    "[base] ~ $ conda env list\n",
    "# conda environments:\n",
    "#\n",
    "base                  *  /Users/tparment/miniconda3\n",
    "<snip ...>\n",
    "```"
   ]
  },
  {
   "cell_type": "markdown",
   "id": "d4d25df3",
   "metadata": {},
   "source": [
    "##### j'en crée un nouveau avec Python-3.8\n",
    "\n",
    "```\n",
    "[base] ~ $ conda create -n demo-py38 python=3.8\n",
    "Collecting package metadata (current_repodata.json): done\n",
    "Solving environment: done\n",
    "<snip ...>\n",
    "```"
   ]
  },
  {
   "cell_type": "markdown",
   "id": "e3b57809",
   "metadata": {},
   "source": [
    "##### on le voit\n",
    "```\n",
    "[base] ~ $ conda env list\n",
    "# conda environments:\n",
    "#\n",
    "base                  *  /Users/tparment/miniconda3\n",
    "demo-py38                /Users/tparment/miniconda3/envs/demo-py38\n",
    "<snip...>\n",
    "```"
   ]
  },
  {
   "cell_type": "markdown",
   "id": "ed4aa455",
   "metadata": {},
   "source": [
    "##### pour entrer dans le nouvel environnement\n",
    "\n",
    "```\n",
    "[base] ~ $ conda activate demo-py38\n",
    "[demo-py38] ~ $\n",
    "```"
   ]
  },
  {
   "cell_type": "markdown",
   "id": "52aa0c5d",
   "metadata": {},
   "source": [
    "##### les packages installés\n",
    "\n",
    "très peu de choses\n",
    "\n",
    "```\n",
    "[demo-py38] ~ $ pip list\n",
    "Package    Version\n",
    "---------- -------------------\n",
    "certifi    2020.4.5.1\n",
    "pip        20.0.2\n",
    "setuptools 46.2.0.post20200511\n",
    "wheel      0.34.2\n",
    "```"
   ]
  },
  {
   "cell_type": "markdown",
   "id": "9853bc7d",
   "metadata": {},
   "source": [
    "##### on y installe ce qu'on veut\n",
    "```\n",
    "[demo-py38] ~ $ pip install numpy==1.15.3\n",
    "```"
   ]
  },
  {
   "cell_type": "markdown",
   "id": "9e604b5d",
   "metadata": {},
   "source": [
    "##### la version de python\n",
    "```\n",
    "[demo-py38] ~ $ python --version\n",
    "Python 3.8.2\n",
    "```"
   ]
  },
  {
   "cell_type": "markdown",
   "id": "663c4058",
   "metadata": {},
   "source": [
    "##### sortir\n",
    "```\n",
    "[demo-py38] ~ $ conda deactivate\n",
    "[base] ~ $\n",
    "```"
   ]
  },
  {
   "cell_type": "markdown",
   "id": "901ffc20",
   "metadata": {},
   "source": [
    "##### la version de python\n",
    "```\n",
    "[base] ~ $ python --version\n",
    "Python 3.7.6\n",
    "```"
   ]
  },
  {
   "cell_type": "markdown",
   "id": "6d19db9b",
   "metadata": {},
   "source": [
    "##### on n'a pas perturbé l'environnement de départ\n",
    "```\n",
    "[base] ~ $ pip show numpy\n",
    "Name: numpy\n",
    "Version: 1.18.1\n",
    "```"
   ]
  },
  {
   "cell_type": "markdown",
   "id": "8ab5b96e",
   "metadata": {},
   "source": [
    "##### pour détruire l'environnement en question\n",
    "```\n",
    "[base] ~ $ conda env remove -n demo-py38\n",
    "\n",
    "Remove all packages in environment /Users/tparment/miniconda3/envs/demo-py38:\n",
    "```"
   ]
  }
 ],
 "metadata": {
  "jupytext": {
   "cell_metadata_filter": "all,-hidden,-heading_collapsed,-run_control",
   "encoding": "# -*- coding: utf-8 -*-",
   "notebook_metadata_filter": "all,-language_info,-toc,-jupytext.text_representation.jupytext_version,-jupytext.text_representation.format_version",
   "text_representation": {
    "extension": ".md",
    "format_name": "myst"
   }
  },
  "kernelspec": {
   "display_name": "Python 3",
   "language": "python",
   "name": "python3"
  },
  "language_info": {
   "codemirror_mode": {
    "name": "ipython",
    "version": 3
   },
   "file_extension": ".py",
   "mimetype": "text/x-python",
   "name": "python",
   "nbconvert_exporter": "python",
   "pygments_lexer": "ipython3",
   "version": "3.9.6"
  },
  "notebookname": "imports et organisation du code",
  "source_map": [
   16,
   27,
   31,
   35,
   41,
   50,
   54,
   65,
   70,
   75,
   78,
   82,
   85,
   91,
   95,
   102,
   110,
   114,
   124,
   130,
   134,
   140,
   148,
   154,
   161,
   165,
   187,
   194,
   198,
   206,
   218,
   222,
   226,
   230,
   236,
   240,
   244,
   254,
   258,
   266,
   270,
   289,
   295,
   299,
   316,
   320,
   326,
   332,
   337,
   341,
   348,
   358,
   372,
   376,
   380,
   412,
   423,
   442,
   448,
   477,
   481,
   485,
   518,
   522,
   557,
   561,
   580,
   584,
   601,
   605,
   617,
   626,
   632,
   638,
   642,
   652,
   658,
   669,
   680,
   692,
   701,
   717,
   724,
   732,
   740,
   748,
   757
  ]
 },
 "nbformat": 4,
 "nbformat_minor": 5
}