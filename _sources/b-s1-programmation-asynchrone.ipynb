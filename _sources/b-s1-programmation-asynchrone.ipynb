{
 "cells": [
  {
   "cell_type": "markdown",
   "id": "3f410216",
   "metadata": {},
   "source": [
    "<span style=\"float:left;\">Licence CC BY-NC-ND</span><span style=\"float:right;\">Thierry Parmentelat<img src=\"media/inria-25-alpha.png\" style=\"display:inline\"></span><br/>"
   ]
  },
  {
   "cell_type": "markdown",
   "id": "e0c7f0ce",
   "metadata": {
    "slideshow": {
     "slide_type": "slide"
    }
   },
   "source": [
    "# programmation asynchrone"
   ]
  },
  {
   "cell_type": "markdown",
   "id": "2831c6d5",
   "metadata": {},
   "source": [
    "Cette semaine nous allons parler de\n",
    "programmation asynchrone. En effet\n",
    "depuis la version 3.5, Python contient\n",
    "une nouveauté assez intéressante pour\n",
    "traiter ce type de programmation, c'est\n",
    "la notion de coroutines, en conjonction\n",
    "avec librairie asyncio.\n",
    "\n",
    "Dans cette première séquence nous allons\n",
    "essayer de comprendre ce qu'on veut dire\n",
    "par programmation asynchrone, et voir\n",
    "les différentes approches qu'on peut\n",
    "utiliser pour traiter ce genre de\n",
    "problèmes."
   ]
  },
  {
   "cell_type": "markdown",
   "id": "6ebefe3f",
   "metadata": {
    "slideshow": {
     "slide_type": "slide"
    }
   },
   "source": [
    "## typologie d'applications\n",
    "\n",
    "Pour commencer je vais introduire une\n",
    "distinction entre deux types\n",
    "d'applications informatiques. On\n",
    "distingue traditionnellement entre les\n",
    "programmes qui sont limités par le\n",
    "processeur, et ceux qui sont limités par\n",
    "les entrées sorties - en anglais on\n",
    "dirait CPU-intensive vs IO-intensive.\n",
    "\n",
    "* CPU-intensive\n",
    "* IO-intensive\n",
    "\n",
    "Un programme qui va essayer de casser un\n",
    "mot de passe en essayant tous les mots\n",
    "d'un dictionnaire, ou une application de\n",
    "simulation météo qui passe son temps à\n",
    "dérouler des équations mathématiques,\n",
    "sont des exemples qui sont\n",
    "CPU-intensive. \n",
    "C'est ce type d'applications qu'on a envisagés dans les cours de Basile Marchand,\n",
    "ce n'est pas du tout la cible ici, on n'en\n",
    "parlera plus.\n",
    "\n",
    "À l'inverse, une application qui irait\n",
    "lire systématiquement toutes les pages\n",
    "d'internet, comme le robot google, est\n",
    "une application IO-intensive, et c'est\n",
    "ce type d'applications qui est visé.\n",
    "\n",
    "Contrairement à la première famille, on\n",
    "ne peut pas accélérer ce type\n",
    "d'applications en ajoutant des\n",
    "ressources CPU, car ce n'est pas ça le\n",
    "problème.\n",
    "\n",
    "Si je reviens à mon robot, pour chaque\n",
    "page que l'on va chercher, notre\n",
    "programme commence par ouvrir une\n",
    "connexion TCP, puis crée une requête\n",
    "HTTP, bref sans rentrer dans les détails\n",
    "on peut schématiser ça comme ceci :"
   ]
  },
  {
   "cell_type": "markdown",
   "id": "6c022e76",
   "metadata": {
    "slideshow": {
     "slide_type": "slide"
    }
   },
   "source": [
    "## requête à un serveur"
   ]
  },
  {
   "cell_type": "markdown",
   "id": "60d839b3",
   "metadata": {
    "slideshow": {}
   },
   "source": [
    "![délais dans les traitements](media/w8-s1-av-fig1.png)"
   ]
  },
  {
   "cell_type": "markdown",
   "id": "0bd93e4f",
   "metadata": {},
   "source": [
    "une suite d'aller-retours entre le robot\n",
    "et le serveur web. Ici le temps va de\n",
    "haut en bas: et chacune des deux\n",
    "colonnes représente l'occupation du CPU\n",
    "pour les deux machines en question, à\n",
    "gauche le robot, le client, et à droite\n",
    "le serveur qui lui fournit la page web.\n",
    "À cause du délai dans les transmissions\n",
    "et du temps de réponse du serveur, vous\n",
    "observez que le processeur qui héberge\n",
    "le robot n'est pas bien utilisé, il\n",
    "attend bêtement pendant la plus grosse\n",
    "partie du travail."
   ]
  },
  {
   "cell_type": "markdown",
   "id": "e3bf67b0",
   "metadata": {
    "slideshow": {
     "slide_type": "slide"
    }
   },
   "source": [
    "## deux requêtes en séquence"
   ]
  },
  {
   "cell_type": "markdown",
   "id": "26f578b2",
   "metadata": {},
   "source": [
    "Lorsqu'on a besoin de plusieurs pages,\n",
    "disons 2 pour commencer, voici ce qu'on\n",
    "obtient en contactant les deux serveurs\n",
    "de manière séquentielle. Le temps total\n",
    "correspond bien entendu à la somme des\n",
    "temps qu'il faut pour télécharger chaque\n",
    "page, et c'est très inefficace du point\n",
    "de vue de l'utilisation du processeur,\n",
    "qui reste largement sous-utilisé.\n",
    "\n",
    "On a envie d'améliorer les performances\n",
    "de notre robot, et ceci à ressources\n",
    "constantes. On va voir que notre\n",
    "problème ici, c'est le modèle dit de\n",
    "programmation synchrone, je veux dire,\n",
    "le fait que notre client attende en\n",
    "bloquant, et c'est tout ce temps perdu à\n",
    "attendre qu'on va pouvoir mettre à profit."
   ]
  },
  {
   "cell_type": "markdown",
   "id": "9d6a4b18",
   "metadata": {
    "slideshow": {}
   },
   "source": [
    "![délais dans les traitements](media/w8-s1-av-fig2.png)"
   ]
  },
  {
   "cell_type": "markdown",
   "id": "05a45ee3",
   "metadata": {
    "slideshow": {
     "slide_type": "slide"
    }
   },
   "source": [
    "## processus simple\n",
    "\n",
    "Avant de continuer, j'aimerais faire\n",
    "quelques rappels sur le fonctionnement\n",
    "des ordinateurs. Tout d'abord, il est\n",
    "bien évident qu'un ordinateur sait faire\n",
    "plusieurs choses à la fois, et notamment\n",
    "grâce à la notion de processus. C'est\n",
    "quoi un processus ? C'est une\n",
    "abstraction offerte par le système\n",
    "d'exploitation, pour justement faire\n",
    "tourner plusieurs programmes différents\n",
    "en même temps.\n",
    "\n",
    "C'est une notion qui vise à fournir un\n",
    "maximum d'isolation : en simplifiant à\n",
    "l'extrême, un processus possède un\n",
    "espace mémoire qui lui est propre, ainsi\n",
    "que une pile (qui contient le contexte\n",
    "associé aux appels de fonctions), et un\n",
    "pointeur d'avancement (qui dit où on en\n",
    "est dans le programme).\n",
    "\n",
    "\n",
    "![single-thread](media/w8-s1-av-fig3.png)"
   ]
  },
  {
   "cell_type": "markdown",
   "id": "e3104fb9",
   "metadata": {
    "slideshow": {
     "slide_type": "slide"
    }
   },
   "source": [
    "## avantages / inconvénients"
   ]
  },
  {
   "cell_type": "markdown",
   "id": "4525569b",
   "metadata": {
    "cell_style": "split"
   },
   "source": [
    "* parallèlisme\n",
    "* isolation"
   ]
  },
  {
   "cell_type": "markdown",
   "id": "b5bc5229",
   "metadata": {
    "cell_style": "split"
   },
   "source": [
    "* *trop* d'isolation\n",
    "* échelle : 10x - 100x - on ne peut pas s'amuser à créer les processus par milliers ou dizaines de milliers"
   ]
  },
  {
   "cell_type": "markdown",
   "id": "1c52e1a6",
   "metadata": {
    "slideshow": {
     "slide_type": "slide"
    }
   },
   "source": [
    "## threads\n",
    "\n",
    "La notion de thread a été ajoutée par la\n",
    "suite, pour permettre justement d'avoir\n",
    "plusieurs traitements en parallèle, mais\n",
    "qui partagent un espace mémoire.\n",
    "\n",
    "Ce qui fait qu'on peut voir un processus\n",
    "comme contenant un ou plusieurs threads,\n",
    "qui partagent le même espace mémoire.\n",
    "\n",
    "Avec cette notion de threads, on peut\n",
    "penser avoir une bonne solution pour\n",
    "traiter notre classe de problèmes.\n",
    "\n",
    "\n",
    "![multi-thread](media/w8-s1-av-fig4.png)"
   ]
  },
  {
   "cell_type": "markdown",
   "id": "85425df5",
   "metadata": {
    "slideshow": {
     "slide_type": "slide"
    }
   },
   "source": [
    "## avantages / inconvénients"
   ]
  },
  {
   "cell_type": "markdown",
   "id": "3cde48cd",
   "metadata": {},
   "source": [
    "Par contre, les threads présentent un\n",
    "inconvénient majeur, qui rend leur\n",
    "utilisation très délicate."
   ]
  },
  {
   "cell_type": "markdown",
   "id": "9f3da4e2",
   "metadata": {
    "cell_style": "split"
   },
   "source": [
    "* disponible en python \n",
    "\n",
    "  [`import threading`](https://docs.python.org/3/library/threading.html#module-threading)"
   ]
  },
  {
   "cell_type": "markdown",
   "id": "72e68fd5",
   "metadata": {
    "cell_style": "split",
    "slideshow": {
     "slide_type": "-"
    }
   },
   "source": [
    "* utilisation **très** délicate\n",
    "* échelle 1000x - on peut en créer un peu plus que de processus, mais pas des dizaines de milliers non plus"
   ]
  },
  {
   "cell_type": "markdown",
   "id": "c6d8264b",
   "metadata": {
    "slideshow": {
     "slide_type": "slide"
    }
   },
   "source": [
    "## commutations de contexte (1)"
   ]
  },
  {
   "cell_type": "markdown",
   "id": "945899ea",
   "metadata": {},
   "source": [
    "### deux pages téléchargées par 2 threads différents"
   ]
  },
  {
   "cell_type": "markdown",
   "id": "17e5cfbf",
   "metadata": {},
   "source": [
    "Dans le cas du robot qui télécharge les\n",
    "pages, on n'a qu'à créer un thread par\n",
    "page, et on commencera alors à utiliser\n",
    "effectivement le processeur de manière\n",
    "beaucoup plus optimale.\n",
    "\n",
    "Les threads sont aujourd'hui utilisés\n",
    "dans de très nombreux contextes, et\n",
    "notamment en python grâce à la librairie\n",
    "`threading`."
   ]
  },
  {
   "cell_type": "markdown",
   "id": "174efc85",
   "metadata": {
    "slideshow": {}
   },
   "source": [
    "![2 threads](media/w8-s1-av-fig5.png)"
   ]
  },
  {
   "cell_type": "markdown",
   "id": "ca2d933e",
   "metadata": {
    "slideshow": {
     "slide_type": "slide"
    }
   },
   "source": [
    "## commutations de contexte (2)"
   ]
  },
  {
   "cell_type": "markdown",
   "id": "0eb5a638",
   "metadata": {},
   "source": [
    "Avec un thread par page web, on obtient\n",
    "quelque chose comme ceci; cela veut dire\n",
    "que du point de vue du développeur, si\n",
    "je zoome un peu sur le début du\n",
    "traitement"
   ]
  },
  {
   "cell_type": "markdown",
   "id": "e0b98fc1",
   "metadata": {
    "slideshow": {}
   },
   "source": [
    "![zoom](media/w8-s1-av-fig6.png)"
   ]
  },
  {
   "cell_type": "markdown",
   "id": "466ac009",
   "metadata": {},
   "source": [
    "on voit qu'il faut bien tout de même,\n",
    "d'une manière ou d'une autre, donner la\n",
    "main à chacun de ces threads tour à\n",
    "tour, et le problème général des\n",
    "threads, c'est que le passage d'un\n",
    "thread à l'autre, qu'on appelle une\n",
    "commutation de contexte, est décidé par\n",
    "un tiers - le scheduler; et chacun de\n",
    "ces deux morceaux de code tourne de son\n",
    "coté sans avoir de contrôle sur ces\n",
    "changements de contexte, qui peuvent se\n",
    "produire n'importe quand.\n",
    "\n",
    "Du coup, les threads partagent\n",
    "effectivement les données, mais c'est un\n",
    "peu la boîte de Pandorre, car lorsqu'il\n",
    "est effectivement question de faire des\n",
    "accès simultanés à une donnée, se posent\n",
    "des problèmes de section critique, de\n",
    "verrou, de famine, qui rendent la\n",
    "programmtion multi-thread très délicate,\n",
    "et en pratique réservée à des\n",
    "spécialistes."
   ]
  },
  {
   "cell_type": "markdown",
   "id": "d8ce5bd4",
   "metadata": {
    "slideshow": {
     "slide_type": "slide"
    }
   },
   "source": [
    "## callbacks"
   ]
  },
  {
   "cell_type": "markdown",
   "id": "fa8aabd2",
   "metadata": {},
   "source": [
    "Il nous faut aussi parler brièvement du\n",
    "mécanisme de callbacks, qui vient\n",
    "notamment des applications de type\n",
    "interface utilisateur, dans lesquelles\n",
    "cette problèmatique de programmation\n",
    "asynchrone est très présente; en effet\n",
    "on est en plein dans le spectre, lorsque\n",
    "vous êtes devant votre browser il se\n",
    "passe énormément de choses différentes\n",
    "en même temps, et comme les humains ne\n",
    "sont pas particulièrement patients il\n",
    "est crucial d'avoir les temps de\n",
    "réaction les plus rapides possible."
   ]
  },
  {
   "cell_type": "markdown",
   "id": "35ac4afa",
   "metadata": {
    "cell_style": "center",
    "slideshow": {
     "slide_type": "fragment"
    }
   },
   "source": [
    "* associer à un événement\n",
    "* une fonction à exécuter"
   ]
  },
  {
   "cell_type": "markdown",
   "id": "bf8a2f88",
   "metadata": {},
   "source": [
    "C'est pourquoi les callbacks sont par\n",
    "exemple omniprésentes dans la\n",
    "programmation JavaScript. Le principe\n",
    "est de n'utiliser qu'un seul thread,\n",
    "mais de découper le code en fonctions\n",
    "plus petites."
   ]
  },
  {
   "cell_type": "markdown",
   "id": "5fba409b",
   "metadata": {},
   "source": [
    "Le gros inconvénient avec cette\n",
    "approche, c'est qu'on est amené à\n",
    "saucissonner son code en tout petits\n",
    "morceaux, ce qui rend les choses\n",
    "passablement illisibles, et que c'est du\n",
    "coup presque impossible d'implémenter\n",
    "comme ça des logiques un peu complexes."
   ]
  },
  {
   "cell_type": "markdown",
   "id": "38f09cda",
   "metadata": {
    "cell_style": "center",
    "slideshow": {
     "slide_type": "fragment"
    }
   },
   "source": [
    "* induit un découpage du code en petits morceaux\n",
    "* logique difficile à suivre"
   ]
  },
  {
   "cell_type": "markdown",
   "id": "cd5bbd16",
   "metadata": {
    "slideshow": {
     "slide_type": "slide"
    }
   },
   "source": [
    "## et `asyncio` là dedans"
   ]
  },
  {
   "cell_type": "markdown",
   "id": "fe4bbba4",
   "metadata": {},
   "source": [
    "Le  paradigme que propose python\n",
    "pour la programmation asynchrone repose\n",
    "sur la notion de coroutine; c'est une\n",
    "alternative assez élégante aux threads\n",
    "et aux callbacks, et qui permet de\n",
    "concevoir des algorithmes dans lesquels\n",
    "plusieurs traitements s'effectuent **en\n",
    "parallèle** mais **dans un seul thread**, avec\n",
    "du code qui n'est pas défiguré par un\n",
    "découpage en callbacks, et avec un\n",
    "contrôle fin par le programmeur des\n",
    "points du programme où il va être\n",
    "possible de changer de contexte.\n",
    "\n",
    "Je signale d'ailleurs à votre curiosité\n",
    "que des mécanismes similaires existent\n",
    "aussi dans des langages comme C#, Rust et Go par exemple."
   ]
  },
  {
   "cell_type": "markdown",
   "id": "cfc9e4b6",
   "metadata": {},
   "source": [
    "* notion de **coroutines**\n",
    "* qui s'exécutent en parallèle\n",
    "* mais dans **un seul thread**\n",
    "* avec du code **lisible**\n",
    "* en donnant du contrôle sur les changements de contexte\n",
    "* et sans besoin de saucissonner son code en callbacks\n",
    "* échelle 10 000x - 100 000x"
   ]
  },
  {
   "cell_type": "markdown",
   "id": "5555bacd",
   "metadata": {
    "slideshow": {
     "slide_type": "slide"
    }
   },
   "source": [
    "## callback *vs* coroutine"
   ]
  },
  {
   "cell_type": "markdown",
   "id": "b1a842b7",
   "metadata": {},
   "source": [
    "Je vous montre ici un exemple de\n",
    "coroutine dans un\n",
    "langage imaginaire, il s'agit d'un\n",
    "serveur pour le fameux protocole\n",
    "'ping-pong` ou encore 'retour à\n",
    "l'envoyeur', dans lequel le serveur se\n",
    "contente de renvoyer au client\n",
    "exactement ce qu'il reçoit.\n",
    "\n",
    "Vous avez en premier une version avec\n",
    "callback, et ensuite une version avec\n",
    "coroutine, le code parle de lui-même."
   ]
  },
  {
   "cell_type": "markdown",
   "id": "bc77d8a4",
   "metadata": {
    "cell_style": "split"
   },
   "source": [
    "```\n",
    "// on écrirait comme ceci \n",
    "// en pseudo-JavaScript\n",
    "\n",
    "function pong_handler(client) {\n",
    "    client.on('data', function (data) {\n",
    "        client.on('data_written', function () {\n",
    "            client.close()\n",
    "        });\n",
    "        client.write(data)\n",
    "        client.flush()\n",
    "    });\n",
    "}\n",
    "```"
   ]
  },
  {
   "cell_type": "markdown",
   "id": "4eaad8cd",
   "metadata": {
    "cell_style": "split",
    "slideshow": {
     "slide_type": "fragment"
    }
   },
   "source": [
    "```\n",
    "# ce qui en pseudo-Python \n",
    "# serait écrit comme ceci\n",
    "\n",
    "async pong_handler():\n",
    "    client.write(await client.read())\n",
    "    await client.flush()\n",
    "    client.close()\n",
    "```"
   ]
  },
  {
   "cell_type": "markdown",
   "id": "493f73ae",
   "metadata": {},
   "source": [
    "## take away message"
   ]
  },
  {
   "cell_type": "markdown",
   "id": "4c609bfa",
   "metadata": {},
   "source": [
    "Pour résumer et conclure cette\n",
    "introduction, retenez qu'avec asyncio, \n",
    "vous pourrez obtenir un comportement\n",
    "comme celui dessiné ci-dessous, qui est optimal\n",
    "vis-à-vis de l'utilisation du temps,\n",
    "\n",
    "* **sans** avoir à **défigurer votre code**,\n",
    "c'est-à-dire avec du code quasiment\n",
    "identique à ce qu'on aurait écrit en\n",
    "mode séquentiel, \n",
    "* et ceci en utilisant **un seul thread**\n",
    "* ce qui permet d'envisager de traiter un très grand nombre de choses en parallèle"
   ]
  },
  {
   "cell_type": "markdown",
   "id": "85536fcb",
   "metadata": {
    "slideshow": {
     "slide_type": "slide"
    }
   },
   "source": [
    "![avec asyncio](media/w8-s1-av-fig7.png)"
   ]
  },
  {
   "cell_type": "markdown",
   "id": "b43355b4",
   "metadata": {},
   "source": [
    "On va voir ça dans les sections suivantes..."
   ]
  }
 ],
 "metadata": {
  "jupytext": {
   "cell_metadata_filter": "all,-hidden,-heading_collapsed,-run_control,-trusted",
   "notebook_metadata_filter": "all,-language_info,-toc,-jupytext.text_representation.jupytext_version,-jupytext.text_representation.format_version",
   "text_representation": {
    "extension": ".md",
    "format_name": "myst"
   }
  },
  "kernelspec": {
   "display_name": "Python 3",
   "language": "python",
   "name": "python3"
  },
  "language_info": {
   "codemirror_mode": {
    "name": "ipython",
    "version": 3
   },
   "file_extension": ".py",
   "mimetype": "text/x-python",
   "name": "python",
   "nbconvert_exporter": "python",
   "pygments_lexer": "ipython3",
   "version": "3.9.6"
  },
  "nbhosting": {
   "title": "programmation asynchrone"
  },
  "source_map": [
   14,
   18,
   22,
   39,
   85,
   89,
   93,
   109,
   113,
   134,
   138,
   166,
   170,
   175,
   180,
   200,
   204,
   210,
   216,
   221,
   225,
   229,
   242,
   246,
   250,
   258,
   262,
   288,
   292,
   308,
   313,
   322,
   332,
   337,
   341,
   361,
   371,
   375,
   390,
   407,
   419,
   423,
   438,
   442
  ]
 },
 "nbformat": 4,
 "nbformat_minor": 5
}