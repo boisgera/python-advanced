{
 "cells": [
  {
   "cell_type": "markdown",
   "id": "ca2ab303",
   "metadata": {},
   "source": [
    "<div class=\"licence\">\n",
    "<span>Licence CC BY-NC-ND</span>\n",
    "<span>Thierry Parmentelat</span>\n",
    "<span><img src=\"media/inria-25-alpha.png\" /></span>\n",
    "</div>"
   ]
  },
  {
   "cell_type": "markdown",
   "id": "9fcab1df",
   "metadata": {
    "slideshow": {
     "slide_type": ""
    }
   },
   "source": [
    "# classes : rappels (1)"
   ]
  },
  {
   "cell_type": "markdown",
   "id": "451cc6c8",
   "metadata": {
    "slideshow": {
     "slide_type": ""
    }
   },
   "source": [
    "les classes servent à définir **de nouveau types**  \n",
    "\n",
    "* en sus des types prédéfinis `str`, `list`, `set`, `dict`, ...\n",
    "* plus adaptés à l'application"
   ]
  },
  {
   "cell_type": "markdown",
   "id": "5cbb3011",
   "metadata": {
    "cell_style": "center",
    "slideshow": {
     "slide_type": "slide"
    }
   },
   "source": [
    "## `class` \n",
    "\n",
    "* avec le mot-clé `class` on définit **un nouveau type**  \n",
    "* une classe définit des **méthodes spéciales**  \n",
    "  ici **`__init__`** et **`__repr__`**"
   ]
  },
  {
   "cell_type": "code",
   "execution_count": 1,
   "id": "5bfd81fe",
   "metadata": {
    "cell_style": "split"
   },
   "outputs": [],
   "source": [
    "class User:\n",
    "\n",
    "    # le constructeur\n",
    "    def __init__(self, name, age):\n",
    "        # un objet User a deux attributs\n",
    "        # name et age\n",
    "        self.name = name\n",
    "        self.age = age\n",
    "\n",
    "    # l'afficheur\n",
    "    def __repr__(self):\n",
    "        return f\"{self.name}, {self.age} ans\""
   ]
  },
  {
   "cell_type": "code",
   "execution_count": 2,
   "id": "a0cd4a7d",
   "metadata": {
    "cell_style": "split"
   },
   "outputs": [
    {
     "data": {
      "text/plain": [
       "Lambert, 25 ans"
      ]
     },
     "execution_count": 2,
     "metadata": {},
     "output_type": "execute_result"
    }
   ],
   "source": [
    "# une fois qu'on a défini une classe, \n",
    "# on peut s'en servir pour créer\n",
    "# des objets - on dit des instances \n",
    "# de la classe\n",
    "\n",
    "user1 = User(\"Lambert\", 25)\n",
    "user1"
   ]
  },
  {
   "cell_type": "markdown",
   "id": "4b7c0013",
   "metadata": {
    "slideshow": {
     "slide_type": "slide"
    }
   },
   "source": [
    "## une classe est un type\n",
    "\n",
    "* comme tous les types, la classe est une **usine à objets**  \n",
    "  * `user = User(\"Dupont\", 59)`  \n",
    "  * à rapprocher de `s = set()` ou `n = int('32')`\n",
    "  \n",
    "* chaque objet (on dit instance) contient des données \n",
    "  * rangées dans des **attributs** de l'objet\n",
    "  * ici `name` et `age`"
   ]
  },
  {
   "cell_type": "markdown",
   "id": "bf1110b0",
   "metadata": {
    "slideshow": {
     "slide_type": "slide"
    }
   },
   "source": [
    "## affichage\n",
    "\n",
    "* la méthode spéciale `__repr__(self)` doit renvoyer une chaine  \n",
    "* elle est utilisée pour\n",
    "  * imprimer l'objet avec `print()`\n",
    "  * convertir un objet en chaine"
   ]
  },
  {
   "cell_type": "code",
   "execution_count": 3,
   "id": "ca13383d",
   "metadata": {
    "cell_style": "center"
   },
   "outputs": [
    {
     "name": "stdout",
     "output_type": "stream",
     "text": [
      "je viens de voir Lambert, 25 ans\n"
     ]
    }
   ],
   "source": [
    "print(f\"je viens de voir {user1}\")"
   ]
  },
  {
   "cell_type": "code",
   "execution_count": 4,
   "id": "7135ff5f",
   "metadata": {
    "cell_style": "center"
   },
   "outputs": [
    {
     "data": {
      "text/plain": [
       "'Lambert, 25 ans'"
      ]
     },
     "execution_count": 4,
     "metadata": {},
     "output_type": "execute_result"
    }
   ],
   "source": [
    "str(user1)"
   ]
  },
  {
   "cell_type": "markdown",
   "id": "4220122b",
   "metadata": {
    "slideshow": {
     "slide_type": "slide"
    },
    "tags": [
     "level_intermediate"
    ]
   },
   "source": [
    "### affichage et conversion en chaine"
   ]
  },
  {
   "cell_type": "markdown",
   "id": "0a2cbff1",
   "metadata": {
    "tags": [
     "level_intermediate"
    ]
   },
   "source": [
    "en fait il est possible d'être plus fin, et de définir **deux** méthodes spéciales qui sont\n",
    "\n",
    "* `__repr__(self)` et\n",
    "* `__str__(self)` \n",
    "\n",
    "cela dit pour commencer on peut se contenter de ne définir que `__repr__()` qui est alors utilisée pour tous les usages"
   ]
  },
  {
   "cell_type": "markdown",
   "id": "7c059245",
   "metadata": {
    "slideshow": {
     "slide_type": "slide"
    }
   },
   "source": [
    "## méthodes"
   ]
  },
  {
   "cell_type": "markdown",
   "id": "0426673d",
   "metadata": {},
   "source": [
    "* une classe peut définir **des méthodes**\n",
    "* qui sont des fonctions qui s'appliquent sur un objet (de cette classe)"
   ]
  },
  {
   "cell_type": "code",
   "execution_count": 5,
   "id": "b18955a8",
   "metadata": {
    "cell_style": "split"
   },
   "outputs": [],
   "source": [
    "# une implémentation très simple\n",
    "# d'une file FILO\n",
    "# premier entré dernier sorti\n",
    "\n",
    "class Stack:\n",
    "    \n",
    "    def __init__(self):\n",
    "        self.frames = [] \n",
    "        \n",
    "    def __repr__(self):\n",
    "        return \" > \".join(self.frames)            \n",
    "    \n",
    "    def push(self, item):\n",
    "        self.frames.append(item)\n",
    "        \n",
    "    def pop(self):\n",
    "        return self.frames.pop()"
   ]
  },
  {
   "cell_type": "code",
   "execution_count": 6,
   "id": "79dc8e0e",
   "metadata": {
    "cell_style": "split"
   },
   "outputs": [
    {
     "data": {
      "text/plain": [
       "fact(3) > fact(2) > fact(1)"
      ]
     },
     "execution_count": 6,
     "metadata": {},
     "output_type": "execute_result"
    }
   ],
   "source": [
    "# instance\n",
    "stack = Stack()\n",
    "\n",
    "stack.push('fact(3)')\n",
    "stack.push('fact(2)')\n",
    "stack.push('fact(1)')\n",
    "\n",
    "stack"
   ]
  },
  {
   "cell_type": "code",
   "execution_count": 7,
   "id": "c61e723b",
   "metadata": {
    "cell_style": "split"
   },
   "outputs": [
    {
     "data": {
      "text/plain": [
       "'fact(1)'"
      ]
     },
     "execution_count": 7,
     "metadata": {},
     "output_type": "execute_result"
    }
   ],
   "source": [
    "stack.pop()"
   ]
  },
  {
   "cell_type": "code",
   "execution_count": 8,
   "id": "122cd892",
   "metadata": {
    "cell_style": "split"
   },
   "outputs": [
    {
     "data": {
      "text/plain": [
       "fact(3) > fact(2)"
      ]
     },
     "execution_count": 8,
     "metadata": {},
     "output_type": "execute_result"
    }
   ],
   "source": [
    "stack"
   ]
  },
  {
   "cell_type": "markdown",
   "id": "416d0b2a",
   "metadata": {
    "cell_style": "center",
    "slideshow": {
     "slide_type": "slide"
    }
   },
   "source": [
    "## méthodes et paramètres\n",
    "\n",
    "remarquez qu'ici \n",
    "\n",
    "* on a défini la méthode `push` avec **2** paramètres  \n",
    "```\n",
    "def push(self, item):\n",
    "```\n",
    "\n",
    "* ce qui fait qu'on peut l'appeler sur un objet avec **1** paramètre \n",
    "```\n",
    "stack.push(some_item)\n",
    "```\n",
    "\n",
    "* car le premier paramètre `self` est lié  \n",
    "  à **l'objet sur lequel on envoie** la méthode\n",
    "\n",
    "* et la phrase `stack.push(some_item)`  \n",
    "  est en fait équivalente à \n",
    "  `Stack.push(stack, some_item)`"
   ]
  },
  {
   "cell_type": "markdown",
   "id": "e5e50740",
   "metadata": {
    "slideshow": {
     "slide_type": "slide"
    }
   },
   "source": [
    "## intérêts de cette approche"
   ]
  },
  {
   "cell_type": "markdown",
   "id": "fd121dba",
   "metadata": {},
   "source": [
    "* définir vos propres types de données\n",
    "* grouper les données qui vont ensemble dans un  \n",
    "  objet unique, facile à passer à d'autres fonctions\n",
    "* invariants: garantir de bonnes propriétés \n",
    "  si on utilise les objets au travers des méthodes \n",
    "\n",
    "et aussi (sera vu ultérieurement)\n",
    "\n",
    "* héritage \n",
    "  * réutiliser une classe en modifiant  \n",
    "    seulement quelques aspects\n",
    "* intégrer les objets dans le langage  \n",
    "  i.e. donner un sens à des constructions comme  \n",
    "  * `x in obj`\n",
    "  * `obj[x]`\n",
    "  * `if obj:`\n",
    "  * `for item in obj:`\n",
    "  * ..."
   ]
  },
  {
   "cell_type": "markdown",
   "id": "071548a4",
   "metadata": {
    "slideshow": {
     "slide_type": "slide"
    }
   },
   "source": [
    "## exemples"
   ]
  },
  {
   "cell_type": "markdown",
   "id": "dc2c31f9",
   "metadata": {
    "slideshow": {
     "slide_type": "slide"
    }
   },
   "source": [
    "### exemple : `np.ndarray`\n",
    "\n",
    "* c'est une classe que vous utilisez tous les jours !\n",
    "* en fait il n'y a pas de différence de fond \n",
    "  * entre les types prédéfinis (`str`, ...)\n",
    "  * et les classes créées avec `class`"
   ]
  },
  {
   "cell_type": "markdown",
   "id": "375deb95",
   "metadata": {
    "slideshow": {
     "slide_type": "slide"
    }
   },
   "source": [
    "### exemple : `class Point`"
   ]
  },
  {
   "cell_type": "code",
   "execution_count": 9,
   "id": "e8f1fc47",
   "metadata": {
    "slideshow": {
     "slide_type": ""
    }
   },
   "outputs": [],
   "source": [
    "import math\n",
    "\n",
    "class Point:\n",
    "\n",
    "    def __init__(self, x, y):\n",
    "        self.x = x\n",
    "        self.y = y\n",
    "    def __repr__(self):\n",
    "        return f\"({self.x:.2f} x {self.y:.2f})\"\n",
    "    \n",
    "    def distance(self, other):\n",
    "        return math.sqrt((self.x-other.x)**2 + (self.y-other.y)**2)"
   ]
  },
  {
   "cell_type": "code",
   "execution_count": 10,
   "id": "9e11e597",
   "metadata": {
    "cell_style": "split"
   },
   "outputs": [
    {
     "data": {
      "text/plain": [
       "((4.00 x 3.00), (7.00 x 7.00))"
      ]
     },
     "execution_count": 10,
     "metadata": {},
     "output_type": "execute_result"
    }
   ],
   "source": [
    "a = Point(4, 3)\n",
    "b = Point(7, 7)\n",
    "a, b"
   ]
  },
  {
   "cell_type": "code",
   "execution_count": 11,
   "id": "adba1cac",
   "metadata": {
    "cell_style": "split"
   },
   "outputs": [
    {
     "data": {
      "text/plain": [
       "5.0"
      ]
     },
     "execution_count": 11,
     "metadata": {},
     "output_type": "execute_result"
    }
   ],
   "source": [
    "a.distance(b)"
   ]
  },
  {
   "cell_type": "markdown",
   "id": "a3c04639",
   "metadata": {
    "slideshow": {
     "slide_type": "slide"
    }
   },
   "source": [
    "### exemple : `class Circle` (1)"
   ]
  },
  {
   "cell_type": "code",
   "execution_count": 12,
   "id": "25dd681d",
   "metadata": {
    "slideshow": {
     "slide_type": ""
    },
    "tags": []
   },
   "outputs": [],
   "source": [
    "class Circle1:\n",
    "\n",
    "    def __init__(self, center: Point, radius: float):\n",
    "        self.center = center\n",
    "        self.radius = radius\n",
    "        \n",
    "    def __repr__(self):\n",
    "        return f\"[{self.center} ⟷ {self.radius:.2f}]\"\n",
    "    \n",
    "    def contains(self, point: Point):\n",
    "        \"\"\"\n",
    "        returns a bool; does point belong in the circle ?\n",
    "        \"\"\"\n",
    "        print(self.center.distance(point))\n",
    "        return math.isclose(self.center.distance(point), self.radius)"
   ]
  },
  {
   "cell_type": "code",
   "execution_count": 13,
   "id": "6d451e30",
   "metadata": {},
   "outputs": [
    {
     "name": "stdout",
     "output_type": "stream",
     "text": [
      "5.0\n"
     ]
    },
    {
     "data": {
      "text/plain": [
       "True"
      ]
     },
     "execution_count": 13,
     "metadata": {},
     "output_type": "execute_result"
    }
   ],
   "source": [
    "c1 = Circle1(Point(0, 0), 5)\n",
    "c1.contains(a)"
   ]
  },
  {
   "cell_type": "markdown",
   "id": "16c89305",
   "metadata": {
    "slideshow": {
     "slide_type": "slide"
    }
   },
   "source": [
    "### exemple : `class Circle` (2)"
   ]
  },
  {
   "cell_type": "code",
   "execution_count": 14,
   "id": "60f3fad8",
   "metadata": {
    "slideshow": {
     "slide_type": ""
    },
    "tags": []
   },
   "outputs": [],
   "source": [
    "class Circle2:\n",
    "\n",
    "    def __init__(self, center: Point, radius: float):\n",
    "        self.center = center\n",
    "        self.radius = radius\n",
    "        \n",
    "    def __repr__(self):\n",
    "        return f\"[{self.center} ⟷ {self.radius:.2f}]\"\n",
    "    \n",
    "    # si on transforme cette méthode en méthode spéciale...\n",
    "    def __contains__(self, point: Point):\n",
    "        \"\"\"\n",
    "        returns a bool; does point belong in the circle ?\n",
    "        \"\"\"\n",
    "        print(self.center.distance(point))\n",
    "        return math.isclose(self.center.distance(point), self.radius)"
   ]
  },
  {
   "cell_type": "code",
   "execution_count": 15,
   "id": "26500432",
   "metadata": {},
   "outputs": [
    {
     "name": "stdout",
     "output_type": "stream",
     "text": [
      "5.0\n"
     ]
    },
    {
     "data": {
      "text/plain": [
       "True"
      ]
     },
     "execution_count": 15,
     "metadata": {},
     "output_type": "execute_result"
    }
   ],
   "source": [
    "c2 = Circle2(Point(0, 0), 5)\n",
    "\n",
    "# alors on peut faire le même calcul, mais\n",
    "# l'écrire comme un test d'appartenance habituel 'x in y'\n",
    "a in c2"
   ]
  },
  {
   "cell_type": "markdown",
   "id": "0d3c2b1c",
   "metadata": {
    "slideshow": {
     "slide_type": "slide"
    }
   },
   "source": [
    "### exemple : `class datetime.date` etc..\n",
    "\n",
    "* bien sûr il y a des classes dans la bibliothèque standard\n",
    "* voyez par exemple [le module `datetime`](https://docs.python.org/3/library/datetime.html)\n",
    "* et notamment `datetime.date` (une date)  \n",
    "  et `datetime.timedelta` (une durée)"
   ]
  },
  {
   "cell_type": "markdown",
   "id": "5230a260",
   "metadata": {},
   "source": [
    "* bien sûr il y a des classes dans la bibliothèque standard\n",
    "* voyez par exemple [le module `datetime`](https://docs.python.org/3/library/datetime.html)\n",
    "* et notamment `datetime.date` (une date)  \n",
    "  et `datetime.timedelta` (une durée)"
   ]
  },
  {
   "cell_type": "code",
   "execution_count": 16,
   "id": "8357e419",
   "metadata": {
    "slideshow": {
     "slide_type": "slide"
    }
   },
   "outputs": [
    {
     "data": {
      "text/plain": [
       "datetime.date(2021, 8, 16)"
      ]
     },
     "execution_count": 16,
     "metadata": {},
     "output_type": "execute_result"
    }
   ],
   "source": [
    "# normalement la classe date aurait dû s'appeler Date\n",
    "from datetime import date as Date\n",
    "# pareil\n",
    "from datetime import timedelta as TimeDelta\n",
    "\n",
    "Date.today()"
   ]
  },
  {
   "cell_type": "code",
   "execution_count": 17,
   "id": "2a5159c6",
   "metadata": {
    "cell_style": "split"
   },
   "outputs": [
    {
     "data": {
      "text/plain": [
       "datetime.timedelta(days=14)"
      ]
     },
     "execution_count": 17,
     "metadata": {},
     "output_type": "execute_result"
    }
   ],
   "source": [
    "TimeDelta(weeks=2)"
   ]
  },
  {
   "cell_type": "code",
   "execution_count": 18,
   "id": "a653a2d6",
   "metadata": {
    "cell_style": "split",
    "slideshow": {
     "slide_type": ""
    }
   },
   "outputs": [
    {
     "data": {
      "text/plain": [
       "datetime.date(2021, 7, 26)"
      ]
     },
     "execution_count": 18,
     "metadata": {},
     "output_type": "execute_result"
    }
   ],
   "source": [
    "# il y a 3 semaines nous étions le\n",
    "today = Date.today()\n",
    "three_weeks = 3 * TimeDelta(weeks=1)\n",
    "\n",
    "today - three_weeks"
   ]
  },
  {
   "cell_type": "code",
   "execution_count": 19,
   "id": "8ecaf6b1",
   "metadata": {
    "tags": []
   },
   "outputs": [],
   "source": [
    "def timedelta_as_year_month(age):\n",
    "    \"\"\"\n",
    "    convert a duration in years and months (as a str)\n",
    "    \"\"\"\n",
    "    year = TimeDelta(days=365.2425)\n",
    "    years, leftover = age // year, age % year\n",
    "    month = year/12\n",
    "    months, leftover = leftover // month, leftover % month\n",
    "    return f\"{years} ans, {months} mois\""
   ]
  },
  {
   "cell_type": "markdown",
   "id": "35ee108a",
   "metadata": {
    "slideshow": {
     "slide_type": "slide"
    }
   },
   "source": [
    "### exemple : `class Student`"
   ]
  },
  {
   "cell_type": "code",
   "execution_count": 20,
   "id": "d296bc03",
   "metadata": {
    "tags": []
   },
   "outputs": [],
   "source": [
    "class Student:\n",
    "    \n",
    "    def __init__(self, first_name, last_name, \n",
    "                 birth_year, birth_month, birth_day):\n",
    "        self.first_name = first_name\n",
    "        self.last_name = last_name\n",
    "        self.birth_year = birth_year\n",
    "        self.birth_month = birth_month\n",
    "        self.birth_day = birth_day\n",
    "        \n",
    "    def __repr__(self):\n",
    "        return f\"{self.first_name} {self.last_name}\"\n",
    "    \n",
    "    def age(self):\n",
    "        \"\"\"\n",
    "        retourne un TimeDelta\n",
    "        \"\"\"\n",
    "        birth = Date(self.birth_year, self.birth_month, self.birth_day)\n",
    "        now = Date.today()\n",
    "        # la différence entre 2 Dates c'est une \n",
    "        return now - birth\n",
    "    \n",
    "    def repr_age(self):\n",
    "        return timedelta_as_year_month(self.age())"
   ]
  },
  {
   "cell_type": "markdown",
   "id": "86bb9c68",
   "metadata": {
    "slideshow": {
     "slide_type": "slide"
    }
   },
   "source": [
    "#### `class Student` - utilisation"
   ]
  },
  {
   "cell_type": "code",
   "execution_count": 21,
   "id": "7491a68b",
   "metadata": {
    "slideshow": {
     "slide_type": ""
    }
   },
   "outputs": [
    {
     "data": {
      "text/plain": [
       "Achille Talon"
      ]
     },
     "execution_count": 21,
     "metadata": {},
     "output_type": "execute_result"
    }
   ],
   "source": [
    "achille = Student(\"Achille\", \"Talon\", 2001, 7, 14)\n",
    "achille"
   ]
  },
  {
   "cell_type": "code",
   "execution_count": 22,
   "id": "7b073089",
   "metadata": {
    "cell_style": "split"
   },
   "outputs": [
    {
     "data": {
      "text/plain": [
       "datetime.timedelta(days=7338)"
      ]
     },
     "execution_count": 22,
     "metadata": {},
     "output_type": "execute_result"
    }
   ],
   "source": [
    "achille.age()"
   ]
  },
  {
   "cell_type": "code",
   "execution_count": 23,
   "id": "7b7775ca",
   "metadata": {
    "cell_style": "split"
   },
   "outputs": [
    {
     "data": {
      "text/plain": [
       "datetime.timedelta"
      ]
     },
     "execution_count": 23,
     "metadata": {},
     "output_type": "execute_result"
    }
   ],
   "source": [
    "type(achille.age())"
   ]
  },
  {
   "cell_type": "code",
   "execution_count": 24,
   "id": "4a5d6f04",
   "metadata": {
    "slideshow": {
     "slide_type": ""
    }
   },
   "outputs": [
    {
     "name": "stdout",
     "output_type": "stream",
     "text": [
      "Achille Talon a 20 ans, 1 mois\n"
     ]
    }
   ],
   "source": [
    "print(f\"{achille} a {achille.repr_age()}\")"
   ]
  },
  {
   "cell_type": "markdown",
   "id": "3b67b0f8",
   "metadata": {
    "slideshow": {
     "slide_type": "slide"
    }
   },
   "source": [
    "### exemple : class `Class` \n",
    "\n",
    "(dans le sens: groupe de `Student`s)\n",
    "\n",
    "* bien sûr on peut combiner nos types (les classes)  \n",
    "  avec les types de base\n",
    "* et ainsi créer e.g. des listes de `Student`"
   ]
  },
  {
   "cell_type": "code",
   "execution_count": 25,
   "id": "cd44173f",
   "metadata": {},
   "outputs": [],
   "source": [
    "class Class:\n",
    "    \n",
    "    def __init__(self, classname, students):\n",
    "        self.classname = classname\n",
    "        self.students = students\n",
    "        \n",
    "    def __repr__(self):\n",
    "        return f\"{self.classname} with {len(self.students)} students\"\n",
    "        \n",
    "    def average_age(self):\n",
    "        # on aimerait pouvoir écrire simplement ceci\n",
    "        # return ((sum(student.age() for student in self.students)\n",
    "        #          / len(self.students))\n",
    "        # mais ça ne fonctionne pas, il faut passer à sum \n",
    "        # l'élément neutre de l'addition - ici TimeDelta(0)\n",
    "        # car '0' ne peut pas s'additionner à un TimeDelta\n",
    "        return (sum((student.age() for student in self.students), TimeDelta(0)) \n",
    "                / len(self.students))"
   ]
  },
  {
   "cell_type": "markdown",
   "id": "20778a85",
   "metadata": {
    "slideshow": {
     "slide_type": "slide"
    }
   },
   "source": [
    "#### `class Class` - utilisation"
   ]
  },
  {
   "cell_type": "code",
   "execution_count": 26,
   "id": "a71cafff",
   "metadata": {},
   "outputs": [
    {
     "data": {
      "text/plain": [
       "CIC1A with 5 students"
      ]
     },
     "execution_count": 26,
     "metadata": {},
     "output_type": "execute_result"
    }
   ],
   "source": [
    "hilarion = Student(\"Hilarion\", \"Lefuneste\", 1998, 10, 15)\n",
    "gaston = Student(\"Gaston\", \"Lagaffe\", 1995, 2, 28)\n",
    "haddock = Student(\"Capitaine\", \"Haddock\", 2000, 1, 14)\n",
    "tournesol = Student(\"Professeur\", \"Tournesol\", 1996, 2, 29)\n",
    "\n",
    "# attention je ne peux pas utiliser une variable \n",
    "# qui s'appellerait 'class' car c'est un mot-clé de Python\n",
    "\n",
    "cls = Class(\"CIC1A\", [achille, hilarion, gaston, haddock, tournesol])\n",
    "cls"
   ]
  },
  {
   "cell_type": "code",
   "execution_count": 27,
   "id": "c5a5d2ef",
   "metadata": {},
   "outputs": [
    {
     "data": {
      "text/plain": [
       "datetime.timedelta(days=8506)"
      ]
     },
     "execution_count": 27,
     "metadata": {},
     "output_type": "execute_result"
    }
   ],
   "source": [
    "# la moyenne d'âge de la classe\n",
    "cls.average_age()"
   ]
  },
  {
   "cell_type": "code",
   "execution_count": 28,
   "id": "e3ffba52",
   "metadata": {},
   "outputs": [
    {
     "data": {
      "text/plain": [
       "'23 ans, 3 mois'"
      ]
     },
     "execution_count": 28,
     "metadata": {},
     "output_type": "execute_result"
    }
   ],
   "source": [
    "# la moyenne d'âge de la classe, pour les humains\n",
    "timedelta_as_year_month(cls.average_age())"
   ]
  },
  {
   "cell_type": "markdown",
   "id": "7e27a358",
   "metadata": {
    "slideshow": {
     "slide_type": "slide"
    }
   },
   "source": [
    "## résumé (1/2)\n",
    "\n",
    "* avec `class` on peut définir un **nouveau type** \n",
    "  * qui nous permet de **créer des objets**\n",
    "  * qui représentent mieux que les types de base les données de notre application\n",
    "  \n",
    "* pas de différence entre un type prédéfini et une classe :  \n",
    "  un objet créé par une classe s'utilise *normalement*\n",
    "  * une variable peut désigner un objet\n",
    "  * un objet peut être dans une liste (ou autre type) *builtin*  \n",
    "    (attention pour les clés de `dict` qui doivent être immutables)\n",
    "  * ou passé en paramètre à une fonction,\n",
    "  * etc, etc..."
   ]
  },
  {
   "cell_type": "markdown",
   "id": "61a03076",
   "metadata": {
    "slideshow": {
     "slide_type": "slide"
    }
   },
   "source": [
    "### résumé (2/2)\n",
    "  \n",
    "* une classe peut définir des **méthodes**\n",
    "  * qui travaillent sur un objet (souvent appelé `self`)\n",
    "  * souvent on ne modifie les objets  \n",
    "    qu'au travers des méthodes fournies par la classe\n",
    "  * ce qui permet de garantir certains invariants"
   ]
  }
 ],
 "metadata": {
  "celltoolbar": "Slideshow",
  "jupytext": {
   "cell_metadata_filter": "all,-hidden,-heading_collapsed",
   "formats": "md:myst",
   "notebook_metadata_filter": "all,-language_info,-toc,-jupytext.text_representation.jupytext_version,-jupytext.text_representation.format_version",
   "text_representation": {
    "extension": ".md",
    "format_name": "myst"
   }
  },
  "kernelspec": {
   "display_name": "Python 3",
   "language": "python",
   "name": "python3"
  },
  "language_info": {
   "codemirror_mode": {
    "name": "ipython",
    "version": 3
   },
   "file_extension": ".py",
   "mimetype": "text/x-python",
   "name": "python",
   "nbconvert_exporter": "python",
   "pygments_lexer": "ipython3",
   "version": "3.9.6"
  },
  "notebookname": "classes et objets",
  "rise": {
   "autolaunch": true,
   "slideNumber": "c/t",
   "start_slideshow_at": "selected",
   "theme": "sky",
   "transition": "cube"
  },
  "source_map": [
   22,
   30,
   34,
   41,
   49,
   66,
   78,
   90,
   99,
   105,
   111,
   115,
   124,
   128,
   133,
   155,
   168,
   174,
   180,
   203,
   207,
   228,
   232,
   241,
   245,
   264,
   272,
   278,
   282,
   305,
   310,
   314,
   338,
   346,
   355,
   362,
   375,
   381,
   394,
   408,
   412,
   441,
   445,
   454,
   460,
   466,
   474,
   484,
   505,
   509,
   522,
   527,
   532,
   548
  ],
  "version": "1.0"
 },
 "nbformat": 4,
 "nbformat_minor": 5
}