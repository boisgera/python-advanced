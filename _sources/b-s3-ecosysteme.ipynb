{
 "cells": [
  {
   "cell_type": "markdown",
   "id": "b70fc569",
   "metadata": {},
   "source": [
    "<span style=\"float:left;\">Licence CC BY-NC-ND</span><span style=\"float:right;\">Thierry Parmentelat<img src=\"media/inria-25-alpha.png\" style=\"display:inline\"></span><br/>"
   ]
  },
  {
   "cell_type": "markdown",
   "id": "d5f89045",
   "metadata": {
    "slideshow": {
     "slide_type": "slide"
    }
   },
   "source": [
    "# `asyncio` : historique et écosystème"
   ]
  },
  {
   "cell_type": "markdown",
   "id": "ba5b0ac8",
   "metadata": {},
   "source": [
    "Nous avons vu quelques exemples simples\n",
    "de programmation asynchrone avec\n",
    "asyncio. Dans cette séquence, après un\n",
    "rapide historique nous allons \n",
    "voir quelles sont les librairies\n",
    "disponibles pour tirer profit de ce\n",
    "nouveau paradigme"
   ]
  },
  {
   "cell_type": "markdown",
   "id": "d3e9e87f",
   "metadata": {
    "slideshow": {
     "slide_type": "slide"
    }
   },
   "source": [
    "## historique - python3"
   ]
  },
  {
   "cell_type": "markdown",
   "id": "8a0eac8d",
   "metadata": {
    "slideshow": {
     "slide_type": "fragment"
    }
   },
   "source": [
    "Dans sa forme actuelle avec 'async def'\n",
    "et 'await', la syntaxe date de\n",
    "python-3.5, en 2015 donc.   \n",
    "\n",
    "* python-3.5 \n",
    "  * syntaxe moderne `async` / `await`"
   ]
  },
  {
   "cell_type": "markdown",
   "id": "7bdade57",
   "metadata": {},
   "source": [
    "Je vous\n",
    "signale rapidement que asyncio avait en\n",
    "fait été introduite un an plus tôt dans\n",
    "python-3.4,mais avec une syntaxe différente, que je\n",
    "vous montre ici rapidement, il se peut\n",
    "que vous trouviez du code avec cette\n",
    "ancienne syntaxe."
   ]
  },
  {
   "cell_type": "markdown",
   "id": "ef5d9d17",
   "metadata": {
    "slideshow": {
     "slide_type": "fragment"
    }
   },
   "source": [
    "* python-3.4 : première introduction de `asyncio`\n",
    "\n",
    "  * `async def` → `@asyncio.coroutine` \n",
    "  * `await` → `yield from`"
   ]
  },
  {
   "cell_type": "markdown",
   "id": "41f5c1bf",
   "metadata": {
    "slideshow": {
     "slide_type": "slide"
    }
   },
   "source": [
    "## historique - python2"
   ]
  },
  {
   "cell_type": "markdown",
   "id": "4bf06ba1",
   "metadata": {
    "slideshow": {}
   },
   "source": [
    "enfin il faut savoir que les mécanismes\n",
    "dont on a besoin pour implémenter une\n",
    "boucle d'événements sont présents dans\n",
    "le langage depuis déjà python-2.5 c'est\n",
    "à dire 2006 !\n",
    "\n",
    "* python-2.5 (2006 !)\n",
    "\n",
    "  * générateurs avec `send()`"
   ]
  },
  {
   "cell_type": "markdown",
   "id": "965063fa",
   "metadata": {
    "slideshow": {
     "slide_type": "slide"
    }
   },
   "source": [
    "## inspiré de (pre-asyncio)"
   ]
  },
  {
   "cell_type": "markdown",
   "id": "5100baed",
   "metadata": {},
   "source": [
    "je vous signale d'ailleurs plusieurs\n",
    "projets qui ont tiré profit de cette\n",
    "possibilité, qui sont ces trois-ci"
   ]
  },
  {
   "cell_type": "markdown",
   "id": "c200b475",
   "metadata": {
    "slideshow": {}
   },
   "source": [
    "* gevent : http://www.gevent.org/\n",
    "* tornado : http://www.tornadoweb.org/en/stable/\n",
    "* twisted : https://twistedmatrix.com/trac/"
   ]
  },
  {
   "cell_type": "markdown",
   "id": "d58c7dd6",
   "metadata": {},
   "source": [
    "qui\n",
    "utilisent une technologie similaire\n",
    "depuis bien avant asyncio, et qui\n",
    "d'ailleurs l'ont largement inspiré.\n",
    "\n",
    "à cet égard, s'il est fréquent de\n",
    "résumer ce style de programmation sous\n",
    "le simple nom de `asyncio`, il faut bien distinguer\n",
    "entre les traits qui appartiennent au\n",
    "langage - qui sont donc par définition\n",
    "peu flexibles - de ceux qui sont\n",
    "implémentées dans la librairie."
   ]
  },
  {
   "cell_type": "markdown",
   "id": "a5945195",
   "metadata": {
    "slideshow": {
     "slide_type": "slide"
    }
   },
   "source": [
    "## langage *vs* librairie (1) : langage"
   ]
  },
  {
   "cell_type": "markdown",
   "id": "3025ecac",
   "metadata": {},
   "source": [
    "La distinction est assez nette, le\n",
    "langage contient principalement \n",
    "\n",
    "* la notion de coroutine, qui se\n",
    "matérialise avec les mots clés `async\n",
    "def` et `await`, \n",
    "\n",
    "* et quelques produits dérivés comme\n",
    "`async for` et `async with` que l'on\n",
    "aura l'occasion de voir plus tard :"
   ]
  },
  {
   "cell_type": "markdown",
   "id": "7cfcd917",
   "metadata": {
    "slideshow": {
     "slide_type": "fragment"
    }
   },
   "source": [
    "  * itérateurs asynchrones - `async for` - compréhensions asynchrones"
   ]
  },
  {
   "cell_type": "markdown",
   "id": "2f88a5a6",
   "metadata": {
    "slideshow": {
     "slide_type": "fragment"
    }
   },
   "source": [
    "  * context managers asynchrones - `async with`"
   ]
  },
  {
   "cell_type": "markdown",
   "id": "e5303536",
   "metadata": {},
   "source": [
    "Notez que la notion de coroutine est assez voisine donc de la notion de générateur, on y reviendra"
   ]
  },
  {
   "cell_type": "markdown",
   "id": "2b52e16d",
   "metadata": {
    "slideshow": {
     "slide_type": "slide"
    }
   },
   "source": [
    "## langage *vs* librairie (2) : librairie"
   ]
  },
  {
   "cell_type": "markdown",
   "id": "951b53b0",
   "metadata": {},
   "source": [
    "La librairie quant à elle implémente\n",
    "principalement la boucle d'événements.\n",
    "\n",
    "C'est important de comprendre la\n",
    "distinction, car cela signifie qu'il est\n",
    "tout à fait possible d'envisager\n",
    "d'autres librairies asynchrones qui\n",
    "partagent toutes le même modèle de\n",
    "coroutines, et qui coexistent."
   ]
  },
  {
   "cell_type": "markdown",
   "id": "9c1469f7",
   "metadata": {},
   "source": [
    "Outre la boucle d'événements, on trouve\n",
    "aussi dans asyncio, un peu en vrac:\n",
    "\n",
    "* des objets de base pour la\n",
    "synchronisation, comme les classes\n",
    "`Queue`, `Lock` et `Semaphore`\n",
    "\n",
    "* un package `Subprocess` pour l'interaction\n",
    "avec les processus, la version\n",
    "asynchrone de la librairie standard\n",
    "`subprocess`\n",
    "\n",
    "et des abstractions, qu'on peut\n",
    "voir si on veut comme des frameworks -\n",
    "ou des design patterns - pour\n",
    "l'implémentation de comportements plus\n",
    "évolués, comme les notions de transport\n",
    "et de protocole, pour l'implémentation\n",
    "par exemple d'une pile http; pour faire simple \n",
    "il y a deux grandes influences qui sont\n",
    "\n",
    "* `Transport` et `Protocol` / plutôt orienté callback\n",
    "* `Streams` / API orientées coroutine"
   ]
  },
  {
   "cell_type": "markdown",
   "id": "4b29a66a",
   "metadata": {},
   "source": [
    "Nous avons déjà un peu rencontré les\n",
    "coroutines, et la boucle d'événements\n",
    "pour faire tourner nos premiers exemples\n",
    "dans la précédente vidéo. Pour le reste,\n",
    "à nouveau, il ne sera pas question de\n",
    "couvrir exhaustivement tous ces sujets,\n",
    "mais nous verrons d'autres exemples de\n",
    "tout ça dans les prochaines vidéos.\n",
    "\n",
    "Pour l'instant, je voudrais vous donner\n",
    "quelques généralités à propos de ce\n",
    "paradigme."
   ]
  },
  {
   "cell_type": "markdown",
   "id": "f808bd77",
   "metadata": {
    "slideshow": {
     "slide_type": "slide"
    }
   },
   "source": [
    "## est-ce que c'est utilisable en production ?"
   ]
  },
  {
   "cell_type": "markdown",
   "id": "9a635f17",
   "metadata": {},
   "source": [
    "On a pu se poser la question en 2015 quand les premières versions sont sorties, tout cela avait un petit coté improbable.\n",
    "En 2021, la réponse à cette question est très clairement OUI, l'API est classée comme stable et sera supportée dans la durée avec le reste de Python."
   ]
  },
  {
   "cell_type": "markdown",
   "id": "016efd55",
   "metadata": {},
   "source": [
    "En terme de performance et de passage à l'échelle, il est admis qu'à ressources\n",
    "constantes, on peut heberger avec de paradigme plus\n",
    "d'acteurs concurrents qu'avec des\n",
    "threads, et donc à priori qu'avec des\n",
    "processus, dans un rapport **de plusieurs\n",
    "ordres de grandeur** - au moins 100."
   ]
  },
  {
   "cell_type": "markdown",
   "id": "f03c7cf8",
   "metadata": {},
   "source": [
    "À savoir également, il y a aujourd'hui\n",
    "une offre très complète, notamment tous les protocoles réseau les\n",
    "plus populaires, les drivers de base de\n",
    "données, essentiellement tout est\n",
    "disponible dans une forme compatible\n",
    "avec ce paradigme."
   ]
  },
  {
   "cell_type": "markdown",
   "id": "f3bda6ed",
   "metadata": {
    "slideshow": {
     "slide_type": "fragment"
    }
   },
   "source": [
    "* nombreux protocoles réseau disponibles\n",
    "  * HTTP `aiohttp`\n",
    "  * ssh `asyncssh`\n",
    "  * telnet `telnetlib3`\n",
    "* drivers bases de données\n",
    "  * postgres `asyncpg`\n",
    "  * ...\n",
    "* ..."
   ]
  },
  {
   "cell_type": "markdown",
   "id": "c144c899",
   "metadata": {
    "slideshow": {
     "slide_type": "slide"
    }
   },
   "source": [
    "## mais .."
   ]
  },
  {
   "cell_type": "markdown",
   "id": "d50186b3",
   "metadata": {},
   "source": [
    "une fois qu'on a dit ça, il n'y a pas que des avantages naturellement\n",
    "\n",
    "le principal reproche qu'on fait a ce modèle est le coté très contagieux des\n",
    "coroutines; dès qu'on se met à utiliser\n",
    "`asyncio`, on se retrouve à avoir envie\n",
    "d'une version asynchrone pour .. à peu\n",
    "près tout.\n",
    "\n",
    "Et comme on a fait le choix que les\n",
    "changements de contexte sont explicites\n",
    "avec `await` - il faut récrire le code\n",
    "pour tirer profit de ce modèle de\n",
    "programmation. Mais bon, comme on vient\n",
    "de le voir, cela n'est pas un souci,\n",
    "l'écosystème est très complet.\n",
    "\n",
    "L'autre incertitude que je voulais\n",
    "signaler pour terminer, c'est que le\n",
    "consensus n'est pas total sur les choix\n",
    "faits dans la librairie asyncio. Tout\n",
    "le monde est d'accord sur le concept de\n",
    "coroutine, mais je signale tout de même\n",
    "quelques travaux très intéressants\n",
    "qui visent à en tirer un meilleur\n",
    "profit, et qui pourraient bien\n",
    "influencer une version 2 de asyncio dans\n",
    "le futur:"
   ]
  },
  {
   "cell_type": "markdown",
   "id": "209775f0",
   "metadata": {
    "slideshow": {
     "slide_type": "fragment"
    }
   },
   "source": [
    "  * `uvloop` \n",
    "  * `curio`\n",
    "  * `trio`"
   ]
  },
  {
   "cell_type": "markdown",
   "id": "04b20464",
   "metadata": {},
   "source": [
    "Bon même si ça devait arriver,\n",
    "rassurez-vous, ce qu'on\n",
    "va apprendre sur la syntaxe, les coroutines, les\n",
    "awaitables, et de façon plus générale le\n",
    "modèle mental, tout cela restera valable."
   ]
  }
 ],
 "metadata": {
  "jupytext": {
   "cell_metadata_filter": "all,-hidden,-heading_collapsed,-run_control,-trusted",
   "notebook_metadata_filter": "all,-language_info,-toc,-jupytext.text_representation.jupytext_version,-jupytext.text_representation.format_version",
   "text_representation": {
    "extension": ".md",
    "format_name": "myst"
   }
  },
  "kernelspec": {
   "display_name": "Python 3",
   "language": "python",
   "name": "python3"
  },
  "language_info": {
   "codemirror_mode": {
    "name": "ipython",
    "version": 3
   },
   "file_extension": ".py",
   "mimetype": "text/x-python",
   "name": "python",
   "nbconvert_exporter": "python",
   "pygments_lexer": "ipython3",
   "version": "3.9.6"
  },
  "nbhosting": {
   "title": "écosystème"
  },
  "source_map": [
   14,
   18,
   22,
   32,
   36,
   45,
   55,
   62,
   66,
   78,
   82,
   88,
   94,
   109,
   113,
   126,
   130,
   134,
   138,
   142,
   154,
   180,
   195,
   199,
   204,
   213,
   222,
   233,
   237,
   267,
   273
  ]
 },
 "nbformat": 4,
 "nbformat_minor": 5
}