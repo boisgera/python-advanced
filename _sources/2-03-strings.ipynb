{
 "cells": [
  {
   "cell_type": "markdown",
   "id": "119d2471",
   "metadata": {},
   "source": [
    "<div class=\"licence\">\n",
    "<span>Licence CC BY-NC-ND</span>\n",
    "<span>Thierry Parmentelat</span>\n",
    "<span><img src=\"media/inria-25-alpha.png\" /></span>\n",
    "</div>"
   ]
  },
  {
   "cell_type": "markdown",
   "id": "db754337",
   "metadata": {},
   "source": [
    "# chaines et binaire (`str` et `bytes`)"
   ]
  },
  {
   "cell_type": "markdown",
   "id": "6603b843",
   "metadata": {
    "slideshow": {
     "slide_type": "slide"
    }
   },
   "source": [
    "## rappels"
   ]
  },
  {
   "cell_type": "markdown",
   "id": "8322d254",
   "metadata": {
    "cell_style": "split"
   },
   "source": [
    "### les séquences\n",
    "\n",
    "* suite finie et ordonnée d'objets\n",
    "* du coup indexable `seq[n]`\n",
    "* indices **commencent à 0**\n",
    "* peuvent contenir des duplications"
   ]
  },
  {
   "cell_type": "markdown",
   "id": "d0aaa9b1",
   "metadata": {
    "cell_style": "split"
   },
   "source": [
    "### mutable et immutable\n",
    "\n",
    "* mutable\n",
    "  * `list`, `bytearray`\n",
    "* immutable\n",
    "  * `str`, `bytes`, `tuple`, `range`"
   ]
  },
  {
   "cell_type": "markdown",
   "id": "7a6605ff",
   "metadata": {},
   "source": [
    "un chaine - de type `str` - est une **séquence immutable**"
   ]
  },
  {
   "cell_type": "markdown",
   "id": "8afd0e3c",
   "metadata": {
    "slideshow": {
     "slide_type": "slide"
    }
   },
   "source": [
    "### opérations sur (toutes) les séquences"
   ]
  },
  {
   "cell_type": "markdown",
   "id": "f54bcd2b",
   "metadata": {
    "cell_style": "split"
   },
   "source": [
    "* `S[i]`\n",
    "  * retourne l’élément d'indice i\n",
    "* `len(S)` \n",
    "  * donne la taille en nombre d’éléments"
   ]
  },
  {
   "cell_type": "markdown",
   "id": "4038e5d9",
   "metadata": {
    "cell_style": "split"
   },
   "source": [
    "* `S + T`\n",
    " * retourne une nouvelle séquence qui est la concaténation de S et T\n",
    "* `S*n` ou `n*S`\n",
    "  * retourne une nouvelle séquence qui est la concaténation de n *shallow* copies de S"
   ]
  },
  {
   "cell_type": "markdown",
   "id": "062642d0",
   "metadata": {
    "slideshow": {
     "slide_type": "slide"
    }
   },
   "source": [
    "#### opérations sur les séquences..."
   ]
  },
  {
   "cell_type": "markdown",
   "id": "bac2a497",
   "metadata": {
    "cell_style": "split",
    "slideshow": {
     "slide_type": ""
    }
   },
   "source": [
    "* `x in S`; selon les types:\n",
    " * `True` si un élément de S est égal à x (e.g. `list`)\n",
    " * `True` si S contient x (e.g. `str`)"
   ]
  },
  {
   "cell_type": "markdown",
   "id": "b40826c1",
   "metadata": {
    "cell_style": "split",
    "slideshow": {
     "slide_type": ""
    }
   },
   "source": [
    "* `S.index(a)`\n",
    "  * retourne l’indice de la première occurrence de a dans S\n",
    "* `S.count(a)`\n",
    "  * retourne le nombre d’occurrences de a dans S"
   ]
  },
  {
   "cell_type": "markdown",
   "id": "a931fbb7",
   "metadata": {
    "slideshow": {
     "slide_type": "slide"
    }
   },
   "source": [
    "### slicing"
   ]
  },
  {
   "cell_type": "markdown",
   "id": "bd574f21",
   "metadata": {},
   "source": [
    "* `S[i:j]` retourne \n",
    "  * une nouvelle séquence de même type\n",
    "  * contenant tous les éléments de l’indice i à l’indice j-1\n",
    "* `S[i:j:k]` retourne\n",
    "  * une nouvelle séquence de même type\n",
    "  * prenant tous les éléments de l’indice i à l’indice j-1, par sauts de k éléments"
   ]
  },
  {
   "cell_type": "markdown",
   "id": "17e9a3ec",
   "metadata": {
    "cell_style": "split",
    "slideshow": {
     "slide_type": "slide"
    }
   },
   "source": [
    "<img src=\"media/egg-bacon.png\"/>"
   ]
  },
  {
   "cell_type": "markdown",
   "id": "bfa3a326",
   "metadata": {
    "cell_style": "split"
   },
   "source": [
    "#### *slicing*"
   ]
  },
  {
   "cell_type": "markdown",
   "id": "f471187c",
   "metadata": {
    "cell_style": "split"
   },
   "source": [
    "* on peut compter du début ou de la fin\n",
    "* on peut omettre les bornes"
   ]
  },
  {
   "cell_type": "code",
   "execution_count": 1,
   "id": "6c5e24d6",
   "metadata": {
    "cell_style": "split"
   },
   "outputs": [
    {
     "data": {
      "text/plain": [
       "'egg'"
      ]
     },
     "execution_count": 1,
     "metadata": {},
     "output_type": "execute_result"
    }
   ],
   "source": [
    "s = \"egg, bacon\"\n",
    "s[0:3]"
   ]
  },
  {
   "cell_type": "code",
   "execution_count": 2,
   "id": "051e2588",
   "metadata": {
    "cell_style": "split"
   },
   "outputs": [
    {
     "data": {
      "text/plain": [
       "'egg'"
      ]
     },
     "execution_count": 2,
     "metadata": {},
     "output_type": "execute_result"
    }
   ],
   "source": [
    "# si on omet une borne \n",
    "# ce sera le début ..\n",
    "s[:3]"
   ]
  },
  {
   "cell_type": "code",
   "execution_count": 3,
   "id": "3591c303",
   "metadata": {
    "cell_style": "split"
   },
   "outputs": [
    {
     "data": {
      "text/plain": [
       "'bacon'"
      ]
     },
     "execution_count": 3,
     "metadata": {},
     "output_type": "execute_result"
    }
   ],
   "source": [
    "# ... ou la fin:\n",
    "s[5:]"
   ]
  },
  {
   "cell_type": "code",
   "execution_count": 4,
   "id": "ea0b2e9e",
   "metadata": {
    "cell_style": "split"
   },
   "outputs": [
    {
     "data": {
      "text/plain": [
       "'con'"
      ]
     },
     "execution_count": 4,
     "metadata": {},
     "output_type": "execute_result"
    }
   ],
   "source": [
    "# les indices peuvent être négatifs\n",
    "s[-3:10]"
   ]
  },
  {
   "cell_type": "code",
   "execution_count": 5,
   "id": "fa1998d7",
   "metadata": {},
   "outputs": [
    {
     "data": {
      "text/plain": [
       "'egg, bacon'"
      ]
     },
     "execution_count": 5,
     "metadata": {},
     "output_type": "execute_result"
    }
   ],
   "source": [
    "# tout entier: une shallow-copy\n",
    "s[:]"
   ]
  },
  {
   "cell_type": "markdown",
   "id": "726e70df",
   "metadata": {
    "cell_style": "split",
    "slideshow": {
     "slide_type": "slide"
    }
   },
   "source": [
    "<img src=\"media/egg-bacon-bornes.png\" text-align=\"center\">"
   ]
  },
  {
   "cell_type": "markdown",
   "id": "3ed6daf1",
   "metadata": {
    "cell_style": "split",
    "slideshow": {
     "slide_type": ""
    }
   },
   "source": [
    "#### les bornes"
   ]
  },
  {
   "cell_type": "markdown",
   "id": "0e5647c3",
   "metadata": {
    "cell_style": "split"
   },
   "source": [
    "La convention est choisie pour pouvoir facilement encastrer les slices:"
   ]
  },
  {
   "cell_type": "code",
   "execution_count": 6,
   "id": "d0c3c59d",
   "metadata": {
    "cell_style": "split"
   },
   "outputs": [
    {
     "data": {
      "text/plain": [
       "'egg'"
      ]
     },
     "execution_count": 6,
     "metadata": {},
     "output_type": "execute_result"
    }
   ],
   "source": [
    "s[0:3]"
   ]
  },
  {
   "cell_type": "code",
   "execution_count": 7,
   "id": "5b97beec",
   "metadata": {
    "cell_style": "split"
   },
   "outputs": [
    {
     "data": {
      "text/plain": [
       "', b'"
      ]
     },
     "execution_count": 7,
     "metadata": {},
     "output_type": "execute_result"
    }
   ],
   "source": [
    "s[3:6]"
   ]
  },
  {
   "cell_type": "code",
   "execution_count": 8,
   "id": "eb837fd9",
   "metadata": {
    "cell_style": "split"
   },
   "outputs": [
    {
     "data": {
      "text/plain": [
       "'acon'"
      ]
     },
     "execution_count": 8,
     "metadata": {},
     "output_type": "execute_result"
    }
   ],
   "source": [
    "s[6:]"
   ]
  },
  {
   "cell_type": "code",
   "execution_count": 9,
   "id": "30950bb2",
   "metadata": {
    "cell_style": "split"
   },
   "outputs": [
    {
     "data": {
      "text/plain": [
       "True"
      ]
     },
     "execution_count": 9,
     "metadata": {},
     "output_type": "execute_result"
    }
   ],
   "source": [
    "s[0:3] + s[3:6] + s[6:] == s"
   ]
  },
  {
   "cell_type": "markdown",
   "id": "5b4099d5",
   "metadata": {
    "cell_style": "split",
    "slideshow": {
     "slide_type": "slide"
    }
   },
   "source": [
    "<img src=\"media/egg-bacon.png\" text-align=\"center\">"
   ]
  },
  {
   "cell_type": "markdown",
   "id": "8738d21b",
   "metadata": {
    "cell_style": "split"
   },
   "source": [
    "#### le pas"
   ]
  },
  {
   "cell_type": "markdown",
   "id": "e9e42631",
   "metadata": {
    "cell_style": "split"
   },
   "source": [
    "* on peut préciser un pas\n",
    "* peut aussi être négatif\n",
    "* ou omis (défaut 1)"
   ]
  },
  {
   "cell_type": "code",
   "execution_count": 10,
   "id": "91aa2f0d",
   "metadata": {
    "cell_style": "split"
   },
   "outputs": [
    {
     "data": {
      "text/plain": [
       "'eg ao'"
      ]
     },
     "execution_count": 10,
     "metadata": {},
     "output_type": "execute_result"
    }
   ],
   "source": [
    "s[0:10:2]"
   ]
  },
  {
   "cell_type": "code",
   "execution_count": 11,
   "id": "565d49b1",
   "metadata": {
    "cell_style": "split"
   },
   "outputs": [
    {
     "data": {
      "text/plain": [
       "'eg ao'"
      ]
     },
     "execution_count": 11,
     "metadata": {},
     "output_type": "execute_result"
    }
   ],
   "source": [
    "s[::2]"
   ]
  },
  {
   "cell_type": "code",
   "execution_count": 12,
   "id": "5cda9ddb",
   "metadata": {
    "cell_style": "split"
   },
   "outputs": [
    {
     "data": {
      "text/plain": [
       "'e,a'"
      ]
     },
     "execution_count": 12,
     "metadata": {},
     "output_type": "execute_result"
    }
   ],
   "source": [
    "s[:8:3]"
   ]
  },
  {
   "cell_type": "code",
   "execution_count": 13,
   "id": "5e1384ce",
   "metadata": {
    "cell_style": "split"
   },
   "outputs": [
    {
     "data": {
      "text/plain": [
       "'obg'"
      ]
     },
     "execution_count": 13,
     "metadata": {},
     "output_type": "execute_result"
    }
   ],
   "source": [
    "s[-2::-3]"
   ]
  },
  {
   "cell_type": "markdown",
   "id": "16448336",
   "metadata": {
    "cell_style": "split",
    "slideshow": {
     "slide_type": "slide"
    }
   },
   "source": [
    "<img src=\"media/egg-bacon.png\" text-align=\"center\">"
   ]
  },
  {
   "cell_type": "markdown",
   "id": "0f6370fa",
   "metadata": {
    "cell_style": "split"
   },
   "source": [
    "#### pas d'exception"
   ]
  },
  {
   "cell_type": "markdown",
   "id": "1c7fb450",
   "metadata": {
    "cell_style": "split"
   },
   "source": [
    "les slices ont un comportement plus permissif que l'indexation"
   ]
  },
  {
   "cell_type": "code",
   "execution_count": 14,
   "id": "cd8e8562",
   "metadata": {},
   "outputs": [
    {
     "name": "stdout",
     "output_type": "stream",
     "text": [
      "OOPS string index out of range\n"
     ]
    }
   ],
   "source": [
    "# Si j'essaie d'utiliser un index inexistant\n",
    "try: s[100]\n",
    "except Exception as e: print(\"OOPS\", e)"
   ]
  },
  {
   "cell_type": "code",
   "execution_count": 15,
   "id": "ff5ede93",
   "metadata": {
    "cell_style": "split"
   },
   "outputs": [
    {
     "data": {
      "text/plain": [
       "'bacon'"
      ]
     },
     "execution_count": 15,
     "metadata": {},
     "output_type": "execute_result"
    }
   ],
   "source": [
    "# par contre avec un slice, pas de souci\n",
    "s[5:100]"
   ]
  },
  {
   "cell_type": "code",
   "execution_count": 16,
   "id": "0e5c7ca9",
   "metadata": {
    "cell_style": "split"
   },
   "outputs": [
    {
     "data": {
      "text/plain": [
       "''"
      ]
     },
     "execution_count": 16,
     "metadata": {},
     "output_type": "execute_result"
    }
   ],
   "source": [
    "# vraiment..\n",
    "s[100:200]"
   ]
  },
  {
   "cell_type": "markdown",
   "id": "7e894c0b",
   "metadata": {
    "slideshow": {
     "slide_type": "slide"
    }
   },
   "source": [
    "<img src=\"media/egg-bacon.png\" text-align=\"center\">"
   ]
  },
  {
   "cell_type": "code",
   "execution_count": 17,
   "id": "aa81a7df",
   "metadata": {
    "cell_style": "split"
   },
   "outputs": [
    {
     "data": {
      "text/plain": [
       "'n'"
      ]
     },
     "execution_count": 17,
     "metadata": {},
     "output_type": "execute_result"
    }
   ],
   "source": [
    "s[-1]"
   ]
  },
  {
   "cell_type": "code",
   "execution_count": 18,
   "id": "ea324102",
   "metadata": {
    "cell_style": "split"
   },
   "outputs": [
    {
     "data": {
      "text/plain": [
       "'co'"
      ]
     },
     "execution_count": 18,
     "metadata": {},
     "output_type": "execute_result"
    }
   ],
   "source": [
    "s[-3:-1]"
   ]
  },
  {
   "cell_type": "code",
   "execution_count": 19,
   "id": "dd2bc00b",
   "metadata": {
    "cell_style": "split"
   },
   "outputs": [
    {
     "data": {
      "text/plain": [
       "'egg, ba'"
      ]
     },
     "execution_count": 19,
     "metadata": {},
     "output_type": "execute_result"
    }
   ],
   "source": [
    "s[:-3]"
   ]
  },
  {
   "cell_type": "code",
   "execution_count": 20,
   "id": "012445d8",
   "metadata": {
    "cell_style": "split"
   },
   "outputs": [
    {
     "data": {
      "text/plain": [
       "'nocab ,gge'"
      ]
     },
     "execution_count": 20,
     "metadata": {},
     "output_type": "execute_result"
    }
   ],
   "source": [
    "s[::-1]"
   ]
  },
  {
   "cell_type": "code",
   "execution_count": 21,
   "id": "26b773c3",
   "metadata": {
    "cell_style": "split"
   },
   "outputs": [
    {
     "data": {
      "text/plain": [
       "'gg'"
      ]
     },
     "execution_count": 21,
     "metadata": {},
     "output_type": "execute_result"
    }
   ],
   "source": [
    "# le 2 est inclus et le 0 exclus\n",
    "s[2:0:-1]"
   ]
  },
  {
   "cell_type": "code",
   "execution_count": 22,
   "id": "366b8a64",
   "metadata": {
    "cell_style": "split"
   },
   "outputs": [
    {
     "data": {
      "text/plain": [
       "'gge'"
      ]
     },
     "execution_count": 22,
     "metadata": {},
     "output_type": "execute_result"
    }
   ],
   "source": [
    "s[2::-1]"
   ]
  },
  {
   "cell_type": "markdown",
   "id": "31c5bd8a",
   "metadata": {
    "slideshow": {
     "slide_type": "slide"
    }
   },
   "source": [
    "#### slicing, formes idiomatiques"
   ]
  },
  {
   "cell_type": "code",
   "execution_count": 23,
   "id": "7f371133",
   "metadata": {},
   "outputs": [],
   "source": [
    "s = [1, 2, 3]"
   ]
  },
  {
   "cell_type": "code",
   "execution_count": 24,
   "id": "05909618",
   "metadata": {
    "cell_style": "split"
   },
   "outputs": [
    {
     "data": {
      "text/plain": [
       "[1, 2, 3]"
      ]
     },
     "execution_count": 24,
     "metadata": {},
     "output_type": "execute_result"
    }
   ],
   "source": [
    "# une copie simple\n",
    "s[:]"
   ]
  },
  {
   "cell_type": "code",
   "execution_count": 25,
   "id": "818d5b2a",
   "metadata": {
    "cell_style": "split"
   },
   "outputs": [
    {
     "data": {
      "text/plain": [
       "[3, 2, 1]"
      ]
     },
     "execution_count": 25,
     "metadata": {},
     "output_type": "execute_result"
    }
   ],
   "source": [
    "# copie renversée\n",
    "s[::-1]"
   ]
  },
  {
   "cell_type": "markdown",
   "id": "6ed03829",
   "metadata": {
    "slideshow": {
     "slide_type": "slide"
    }
   },
   "source": [
    "## `str` et `bytes`"
   ]
  },
  {
   "cell_type": "markdown",
   "id": "783c631d",
   "metadata": {},
   "source": [
    "* deux cas particuliers de **séquences**\n",
    "  * `str` pour manipuler **du texte**\n",
    "  * `bytes` pour manipuler **de la donnée brute** (des octets)\n",
    "  \n",
    "* **ATTENTION**\n",
    "  * les caractères alphanumériques (sans accent)  \n",
    "    et la ponctuation tiennent sur 1 octet\n",
    "  * mais **ce n'est pas le cas** en général"
   ]
  },
  {
   "cell_type": "markdown",
   "id": "d9ab1a84",
   "metadata": {
    "slideshow": {
     "slide_type": "slide"
    }
   },
   "source": [
    "## chaînes de caractères `str`"
   ]
  },
  {
   "cell_type": "markdown",
   "id": "a25ce616",
   "metadata": {},
   "source": [
    "* un cas particulier de séquence\n",
    "* une chaîne de caractères est définie de manière équivalente par des simples ou doubles guillemets (`'` ou `\"`)\n",
    "* on peut ainsi facilement inclure un guillemet"
   ]
  },
  {
   "cell_type": "code",
   "execution_count": 26,
   "id": "f08d183b",
   "metadata": {
    "cell_style": "split"
   },
   "outputs": [
    {
     "name": "stdout",
     "output_type": "stream",
     "text": [
      "c'est l'été\n"
     ]
    }
   ],
   "source": [
    "# une chaine entre double quotes\n",
    "# pas de souci pour les accents \n",
    "print(\"c'est l'été\")"
   ]
  },
  {
   "cell_type": "code",
   "execution_count": 27,
   "id": "f9bc91a8",
   "metadata": {
    "cell_style": "split"
   },
   "outputs": [
    {
     "name": "stdout",
     "output_type": "stream",
     "text": [
      "on se dit \"pourquoi pas\"\n"
     ]
    }
   ],
   "source": [
    "# entre simple quotes\n",
    "print('on se dit \"pourquoi pas\"')"
   ]
  },
  {
   "cell_type": "markdown",
   "id": "4bd0d6a3",
   "metadata": {
    "slideshow": {
     "slide_type": "slide"
    }
   },
   "source": [
    "### construire une chaîne"
   ]
  },
  {
   "cell_type": "code",
   "execution_count": 28,
   "id": "6abc71ff",
   "metadata": {
    "cell_style": "split"
   },
   "outputs": [
    {
     "name": "stdout",
     "output_type": "stream",
     "text": [
      "l'hôtel\n"
     ]
    }
   ],
   "source": [
    "s = \"l'hôtel\"\n",
    "print(s)"
   ]
  },
  {
   "cell_type": "code",
   "execution_count": 29,
   "id": "f188421e",
   "metadata": {
    "cell_style": "split"
   },
   "outputs": [
    {
     "name": "stdout",
     "output_type": "stream",
     "text": [
      "une \"bonne\" idée\n"
     ]
    }
   ],
   "source": [
    "s = 'une \"bonne\" idée'\n",
    "print(s)"
   ]
  },
  {
   "cell_type": "code",
   "execution_count": 30,
   "id": "582b069c",
   "metadata": {
    "cell_style": "split"
   },
   "outputs": [
    {
     "name": "stdout",
     "output_type": "stream",
     "text": [
      "une très longue phrase\n",
      "avec saut de ligne\n"
     ]
    }
   ],
   "source": [
    "s = \"\"\"une très longue phrase\n",
    "avec saut de ligne\"\"\"\n",
    "print(s)"
   ]
  },
  {
   "cell_type": "code",
   "execution_count": 31,
   "id": "34e84693",
   "metadata": {
    "cell_style": "split"
   },
   "outputs": [
    {
     "name": "stdout",
     "output_type": "stream",
     "text": [
      "  un backslash \\ un quote ' \n"
     ]
    }
   ],
   "source": [
    "s = '  un backslash \\\\ un quote \\' ' \n",
    "print(s)"
   ]
  },
  {
   "cell_type": "markdown",
   "id": "756ee101",
   "metadata": {
    "slideshow": {
     "slide_type": "slide"
    }
   },
   "source": [
    "### opérations sur les `str`\n",
    "\n",
    "* toutes les opérations des séquences"
   ]
  },
  {
   "cell_type": "code",
   "execution_count": 32,
   "id": "47889927",
   "metadata": {
    "cell_style": "split"
   },
   "outputs": [
    {
     "data": {
      "text/plain": [
       "7"
      ]
     },
     "execution_count": 32,
     "metadata": {},
     "output_type": "execute_result"
    }
   ],
   "source": [
    "s1 = 'abcdéfg'\n",
    "s2 = 'bob'\n",
    "len(s1)"
   ]
  },
  {
   "cell_type": "code",
   "execution_count": 33,
   "id": "484ab260",
   "metadata": {
    "cell_style": "split"
   },
   "outputs": [
    {
     "data": {
      "text/plain": [
       "'abcdefbob'"
      ]
     },
     "execution_count": 33,
     "metadata": {},
     "output_type": "execute_result"
    }
   ],
   "source": [
    "# concaténation\n",
    "s1 + s2\n",
    "'abcdefbob'"
   ]
  },
  {
   "cell_type": "code",
   "execution_count": 34,
   "id": "4d17bb80",
   "metadata": {
    "cell_style": "split"
   },
   "outputs": [
    {
     "data": {
      "text/plain": [
       "'géca'"
      ]
     },
     "execution_count": 34,
     "metadata": {},
     "output_type": "execute_result"
    }
   ],
   "source": [
    "s1[-1::-2]"
   ]
  },
  {
   "cell_type": "code",
   "execution_count": 35,
   "id": "2ba7c96b",
   "metadata": {
    "cell_style": "split"
   },
   "outputs": [
    {
     "data": {
      "text/plain": [
       "'=============================='"
      ]
     },
     "execution_count": 35,
     "metadata": {},
     "output_type": "execute_result"
    }
   ],
   "source": [
    "'=' * 30"
   ]
  },
  {
   "cell_type": "markdown",
   "id": "4be403ad",
   "metadata": {
    "slideshow": {
     "slide_type": "slide"
    }
   },
   "source": [
    "#### opérations sur les `str` ..."
   ]
  },
  {
   "cell_type": "code",
   "execution_count": 36,
   "id": "52924a4b",
   "metadata": {
    "cell_style": "split"
   },
   "outputs": [
    {
     "data": {
      "text/plain": [
       "'abcdéfg'"
      ]
     },
     "execution_count": 36,
     "metadata": {},
     "output_type": "execute_result"
    }
   ],
   "source": [
    "s1"
   ]
  },
  {
   "cell_type": "code",
   "execution_count": 37,
   "id": "9c3fc706",
   "metadata": {
    "cell_style": "split"
   },
   "outputs": [
    {
     "data": {
      "text/plain": [
       "False"
      ]
     },
     "execution_count": 37,
     "metadata": {},
     "output_type": "execute_result"
    }
   ],
   "source": [
    "'x' in s1"
   ]
  },
  {
   "cell_type": "code",
   "execution_count": 38,
   "id": "38cad31f",
   "metadata": {
    "cell_style": "split"
   },
   "outputs": [
    {
     "data": {
      "text/plain": [
       "True"
      ]
     },
     "execution_count": 38,
     "metadata": {},
     "output_type": "execute_result"
    }
   ],
   "source": [
    "'cdé' in s1"
   ]
  },
  {
   "cell_type": "code",
   "execution_count": 39,
   "id": "84705e78",
   "metadata": {
    "cell_style": "split"
   },
   "outputs": [
    {
     "data": {
      "text/plain": [
       "2"
      ]
     },
     "execution_count": 39,
     "metadata": {},
     "output_type": "execute_result"
    }
   ],
   "source": [
    "s1.index('cdé')"
   ]
  },
  {
   "cell_type": "markdown",
   "id": "19df4d24",
   "metadata": {
    "slideshow": {
     "slide_type": "slide"
    }
   },
   "source": [
    "#### opérations sur les `str` ..."
   ]
  },
  {
   "cell_type": "markdown",
   "id": "8aa73748",
   "metadata": {},
   "source": [
    "* par contre **ATTENTION** un `str` n'est **pas mutable**"
   ]
  },
  {
   "cell_type": "code",
   "execution_count": 40,
   "id": "0cbd5985",
   "metadata": {},
   "outputs": [
    {
     "name": "stdout",
     "output_type": "stream",
     "text": [
      "OOPS 'str' object does not support item assignment <class 'TypeError'>\n"
     ]
    }
   ],
   "source": [
    "try: \n",
    "    s1[2] = 'x'\n",
    "except TypeError as e:\n",
    "    print(\"OOPS\", e, type(e))    "
   ]
  },
  {
   "cell_type": "markdown",
   "id": "9a3f2d9c",
   "metadata": {
    "slideshow": {
     "slide_type": "slide"
    }
   },
   "source": [
    "### formatage des chaînes : f-strings"
   ]
  },
  {
   "cell_type": "markdown",
   "id": "17709d67",
   "metadata": {
    "cell_style": "split"
   },
   "source": [
    "* depuis Python-3.6\n",
    "* utilisez les ***f-strings***\n",
    "* qui évitent les répétitions fastidieuses"
   ]
  },
  {
   "cell_type": "markdown",
   "id": "4e695604",
   "metadata": {
    "cell_style": "split"
   },
   "source": [
    "* entre `{` et `}` : **du code** \n",
    "* embarqué directement dans le format\n",
    "* n'importe quelle expression"
   ]
  },
  {
   "cell_type": "code",
   "execution_count": 41,
   "id": "d4fafad0",
   "metadata": {
    "cell_style": "split"
   },
   "outputs": [],
   "source": [
    "import math"
   ]
  },
  {
   "cell_type": "code",
   "execution_count": 42,
   "id": "c5747679",
   "metadata": {
    "cell_style": "split"
   },
   "outputs": [],
   "source": [
    "nom, age = \"Pierre\", 42"
   ]
  },
  {
   "cell_type": "code",
   "execution_count": 43,
   "id": "bc8a2934",
   "metadata": {
    "cell_style": "split"
   },
   "outputs": [
    {
     "data": {
      "text/plain": [
       "'Pierre a 42 ans'"
      ]
     },
     "execution_count": 43,
     "metadata": {},
     "output_type": "execute_result"
    }
   ],
   "source": [
    "f\"{nom} a {age} ans\""
   ]
  },
  {
   "cell_type": "code",
   "execution_count": 44,
   "id": "49860c73",
   "metadata": {
    "cell_style": "split"
   },
   "outputs": [
    {
     "data": {
      "text/plain": [
       "'360° = 6.283185307179586 radians'"
      ]
     },
     "execution_count": 44,
     "metadata": {},
     "output_type": "execute_result"
    }
   ],
   "source": [
    "f\"360° = {2*math.pi} radians\""
   ]
  },
  {
   "cell_type": "markdown",
   "id": "b22ffd00",
   "metadata": {
    "slideshow": {
     "slide_type": "slide"
    }
   },
   "source": [
    "#### formatage des chaînes de caractères"
   ]
  },
  {
   "cell_type": "markdown",
   "id": "f9fbe2f8",
   "metadata": {
    "slideshow": {
     "slide_type": ""
    }
   },
   "source": [
    "![](media/f-string.png)"
   ]
  },
  {
   "cell_type": "code",
   "execution_count": 45,
   "id": "f60501e9",
   "metadata": {},
   "outputs": [
    {
     "name": "stdout",
     "output_type": "stream",
     "text": [
      "ᴨ arrondi à deux décimales = 3.14\n"
     ]
    }
   ],
   "source": [
    "print(f\"ᴨ arrondi à deux décimales = {math.pi:.2f}\")"
   ]
  },
  {
   "cell_type": "markdown",
   "id": "bf8f4cdc",
   "metadata": {
    "slideshow": {
     "slide_type": "slide"
    }
   },
   "source": [
    "#### formats - scientifiques"
   ]
  },
  {
   "cell_type": "markdown",
   "id": "a54dcaff",
   "metadata": {},
   "source": [
    "formats scientifiques usuels: `e` `f` et `g`, cf. `printf`"
   ]
  },
  {
   "cell_type": "code",
   "execution_count": 46,
   "id": "32fb3a1e",
   "metadata": {},
   "outputs": [
    {
     "data": {
      "text/plain": [
       "'2.345123e+04 | 23451.234235 | 23451.2 | 00023451.2 | 23451.23'"
      ]
     },
     "execution_count": 46,
     "metadata": {},
     "output_type": "execute_result"
    }
   ],
   "source": [
    "x = 23451.23423536563\n",
    "f'{x:e} | {x:f} | {x:g} | {x:010.1f} | {x:.2f}'"
   ]
  },
  {
   "cell_type": "code",
   "execution_count": 47,
   "id": "73df84a2",
   "metadata": {},
   "outputs": [
    {
     "data": {
      "text/plain": [
       "'7.698761e+05 | 769876.114340 | 769876 | 0769876.11 | 769876.11'"
      ]
     },
     "execution_count": 47,
     "metadata": {},
     "output_type": "execute_result"
    }
   ],
   "source": [
    "y = 769876.11434\n",
    "f'{y:e} | {y:f} | {y:g} | {y:010.2f} | {y:.2f}'"
   ]
  },
  {
   "cell_type": "markdown",
   "id": "5eae21ce",
   "metadata": {},
   "source": [
    "Voir aussi pour plus de détails:  \n",
    "https://mkaz.blog/code/python-string-format-cookbook/"
   ]
  },
  {
   "cell_type": "markdown",
   "id": "4ca3da96",
   "metadata": {
    "slideshow": {
     "slide_type": "slide"
    },
    "tags": [
     "level_intermediate"
    ]
   },
   "source": [
    "#### formats pour f-string : justification"
   ]
  },
  {
   "cell_type": "markdown",
   "id": "aa1a01c8",
   "metadata": {},
   "source": [
    "justification: formats `<` `ˆ` et `>`"
   ]
  },
  {
   "cell_type": "code",
   "execution_count": 48,
   "id": "8a4b9248",
   "metadata": {},
   "outputs": [
    {
     "data": {
      "text/plain": [
       "'|Pierre      |   Pierre   |      Pierre|'"
      ]
     },
     "execution_count": 48,
     "metadata": {},
     "output_type": "execute_result"
    }
   ],
   "source": [
    "f\"|{nom:<12}|{nom:^12}|{nom:>12}|\""
   ]
  },
  {
   "cell_type": "code",
   "execution_count": 49,
   "id": "c4a5a306",
   "metadata": {},
   "outputs": [
    {
     "data": {
      "text/plain": [
       "'|123         |----123-----|000000000123|'"
      ]
     },
     "execution_count": 49,
     "metadata": {},
     "output_type": "execute_result"
    }
   ],
   "source": [
    "# on peut aussi préciser avec quel caractère remplir\n",
    "num = 123\n",
    "f\"|{num:<12}|{num:-^12}|{num:0>12}|\""
   ]
  },
  {
   "cell_type": "markdown",
   "id": "b70a49ea",
   "metadata": {
    "slideshow": {
     "slide_type": "slide"
    }
   },
   "source": [
    "### méthodes sur les `str`"
   ]
  },
  {
   "cell_type": "markdown",
   "id": "c97b0f24",
   "metadata": {},
   "source": [
    "* de nombreuses méthodes disponibles"
   ]
  },
  {
   "cell_type": "code",
   "execution_count": 50,
   "id": "e60a87d1",
   "metadata": {},
   "outputs": [
    {
     "data": {
      "text/plain": [
       "'une grande phrase'"
      ]
     },
     "execution_count": 50,
     "metadata": {},
     "output_type": "execute_result"
    }
   ],
   "source": [
    "s = \"une petite phrase\"\n",
    "s.replace('petite', 'grande')"
   ]
  },
  {
   "cell_type": "code",
   "execution_count": 51,
   "id": "aa7d5ce5",
   "metadata": {},
   "outputs": [
    {
     "data": {
      "text/plain": [
       "12"
      ]
     },
     "execution_count": 51,
     "metadata": {},
     "output_type": "execute_result"
    }
   ],
   "source": [
    "s.find('hra')"
   ]
  },
  {
   "cell_type": "code",
   "execution_count": 52,
   "id": "8c866537",
   "metadata": {},
   "outputs": [
    {
     "data": {
      "text/plain": [
       "['une', 'petite', 'phrase']"
      ]
     },
     "execution_count": 52,
     "metadata": {},
     "output_type": "execute_result"
    }
   ],
   "source": [
    "liste = s.split()\n",
    "liste"
   ]
  },
  {
   "cell_type": "markdown",
   "id": "48a4568b",
   "metadata": {
    "slideshow": {
     "slide_type": "slide"
    }
   },
   "source": [
    "#### sur les `str` : `split()` et `join()`"
   ]
  },
  {
   "cell_type": "code",
   "execution_count": 53,
   "id": "c4a3bc49",
   "metadata": {},
   "outputs": [
    {
     "data": {
      "text/plain": [
       "['une', 'petite', 'phrase']"
      ]
     },
     "execution_count": 53,
     "metadata": {},
     "output_type": "execute_result"
    }
   ],
   "source": [
    "liste"
   ]
  },
  {
   "cell_type": "code",
   "execution_count": 54,
   "id": "a0c9bd33",
   "metadata": {
    "cell_style": "split"
   },
   "outputs": [
    {
     "data": {
      "text/plain": [
       "'unepetitephrase'"
      ]
     },
     "execution_count": 54,
     "metadata": {},
     "output_type": "execute_result"
    }
   ],
   "source": [
    "\"\".join(liste)"
   ]
  },
  {
   "cell_type": "code",
   "execution_count": 55,
   "id": "dff0a1c7",
   "metadata": {
    "cell_style": "split"
   },
   "outputs": [
    {
     "data": {
      "text/plain": [
       "'une petite phrase'"
      ]
     },
     "execution_count": 55,
     "metadata": {},
     "output_type": "execute_result"
    }
   ],
   "source": [
    "\" \".join(liste)"
   ]
  },
  {
   "cell_type": "code",
   "execution_count": 56,
   "id": "a31410bb",
   "metadata": {},
   "outputs": [
    {
     "data": {
      "text/plain": [
       "'une_petite_phrase'"
      ]
     },
     "execution_count": 56,
     "metadata": {},
     "output_type": "execute_result"
    }
   ],
   "source": [
    "\"_\".join(liste)"
   ]
  },
  {
   "cell_type": "code",
   "execution_count": 57,
   "id": "4eccf1b9",
   "metadata": {
    "cell_style": "split"
   },
   "outputs": [
    {
     "data": {
      "text/plain": [
       "'une_petite_phrase'"
      ]
     },
     "execution_count": 57,
     "metadata": {},
     "output_type": "execute_result"
    }
   ],
   "source": [
    "s2 = \"_\".join(liste)\n",
    "s2"
   ]
  },
  {
   "cell_type": "code",
   "execution_count": 58,
   "id": "dd5e1fc3",
   "metadata": {
    "cell_style": "split"
   },
   "outputs": [
    {
     "data": {
      "text/plain": [
       "['une', 'petite', 'phrase']"
      ]
     },
     "execution_count": 58,
     "metadata": {},
     "output_type": "execute_result"
    }
   ],
   "source": [
    "s2.split('_')"
   ]
  },
  {
   "cell_type": "markdown",
   "id": "bcae8ad5",
   "metadata": {
    "slideshow": {
     "slide_type": "slide"
    }
   },
   "source": [
    "## `str` *vs* `bytes`"
   ]
  },
  {
   "cell_type": "markdown",
   "id": "0f9c1fda",
   "metadata": {
    "slideshow": {
     "slide_type": "slide"
    }
   },
   "source": [
    "### contenus binaires et textuels"
   ]
  },
  {
   "cell_type": "markdown",
   "id": "a8c357b0",
   "metadata": {
    "slideshow": {
     "slide_type": ""
    }
   },
   "source": [
    "* toutes les données ne sont pas textuelles\n",
    "  * exemple: fichiers exécutables comme `cmd.exe`\n",
    "  * stockage de données propriétaires (.doc, .xls, ...)\n",
    "* dès qu'on utilise des données textuelles,\n",
    "  * on décode une suite de bits\n",
    "  * il faut leur **donner un sens**\n",
    "  * c'est l'encodage"
   ]
  },
  {
   "cell_type": "markdown",
   "id": "1b4c9923",
   "metadata": {
    "slideshow": {
     "slide_type": "slide"
    }
   },
   "source": [
    "### le problème"
   ]
  },
  {
   "cell_type": "markdown",
   "id": "499ef33a",
   "metadata": {},
   "source": [
    "* dès que vous échangez avec l'extérieur, i.e.\n",
    "  * Internet (Web, mail, etc.)\n",
    "  * stockage (disque dur, clef USB)\n",
    "  * terminal ou GUI, etc..\n",
    "* vous traitez en fait des flux **binaires**\n",
    "  * et donc vous êtes confrontés à l'encodage des chaines\n",
    "  * et notamment en présence d'accents\n",
    "  * ou autres caractères non-ASCII"
   ]
  },
  {
   "cell_type": "markdown",
   "id": "5879b740",
   "metadata": {
    "slideshow": {
     "slide_type": "slide"
    }
   },
   "source": [
    "### codage et décodage en python"
   ]
  },
  {
   "cell_type": "markdown",
   "id": "b09854cc",
   "metadata": {
    "cell_style": "split"
   },
   "source": [
    "* le type `bytes` correspond,  \n",
    "  comme son nom l'indique,  \n",
    "  à une suite d'**octets**\n",
    "\n",
    "  * dont la signification  \n",
    "   (le décodage) est à la  \n",
    "   charge du programmeur\n",
    "\n",
    "* ce qui **n'est pas du tout**  \n",
    "  le cas du type `str`\n",
    "  * décodage fait par Python\n",
    "  * le programmeur choisit un  \n",
    "    encodage (défaut UTF-8)"
   ]
  },
  {
   "cell_type": "markdown",
   "id": "6d17e318",
   "metadata": {
    "cell_style": "split",
    "slideshow": {
     "slide_type": ""
    }
   },
   "source": [
    "![](media/str-bytes.png)"
   ]
  },
  {
   "cell_type": "markdown",
   "id": "0ddee5a1",
   "metadata": {
    "slideshow": {
     "slide_type": "slide"
    }
   },
   "source": [
    "## Unicode"
   ]
  },
  {
   "cell_type": "markdown",
   "id": "7d3dd976",
   "metadata": {},
   "source": [
    "* ***une*** liste des caractères \n",
    "  * avec **chacun un *codepoint*** - un nombre entier unique\n",
    "  * de l'ordre de 137.000 + en Juin 2018 (*and counting*)\n",
    "  * limite théorique 1,114,112 caractères\n",
    "\n",
    "* ***trois*** encodages:\n",
    "    * **UTF-8**: taille variable 1 à 4 octets, **compatible ASCII**\n",
    "    * UTF-32: taille fixe, 4 octets par caractère\n",
    "    * UTF-16: taile variable, 2 ou 4 octets"
   ]
  },
  {
   "cell_type": "markdown",
   "id": "0e40decb",
   "metadata": {
    "slideshow": {
     "slide_type": "slide"
    }
   },
   "source": [
    "### l'essentiel sur UTF-8\n",
    "\n",
    "* c'est l'encodage le plus répandu aujourd'hui \n",
    "  * la famille des ISO-latin et autres cp1252 sont à proscrire absolument\n",
    "  * en 2020, c'est de moins en moins un souci\n",
    "\n",
    "* avec UTF-8, les caractères usuels (dits ASCII),   \n",
    "  sans accent, **sont codés sur 1 octet**\n",
    "* mais ce n'est pas le cas en général :\n",
    "  * les caractères **accentués** européens  \n",
    "    sont codés sur **2 octets**"
   ]
  },
  {
   "cell_type": "markdown",
   "id": "65e92401",
   "metadata": {
    "slideshow": {
     "slide_type": "slide"
    },
    "tags": [
     "level_intermediate"
    ]
   },
   "source": [
    "### UTF-8 illustré"
   ]
  },
  {
   "cell_type": "markdown",
   "id": "479a874b",
   "metadata": {
    "slideshow": {
     "slide_type": ""
    },
    "tags": []
   },
   "source": [
    "le codepoint du caractère `é` est `0xe8` c'est-à-dire `232` \n",
    "\n",
    "![](media/unicode-table.png)"
   ]
  },
  {
   "cell_type": "markdown",
   "id": "19bbc829",
   "metadata": {
    "slideshow": {
     "slide_type": "slide"
    }
   },
   "source": [
    "voici le flux binaire correspondant à la chaine `\"été\\n\"`\n",
    "\n",
    "![](media/unicode-decode-example.png)"
   ]
  },
  {
   "cell_type": "markdown",
   "id": "7dc5868f",
   "metadata": {
    "slideshow": {
     "slide_type": "slide"
    },
    "tags": [
     "level_advanced"
    ]
   },
   "source": [
    "### UTF-8 - le codage"
   ]
  },
  {
   "cell_type": "markdown",
   "id": "a8a6c342",
   "metadata": {},
   "source": [
    "* le nombre d'octets utilisé pour encoder un caractère dépend\n",
    "  * du caractère et de l'encodage\n",
    "  * texte ASCII : identique en UTF-8\n",
    "  * en particulier, ne prennent qu'un octet"
   ]
  },
  {
   "cell_type": "markdown",
   "id": "c4a24419",
   "metadata": {
    "slideshow": {
     "slide_type": ""
    }
   },
   "source": [
    "![](media/unicode-utf8-areas.png)"
   ]
  },
  {
   "cell_type": "markdown",
   "id": "142838c9",
   "metadata": {
    "hide_input": true,
    "slideshow": {
     "slide_type": "slide"
    },
    "tags": []
   },
   "source": [
    "## UTF-8 et Python: `encode` et `decode`"
   ]
  },
  {
   "cell_type": "code",
   "execution_count": 59,
   "id": "52b807fd",
   "metadata": {
    "cell_style": "split"
   },
   "outputs": [
    {
     "data": {
      "text/plain": [
       "str"
      ]
     },
     "execution_count": 59,
     "metadata": {},
     "output_type": "execute_result"
    }
   ],
   "source": [
    "text = 'été\\n'\n",
    "type(text)"
   ]
  },
  {
   "cell_type": "code",
   "execution_count": 60,
   "id": "dd75d90a",
   "metadata": {
    "cell_style": "split"
   },
   "outputs": [
    {
     "data": {
      "text/plain": [
       "4"
      ]
     },
     "execution_count": 60,
     "metadata": {},
     "output_type": "execute_result"
    }
   ],
   "source": [
    "# on compte les \n",
    "# caractères \n",
    "\n",
    "len(text)"
   ]
  },
  {
   "cell_type": "code",
   "execution_count": 61,
   "id": "0be538bf",
   "metadata": {
    "cell_style": "split"
   },
   "outputs": [
    {
     "name": "stdout",
     "output_type": "stream",
     "text": [
      "c3 a9 74 c3 a9 0a "
     ]
    }
   ],
   "source": [
    "octets = text.encode(encoding=\"utf-8\")\n",
    "for b in octets:\n",
    "    print(f\"{b:02x}\", end=\" \")"
   ]
  },
  {
   "cell_type": "code",
   "execution_count": 62,
   "id": "1a6b4aab",
   "metadata": {
    "cell_style": "split"
   },
   "outputs": [
    {
     "data": {
      "text/plain": [
       "6"
      ]
     },
     "execution_count": 62,
     "metadata": {},
     "output_type": "execute_result"
    }
   ],
   "source": [
    "# ici par contre on\n",
    "# compte les octets\n",
    "\n",
    "len(octets)"
   ]
  },
  {
   "cell_type": "markdown",
   "id": "793107c3",
   "metadata": {
    "slideshow": {
     "slide_type": "slide"
    },
    "tags": []
   },
   "source": [
    "### Unicode et Python: `chr` et `ord`"
   ]
  },
  {
   "cell_type": "markdown",
   "id": "8dd744a0",
   "metadata": {
    "cell_style": "split"
   },
   "source": [
    "![](media/unicode-e-accent.png)"
   ]
  },
  {
   "cell_type": "code",
   "execution_count": 63,
   "id": "e0d092f1",
   "metadata": {
    "cell_style": "split"
   },
   "outputs": [
    {
     "data": {
      "text/plain": [
       "233"
      ]
     },
     "execution_count": 63,
     "metadata": {},
     "output_type": "execute_result"
    }
   ],
   "source": [
    "# le codepoint du é accent aigu\n",
    "codepoint = 0xe9\n",
    "codepoint"
   ]
  },
  {
   "cell_type": "code",
   "execution_count": 64,
   "id": "61285bec",
   "metadata": {
    "cell_style": "split"
   },
   "outputs": [
    {
     "data": {
      "text/plain": [
       "'é'"
      ]
     },
     "execution_count": 64,
     "metadata": {},
     "output_type": "execute_result"
    }
   ],
   "source": [
    "chr(codepoint)"
   ]
  },
  {
   "cell_type": "code",
   "execution_count": 65,
   "id": "78ce4a32",
   "metadata": {
    "cell_style": "split"
   },
   "outputs": [
    {
     "data": {
      "text/plain": [
       "233"
      ]
     },
     "execution_count": 65,
     "metadata": {},
     "output_type": "execute_result"
    }
   ],
   "source": [
    "ord('é')"
   ]
  },
  {
   "cell_type": "markdown",
   "id": "13268add",
   "metadata": {
    "slideshow": {
     "slide_type": "slide"
    }
   },
   "source": [
    "## pourquoi l’encodage c’est souvent un souci ?"
   ]
  },
  {
   "cell_type": "markdown",
   "id": "fc54d12b",
   "metadata": {},
   "source": [
    "* chaque fois qu'une application écrit du texte dans un fichier\n",
    "  * elle utilise un encodage\n",
    "* cette information (quel encodage?) est **parfois** disponible\n",
    "  * dans ou avec le fichier\n",
    "  * ex. `# -*- coding: utf-8 -*-`\n",
    "  * HTTP headers\n",
    "* mais le plus souvent on ne peut pas sauver cette information\n",
    "  * pas prévu dans le format\n",
    "  * il faudrait des **métadata**"
   ]
  },
  {
   "cell_type": "markdown",
   "id": "ad528341",
   "metadata": {
    "slideshow": {
     "slide_type": "slide"
    }
   },
   "source": [
    "### pourquoi l’encodage c’est souvent un souci ?"
   ]
  },
  {
   "cell_type": "markdown",
   "id": "4cfa6d22",
   "metadata": {},
   "source": [
    "* du coup on utilise le plus souvent des heuristiques\n",
    "  * ex: un ordinateur (OS) configuré pour `cp-1252`\n",
    "  * applications qui utilisent l'encodage défini pour tout l'ordi\n",
    "* c'est comme ça qu'on reçoit des mails comme\n",
    "  * `j'ai Ã©tÃ© reÃ§u Ã\\xa0 l'Ã©cole`\n",
    "  * au lieu de\n",
    "  * `j'ai été reçu à l'école`\n",
    "* sans parler des polices de caractères.."
   ]
  },
  {
   "cell_type": "code",
   "execution_count": 66,
   "id": "89c745e1",
   "metadata": {
    "cell_style": "center",
    "slideshow": {
     "slide_type": "slide"
    }
   },
   "outputs": [],
   "source": [
    "# Jean écrit un mail\n",
    "envoyé = \"j'ai été reçu à l'école\""
   ]
  },
  {
   "cell_type": "code",
   "execution_count": 67,
   "id": "8413b1a6",
   "metadata": {
    "cell_style": "center",
    "slideshow": {
     "slide_type": ""
    }
   },
   "outputs": [],
   "source": [
    "# son OS l'encode pour le faire passer sur le réseau\n",
    "binaire = envoyé.encode(encoding=\"utf-8\")"
   ]
  },
  {
   "cell_type": "code",
   "execution_count": 68,
   "id": "fd0d4d17",
   "metadata": {
    "slideshow": {
     "slide_type": ""
    }
   },
   "outputs": [],
   "source": [
    "# Pierre reçoit le binaire\n",
    "# mais se trompe d'encodage\n",
    "reçu = binaire.decode(encoding=\"cp1252\")"
   ]
  },
  {
   "cell_type": "code",
   "execution_count": 69,
   "id": "b3c7a629",
   "metadata": {
    "slideshow": {
     "slide_type": ""
    }
   },
   "outputs": [
    {
     "data": {
      "text/plain": [
       "\"j'ai Ã©tÃ© reÃ§u Ã\\xa0 l'Ã©cole\""
      ]
     },
     "execution_count": 69,
     "metadata": {},
     "output_type": "execute_result"
    }
   ],
   "source": [
    "# Pierre voit ceci dans son mailer\n",
    "reçu"
   ]
  }
 ],
 "metadata": {
  "celltoolbar": "Slideshow",
  "jupytext": {
   "cell_metadata_filter": "all,-hidden,-heading_collapsed",
   "formats": "md:myst",
   "notebook_metadata_filter": "all,-language_info,-toc,-jupytext.text_representation.jupytext_version,-jupytext.text_representation.format_version",
   "text_representation": {
    "extension": ".md",
    "format_name": "myst"
   }
  },
  "kernelspec": {
   "display_name": "Python 3",
   "language": "python",
   "name": "python3"
  },
  "language_info": {
   "codemirror_mode": {
    "name": "ipython",
    "version": 3
   },
   "file_extension": ".py",
   "mimetype": "text/x-python",
   "name": "python",
   "nbconvert_exporter": "python",
   "pygments_lexer": "ipython3",
   "version": "3.9.6"
  },
  "notebookname": "chaines et binaire",
  "rise": {
   "autolaunch": true,
   "slideNumber": "c/t",
   "start_slideshow_at": "selected",
   "theme": "sky",
   "transition": "cube"
  },
  "source_map": [
   22,
   30,
   34,
   38,
   47,
   56,
   60,
   64,
   71,
   78,
   82,
   88,
   95,
   99,
   108,
   112,
   116,
   121,
   128,
   136,
   143,
   150,
   155,
   159,
   163,
   167,
   173,
   179,
   185,
   191,
   195,
   199,
   205,
   211,
   217,
   223,
   229,
   233,
   237,
   241,
   247,
   254,
   261,
   265,
   271,
   277,
   283,
   289,
   296,
   302,
   306,
   310,
   317,
   324,
   328,
   339,
   343,
   349,
   357,
   364,
   368,
   375,
   382,
   390,
   397,
   403,
   411,
   419,
   425,
   431,
   435,
   441,
   447,
   453,
   459,
   463,
   467,
   474,
   478,
   484,
   490,
   496,
   502,
   508,
   514,
   518,
   522,
   526,
   530,
   534,
   539,
   542,
   547,
   551,
   555,
   559,
   565,
   569,
   573,
   578,
   582,
   587,
   591,
   595,
   601,
   607,
   611,
   618,
   624,
   628,
   632,
   642,
   646,
   657,
   661,
   677,
   681,
   685,
   697,
   711,
   715,
   721,
   727,
   731,
   738,
   742,
   746,
   753,
   762,
   770,
   779,
   783,
   787,
   795,
   801,
   807,
   811,
   823,
   827,
   838,
   848,
   858,
   868
  ],
  "version": "1.0"
 },
 "nbformat": 4,
 "nbformat_minor": 5
}