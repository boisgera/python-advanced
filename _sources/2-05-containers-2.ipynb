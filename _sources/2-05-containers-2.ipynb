{
 "cells": [
  {
   "cell_type": "markdown",
   "id": "0a44bf44",
   "metadata": {},
   "source": [
    "<div class=\"licence\">\n",
    "<span>Licence CC BY-NC-ND</span>\n",
    "<span>Thierry Parmentelat</span>\n",
    "<span><img src=\"media/inria-25-alpha.png\" /></span>\n",
    "</div>"
   ]
  },
  {
   "cell_type": "markdown",
   "id": "2607c45d",
   "metadata": {},
   "source": [
    "# les containers (2/2)\n",
    "\n",
    "* les listes ne sont pas la panacée"
   ]
  },
  {
   "cell_type": "markdown",
   "id": "41200e99",
   "metadata": {
    "slideshow": {
     "slide_type": "slide"
    }
   },
   "source": [
    "## problème avec les séquences"
   ]
  },
  {
   "cell_type": "code",
   "execution_count": 1,
   "id": "66f82027",
   "metadata": {},
   "outputs": [
    {
     "data": {
      "text/plain": [
       "False"
      ]
     },
     "execution_count": 1,
     "metadata": {},
     "output_type": "execute_result"
    }
   ],
   "source": [
    "a = range(30000000)\n",
    "'x' in a      # c’est long !"
   ]
  },
  {
   "cell_type": "code",
   "execution_count": 2,
   "id": "686617f9",
   "metadata": {},
   "outputs": [
    {
     "data": {
      "text/plain": [
       "3"
      ]
     },
     "execution_count": 2,
     "metadata": {},
     "output_type": "execute_result"
    }
   ],
   "source": [
    "a[3]          # on peut utiliser un indice entier"
   ]
  },
  {
   "cell_type": "code",
   "execution_count": 3,
   "id": "3ddd3306",
   "metadata": {},
   "outputs": [
    {
     "name": "stdout",
     "output_type": "stream",
     "text": [
      "OOPS list indices must be integers or slices, not str\n"
     ]
    }
   ],
   "source": [
    "a = []\n",
    "# on ne peut pas indexer avec un nom ou autre chose qu'un entier\n",
    "try:\n",
    "    a['alice'] = 10\n",
    "except TypeError as e:\n",
    "    print(\"OOPS\", e)"
   ]
  },
  {
   "cell_type": "markdown",
   "id": "fb6a9276",
   "metadata": {
    "slideshow": {
     "slide_type": "slide"
    }
   },
   "source": [
    "### problème avec les séquences..."
   ]
  },
  {
   "cell_type": "markdown",
   "id": "4d1c2d11",
   "metadata": {},
   "source": [
    "* une séquence est une liste ordonnée d’éléments  \n",
    "  indexés par des entiers\n",
    "\n",
    "  * les recherches sont longues *O(n)*\n",
    "  * impossible d’avoir un index autre qu’entier\n",
    "  * comment faire, par exemple, un annuaire ?\n",
    "* on voudrait\n",
    "  * une insertion, effacement et recherche en *O(1)*\n",
    "  * une indexation par clef quelconque"
   ]
  },
  {
   "cell_type": "markdown",
   "id": "984bb1af",
   "metadata": {
    "slideshow": {
     "slide_type": "slide"
    }
   },
   "source": [
    "## la solution : les tables de hash"
   ]
  },
  {
   "cell_type": "markdown",
   "id": "3fd9c74c",
   "metadata": {},
   "source": [
    "* une table de hash T indexe des valeurs par des clefs\n",
    "  * chaque clef est unique\n",
    "  * T[clef] = valeur\n",
    "  * insertion, effacement, recherche en O(1)"
   ]
  },
  {
   "cell_type": "markdown",
   "id": "584431bc",
   "metadata": {
    "slideshow": {
     "slide_type": "slide"
    }
   },
   "source": [
    "### comment ça marche ?"
   ]
  },
  {
   "cell_type": "markdown",
   "id": "ee01e659",
   "metadata": {},
   "source": [
    "![hash](media/hash.png)"
   ]
  },
  {
   "cell_type": "markdown",
   "id": "c93acd52",
   "metadata": {
    "slideshow": {
     "slide_type": "slide"
    }
   },
   "source": [
    "### fonction de hachage"
   ]
  },
  {
   "cell_type": "markdown",
   "id": "8885e26c",
   "metadata": {},
   "source": [
    "* la fonction de hash *f()* choisie de façon à ce que\n",
    "  * *f(key, size)* retourne toujours la même valeur \n",
    "  * *key* doit être **immutable**\n",
    "* minimise le risque de collision\n",
    "  * *f(key1, size)* == *f(key2, size)*\n",
    "* une bonne façon de minimiser les collisions  \n",
    "  est de garantir une distribution uniforme"
   ]
  },
  {
   "cell_type": "markdown",
   "id": "92b272f5",
   "metadata": {
    "slideshow": {
     "slide_type": "slide"
    }
   },
   "source": [
    "### table de hash et Python"
   ]
  },
  {
   "cell_type": "markdown",
   "id": "9ec1da20",
   "metadata": {},
   "source": [
    "* le dictionnaire `dict` est une table de hash  \n",
    "  qui utilise comme clef un **objet immutable**  \n",
    "  et comme valeur n’importe quel objet\n",
    "\n",
    "  * association clé → valeur"
   ]
  },
  {
   "cell_type": "markdown",
   "id": "708cdabd",
   "metadata": {
    "slideshow": {
     "slide_type": ""
    }
   },
   "source": [
    "* l'ensemble `set` est une table de hash  \n",
    "  qui utilise comme clef un **objet immutable**  \n",
    "  et qui n’associe pas la clef à une valeur\n",
    "\n",
    "  * notion d’ensemble mathématique"
   ]
  },
  {
   "cell_type": "markdown",
   "id": "09e1957b",
   "metadata": {
    "slideshow": {
     "slide_type": "slide"
    }
   },
   "source": [
    "## le `set`"
   ]
  },
  {
   "cell_type": "markdown",
   "id": "e4fa3bad",
   "metadata": {},
   "source": [
    "* collection non ordonnée d’objets uniques et **immutables**\n",
    "* utile pour tester l’appartenance\n",
    "  * optimisé, beaucoup + rapide que `list`\n",
    "* et éliminer les entrées doubles d’une liste\n",
    "* test d’appartenance plus rapide que pour les listes\n",
    "* les sets autorisent les opérations sur des ensembles\n",
    "  * union (|), intersection (&), différence (-), etc."
   ]
  },
  {
   "cell_type": "markdown",
   "id": "8b818213",
   "metadata": {
    "slideshow": {
     "slide_type": "slide"
    }
   },
   "source": [
    "### construire un `set`"
   ]
  },
  {
   "cell_type": "code",
   "execution_count": 4,
   "id": "9b9b1ab1",
   "metadata": {
    "cell_style": "split"
   },
   "outputs": [
    {
     "data": {
      "text/plain": [
       "set()"
      ]
     },
     "execution_count": 4,
     "metadata": {},
     "output_type": "execute_result"
    }
   ],
   "source": [
    "# attention: {} c'est \n",
    "# un DICTIONNAIRE vide \n",
    "set()          # ensemble vide"
   ]
  },
  {
   "cell_type": "code",
   "execution_count": 5,
   "id": "b5c9244e",
   "metadata": {
    "cell_style": "split"
   },
   "outputs": [
    {
     "data": {
      "text/plain": [
       "{1, 2, 3, 4, 6}"
      ]
     },
     "execution_count": 5,
     "metadata": {},
     "output_type": "execute_result"
    }
   ],
   "source": [
    "L1 = [1, 2, 3, 1, 1, 6, 4]\n",
    "S1 = set(L1)\n",
    "S1"
   ]
  },
  {
   "cell_type": "markdown",
   "id": "a00232ab",
   "metadata": {
    "slideshow": {
     "slide_type": "slide"
    }
   },
   "source": [
    "#### construire un `set`..."
   ]
  },
  {
   "cell_type": "code",
   "execution_count": 6,
   "id": "90e5f16c",
   "metadata": {
    "cell_style": "center"
   },
   "outputs": [
    {
     "name": "stdout",
     "output_type": "stream",
     "text": [
      "OOPS <class 'TypeError'>\n"
     ]
    }
   ],
   "source": [
    "# attention: il faut passer \n",
    "# à set UN itérable\n",
    "try:\n",
    "    S = set(1, 2, 3, 4, 5)\n",
    "except Exception as exc:\n",
    "    print(f\"OOPS {type(exc)}\")    "
   ]
  },
  {
   "cell_type": "markdown",
   "id": "5fe00d3e",
   "metadata": {
    "slideshow": {
     "slide_type": "slide"
    }
   },
   "source": [
    "### `set` et opérateurs"
   ]
  },
  {
   "cell_type": "code",
   "execution_count": 7,
   "id": "b21fb362",
   "metadata": {
    "cell_style": "split"
   },
   "outputs": [
    {
     "data": {
      "text/plain": [
       "{1, 2, 3, 4, 6}"
      ]
     },
     "execution_count": 7,
     "metadata": {},
     "output_type": "execute_result"
    }
   ],
   "source": [
    "S1"
   ]
  },
  {
   "cell_type": "code",
   "execution_count": 8,
   "id": "b2641c80",
   "metadata": {
    "cell_style": "split"
   },
   "outputs": [
    {
     "data": {
      "text/plain": [
       "{1, 3, 4}"
      ]
     },
     "execution_count": 8,
     "metadata": {},
     "output_type": "execute_result"
    }
   ],
   "source": [
    "L2 = [3, 4, 1]\n",
    "S2 = set(L2)\n",
    "S2"
   ]
  },
  {
   "cell_type": "code",
   "execution_count": 9,
   "id": "8037e286",
   "metadata": {
    "cell_style": "split"
   },
   "outputs": [
    {
     "data": {
      "text/plain": [
       "True"
      ]
     },
     "execution_count": 9,
     "metadata": {},
     "output_type": "execute_result"
    }
   ],
   "source": [
    "4 in S2"
   ]
  },
  {
   "cell_type": "code",
   "execution_count": 10,
   "id": "c60c9666",
   "metadata": {
    "cell_style": "split"
   },
   "outputs": [
    {
     "data": {
      "text/plain": [
       "{2, 6}"
      ]
     },
     "execution_count": 10,
     "metadata": {},
     "output_type": "execute_result"
    }
   ],
   "source": [
    "S1 - S2            # différence"
   ]
  },
  {
   "cell_type": "code",
   "execution_count": 11,
   "id": "de00ef03",
   "metadata": {
    "cell_style": "split"
   },
   "outputs": [
    {
     "data": {
      "text/plain": [
       "{1, 2, 3, 4, 6}"
      ]
     },
     "execution_count": 11,
     "metadata": {},
     "output_type": "execute_result"
    }
   ],
   "source": [
    "S1 | S2            # union"
   ]
  },
  {
   "cell_type": "code",
   "execution_count": 12,
   "id": "38b35ef1",
   "metadata": {
    "cell_style": "split"
   },
   "outputs": [
    {
     "data": {
      "text/plain": [
       "{1, 3, 4}"
      ]
     },
     "execution_count": 12,
     "metadata": {},
     "output_type": "execute_result"
    }
   ],
   "source": [
    "S1 & S2            # intersection"
   ]
  },
  {
   "cell_type": "markdown",
   "id": "80b99796",
   "metadata": {
    "slideshow": {
     "slide_type": "slide"
    }
   },
   "source": [
    "### le `set`: méthodes"
   ]
  },
  {
   "cell_type": "code",
   "execution_count": 13,
   "id": "c62612f7",
   "metadata": {
    "cell_style": "split"
   },
   "outputs": [
    {
     "data": {
      "text/plain": [
       "{1, 2, 3, 4}"
      ]
     },
     "execution_count": 13,
     "metadata": {},
     "output_type": "execute_result"
    }
   ],
   "source": [
    "# ensemble littéral\n",
    "S3 = {1, 2, 3, 4}        \n",
    "S3"
   ]
  },
  {
   "cell_type": "code",
   "execution_count": 14,
   "id": "c9cb6926",
   "metadata": {
    "cell_style": "split"
   },
   "outputs": [
    {
     "data": {
      "text/plain": [
       "{1, 2, 3, 4, 'spam'}"
      ]
     },
     "execution_count": 14,
     "metadata": {},
     "output_type": "execute_result"
    }
   ],
   "source": [
    "# ajout d'un élément\n",
    "\n",
    "S3.add('spam')\n",
    "S3"
   ]
  },
  {
   "cell_type": "code",
   "execution_count": 15,
   "id": "e004c23c",
   "metadata": {
    "cell_style": "split"
   },
   "outputs": [
    {
     "data": {
      "text/plain": [
       "{1, 10, 11, 2, 3, 4, 'spam'}"
      ]
     },
     "execution_count": 15,
     "metadata": {},
     "output_type": "execute_result"
    }
   ],
   "source": [
    "# pas de duplication\n",
    "# et pas d'ordre particulier\n",
    "S3.update([10, 11, 10, 11])\n",
    "S3"
   ]
  },
  {
   "cell_type": "code",
   "execution_count": 16,
   "id": "6807e596",
   "metadata": {
    "cell_style": "split"
   },
   "outputs": [
    {
     "data": {
      "text/plain": [
       "{1, 10, 2, 3, 4, 'spam'}"
      ]
     },
     "execution_count": 16,
     "metadata": {},
     "output_type": "execute_result"
    }
   ],
   "source": [
    "S3.remove(11)\n",
    "S3"
   ]
  },
  {
   "cell_type": "markdown",
   "id": "3c5492b0",
   "metadata": {
    "slideshow": {
     "slide_type": "slide"
    }
   },
   "source": [
    "### `frozenset`"
   ]
  },
  {
   "cell_type": "markdown",
   "id": "39513306",
   "metadata": {},
   "source": [
    "* un `set` est un objet **mutable**\n",
    "* le `frozenset` est équivalent mais **non mutable**\n",
    "* un peu comme `list` et `tuple`\n",
    "* par exemple pour servir de clé dans un hash"
   ]
  },
  {
   "cell_type": "code",
   "execution_count": 17,
   "id": "52b3b09c",
   "metadata": {
    "cell_style": "split"
   },
   "outputs": [],
   "source": [
    "fs = frozenset([1, 2, 3, 4])"
   ]
  },
  {
   "cell_type": "code",
   "execution_count": 18,
   "id": "a5f641f4",
   "metadata": {
    "cell_style": "split"
   },
   "outputs": [
    {
     "name": "stdout",
     "output_type": "stream",
     "text": [
      "OOPS 'frozenset' object has no attribute 'add'\n"
     ]
    }
   ],
   "source": [
    "# frozenset pas mutable\n",
    "try:\n",
    "    fs.add(5)\n",
    "except AttributeError as e:\n",
    "    print(\"OOPS\", e)   "
   ]
  },
  {
   "cell_type": "markdown",
   "id": "9487dd74",
   "metadata": {
    "slideshow": {
     "slide_type": "slide"
    }
   },
   "source": [
    "## rapide test de performance"
   ]
  },
  {
   "cell_type": "markdown",
   "id": "41c6850f",
   "metadata": {
    "cell_style": "split"
   },
   "source": [
    "pour la recherche d’un élément  \n",
    "les sets sont **beaucoup plus rapides**"
   ]
  },
  {
   "cell_type": "code",
   "execution_count": 19,
   "id": "669583f0",
   "metadata": {
    "cell_style": "split"
   },
   "outputs": [],
   "source": [
    "import timeit"
   ]
  },
  {
   "cell_type": "code",
   "execution_count": 20,
   "id": "783cba64",
   "metadata": {},
   "outputs": [
    {
     "data": {
      "text/plain": [
       "0.5046522289999871"
      ]
     },
     "execution_count": 20,
     "metadata": {},
     "output_type": "execute_result"
    }
   ],
   "source": [
    "timeit.timeit(setup= \"x = list(range(100000))\", stmt = '\"c\" in x',\n",
    "              number = 300)"
   ]
  },
  {
   "cell_type": "code",
   "execution_count": 21,
   "id": "fc2a4ac8",
   "metadata": {},
   "outputs": [
    {
     "data": {
      "text/plain": [
       "1.0199999962878792e-05"
      ]
     },
     "execution_count": 21,
     "metadata": {},
     "output_type": "execute_result"
    }
   ],
   "source": [
    "timeit.timeit(setup= \"x = set(range(100000))\", stmt = '\"c\" in x',\n",
    "              number = 300)"
   ]
  },
  {
   "cell_type": "markdown",
   "id": "0b9c2346",
   "metadata": {
    "slideshow": {
     "slide_type": "slide"
    }
   },
   "source": [
    "### rapide test de performance..."
   ]
  },
  {
   "cell_type": "markdown",
   "id": "48f2b1f9",
   "metadata": {},
   "source": [
    "même si la liste est très petite"
   ]
  },
  {
   "cell_type": "code",
   "execution_count": 22,
   "id": "a9538826",
   "metadata": {},
   "outputs": [
    {
     "data": {
      "text/plain": [
       "0.3508906769999953"
      ]
     },
     "execution_count": 22,
     "metadata": {},
     "output_type": "execute_result"
    }
   ],
   "source": [
    "timeit.timeit(setup= \"x = list(range(2))\", stmt = '\"c\" in x',\n",
    "              number = 6000000)"
   ]
  },
  {
   "cell_type": "code",
   "execution_count": 23,
   "id": "63527ba1",
   "metadata": {},
   "outputs": [
    {
     "data": {
      "text/plain": [
       "0.15399595299999191"
      ]
     },
     "execution_count": 23,
     "metadata": {},
     "output_type": "execute_result"
    }
   ],
   "source": [
    "timeit.timeit(setup= \"x = set(range(2))\", stmt = '\"c\" in x',\n",
    "              number = 6000000)"
   ]
  },
  {
   "cell_type": "markdown",
   "id": "7ed7ee6c",
   "metadata": {
    "slideshow": {
     "slide_type": "slide"
    }
   },
   "source": [
    "### remarque"
   ]
  },
  {
   "cell_type": "markdown",
   "id": "3f2529d5",
   "metadata": {},
   "source": [
    "avec `ipython` ou dans un notebook, vous pouvez faire vos benchmarks un peu plus simplement"
   ]
  },
  {
   "cell_type": "code",
   "execution_count": 24,
   "id": "48bbb39b",
   "metadata": {},
   "outputs": [
    {
     "data": {
      "text/plain": [
       "0.15091384800001606"
      ]
     },
     "execution_count": 24,
     "metadata": {},
     "output_type": "execute_result"
    }
   ],
   "source": [
    "# en Python pur\n",
    "\n",
    "timeit.timeit(setup= \"x = set(range(2))\", stmt = '0 in x',\n",
    "              number = 6000000)"
   ]
  },
  {
   "cell_type": "code",
   "execution_count": 25,
   "id": "b3b4a790",
   "metadata": {},
   "outputs": [
    {
     "name": "stdout",
     "output_type": "stream",
     "text": [
      "38.7 ns ± 1.3 ns per loop (mean ± std. dev. of 7 runs, 6000000 loops each)\n"
     ]
    }
   ],
   "source": [
    "# avec ipython / notebook vous pouvez \n",
    "# faire comme ceci à la place\n",
    "\n",
    "x = set(range(2))\n",
    "%timeit -n 6000000 0 in x"
   ]
  },
  {
   "cell_type": "markdown",
   "id": "f19c1d4b",
   "metadata": {
    "slideshow": {
     "slide_type": "slide"
    }
   },
   "source": [
    "## le dictionnaire"
   ]
  },
  {
   "cell_type": "markdown",
   "id": "119d0e0a",
   "metadata": {},
   "source": [
    "* généralisation d’une table de hash\n",
    "* collection non ordonnée d’objets\n",
    "* techniquement, uniquement les pointeurs sont stockés, mais pas une copie des objets\n",
    "* on accède aux objets à l’aide d’une clef (et non d’un indice comme pour une liste)\n",
    "* une **clef** peut être n’importe quel objet **immutable**: chaîne, nombre, tuple d’objets immutables...\n",
    "* c’est une structure de données très puissante\n",
    "* le dictionnaire est un type **mutable**"
   ]
  },
  {
   "cell_type": "markdown",
   "id": "e280f907",
   "metadata": {
    "slideshow": {
     "slide_type": "slide"
    }
   },
   "source": [
    "### construire un dictionnaire"
   ]
  },
  {
   "cell_type": "code",
   "execution_count": 26,
   "id": "b8905a26",
   "metadata": {},
   "outputs": [
    {
     "data": {
      "text/plain": [
       "{}"
      ]
     },
     "execution_count": 26,
     "metadata": {},
     "output_type": "execute_result"
    }
   ],
   "source": [
    "# ATTENTION : {} n'est pas un ensemble\n",
    "# les dictionnaires étaient là avant les ensembles !\n",
    "D = {}\n",
    "D"
   ]
  },
  {
   "cell_type": "code",
   "execution_count": 27,
   "id": "c7795ff0",
   "metadata": {},
   "outputs": [
    {
     "data": {
      "text/plain": [
       "{'douze': 12, 1: 'un', 'liste': [1, 2, 3]}"
      ]
     },
     "execution_count": 27,
     "metadata": {},
     "output_type": "execute_result"
    }
   ],
   "source": [
    "# un dictionnaire créé de manière littérale\n",
    "{ 'douze' : 12, 1: 'un', 'liste' : [1, 2, 3] }"
   ]
  },
  {
   "cell_type": "code",
   "execution_count": 28,
   "id": "01c610d1",
   "metadata": {
    "cell_style": "split"
   },
   "outputs": [
    {
     "data": {
      "text/plain": [
       "{'a': 'A', 'b': 'B'}"
      ]
     },
     "execution_count": 28,
     "metadata": {},
     "output_type": "execute_result"
    }
   ],
   "source": [
    "# une autre façon quand \n",
    "# les clés sont des chaînes\n",
    "dict( a = 'A', b = 'B')"
   ]
  },
  {
   "cell_type": "code",
   "execution_count": 29,
   "id": "a5a2cefa",
   "metadata": {
    "cell_style": "split"
   },
   "outputs": [
    {
     "data": {
      "text/plain": [
       "{'a': 'A', 'b': 'B'}"
      ]
     },
     "execution_count": 29,
     "metadata": {},
     "output_type": "execute_result"
    }
   ],
   "source": [
    "# à partir d'une liste de couples\n",
    "dict( [ ('a', 'A'), ('b', 'B') ] )"
   ]
  },
  {
   "cell_type": "markdown",
   "id": "d2277392",
   "metadata": {
    "slideshow": {
     "slide_type": "slide"
    }
   },
   "source": [
    "### utiliser un dictionnaire"
   ]
  },
  {
   "cell_type": "markdown",
   "id": "a84963ac",
   "metadata": {
    "cell_style": "split"
   },
   "source": [
    "formes les plus courantes\n",
    "\n",
    "* `D[clef]` retourne la valeur pour la clef\n",
    "* `D[clef] = x` change la valeur pour la clef\n",
    "* `clef in D` teste l’existence de clef dans D\n",
    "* `for k, v in D.items():` itère sur D\n",
    "* `for f in D:` itère sur les clés"
   ]
  },
  {
   "cell_type": "markdown",
   "id": "df837fda",
   "metadata": {
    "cell_style": "split"
   },
   "source": [
    "et aussi\n",
    "\n",
    "* `del D[clef]` supprime la clef et la valeur\n",
    "* `len(D)` retourne le nombre de clefs dans D\n",
    "* `clef not in D` teste la non existence\n",
    "* `D.copy()` *shallow copy* de D"
   ]
  },
  {
   "cell_type": "markdown",
   "id": "9fe75edd",
   "metadata": {},
   "source": [
    "***"
   ]
  },
  {
   "cell_type": "code",
   "execution_count": 30,
   "id": "f4e9bcfc",
   "metadata": {
    "cell_style": "split",
    "slideshow": {
     "slide_type": "slide"
    }
   },
   "outputs": [
    {
     "data": {
      "text/plain": [
       "{'alice': 35, 'bob': 9, 'charlie': 6}"
      ]
     },
     "execution_count": 30,
     "metadata": {},
     "output_type": "execute_result"
    }
   ],
   "source": [
    "d = {'alice': 35, 'bob' : 9, 'charlie': 6}\n",
    "d"
   ]
  },
  {
   "cell_type": "code",
   "execution_count": 31,
   "id": "ff96471a",
   "metadata": {
    "cell_style": "split"
   },
   "outputs": [
    {
     "data": {
      "text/plain": [
       "3"
      ]
     },
     "execution_count": 31,
     "metadata": {},
     "output_type": "execute_result"
    }
   ],
   "source": [
    "# nombre de clés\n",
    "len(d)"
   ]
  },
  {
   "cell_type": "code",
   "execution_count": 32,
   "id": "663d15cb",
   "metadata": {
    "cell_style": "split"
   },
   "outputs": [
    {
     "data": {
      "text/plain": [
       "35"
      ]
     },
     "execution_count": 32,
     "metadata": {},
     "output_type": "execute_result"
    }
   ],
   "source": [
    "# accéder en lecture\n",
    "d['alice']"
   ]
  },
  {
   "cell_type": "code",
   "execution_count": 33,
   "id": "6933066b",
   "metadata": {
    "cell_style": "split"
   },
   "outputs": [
    {
     "data": {
      "text/plain": [
       "True"
      ]
     },
     "execution_count": 33,
     "metadata": {},
     "output_type": "execute_result"
    }
   ],
   "source": [
    "# test d'appartenance\n",
    "'bob' in d"
   ]
  },
  {
   "cell_type": "code",
   "execution_count": 34,
   "id": "578fb361",
   "metadata": {
    "cell_style": "split"
   },
   "outputs": [
    {
     "data": {
      "text/plain": [
       "{'alice': 35, 'bob': 9, 'charlie': 6, 'jim': 32}"
      ]
     },
     "execution_count": 34,
     "metadata": {},
     "output_type": "execute_result"
    }
   ],
   "source": [
    "# accéder en écriture\n",
    "d['jim'] = 32\n",
    "d"
   ]
  },
  {
   "cell_type": "code",
   "execution_count": 35,
   "id": "06e828e5",
   "metadata": {
    "cell_style": "split"
   },
   "outputs": [
    {
     "data": {
      "text/plain": [
       "{'alice': 35, 'bob': 9, 'charlie': 6}"
      ]
     },
     "execution_count": 35,
     "metadata": {},
     "output_type": "execute_result"
    }
   ],
   "source": [
    "# détruire une clé (et la valeur)\n",
    "del d['jim']\n",
    "d"
   ]
  },
  {
   "cell_type": "markdown",
   "id": "a9d129f6",
   "metadata": {
    "slideshow": {
     "slide_type": "slide"
    }
   },
   "source": [
    "### méthodes sur les dictionnaires"
   ]
  },
  {
   "cell_type": "markdown",
   "id": "6815924e",
   "metadata": {},
   "source": [
    "* `D.get(clef)`\n",
    "  * retourne la valeur associée à cette clé si elle est présente, `None` sinon\n",
    "  * notez bien que `D[clef]` lance **une exception** si la clé n'est **pas présente**\n",
    "  * `D.get(clef, un_truc)` retourne `un_truc` quand la clé n'est pas présente"
   ]
  },
  {
   "cell_type": "code",
   "execution_count": 36,
   "id": "b28b21d7",
   "metadata": {
    "slideshow": {
     "slide_type": "slide"
    }
   },
   "outputs": [
    {
     "data": {
      "text/plain": [
       "{'alice': 35, 'bob': 9, 'charlie': 6}"
      ]
     },
     "execution_count": 36,
     "metadata": {},
     "output_type": "execute_result"
    }
   ],
   "source": [
    "# au départ\n",
    "d"
   ]
  },
  {
   "cell_type": "code",
   "execution_count": 37,
   "id": "32c7b15d",
   "metadata": {
    "cell_style": "split"
   },
   "outputs": [
    {
     "name": "stdout",
     "output_type": "stream",
     "text": [
      "OOPS 'marc'\n"
     ]
    }
   ],
   "source": [
    "# la clé n'est pas présente\n",
    "try:\n",
    "    d['marc']\n",
    "except KeyError as e:\n",
    "    print(\"OOPS\", e)"
   ]
  },
  {
   "cell_type": "code",
   "execution_count": 38,
   "id": "0796311e",
   "metadata": {
    "cell_style": "split"
   },
   "outputs": [
    {
     "data": {
      "text/plain": [
       "'?'"
      ]
     },
     "execution_count": 38,
     "metadata": {},
     "output_type": "execute_result"
    }
   ],
   "source": [
    "# on peut utiliser `get` plutôt \n",
    "# si on préfère un retour de fonction\n",
    "d.get('marc', '?')"
   ]
  },
  {
   "cell_type": "markdown",
   "id": "83bf6dd6",
   "metadata": {
    "slideshow": {
     "slide_type": "slide"
    }
   },
   "source": [
    "### `defaultdict`"
   ]
  },
  {
   "cell_type": "markdown",
   "id": "d129514c",
   "metadata": {
    "cell_style": "split"
   },
   "source": [
    "cas d'usage fréquent :\n",
    "\n",
    "* on veut créer un dictionnaire\n",
    "* dont les valeurs sont des listes\n",
    "* on se retrouve à devoir tester  \n",
    "  l'existence de la clé à chaque fois\n",
    "\n",
    "```python\n",
    "D = {}\n",
    "for ...:\n",
    "    if x not in D:\n",
    "        D[x] = list()\n",
    "    D[x].append(y)\n",
    "```"
   ]
  },
  {
   "cell_type": "markdown",
   "id": "11c34a45",
   "metadata": {
    "cell_style": "split"
   },
   "source": [
    "+ joli avec un `defaultdict`\n",
    "\n",
    "```python\n",
    "from collections import defaultdict\n",
    "\n",
    "D = defaultdict(list)\n",
    "for ...:\n",
    "    # defaultdict crée automatiquement\n",
    "    # D[x] = list() si x n'est pas présent\n",
    "    D[x].append(y)\n",
    "```"
   ]
  },
  {
   "cell_type": "code",
   "execution_count": 39,
   "id": "3ed5b930",
   "metadata": {
    "cell_style": "center",
    "slideshow": {
     "slide_type": "slide"
    }
   },
   "outputs": [
    {
     "data": {
      "text/plain": [
       "{1}"
      ]
     },
     "execution_count": 39,
     "metadata": {},
     "output_type": "execute_result"
    }
   ],
   "source": [
    "from collections import defaultdict\n",
    "\n",
    "# on peut utiliser le type qu'on veut\n",
    "dd = defaultdict(set)\n",
    "# ici on n'a pas encore de valeur \n",
    "# pour la clé '0' mais defaultdict \n",
    "# crée pour nous à la volée une liste vide\n",
    "dd[0].add(1)\n",
    "dd[0]"
   ]
  },
  {
   "cell_type": "markdown",
   "id": "35d91323",
   "metadata": {
    "slideshow": {
     "slide_type": "slide"
    }
   },
   "source": [
    "### les composantes du dictionnaires"
   ]
  },
  {
   "cell_type": "markdown",
   "id": "b6282309",
   "metadata": {},
   "source": [
    "* `D.items()` retourne **une vue** sur les (clef, valeur) de `D`\n",
    "* `D.keys()` retourne une vue sur les clefs de `D`\n",
    "* `D.values()` retourne une vue sur les valeurs de `D`"
   ]
  },
  {
   "cell_type": "markdown",
   "id": "1f29ee4d",
   "metadata": {
    "slideshow": {
     "slide_type": "slide"
    }
   },
   "source": [
    "### qu’est-ce qu’une vue ?"
   ]
  },
  {
   "cell_type": "markdown",
   "id": "381799e7",
   "metadata": {},
   "source": [
    "* c’est un objet qui donne une vue **dynamique** sur un dictionnaire `D`\n",
    "* dynamique, c'est-à-dire que si `D` est modifié après la création de la vue  \n",
    "  la vue continue de refléter la réalité\n",
    "* permet le test d’appartenance avec `in`\n",
    "* permet l’itération (une vue est itérable)"
   ]
  },
  {
   "cell_type": "code",
   "execution_count": 40,
   "id": "745d64a5",
   "metadata": {
    "cell_style": "split"
   },
   "outputs": [
    {
     "data": {
      "text/plain": [
       "dict_keys(['alice', 'bob', 'charlie'])"
      ]
     },
     "execution_count": 40,
     "metadata": {},
     "output_type": "execute_result"
    }
   ],
   "source": [
    "clefs = d.keys()\n",
    "clefs"
   ]
  },
  {
   "cell_type": "code",
   "execution_count": 41,
   "id": "7dcb0233",
   "metadata": {
    "cell_style": "split"
   },
   "outputs": [
    {
     "data": {
      "text/plain": [
       "{'alice': 35, 'bob': 9, 'charlie': 6, 'eve': 100}"
      ]
     },
     "execution_count": 41,
     "metadata": {},
     "output_type": "execute_result"
    }
   ],
   "source": [
    "d['eve'] = 100\n",
    "d"
   ]
  },
  {
   "cell_type": "code",
   "execution_count": 42,
   "id": "3cb6a595",
   "metadata": {
    "cell_style": "split"
   },
   "outputs": [
    {
     "data": {
      "text/plain": [
       "dict_keys(['alice', 'bob', 'charlie', 'eve'])"
      ]
     },
     "execution_count": 42,
     "metadata": {},
     "output_type": "execute_result"
    }
   ],
   "source": [
    "clefs"
   ]
  },
  {
   "cell_type": "markdown",
   "id": "aab1d45b",
   "metadata": {
    "slideshow": {
     "slide_type": "slide"
    }
   },
   "source": [
    "### méthodes sur les dictionnaires - épilogue"
   ]
  },
  {
   "cell_type": "markdown",
   "id": "a975a302",
   "metadata": {},
   "source": [
    "* comme pour toutes les autres types de base de Python\n",
    "* la librairie contient **beaucoup** d'autres méthodes\n",
    "* il faut aller chercher dans la doc en ligne\n",
    "* https://docs.python.org/3/tutorial/datastructures.html#dictionaries"
   ]
  },
  {
   "cell_type": "markdown",
   "id": "5884bca8",
   "metadata": {
    "slideshow": {
     "slide_type": "slide"
    }
   },
   "source": [
    "### ordre des éléments dans un dictionnaire"
   ]
  },
  {
   "cell_type": "markdown",
   "id": "528a84fe",
   "metadata": {},
   "source": [
    "##### remarque d'ordre historique\n",
    "\n",
    "* dans les versions avant 3.5, un dictionnaire ne préservait pas l'ordre\n",
    "  * ce qui est logique par rapport à la technologie de hachage\n",
    "  * mais peut être déroutant pour les débutants, - et les autres aussi parfois...\n",
    "* depuis 3.6, l'**ordre de création** est préservé\n",
    "  * i.e. c'est dans cet ordre que se font les itérations"
   ]
  }
 ],
 "metadata": {
  "celltoolbar": "Slideshow",
  "jupytext": {
   "cell_metadata_filter": "all,-hidden,-heading_collapsed",
   "formats": "md:myst",
   "notebook_metadata_filter": "all,-language_info,-toc,-jupytext.text_representation.jupytext_version,-jupytext.text_representation.format_version",
   "text_representation": {
    "extension": ".md",
    "format_name": "myst"
   }
  },
  "kernelspec": {
   "display_name": "Python 3",
   "language": "python",
   "name": "python3"
  },
  "language_info": {
   "codemirror_mode": {
    "name": "ipython",
    "version": 3
   },
   "file_extension": ".py",
   "mimetype": "text/x-python",
   "name": "python",
   "nbconvert_exporter": "python",
   "pygments_lexer": "ipython3",
   "version": "3.9.6"
  },
  "notebookname": "containers (2/2)",
  "rise": {
   "autolaunch": true,
   "slideNumber": "c/t",
   "start_slideshow_at": "selected",
   "theme": "sky",
   "transition": "cube"
  },
  "source_map": [
   22,
   30,
   36,
   40,
   45,
   49,
   58,
   62,
   74,
   78,
   85,
   89,
   93,
   97,
   107,
   111,
   119,
   127,
   131,
   141,
   145,
   153,
   161,
   165,
   176,
   180,
   186,
   194,
   200,
   206,
   212,
   218,
   222,
   230,
   239,
   248,
   255,
   259,
   266,
   272,
   282,
   286,
   291,
   297,
   302,
   307,
   311,
   315,
   320,
   325,
   329,
   333,
   340,
   348,
   352,
   362,
   366,
   373,
   378,
   386,
   393,
   397,
   407,
   416,
   420,
   430,
   437,
   444,
   451,
   459,
   467,
   471,
   478,
   487,
   497,
   505,
   509,
   526,
   540,
   557,
   561,
   567,
   571,
   579,
   586,
   593,
   599,
   603,
   610,
   614
  ],
  "version": "1.0"
 },
 "nbformat": 4,
 "nbformat_minor": 5
}