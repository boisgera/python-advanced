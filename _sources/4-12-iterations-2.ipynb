{
 "cells": [
  {
   "cell_type": "markdown",
   "id": "3a396f48",
   "metadata": {
    "slideshow": {
     "slide_type": "slide"
    }
   },
   "source": [
    "<div class=\"licence\">\n",
    "<span>Licence CC BY-NC-ND</span>\n",
    "<span>Thierry Parmentelat</span>\n",
    "<span><img src=\"media/inria-25-alpha.png\" /></span>\n",
    "</div>"
   ]
  },
  {
   "cell_type": "markdown",
   "id": "e7227cca",
   "metadata": {
    "slideshow": {
     "slide_type": ""
    }
   },
   "source": [
    "# les itérations - suite"
   ]
  },
  {
   "cell_type": "markdown",
   "id": "8d45ff1d",
   "metadata": {
    "slideshow": {
     "slide_type": "slide"
    }
   },
   "source": [
    "## compréhensions"
   ]
  },
  {
   "cell_type": "markdown",
   "id": "81ffa327",
   "metadata": {},
   "source": [
    "très fréquemment on veut construire un mapping"
   ]
  },
  {
   "cell_type": "markdown",
   "id": "1126b3ce",
   "metadata": {
    "cell_style": "split"
   },
   "source": [
    "* appliquer une fonction à un ensemble de valeurs: `map`\n",
    "\n",
    "![](media/iter-map.png)"
   ]
  },
  {
   "cell_type": "markdown",
   "id": "51af4076",
   "metadata": {
    "cell_style": "split"
   },
   "source": [
    "* idem en excluant certaines entrées: `map` + `filter`\n",
    "\n",
    "![](media/iter-map-filter.png)"
   ]
  },
  {
   "cell_type": "markdown",
   "id": "5e2d085d",
   "metadata": {
    "slideshow": {
     "slide_type": "slide"
    }
   },
   "source": [
    "### compréhension de liste"
   ]
  },
  {
   "cell_type": "markdown",
   "id": "e0add620",
   "metadata": {
    "cell_style": "split"
   },
   "source": [
    "c'est le propos de la  \n",
    "compréhension (de liste):\n",
    "\n",
    "```python\n",
    "[expr(x) for x in iterable]\n",
    "```"
   ]
  },
  {
   "cell_type": "markdown",
   "id": "c9772b37",
   "metadata": {
    "cell_style": "split"
   },
   "source": [
    "qui est  \n",
    "équivalent à \n",
    "\n",
    "```python\n",
    "result = []\n",
    "for x in iterable:\n",
    "    result.append(expr(x))\n",
    "```"
   ]
  },
  {
   "cell_type": "markdown",
   "id": "b7e1b39d",
   "metadata": {
    "slideshow": {
     "slide_type": "slide"
    }
   },
   "source": [
    "### compréhension de liste avec filtre"
   ]
  },
  {
   "cell_type": "markdown",
   "id": "02f5e06e",
   "metadata": {
    "cell_style": "split"
   },
   "source": [
    "si nécessaire on peut\n",
    "ajouter un test de filtre:\n",
    "\n",
    "```python\n",
    "[expr(x) for x in iterable if condition(x)]\n",
    "```"
   ]
  },
  {
   "cell_type": "markdown",
   "id": "14d571a5",
   "metadata": {
    "cell_style": "split"
   },
   "source": [
    "qui est  \n",
    "équivalent à \n",
    "\n",
    "```python\n",
    "result = []\n",
    "for x in iterable:\n",
    "    if condition(x):\n",
    "        result.append(expr(x))\n",
    "```"
   ]
  },
  {
   "cell_type": "markdown",
   "id": "fb419ec7",
   "metadata": {
    "slideshow": {
     "slide_type": "slide"
    }
   },
   "source": [
    "#### compréhensions de liste - exemple 1"
   ]
  },
  {
   "cell_type": "code",
   "execution_count": 1,
   "id": "ffcdb955",
   "metadata": {
    "cell_style": "split"
   },
   "outputs": [
    {
     "data": {
      "text/plain": [
       "[0, 1, 4, 9, 16, 25]"
      ]
     },
     "execution_count": 1,
     "metadata": {},
     "output_type": "execute_result"
    }
   ],
   "source": [
    "# la liste des carrés \n",
    "# des entiers entre 0 et 5\n",
    "\n",
    "[x**2 for x in range(6)]"
   ]
  },
  {
   "cell_type": "code",
   "execution_count": 2,
   "id": "912665a4",
   "metadata": {
    "cell_style": "split"
   },
   "outputs": [
    {
     "data": {
      "text/plain": [
       "[0, 1, 4, 9, 16, 25]"
      ]
     },
     "execution_count": 2,
     "metadata": {},
     "output_type": "execute_result"
    }
   ],
   "source": [
    "# si on décortique\n",
    "\n",
    "result = []\n",
    "\n",
    "for x in range(6):\n",
    "    result.append(x**2)\n",
    "\n",
    "result"
   ]
  },
  {
   "cell_type": "markdown",
   "id": "37914ec8",
   "metadata": {
    "slideshow": {
     "slide_type": "slide"
    }
   },
   "source": [
    "#### compréhensions de liste - exemple 2"
   ]
  },
  {
   "cell_type": "code",
   "execution_count": 3,
   "id": "fde0335d",
   "metadata": {
    "cell_style": "split"
   },
   "outputs": [
    {
     "data": {
      "text/plain": [
       "[0, 8, 64]"
      ]
     },
     "execution_count": 3,
     "metadata": {},
     "output_type": "execute_result"
    }
   ],
   "source": [
    "# la liste des cubes\n",
    "# des entiers pairs entre 0 et 5\n",
    "\n",
    "[x**3 for x in range(6) if x % 2 == 0]"
   ]
  },
  {
   "cell_type": "code",
   "execution_count": 4,
   "id": "4b268bab",
   "metadata": {
    "cell_style": "split"
   },
   "outputs": [
    {
     "data": {
      "text/plain": [
       "[0, 8, 64]"
      ]
     },
     "execution_count": 4,
     "metadata": {},
     "output_type": "execute_result"
    }
   ],
   "source": [
    "# si on décortique\n",
    "\n",
    "result = []\n",
    "\n",
    "for x in range(6):\n",
    "    if x % 2 == 0:\n",
    "        result.append(x**3)\n",
    "\n",
    "result"
   ]
  },
  {
   "cell_type": "markdown",
   "id": "078beedc",
   "metadata": {
    "slideshow": {
     "slide_type": "slide"
    }
   },
   "source": [
    "### compréhension de liste - imbrications"
   ]
  },
  {
   "cell_type": "markdown",
   "id": "8a645031",
   "metadata": {},
   "source": [
    "* on peut **imbriquer plusieurs niveaux** de boucle\n",
    "* la profondeur du résultat dépend **du nombre de `[`**  \n",
    "  et **pas du nombre de `for`**"
   ]
  },
  {
   "cell_type": "code",
   "execution_count": 5,
   "id": "fde34a7e",
   "metadata": {},
   "outputs": [
    {
     "data": {
      "text/plain": [
       "[11, 21, 12, 22]"
      ]
     },
     "execution_count": 5,
     "metadata": {},
     "output_type": "execute_result"
    }
   ],
   "source": [
    "# une liste toute plate comme résultat\n",
    "# malgré deux boucles for imbriquées\n",
    "[x+10*y for x in (1, 2) for y in (1, 2)]"
   ]
  },
  {
   "cell_type": "markdown",
   "id": "5462743d",
   "metadata": {
    "slideshow": {
     "slide_type": "slide"
    }
   },
   "source": [
    "#### compréhensions imbriquées - exemple"
   ]
  },
  {
   "cell_type": "markdown",
   "id": "a6eb5e17",
   "metadata": {
    "cell_style": "center"
   },
   "source": [
    "l'ordre dans lequel se lisent les compréhensions imbriquées:\n",
    "il faut imaginer des for imbriqués **dans le même ordre**"
   ]
  },
  {
   "cell_type": "code",
   "execution_count": 6,
   "id": "460faa27",
   "metadata": {
    "cell_style": "split"
   },
   "outputs": [
    {
     "data": {
      "text/plain": [
       "[12, 32, 14, 34]"
      ]
     },
     "execution_count": 6,
     "metadata": {},
     "output_type": "execute_result"
    }
   ],
   "source": [
    "[x + 10*y for x in range(1, 5) \n",
    "     if x % 2 == 0 \n",
    "         for y in range(1, 5)\n",
    "             if y % 2 == 1]"
   ]
  },
  {
   "cell_type": "code",
   "execution_count": 7,
   "id": "ffd66f5c",
   "metadata": {
    "cell_style": "split"
   },
   "outputs": [
    {
     "data": {
      "text/plain": [
       "[12, 32, 14, 34]"
      ]
     },
     "execution_count": 7,
     "metadata": {},
     "output_type": "execute_result"
    }
   ],
   "source": [
    "# est équivalent à\n",
    "# (dans le même ordre)\n",
    "L = []\n",
    "for x in range(1, 5):\n",
    "    if x % 2 == 0:\n",
    "        for y in range(1, 5):\n",
    "            if y % 2 == 1:\n",
    "                L.append(x + 10*y)\n",
    "L"
   ]
  },
  {
   "cell_type": "markdown",
   "id": "4215422b",
   "metadata": {
    "slideshow": {
     "slide_type": "slide"
    }
   },
   "source": [
    "### compréhension d'ensemble"
   ]
  },
  {
   "cell_type": "markdown",
   "id": "c17f3224",
   "metadata": {},
   "source": [
    "même principe exactement, mais avec des `{}` au lieu des `[]`"
   ]
  },
  {
   "cell_type": "code",
   "execution_count": 8,
   "id": "a90785f0",
   "metadata": {
    "cell_style": "split"
   },
   "outputs": [
    {
     "data": {
      "text/plain": [
       "{0, 4, 16, 36}"
      ]
     },
     "execution_count": 8,
     "metadata": {},
     "output_type": "execute_result"
    }
   ],
   "source": [
    "# en délimitant avec des {} \n",
    "# on construit une\n",
    "# compréhension d'ensemble\n",
    "{x**2 for x in range(-6, 7) \n",
    "    if x % 2 == 0}"
   ]
  },
  {
   "cell_type": "code",
   "execution_count": 9,
   "id": "6843eb49",
   "metadata": {
    "cell_style": "split"
   },
   "outputs": [
    {
     "data": {
      "text/plain": [
       "{0, 4, 16, 36}"
      ]
     },
     "execution_count": 9,
     "metadata": {},
     "output_type": "execute_result"
    }
   ],
   "source": [
    "# ATTENTION, rappelez-vous\n",
    "# que {} est un dict !\n",
    "result = set()\n",
    "\n",
    "for x in range(-6, 7):\n",
    "    if x % 2 == 0:\n",
    "        result.add(x**2)\n",
    "        \n",
    "result"
   ]
  },
  {
   "cell_type": "markdown",
   "id": "bf5e47d4",
   "metadata": {
    "slideshow": {
     "slide_type": "slide"
    }
   },
   "source": [
    "### compréhension de dictionnaire"
   ]
  },
  {
   "cell_type": "markdown",
   "id": "e7aeccbd",
   "metadata": {},
   "source": [
    "syntaxe voisine, avec un `:` pour associer clé et valeur"
   ]
  },
  {
   "cell_type": "code",
   "execution_count": 10,
   "id": "f296aa9a",
   "metadata": {
    "cell_style": "split"
   },
   "outputs": [
    {
     "data": {
      "text/plain": [
       "{0: 0, 1: 1, 2: 4, 3: 9}"
      ]
     },
     "execution_count": 10,
     "metadata": {},
     "output_type": "execute_result"
    }
   ],
   "source": [
    "# sans filtre\n",
    " \n",
    "{x : x**2 for x in range(4)}"
   ]
  },
  {
   "cell_type": "code",
   "execution_count": 11,
   "id": "841b983d",
   "metadata": {
    "cell_style": "split"
   },
   "outputs": [
    {
     "data": {
      "text/plain": [
       "{0: 0, 2: 4}"
      ]
     },
     "execution_count": 11,
     "metadata": {},
     "output_type": "execute_result"
    }
   ],
   "source": [
    "# avec filtre\n",
    "\n",
    "{x : x**2 for x in range(4) if x%2 == 0}"
   ]
  },
  {
   "cell_type": "markdown",
   "id": "fb5bdbf8",
   "metadata": {
    "cell_style": "center",
    "slideshow": {
     "slide_type": "slide"
    }
   },
   "source": [
    "#### exemple : créer un index par une compréhension"
   ]
  },
  {
   "cell_type": "markdown",
   "id": "e3577723",
   "metadata": {},
   "source": [
    "un idiome classique :\n",
    "\n",
    "* on a une liste d'éléments (beaucoup, genre $10^6$)\n",
    "* on veut pouvoir accéder **en temps constant** à un élément  \n",
    "  à partir d'un id\n",
    "* solution: créer un dictionnaire - qu'on appelle un *index*  \n",
    "  (comme dans les bases de données)"
   ]
  },
  {
   "cell_type": "code",
   "execution_count": 12,
   "id": "6623f70b",
   "metadata": {
    "slideshow": {
     "slide_type": "slide"
    }
   },
   "outputs": [
    {
     "data": {
      "text/plain": [
       "{'Martin': {'nom': 'Martin', 'prenom': 'Julie', 'age': 18},\n",
       " 'Dupont': {'nom': 'Dupont', 'prenom': 'Jean', 'age': 32},\n",
       " 'Durand': {'nom': 'Durand', 'prenom': 'Pierre', 'age': 25}}"
      ]
     },
     "execution_count": 12,
     "metadata": {},
     "output_type": "execute_result"
    }
   ],
   "source": [
    "# créer une table qui permet un accès direct à partir du nom\n",
    "personnes = [\n",
    "    {'nom': 'Martin', 'prenom': 'Julie', 'age': 18},\n",
    "    {'nom': 'Dupont', 'prenom': 'Jean', 'age': 32},\n",
    "    {'nom': 'Durand', 'prenom': 'Pierre', 'age': 25},  \n",
    "]\n",
    "\n",
    "index = {personne['nom']: personne for personne in personnes}\n",
    "index"
   ]
  },
  {
   "cell_type": "code",
   "execution_count": 13,
   "id": "5adb169f",
   "metadata": {},
   "outputs": [
    {
     "data": {
      "text/plain": [
       "{'nom': 'Martin', 'prenom': 'Julie', 'age': 18}"
      ]
     },
     "execution_count": 13,
     "metadata": {},
     "output_type": "execute_result"
    }
   ],
   "source": [
    "# le concept est le même que dans une base de données\n",
    "# en termes d'accès rapide à partir du nom qui jour le rôle d'id\n",
    "index['Martin']"
   ]
  },
  {
   "cell_type": "markdown",
   "id": "9ce6469d",
   "metadata": {
    "slideshow": {
     "slide_type": "slide"
    }
   },
   "source": [
    "## expression génératrice"
   ]
  },
  {
   "cell_type": "markdown",
   "id": "7ac204a1",
   "metadata": {
    "slideshow": {
     "slide_type": ""
    }
   },
   "source": [
    "### performance des compréhensions\n",
    "\n",
    "la compréhension **n'est pas l'arme absolue**  \n",
    "elle a un **gros défaut**, c'est qu'on va toujours :\n",
    "\n",
    "* parcourir **tout** le domaine\n",
    "* et **allouer** de la mémoire   \n",
    "* au moment où on évalue la compréhension,  \n",
    "  i.e. **avant même** de faire quoi que ce soit d'autre"
   ]
  },
  {
   "cell_type": "markdown",
   "id": "019facb1",
   "metadata": {},
   "source": [
    "finalement c'est **exactement** la même discussion que itérateur *vs* itérable  \n",
    "e.g. quand on avait comparé `range()` avec une liste"
   ]
  },
  {
   "cell_type": "markdown",
   "id": "19652090",
   "metadata": {
    "slideshow": {
     "slide_type": "slide"
    }
   },
   "source": [
    "### expression génératrice\n",
    "\n",
    "* ça se présente un peu comme une compréhension de liste  \n",
    "* mais **avec des `()` à la place des `[]`**\n",
    "* supporte les `if` et les imbrications  \n",
    "  exactement comme les compréhensions"
   ]
  },
  {
   "cell_type": "code",
   "execution_count": 14,
   "id": "d4a73b01",
   "metadata": {},
   "outputs": [],
   "source": [
    "data = [0, 1]"
   ]
  },
  {
   "cell_type": "code",
   "execution_count": 15,
   "id": "37acdbc1",
   "metadata": {
    "cell_style": "split"
   },
   "outputs": [
    {
     "name": "stdout",
     "output_type": "stream",
     "text": [
      "0\n",
      "1\n",
      "1\n",
      "2\n"
     ]
    }
   ],
   "source": [
    "# compréhension\n",
    "\n",
    "C = [x**2+y**2 for x in data for y in data]\n",
    "\n",
    "for y in C:\n",
    "    print(y)"
   ]
  },
  {
   "cell_type": "code",
   "execution_count": 16,
   "id": "9fe728e3",
   "metadata": {
    "cell_style": "split"
   },
   "outputs": [
    {
     "name": "stdout",
     "output_type": "stream",
     "text": [
      "0\n",
      "1\n",
      "1\n",
      "2\n"
     ]
    }
   ],
   "source": [
    "# genexpr\n",
    "\n",
    "G = (x**2+y**2 for x in data for y in data)\n",
    "\n",
    "for y in G:\n",
    "    print(y)"
   ]
  },
  {
   "cell_type": "markdown",
   "id": "c411f431",
   "metadata": {
    "slideshow": {
     "slide_type": "slide"
    }
   },
   "source": [
    "### les genexprs sont des itérateurs"
   ]
  },
  {
   "cell_type": "markdown",
   "id": "fb2529f7",
   "metadata": {},
   "source": [
    "* les objets construits avec une expression génératrice sont de type `generator`\n",
    "* en particulier ce sont des itérateurs"
   ]
  },
  {
   "cell_type": "code",
   "execution_count": 17,
   "id": "bb7be3eb",
   "metadata": {
    "cell_style": "split"
   },
   "outputs": [
    {
     "data": {
      "text/plain": [
       "[0, 1, 4, 9]"
      ]
     },
     "execution_count": 17,
     "metadata": {},
     "output_type": "execute_result"
    }
   ],
   "source": [
    "# compréhension\n",
    "\n",
    "C = [x**2 for x in range(4)]\n",
    "\n",
    "C"
   ]
  },
  {
   "cell_type": "code",
   "execution_count": 18,
   "id": "df73c70d",
   "metadata": {
    "cell_style": "split"
   },
   "outputs": [
    {
     "data": {
      "text/plain": [
       "<generator object <genexpr> at 0x7f5e701422e0>"
      ]
     },
     "execution_count": 18,
     "metadata": {},
     "output_type": "execute_result"
    }
   ],
   "source": [
    "# genexpr\n",
    "\n",
    "G = (x**2 for x in range(4))\n",
    "\n",
    "G"
   ]
  },
  {
   "cell_type": "code",
   "execution_count": 19,
   "id": "dc46b57d",
   "metadata": {
    "cell_style": "split"
   },
   "outputs": [
    {
     "data": {
      "text/plain": [
       "800984"
      ]
     },
     "execution_count": 19,
     "metadata": {},
     "output_type": "execute_result"
    }
   ],
   "source": [
    "# une compréhension est une vraie liste\n",
    "\n",
    "C2 = [x**2 for x in range(100_000)]\n",
    "\n",
    "import sys\n",
    "sys.getsizeof(C2)"
   ]
  },
  {
   "cell_type": "code",
   "execution_count": 20,
   "id": "ad19039f",
   "metadata": {
    "cell_style": "split"
   },
   "outputs": [
    {
     "data": {
      "text/plain": [
       "112"
      ]
     },
     "execution_count": 20,
     "metadata": {},
     "output_type": "execute_result"
    }
   ],
   "source": [
    "# les genexprs sont des itérateurs\n",
    "# et donc sont tout petits\n",
    "\n",
    "G2 = (x**2 for x in range(100_000))\n",
    "\n",
    "sys.getsizeof(G2)"
   ]
  },
  {
   "cell_type": "markdown",
   "id": "c074eea3",
   "metadata": {
    "slideshow": {
     "slide_type": "slide"
    }
   },
   "source": [
    "### compréhension ou genexpr ?\n",
    "\n",
    "* les compréhensions de *dictionnaire* et d'*ensemble* sont souvent justifiées\n",
    "* par contre, pour les *listes*: **toujours bien se demander**  \n",
    "  si on a vraiment besoin de **construire la liste**\n",
    "\n",
    "* ou si au contraire on a juste **besoin d'itérer** dessus  \n",
    "  (souvent une seule fois d'ailleurs)"
   ]
  },
  {
   "cell_type": "markdown",
   "id": "5091a7f5",
   "metadata": {},
   "source": [
    "* si on a vraiment besoin de cette liste  \n",
    "  alors la compréhension est OK\n",
    "\n",
    "* mais dans le cas contraire il faut **préférer un itérateur**   \n",
    "  c'est le propos de l'**expression génératrice**\n",
    "\n",
    "* qui souvent revient à remplacer `[]` par `()`  \n",
    "  (ou même juste enlever les `[]`)\n",
    "\n",
    "* exemple..."
   ]
  },
  {
   "cell_type": "markdown",
   "id": "53e1886a",
   "metadata": {
    "cell_style": "split",
    "slideshow": {
     "slide_type": "slide"
    }
   },
   "source": [
    "apprenez à bien choisir entre  \n",
    "compréhension et genexpr  \n",
    "(les deux sont utiles)"
   ]
  },
  {
   "cell_type": "code",
   "execution_count": 21,
   "id": "e38a6a7c",
   "metadata": {
    "cell_style": "split"
   },
   "outputs": [],
   "source": [
    "# remplissons une classe imaginaire\n",
    "from random import randint\n",
    "\n",
    "matieres = ('maths', 'français', 'philo')\n",
    "\n",
    "def notes_eleve_aleatoires():\n",
    "    return {matiere: randint(0, 20) \n",
    "            for matiere in matieres}"
   ]
  },
  {
   "cell_type": "code",
   "execution_count": 22,
   "id": "bf2c1783",
   "metadata": {
    "cell_style": "center"
   },
   "outputs": [
    {
     "data": {
      "text/plain": [
       "[{'maths': 3, 'français': 16, 'philo': 8},\n",
       " {'maths': 19, 'français': 14, 'philo': 20},\n",
       " {'maths': 1, 'français': 13, 'philo': 9},\n",
       " {'maths': 18, 'français': 6, 'philo': 6}]"
      ]
     },
     "execution_count": 22,
     "metadata": {},
     "output_type": "execute_result"
    }
   ],
   "source": [
    "# ici je crée une compréhension; pourquoi ?\n",
    "notes_classe = [notes_eleve_aleatoires() for _ in range(4)]\n",
    "notes_classe"
   ]
  },
  {
   "cell_type": "code",
   "execution_count": 23,
   "id": "83ce26ef",
   "metadata": {},
   "outputs": [
    {
     "data": {
      "text/plain": [
       "10.25"
      ]
     },
     "execution_count": 23,
     "metadata": {},
     "output_type": "execute_result"
    }
   ],
   "source": [
    "# pour calculer la moyenne de la classe en maths\n",
    "# pas besoin de garder les résultats intermédiaires\n",
    "# du coup, on fabrique une genexpr\n",
    "# en toute rigueur il aurait fallu écrire ceci\n",
    "sum((notes_eleve['maths'] for notes_eleve in notes_classe)) / len(notes_classe)"
   ]
  },
  {
   "cell_type": "code",
   "execution_count": 24,
   "id": "a13bd09d",
   "metadata": {},
   "outputs": [
    {
     "data": {
      "text/plain": [
       "10.25"
      ]
     },
     "execution_count": 24,
     "metadata": {},
     "output_type": "execute_result"
    }
   ],
   "source": [
    "# mais la syntaxe nous permet de nous en affranchir\n",
    "# (remarquez une seul niveau de parenthèses, et l'absence de [])\n",
    "sum(notes_eleve['maths'] for notes_eleve in notes_classe) / len(notes_classe)"
   ]
  },
  {
   "cell_type": "markdown",
   "id": "fe426dd5",
   "metadata": {
    "slideshow": {
     "slide_type": "slide"
    },
    "tags": [
     "level_advanced"
    ]
   },
   "source": [
    "la partie sur les fonction génératrices a été déplacée dans le cours #7"
   ]
  }
 ],
 "metadata": {
  "celltoolbar": "Slideshow",
  "jupytext": {
   "cell_metadata_filter": "all",
   "formats": "md:myst",
   "notebook_metadata_filter": "all,-language_info,-toc,-jupytext.text_representation.jupytext_version",
   "text_representation": {
    "extension": ".md",
    "format_name": "myst",
    "format_version": 0.12
   }
  },
  "kernelspec": {
   "display_name": "Python 3",
   "language": "python",
   "name": "python3"
  },
  "language_info": {
   "codemirror_mode": {
    "name": "ipython",
    "version": 3
   },
   "file_extension": ".py",
   "mimetype": "text/x-python",
   "name": "python",
   "nbconvert_exporter": "python",
   "pygments_lexer": "ipython3",
   "version": "3.9.6"
  },
  "notebookname": "les itérations - suite",
  "rise": {
   "autolaunch": true,
   "slideNumber": "c/t",
   "start_slideshow_at": "selected",
   "theme": "sky",
   "transition": "cube"
  },
  "source_map": [
   25,
   33,
   37,
   41,
   45,
   51,
   57,
   61,
   70,
   81,
   85,
   94,
   106,
   110,
   119,
   132,
   136,
   145,
   159,
   163,
   169,
   175,
   179,
   184,
   193,
   207,
   211,
   215,
   225,
   239,
   243,
   247,
   255,
   263,
   267,
   277,
   293,
   299,
   303,
   315,
   320,
   329,
   333,
   344,
   355,
   359,
   364,
   374,
   384,
   395,
   406,
   417,
   430,
   436,
   449,
   457,
   465,
   471
  ],
  "version": "1.0"
 },
 "nbformat": 4,
 "nbformat_minor": 5
}