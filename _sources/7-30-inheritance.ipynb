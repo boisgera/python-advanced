{
 "cells": [
  {
   "cell_type": "markdown",
   "id": "8d7e95d9",
   "metadata": {
    "slideshow": {
     "slide_type": "slide"
    }
   },
   "source": [
    "<div class=\"licence\">\n",
    "<span>Licence CC BY-NC-ND</span>\n",
    "<span>Thierry Parmentelat</span>\n",
    "</div>\n",
    "\n",
    "<style>\n",
    ".smaller {font-size: smaller}\n",
    "</style>"
   ]
  },
  {
   "cell_type": "markdown",
   "id": "b98bd0c1",
   "metadata": {
    "slideshow": {
     "slide_type": ""
    }
   },
   "source": [
    "# POO & héritage"
   ]
  },
  {
   "cell_type": "markdown",
   "id": "290d4197",
   "metadata": {
    "slideshow": {
     "slide_type": "slide"
    }
   },
   "source": [
    "## pour réutiliser du code en python"
   ]
  },
  {
   "cell_type": "markdown",
   "id": "446e7ad0",
   "metadata": {},
   "source": [
    "* fonctions\n",
    "  * pas d'état après exécution\n",
    "* modules\n",
    "  * garde l'état\n",
    "  * une seule instance par programme\n",
    "* **classes**\n",
    "  * **instances multiples**\n",
    "  * **chacune garde l'état**\n",
    "  * **héritage**"
   ]
  },
  {
   "cell_type": "markdown",
   "id": "9bef2691",
   "metadata": {
    "slideshow": {
     "slide_type": "slide"
    }
   },
   "source": [
    "### programmation orientée objet\n",
    "\n",
    "pourquoi et comment ?"
   ]
  },
  {
   "cell_type": "markdown",
   "id": "c1dff4b6",
   "metadata": {
    "cell_style": "split"
   },
   "source": [
    "#### deux objectifs\n",
    "\n",
    "* modularité\n",
    "* réutilisabilité"
   ]
  },
  {
   "cell_type": "markdown",
   "id": "ff84da2d",
   "metadata": {
    "cell_style": "split"
   },
   "source": [
    "#### deux moyens\n",
    "\n",
    "* espaces de nom\n",
    "* héritage"
   ]
  },
  {
   "cell_type": "markdown",
   "id": "991050a6",
   "metadata": {
    "slideshow": {
     "slide_type": "slide"
    }
   },
   "source": [
    "### modularité & réutilisabilité"
   ]
  },
  {
   "cell_type": "markdown",
   "id": "00aaf998",
   "metadata": {
    "cell_style": "split"
   },
   "source": [
    "* du code modulaire\n",
    "  * grouper le code dans une classe\n",
    "  * grouper les données dans un objet\n",
    "\n",
    "* plus on découpe en petits morceaux\n",
    "  * plus on a de chances de pouvoir réutiliser"
   ]
  },
  {
   "cell_type": "markdown",
   "id": "fda29de0",
   "metadata": {
    "cell_style": "split"
   },
   "source": [
    "* DRY *don't repeat yourself*\n",
    "  * *cut'n paste is evil*\n",
    "* code générique\n",
    "  * ex: un simulateur fait \"avancer\" une collection d'objets\n",
    "  * dès qu'un objet explique comment il avance\n",
    "  * il peut faire partie de la simulation\n",
    "* c'est là qu'intervient l'héritage"
   ]
  },
  {
   "cell_type": "markdown",
   "id": "20b9e1ae",
   "metadata": {
    "slideshow": {
     "slide_type": "slide"
    }
   },
   "source": [
    "## espaces de nom"
   ]
  },
  {
   "cell_type": "markdown",
   "id": "dc941e7a",
   "metadata": {},
   "source": [
    "* tous les objets qui sont\n",
    "  * un package\n",
    "  * un module\n",
    "  * une classe\n",
    "  * une instance (sauf des classes *builtin*)\n",
    "* constituent chacun **un espace de nom**\n",
    "  * i.e. une association *attribut* → *objet*"
   ]
  },
  {
   "cell_type": "markdown",
   "id": "4376a8a5",
   "metadata": {
    "slideshow": {
     "slide_type": "slide"
    }
   },
   "source": [
    "### espaces de nom - pourquoi"
   ]
  },
  {
   "cell_type": "markdown",
   "id": "22754107",
   "metadata": {},
   "source": [
    "* permet de lever l'ambigüité en cas d'homonymie\n",
    "  * si 2 modules utilisent tous les 2 une globale `truc`\n",
    "  * elles peuvent coexister sans souci\n",
    "* les espaces de nom sont imbriqués (*nested*)\n",
    "  * ex. `package.module.classe.methode`\n",
    "* on peut accéder à tous les objets\n",
    "  * dès qu'on sait le faire partir d'une variable\n",
    "  * par exemple un module importé\n",
    "* l'héritage rend cela dynamique\n",
    "  * i.e. la résolution des attributs **est faite à *runtime***"
   ]
  },
  {
   "cell_type": "markdown",
   "id": "1be66954",
   "metadata": {
    "slideshow": {
     "slide_type": "slide"
    }
   },
   "source": [
    "### espaces de nom - variables et attributs"
   ]
  },
  {
   "cell_type": "markdown",
   "id": "e49d9931",
   "metadata": {
    "cell_style": "split"
   },
   "source": [
    "#### deux mondes étanches\n",
    "\n",
    "* variables\n",
    "* attributs"
   ]
  },
  {
   "cell_type": "markdown",
   "id": "861115f9",
   "metadata": {
    "cell_style": "split"
   },
   "source": [
    "#### se mélangent\n",
    "\n",
    "* apparemment seulement\n",
    "* apprenez à bien lire"
   ]
  },
  {
   "cell_type": "markdown",
   "id": "25bbfc38",
   "metadata": {},
   "source": [
    "typiquement dans une expression comme `a.b.c.d`"
   ]
  },
  {
   "cell_type": "markdown",
   "id": "00ed3f87",
   "metadata": {
    "cell_style": "split"
   },
   "source": [
    "* `a` est une **variable**"
   ]
  },
  {
   "cell_type": "markdown",
   "id": "b9927be8",
   "metadata": {
    "cell_style": "split"
   },
   "source": [
    "* `b`, `c` et `d` sont des **attributs**"
   ]
  },
  {
   "cell_type": "markdown",
   "id": "4828d726",
   "metadata": {
    "slideshow": {
     "slide_type": "slide"
    }
   },
   "source": [
    "#### variables statiques / attributs dynamiques"
   ]
  },
  {
   "cell_type": "markdown",
   "id": "6682b610",
   "metadata": {
    "cell_style": "split",
    "slideshow": {
     "slide_type": ""
    }
   },
   "source": [
    "##### résolution des **variables**\n",
    "\n",
    "* entièrement **lexical**\n",
    "* en remontant dans le code\n",
    "* avec les règles LEGB  \n",
    "  local, englobant, global, *builtin*"
   ]
  },
  {
   "cell_type": "markdown",
   "id": "528fb309",
   "metadata": {
    "cell_style": "split",
    "slideshow": {
     "slide_type": ""
    }
   },
   "source": [
    "##### résolution des **attributs**\n",
    "\n",
    "* dans le monde des **objets**\n",
    "* en remontant les espaces de nom\n",
    "* essentiellement **dynamique**  \n",
    "  *i.e.* à *runtime*"
   ]
  },
  {
   "cell_type": "markdown",
   "id": "2ac9e18e",
   "metadata": {
    "cell_style": "center",
    "slideshow": {
     "slide_type": ""
    }
   },
   "source": [
    "*par ex* dans `a.b.c.d`\n",
    "\n",
    "* la variable `a` est identifiée lexicalement  \n",
    "  (variable locale, paramètre de fonction,  \n",
    "   souvenez-vous par exemple des clôtures)\n",
    "* la variable référence un objet\n",
    "* `b` est cherché comme un attribut à partir de cet objet"
   ]
  },
  {
   "cell_type": "markdown",
   "id": "6ab041a3",
   "metadata": {
    "slideshow": {
     "slide_type": "slide"
    }
   },
   "source": [
    "## résolution d'attribut"
   ]
  },
  {
   "cell_type": "markdown",
   "id": "6a885805",
   "metadata": {
    "slideshow": {
     "slide_type": ""
    }
   },
   "source": [
    "* la **résolution des attributs**\n",
    "* fournit la **mécanique de base** de la POO\n",
    "* et sous-tend notamment (mais pas que)  \n",
    "  la mécanique de l'héritage"
   ]
  },
  {
   "cell_type": "markdown",
   "id": "c4e364a8",
   "metadata": {
    "slideshow": {
     "slide_type": "slide"
    }
   },
   "source": [
    "### ex: une classe et une instance"
   ]
  },
  {
   "cell_type": "code",
   "execution_count": 1,
   "id": "14b4ec10",
   "metadata": {
    "cell_style": "split"
   },
   "outputs": [],
   "source": [
    "# une classe sans heritage\n",
    "# et juste un constructeur\n",
    "class Point:\n",
    "    def __init__(self, x, y):\n",
    "        self.x = x\n",
    "        self.y = y"
   ]
  },
  {
   "cell_type": "code",
   "execution_count": 2,
   "id": "215c4a67",
   "metadata": {
    "cell_style": "split"
   },
   "outputs": [
    {
     "data": {
      "text/plain": [
       "2"
      ]
     },
     "execution_count": 2,
     "metadata": {},
     "output_type": "execute_result"
    }
   ],
   "source": [
    "# comme toujours, la classe \n",
    "# est une usine à objets\n",
    "\n",
    "point = Point(2, 3)\n",
    "point.x"
   ]
  },
  {
   "cell_type": "markdown",
   "id": "9bc7f227",
   "metadata": {
    "slideshow": {
     "slide_type": "slide"
    }
   },
   "source": [
    "### 2 espaces de nommage"
   ]
  },
  {
   "cell_type": "markdown",
   "id": "f8104581",
   "metadata": {
    "cell_style": "split"
   },
   "source": [
    "**à ce stade nous avons deux espaces de nom**\n",
    "\n",
    "* la classe `Point`\n",
    "  * `Point.__init__` : la méthode\n",
    "* l'instance\n",
    "  * `point.x` : 2 pour cette instance\n",
    "  * `point.y`"
   ]
  },
  {
   "cell_type": "code",
   "execution_count": 3,
   "id": "c367efe1",
   "metadata": {
    "cell_style": "split"
   },
   "outputs": [],
   "source": [
    "# on va voir ça\n",
    "# dans pythontutor\n",
    "%load_ext ipythontutor"
   ]
  },
  {
   "cell_type": "markdown",
   "id": "f9b3f591",
   "metadata": {
    "slideshow": {
     "slide_type": "slide"
    }
   },
   "source": [
    "**la classe et l'instance: deux espaces de nom distinct**"
   ]
  },
  {
   "cell_type": "code",
   "execution_count": 4,
   "id": "543044b6",
   "metadata": {},
   "outputs": [
    {
     "data": {
      "application/vnd.jupyter.widget-view+json": {
       "model_id": "de7f2201c8e1428295298662d4f4973f",
       "version_major": 2,
       "version_minor": 0
      },
      "text/plain": [
       "HTML(value='<style>#ipythontutor1 </style><style>#ipythontutor2 { max-width:1000px; max-height:450px; box-sizi…"
      ]
     },
     "metadata": {},
     "output_type": "display_data"
    }
   ],
   "source": [
    "%%ipythontutor width=1000 height=450\n",
    "\n",
    "class Point:\n",
    "    def __init__(self, x, y):\n",
    "        self.x = x\n",
    "        self.y = y\n",
    "\n",
    "point = Point(2, 3)"
   ]
  },
  {
   "cell_type": "markdown",
   "id": "e87065ff",
   "metadata": {
    "slideshow": {
     "slide_type": "slide"
    },
    "tags": [
     "level_intermediate"
    ]
   },
   "source": [
    "### digression : l'attribut spécial `__dict__`"
   ]
  },
  {
   "cell_type": "markdown",
   "id": "da48f9e3",
   "metadata": {
    "cell_style": "split",
    "slideshow": {
     "slide_type": ""
    },
    "tags": [
     "level_intermediate"
    ]
   },
   "source": [
    "les (objets qui sont des) espaces de nom\n",
    "\n",
    "* ont un **attribut spécial**\n",
    "* qui s'appelle `__dict__`\n",
    "* qui permet d'inspecter un espace de nom\n",
    "\n",
    "ce n'est pas une notion à retenir,  \n",
    "mais on va s'en servir dans la suite  \n",
    "pour regarder le contenu des espaces de nom"
   ]
  },
  {
   "cell_type": "code",
   "execution_count": 5,
   "id": "fe3131c9",
   "metadata": {
    "cell_style": "split",
    "tags": [
     "level_intermediate"
    ]
   },
   "outputs": [
    {
     "data": {
      "text/plain": [
       "{'x': 2, 'y': 3}"
      ]
     },
     "execution_count": 5,
     "metadata": {},
     "output_type": "execute_result"
    }
   ],
   "source": [
    "# quand on n'a pas pythontutor\n",
    "# on peut simplement regarder __dict__\n",
    "\n",
    "point.__dict__"
   ]
  },
  {
   "cell_type": "markdown",
   "id": "25ecbfb9",
   "metadata": {
    "slideshow": {
     "slide_type": "slide"
    }
   },
   "source": [
    "### deux espaces de nom (classe et instance) - fin"
   ]
  },
  {
   "cell_type": "markdown",
   "id": "372fefb1",
   "metadata": {},
   "source": [
    "on l'a bien vu sous pythontutor, mais redisons les choses"
   ]
  },
  {
   "cell_type": "code",
   "execution_count": 6,
   "id": "0b299e65",
   "metadata": {
    "cell_style": "split",
    "slideshow": {
     "slide_type": ""
    }
   },
   "outputs": [
    {
     "data": {
      "text/plain": [
       "True"
      ]
     },
     "execution_count": 6,
     "metadata": {},
     "output_type": "execute_result"
    }
   ],
   "source": [
    "# la classe possède\n",
    "# l'attribut '__init__'\n",
    "'__init__' in Point.__dict__"
   ]
  },
  {
   "cell_type": "code",
   "execution_count": 7,
   "id": "4de4aebe",
   "metadata": {
    "cell_style": "split"
   },
   "outputs": [
    {
     "data": {
      "text/plain": [
       "function"
      ]
     },
     "execution_count": 7,
     "metadata": {},
     "output_type": "execute_result"
    }
   ],
   "source": [
    "# c'est la méthode\n",
    "# qu'on a définie\n",
    "type(Point.__init__)"
   ]
  },
  {
   "cell_type": "code",
   "execution_count": 8,
   "id": "d7b41a85",
   "metadata": {
    "cell_style": "split"
   },
   "outputs": [
    {
     "data": {
      "text/plain": [
       "False"
      ]
     },
     "execution_count": 8,
     "metadata": {},
     "output_type": "execute_result"
    }
   ],
   "source": [
    "# par contre elle ne possède\n",
    "# pas d'attribut x\n",
    "'x' in Point.__dict__"
   ]
  },
  {
   "cell_type": "code",
   "execution_count": 9,
   "id": "99952abd",
   "metadata": {
    "cell_style": "split"
   },
   "outputs": [
    {
     "data": {
      "text/plain": [
       "True"
      ]
     },
     "execution_count": 9,
     "metadata": {},
     "output_type": "execute_result"
    }
   ],
   "source": [
    "# l'attribut x se trouve\n",
    "# bien dans l'espace de nom\n",
    "# de l'instance\n",
    "'x' in point.__dict__"
   ]
  },
  {
   "cell_type": "markdown",
   "id": "df38f620",
   "metadata": {
    "slideshow": {
     "slide_type": "slide"
    }
   },
   "source": [
    "### recherche de bas en haut"
   ]
  },
  {
   "cell_type": "markdown",
   "id": "bdf500f8",
   "metadata": {},
   "source": [
    "**pour la lecture :**  \n",
    "la règle pour chercher un attribut en partant d'un objet consiste à\n",
    "\n",
    "* le chercher dans l'espace de nom de l'objet lui-même\n",
    "* sinon dans l'espace de nom de sa classe\n",
    "* sinon dans les super-classes\n",
    "* on verra les détails plus loin"
   ]
  },
  {
   "cell_type": "markdown",
   "id": "0c35fa02",
   "metadata": {
    "slideshow": {
     "slide_type": "slide"
    }
   },
   "source": [
    "## ex. de résolution d'attribut"
   ]
  },
  {
   "cell_type": "code",
   "execution_count": 10,
   "id": "0091f1f5",
   "metadata": {
    "cell_style": "split"
   },
   "outputs": [],
   "source": [
    "# cas simple sans héritage\n",
    "# appel d'une méthode\n",
    "import math\n",
    "\n",
    "class Vector:\n",
    "    def __init__(self, x, y):\n",
    "        self.x = x\n",
    "        self.y = y\n",
    "\n",
    "    def length(self):\n",
    "        return math.sqrt(\n",
    "            self.x**2 + self.y**2)"
   ]
  },
  {
   "cell_type": "code",
   "execution_count": 11,
   "id": "6623db94",
   "metadata": {
    "cell_style": "split"
   },
   "outputs": [
    {
     "data": {
      "text/plain": [
       "5.0"
      ]
     },
     "execution_count": 11,
     "metadata": {},
     "output_type": "execute_result"
    }
   ],
   "source": [
    "# quand on cherche vector.length\n",
    "# on cherche\n",
    "# 1. dans vector - pas trouvé\n",
    "# 2. dans Vector - bingo\n",
    "\n",
    "vector = Vector(3, 4)\n",
    "vector.length()"
   ]
  },
  {
   "cell_type": "markdown",
   "id": "1b40b7c1",
   "metadata": {
    "cell_style": "split"
   },
   "source": [
    "voyons ça en détail.."
   ]
  },
  {
   "cell_type": "markdown",
   "id": "f862ff41",
   "metadata": {
    "slideshow": {
     "slide_type": "slide"
    }
   },
   "source": [
    "### espaces de nom"
   ]
  },
  {
   "cell_type": "markdown",
   "id": "414da7c9",
   "metadata": {
    "cell_style": "split",
    "slideshow": {
     "slide_type": ""
    }
   },
   "source": [
    "* la classe `Vector` a les attributs\n",
    "  * `__init__`\n",
    "  * `length`"
   ]
  },
  {
   "cell_type": "markdown",
   "id": "ae458260",
   "metadata": {
    "cell_style": "split",
    "slideshow": {
     "slide_type": ""
    }
   },
   "source": [
    "* l'objet `vector` a les attributs\n",
    "  * `x` et `y`,\n",
    "  * mais pas `length` !"
   ]
  },
  {
   "cell_type": "code",
   "execution_count": 12,
   "id": "4d95aa88",
   "metadata": {
    "slideshow": {
     "slide_type": "slide"
    }
   },
   "outputs": [
    {
     "data": {
      "application/vnd.jupyter.widget-view+json": {
       "model_id": "ff85e5c4d2f64b9a98df50ac7f4b5163",
       "version_major": 2,
       "version_minor": 0
      },
      "text/plain": [
       "HTML(value='<style>#ipythontutor3 </style><style>#ipythontutor4 { max-width:1000px; max-height:400px; box-sizi…"
      ]
     },
     "metadata": {},
     "output_type": "display_data"
    }
   ],
   "source": [
    "%%ipythontutor width=1000 height=400 curInstr=7\n",
    "import math\n",
    "class Vector:\n",
    "    def __init__(self, x, y):\n",
    "        self.x = x\n",
    "        self.y = y\n",
    "    def length(self):\n",
    "        return math.sqrt(self.x**2 + self.y**2)\n",
    "\n",
    "vector = Vector(2, 2)"
   ]
  },
  {
   "cell_type": "markdown",
   "id": "04a61213",
   "metadata": {
    "slideshow": {
     "slide_type": "slide"
    },
    "tags": [
     "level_intermediate"
    ]
   },
   "source": [
    "pour visualiser la même chose à base d'introspection dans le code\n",
    "\n",
    "(rappel : tous les espaces de nom ont un attribut `__dict__`)"
   ]
  },
  {
   "cell_type": "code",
   "execution_count": 13,
   "id": "06aa1352",
   "metadata": {
    "slideshow": {
     "slide_type": ""
    },
    "tags": [
     "level_intermediate"
    ]
   },
   "outputs": [
    {
     "data": {
      "text/plain": [
       "['__init__', 'length']"
      ]
     },
     "execution_count": 13,
     "metadata": {},
     "output_type": "execute_result"
    }
   ],
   "source": [
    "# les attributs 'intéressants' de Vector\n",
    "[att for att in Vector.__dict__ if '__' not in att or att == '__init__']"
   ]
  },
  {
   "cell_type": "code",
   "execution_count": 14,
   "id": "b846b2d1",
   "metadata": {
    "tags": [
     "level_intermediate"
    ]
   },
   "outputs": [
    {
     "data": {
      "text/plain": [
       "['x', 'y']"
      ]
     },
     "execution_count": 14,
     "metadata": {},
     "output_type": "execute_result"
    }
   ],
   "source": [
    "# et dans l'instance\n",
    "list(vector.__dict__)"
   ]
  },
  {
   "cell_type": "markdown",
   "id": "4c15d5fe",
   "metadata": {
    "slideshow": {
     "slide_type": "slide"
    }
   },
   "source": [
    "### exemple avec héritage"
   ]
  },
  {
   "cell_type": "markdown",
   "id": "54a48b90",
   "metadata": {
    "slideshow": {
     "slide_type": ""
    }
   },
   "source": [
    "* jusqu'ici on n'a pas encore de l'héritage  \n",
    "  puisque pour l'instant on n'a qu'une classe\n",
    "* mais l'héritage  \n",
    "  est une **simple prolongation** de cette logique"
   ]
  },
  {
   "cell_type": "code",
   "execution_count": 15,
   "id": "c9d4e57e",
   "metadata": {},
   "outputs": [
    {
     "data": {
      "text/plain": [
       "10.0"
      ]
     },
     "execution_count": 15,
     "metadata": {},
     "output_type": "execute_result"
    }
   ],
   "source": [
    "# une classe fille sans aucun contenu\n",
    "class SubVector(Vector):\n",
    "    pass\n",
    "\n",
    "subvector = SubVector(6, 8)\n",
    "\n",
    "# comment fait-on pour trouver subvector.length ?\n",
    "subvector.length()"
   ]
  },
  {
   "cell_type": "code",
   "execution_count": 16,
   "id": "a07c07cf",
   "metadata": {
    "slideshow": {
     "slide_type": "slide"
    }
   },
   "outputs": [
    {
     "data": {
      "application/vnd.jupyter.widget-view+json": {
       "model_id": "d9bab769dd234d6f8a6118ff54d9353c",
       "version_major": 2,
       "version_minor": 0
      },
      "text/plain": [
       "HTML(value='<style>#ipythontutor5 </style><style>#ipythontutor6 { max-width:1000px; max-height:400px; box-sizi…"
      ]
     },
     "metadata": {},
     "output_type": "display_data"
    }
   ],
   "source": [
    "%%ipythontutor width=1000 height=400 curInstr=8\n",
    "import math\n",
    "class Vector:\n",
    "    def __init__(self, x, y):\n",
    "        self.x = x\n",
    "        self.y = y\n",
    "    def length(self):\n",
    "        return math.sqrt(self.x**2 + self.y**2)\n",
    "class SubVector(Vector):\n",
    "    pass\n",
    "\n",
    "subvector = SubVector(6, 8)"
   ]
  },
  {
   "cell_type": "markdown",
   "id": "b43d7b4c",
   "metadata": {
    "slideshow": {
     "slide_type": "slide"
    }
   },
   "source": [
    "* c'est exactement le même mécanisme qui est à l'oeuvre :\n",
    "* quand on va vouloir appeler `subvector.length()`\n",
    "  * on cherche l'attribut `length` dans l'instance : non\n",
    "  * dans la classe : non\n",
    "  * dans la super-classe : ok, on prend ça"
   ]
  },
  {
   "cell_type": "markdown",
   "id": "a049883b",
   "metadata": {
    "slideshow": {
     "slide_type": "slide"
    }
   },
   "source": [
    "## **remarque importante** : lecture ≠ écriture"
   ]
  },
  {
   "cell_type": "markdown",
   "id": "6de407cd",
   "metadata": {
    "slideshow": {
     "slide_type": ""
    }
   },
   "source": [
    "* le mécanisme de recherche d'attribut qu'on vient de voir\n",
    "* ne fonctionne que **pour la lecture des attributs**\n",
    "* quand on **écrit** un attribut dans un objet,  \n",
    "  c'est un mécanisme différent (slide suivant)"
   ]
  },
  {
   "cell_type": "code",
   "execution_count": 17,
   "id": "83066ea5",
   "metadata": {
    "cell_style": "split"
   },
   "outputs": [
    {
     "data": {
      "text/plain": [
       "10.0"
      ]
     },
     "execution_count": 17,
     "metadata": {},
     "output_type": "execute_result"
    }
   ],
   "source": [
    "# quand on évalue un attribut en lecture\n",
    "# on recherche en partant de l'objet\n",
    "# et donc ici on trouve la méthode\n",
    "# dans l'espace de noms de la super-classe\n",
    "subvector.length()"
   ]
  },
  {
   "cell_type": "code",
   "execution_count": 18,
   "id": "b58c655c",
   "metadata": {
    "cell_style": "split"
   },
   "outputs": [
    {
     "data": {
      "text/plain": [
       "True"
      ]
     },
     "execution_count": 18,
     "metadata": {},
     "output_type": "execute_result"
    }
   ],
   "source": [
    "# mais quand on écrit un attribut\n",
    "# c'est une autre histoire complètement\n",
    "# l'attribut est créé directement dans l'objet\n",
    "subvector.foo = 12\n",
    "\n",
    "'foo' in subvector.__dict__"
   ]
  },
  {
   "cell_type": "markdown",
   "id": "e4c19d71",
   "metadata": {
    "slideshow": {
     "slide_type": "slide"
    }
   },
   "source": [
    "### lecture ≠ écriture - discussion\n",
    "\n",
    "* mais attention lorsqu'on **écrit** un attribut\n",
    "  * *i.e.* si l'expression `foo.bar` est **à gauche** d'une affectation\n",
    "* alors l'attribut `bar` est créé/écrit **dans l'objet `foo`**\n",
    "* il n'y a **pas de recherche** dans ce cas !\n",
    "* et heureusement d'ailleurs :  \n",
    "  c'est le cas notamment à chaque fois qu'un constructeur fait  \n",
    "  `self.name = name`"
   ]
  },
  {
   "cell_type": "markdown",
   "id": "e6c2b10e",
   "metadata": {
    "slideshow": {
     "slide_type": ""
    }
   },
   "source": [
    "<div class=smaller>\n",
    "\n",
    "* cela ne se remarque pas avec les méthodes\n",
    "  * car c'est très rare d'écrire `instance.methode = ...`\n",
    "* mais du coup, se souvenir que lire et écrire un attribut ne **sont pas symétriques**\n",
    "\n",
    "</div>"
   ]
  },
  {
   "cell_type": "markdown",
   "id": "8f9df191",
   "metadata": {
    "slideshow": {
     "slide_type": "slide"
    }
   },
   "source": [
    "### lecture *vs* écriture"
   ]
  },
  {
   "cell_type": "markdown",
   "id": "788f2b6e",
   "metadata": {
    "cell_style": "split"
   },
   "source": [
    "* il y a écriture si  \n",
    "  et seulement si il y a **affectation**\n",
    "* dans 1. il y a\n",
    "  * **lecture** de l'attribut `liste`\n",
    "  * même si on modifie l'objet\n",
    "* dans 2. il y a\n",
    "  * **écriture de l'attribut**\n",
    "  * donc écrit dans (l'espace de nom) `obj`"
   ]
  },
  {
   "cell_type": "markdown",
   "id": "466d23b6",
   "metadata": {
    "cell_style": "split"
   },
   "source": [
    "* 1. lecture !\n",
    "\n",
    "```python\n",
    "obj.liste.append('foo')\n",
    "```\n",
    "\n",
    "* 2. écriture\n",
    "\n",
    "```python\n",
    "obj.liste += ['foo']\n",
    "```"
   ]
  },
  {
   "cell_type": "markdown",
   "id": "718343f6",
   "metadata": {
    "slideshow": {
     "slide_type": "slide"
    }
   },
   "source": [
    "## héritage"
   ]
  },
  {
   "cell_type": "markdown",
   "id": "8aa0ef5a",
   "metadata": {
    "cell_style": "split",
    "slideshow": {
     "slide_type": ""
    }
   },
   "source": [
    "* une classe peut hériter d’une (ou plusieurs) autre classes\n",
    "* si A hérite de B\n",
    "  * on dit que A est la sous-classe de B\n",
    "  * et B est la super-classe de A\n",
    "* la sous-classe hérite des attributs de sa super-classe\n",
    "* l’instance hérite de la classe qui la crée"
   ]
  },
  {
   "cell_type": "code",
   "execution_count": 19,
   "id": "5bad0c78",
   "metadata": {
    "cell_style": "split",
    "tags": [
     "raises-exception"
    ]
   },
   "outputs": [
    {
     "ename": "NameError",
     "evalue": "name 'Super' is not defined",
     "output_type": "error",
     "traceback": [
      "\u001b[0;31m---------------------------------------------------------------------------\u001b[0m",
      "\u001b[0;31mNameError\u001b[0m                                 Traceback (most recent call last)",
      "\u001b[0;32m/tmp/ipykernel_2855/2005943242.py\u001b[0m in \u001b[0;36m<module>\u001b[0;34m\u001b[0m\n\u001b[1;32m      1\u001b[0m \u001b[0;31m# la syntaxe est\u001b[0m\u001b[0;34m\u001b[0m\u001b[0;34m\u001b[0m\u001b[0;34m\u001b[0m\u001b[0m\n\u001b[0;32m----> 2\u001b[0;31m \u001b[0;32mclass\u001b[0m \u001b[0mClass\u001b[0m\u001b[0;34m(\u001b[0m\u001b[0mSuper\u001b[0m\u001b[0;34m)\u001b[0m\u001b[0;34m:\u001b[0m\u001b[0;34m\u001b[0m\u001b[0;34m\u001b[0m\u001b[0m\n\u001b[0m\u001b[1;32m      3\u001b[0m     \u001b[0;32mpass\u001b[0m\u001b[0;34m\u001b[0m\u001b[0;34m\u001b[0m\u001b[0m\n\u001b[1;32m      4\u001b[0m \u001b[0;34m\u001b[0m\u001b[0m\n\u001b[1;32m      5\u001b[0m \u001b[0;31m# ou\u001b[0m\u001b[0;34m\u001b[0m\u001b[0;34m\u001b[0m\u001b[0;34m\u001b[0m\u001b[0m\n",
      "\u001b[0;31mNameError\u001b[0m: name 'Super' is not defined"
     ]
    }
   ],
   "source": [
    "# la syntaxe est\n",
    "class Class(Super):\n",
    "    pass\n",
    "\n",
    "# ou \n",
    "class Class(Super1, Super2):\n",
    "    pass"
   ]
  },
  {
   "cell_type": "markdown",
   "id": "4451071d",
   "metadata": {
    "slideshow": {
     "slide_type": "slide"
    }
   },
   "source": [
    "### graphe d'héritage\n",
    "\n",
    "* on peut donc construire un graphe d’héritage\n",
    "* allant des super-classes aux instances"
   ]
  },
  {
   "cell_type": "markdown",
   "id": "01ea5fac",
   "metadata": {
    "cell_style": "split"
   },
   "source": [
    "![arbre de classes](media/classes.png)"
   ]
  },
  {
   "cell_type": "code",
   "execution_count": 20,
   "id": "c765aa4b",
   "metadata": {
    "cell_style": "split"
   },
   "outputs": [],
   "source": [
    "class C1:\n",
    "    pass\n",
    "class C2:\n",
    "    pass\n",
    "class C(C1, C2):\n",
    "    def func(self, x):\n",
    "        self.x = 10\n",
    "o1 = C()\n",
    "o2 = C()"
   ]
  },
  {
   "cell_type": "markdown",
   "id": "dccc3de0",
   "metadata": {
    "slideshow": {
     "slide_type": "slide"
    },
    "tags": [
     "level_intermediate"
    ]
   },
   "source": [
    "### recherche dans l’arbre d’héritage"
   ]
  },
  {
   "cell_type": "markdown",
   "id": "63a61e52",
   "metadata": {
    "tags": [
     "level_intermediate"
    ]
   },
   "source": [
    "* MRO : method resolution order\n",
    "* l’algorithme est le suivant\n",
    "  * liste toutes les super-classes en utilisant  \n",
    "    un algorithme DFLR (depth first, left to right)\n",
    "\n",
    "  * si classe dupliquée,  \n",
    "    **ne garder que la dernière** occurrence"
   ]
  },
  {
   "cell_type": "markdown",
   "id": "1d82c77d",
   "metadata": {
    "cell_style": "split",
    "slideshow": {
     "slide_type": "slide"
    },
    "tags": [
     "level_intermediate"
    ]
   },
   "source": [
    "![MRO](media/mro.png)"
   ]
  },
  {
   "cell_type": "code",
   "execution_count": 21,
   "id": "cfd4a1b9",
   "metadata": {
    "cell_style": "split",
    "tags": [
     "level_intermediate"
    ]
   },
   "outputs": [],
   "source": [
    "class A: pass\n",
    "class B(A): pass\n",
    "class C(A): pass\n",
    "class D(B, C): pass"
   ]
  },
  {
   "cell_type": "markdown",
   "id": "5c27f5e9",
   "metadata": {
    "tags": [
     "level_intermediate"
    ]
   },
   "source": [
    "* parcours DFLR: `D`, `B`, `A`, `object`, `C`, `A`, `object`\n",
    "* suppressions : `D`, `B`, ~~`A`~~, ~~`object`~~, `C`, `A`, `object`"
   ]
  },
  {
   "cell_type": "markdown",
   "id": "3caffb39",
   "metadata": {
    "slideshow": {
     "slide_type": "slide"
    }
   },
   "source": [
    "## `isinstance()` et `issubclass()`"
   ]
  },
  {
   "cell_type": "markdown",
   "id": "c02d8ab5",
   "metadata": {},
   "source": [
    "* `isinstance(x, class1)` retourne `True` si `x` est une instance de `class1` ou d’une super classe\n",
    "* `issubclass(class1, class2)` retourne `True` si `class1` est une sous-classe de `class2`\n",
    "* ces fonctions *builtin* sont à privilégier par rapport à l'utilisation de `type()`"
   ]
  },
  {
   "cell_type": "code",
   "execution_count": 22,
   "id": "558f1b3f",
   "metadata": {
    "cell_style": "split"
   },
   "outputs": [],
   "source": [
    "# A est la superclasse de B\n",
    "a, b = A(), B()"
   ]
  },
  {
   "cell_type": "code",
   "execution_count": 23,
   "id": "a6e4574d",
   "metadata": {
    "cell_style": "split",
    "slideshow": {
     "slide_type": ""
    }
   },
   "outputs": [
    {
     "data": {
      "text/plain": [
       "(True, True)"
      ]
     },
     "execution_count": 23,
     "metadata": {},
     "output_type": "execute_result"
    }
   ],
   "source": [
    "isinstance(a, A), isinstance(b, B)"
   ]
  },
  {
   "cell_type": "code",
   "execution_count": 24,
   "id": "b313e0e4",
   "metadata": {
    "cell_style": "split"
   },
   "outputs": [
    {
     "data": {
      "text/plain": [
       "False"
      ]
     },
     "execution_count": 24,
     "metadata": {},
     "output_type": "execute_result"
    }
   ],
   "source": [
    "# bien sûr NON\n",
    "isinstance(a, B)"
   ]
  },
  {
   "cell_type": "code",
   "execution_count": 25,
   "id": "df53cc68",
   "metadata": {
    "cell_style": "split"
   },
   "outputs": [
    {
     "data": {
      "text/plain": [
       "(True, False)"
      ]
     },
     "execution_count": 25,
     "metadata": {},
     "output_type": "execute_result"
    }
   ],
   "source": [
    "# OUI, et NON\n",
    "isinstance(b, A), type(b) is A"
   ]
  },
  {
   "cell_type": "code",
   "execution_count": 26,
   "id": "161fb487",
   "metadata": {
    "cell_style": "split"
   },
   "outputs": [
    {
     "data": {
      "text/plain": [
       "True"
      ]
     },
     "execution_count": 26,
     "metadata": {},
     "output_type": "execute_result"
    }
   ],
   "source": [
    "issubclass(B, A)"
   ]
  },
  {
   "cell_type": "code",
   "execution_count": 27,
   "id": "ef137090",
   "metadata": {
    "cell_style": "split"
   },
   "outputs": [
    {
     "data": {
      "text/plain": [
       "False"
      ]
     },
     "execution_count": 27,
     "metadata": {},
     "output_type": "execute_result"
    }
   ],
   "source": [
    "isinstance(B, A)"
   ]
  },
  {
   "cell_type": "markdown",
   "id": "bc6afeb2",
   "metadata": {
    "slideshow": {
     "slide_type": "slide"
    },
    "tags": []
   },
   "source": [
    "## attributs de classe"
   ]
  },
  {
   "cell_type": "markdown",
   "id": "408c7e01",
   "metadata": {},
   "source": [
    "dans (l'espace de nom d')une classe, on peut mettre \n",
    "\n",
    "* des méthodes (on le savait) \n",
    "* et aussi attributs *normaux* - qui référencent des données\n",
    "\n",
    "rien de nouveau point de vue syntaxe : \n",
    "\n",
    "* on écrit juste la déclaration dans la classe,\n",
    "* au même niveau d'imbrication que les méthodes\n",
    "\n",
    "voyons cela sur un exemple"
   ]
  },
  {
   "cell_type": "code",
   "execution_count": 28,
   "id": "1ed9b054",
   "metadata": {
    "cell_style": "split",
    "slideshow": {
     "slide_type": "slide"
    },
    "tags": []
   },
   "outputs": [
    {
     "data": {
      "text/plain": [
       "[]"
      ]
     },
     "execution_count": 28,
     "metadata": {},
     "output_type": "execute_result"
    }
   ],
   "source": [
    "class Factory:\n",
    "    # un compteur global à la classe\n",
    "    # dans lequel on va pouvoir mémoriser \n",
    "    # tous les labels de toutes les instances\n",
    "    all_labels = []\n",
    "\n",
    "    def __init__(self, label):\n",
    "        self.label = label\n",
    "        Factory.all_labels.append(label)\n",
    "        # on aurait pu écrire\n",
    "        # self.all_labels.append(label)\n",
    "        # mais c'est dangereux (voir suite)\n",
    "\n",
    "\n",
    "Factory.all_labels"
   ]
  },
  {
   "cell_type": "code",
   "execution_count": 29,
   "id": "d8224892",
   "metadata": {
    "cell_style": "split",
    "slideshow": {
     "slide_type": ""
    },
    "tags": []
   },
   "outputs": [
    {
     "data": {
      "text/plain": [
       "['premier']"
      ]
     },
     "execution_count": 29,
     "metadata": {},
     "output_type": "execute_result"
    }
   ],
   "source": [
    "f1 = Factory('premier')\n",
    "Factory.all_labels"
   ]
  },
  {
   "cell_type": "code",
   "execution_count": 30,
   "id": "2aaa97e9",
   "metadata": {
    "cell_style": "split",
    "slideshow": {
     "slide_type": ""
    },
    "tags": []
   },
   "outputs": [
    {
     "data": {
      "text/plain": [
       "['premier', 'second']"
      ]
     },
     "execution_count": 30,
     "metadata": {},
     "output_type": "execute_result"
    }
   ],
   "source": [
    "f2 = Factory('second')\n",
    "Factory.all_labels"
   ]
  },
  {
   "cell_type": "code",
   "execution_count": 31,
   "id": "1a6abdda",
   "metadata": {},
   "outputs": [
    {
     "data": {
      "text/plain": [
       "True"
      ]
     },
     "execution_count": 31,
     "metadata": {},
     "output_type": "execute_result"
    }
   ],
   "source": [
    "# on trouve le même objet quel que soit l'endroit d'où on part\n",
    "f1.all_labels is f2.all_labels is Factory.all_labels"
   ]
  },
  {
   "cell_type": "code",
   "execution_count": 32,
   "id": "d0385299",
   "metadata": {
    "cell_style": "center",
    "slideshow": {
     "slide_type": "slide"
    },
    "tags": [
     "level_advanced"
    ]
   },
   "outputs": [
    {
     "data": {
      "application/vnd.jupyter.widget-view+json": {
       "model_id": "5b483166d3cb44b9b676c517b065023b",
       "version_major": 2,
       "version_minor": 0
      },
      "text/plain": [
       "HTML(value='<style>#ipythontutor7 </style><style>#ipythontutor8 { max-width:1000px; max-height:400px; box-sizi…"
      ]
     },
     "metadata": {},
     "output_type": "display_data"
    }
   ],
   "source": [
    "%%ipythontutor width=1000 height=400\n",
    "class Factory:\n",
    "    all_labels = []\n",
    "    def __init__(self, label):\n",
    "        self.label = label\n",
    "        # ça marche aussi, mais ATTENTION\n",
    "        self.all_labels.append(label)\n",
    "f1 = Factory('premier')\n",
    "f2 = Factory('second')"
   ]
  },
  {
   "cell_type": "code",
   "execution_count": 33,
   "id": "e7dede08",
   "metadata": {
    "slideshow": {
     "slide_type": "slide"
    },
    "tags": [
     "level_advanced"
    ]
   },
   "outputs": [
    {
     "data": {
      "application/vnd.jupyter.widget-view+json": {
       "model_id": "fc62a79b309644458f55e7537f8d7144",
       "version_major": 2,
       "version_minor": 0
      },
      "text/plain": [
       "HTML(value='<style>#ipythontutor9 </style><style>#ipythontutor10 { max-width:1000px; max-height:400px; box-siz…"
      ]
     },
     "metadata": {},
     "output_type": "display_data"
    }
   ],
   "source": [
    "%%ipythontutor width=1000 height=400 curInstr=1\n",
    "class Factory:\n",
    "    all_labels = []\n",
    "\n",
    "    def __init__(self, label):\n",
    "        self.label = label\n",
    "        # cette forme ne fonctionne pas comme attendu\n",
    "        # parce que à droite d'une affectation\n",
    "        self.all_labels = self.all_labels + [label]\n",
    "\n",
    "f1 = Factory('premier')\n",
    "f2 = Factory('second')"
   ]
  },
  {
   "cell_type": "markdown",
   "id": "32c48813",
   "metadata": {
    "slideshow": {
     "slide_type": "slide"
    }
   },
   "source": [
    "## `super()`"
   ]
  },
  {
   "cell_type": "markdown",
   "id": "b784a69a",
   "metadata": {},
   "source": [
    "* utile lorsque la spécialisation  \n",
    "  consiste à ajouter ou modifier  \n",
    "  par rapport à la classe mère\n",
    "\n",
    "* le cas typique est d'ailleurs le constructeur  \n",
    "  dès qu'on ajoute un attribut de donnée\n",
    "\n",
    "* permet de ne pas mentionner explicitement\n",
    "  le nom de la classe mère (code + générique)"
   ]
  },
  {
   "cell_type": "code",
   "execution_count": 34,
   "id": "11d6e14d",
   "metadata": {
    "cell_style": "split",
    "slideshow": {
     "slide_type": "slide"
    }
   },
   "outputs": [],
   "source": [
    "# illustration de super() \n",
    "# dans le constructeur\n",
    "\n",
    "class C:\n",
    "    def __init__(self, x):\n",
    "        print(\"init x par superclasse\")\n",
    "        self.x = x\n",
    "\n",
    "class D(C):\n",
    "\n",
    "    def __init__(self, x, y):\n",
    "        # initialiser : la classe C\n",
    "        super().__init__(x)\n",
    "        print(\"init y par classe\")\n",
    "        self.y = y"
   ]
  },
  {
   "cell_type": "code",
   "execution_count": 35,
   "id": "39d8ac98",
   "metadata": {
    "cell_style": "split"
   },
   "outputs": [
    {
     "name": "stdout",
     "output_type": "stream",
     "text": [
      "init x par superclasse\n"
     ]
    }
   ],
   "source": [
    "c = C(10)"
   ]
  },
  {
   "cell_type": "code",
   "execution_count": 36,
   "id": "d2cb9421",
   "metadata": {
    "cell_style": "split"
   },
   "outputs": [
    {
     "name": "stdout",
     "output_type": "stream",
     "text": [
      "init x par superclasse\n",
      "init y par classe\n"
     ]
    }
   ],
   "source": [
    "d = D(100, 200)"
   ]
  },
  {
   "cell_type": "code",
   "execution_count": 37,
   "id": "324a38cd",
   "metadata": {
    "cell_style": "split",
    "slideshow": {
     "slide_type": "slide"
    }
   },
   "outputs": [],
   "source": [
    "# super() est souvent rencontrée\n",
    "# dans __init__ mais s'applique\n",
    "# partout\n",
    "class C:\n",
    "    def f(self):\n",
    "        print('spam')"
   ]
  },
  {
   "cell_type": "code",
   "execution_count": 38,
   "id": "5fdcf531",
   "metadata": {
    "cell_style": "split",
    "slideshow": {
     "slide_type": ""
    }
   },
   "outputs": [],
   "source": [
    "class D(C):\n",
    "    def f(self):\n",
    "        # remarquez l'absence\n",
    "        # de self !\n",
    "        super().f()\n",
    "        print('beans')"
   ]
  },
  {
   "cell_type": "code",
   "execution_count": 39,
   "id": "23cb86b5",
   "metadata": {
    "cell_style": "split"
   },
   "outputs": [
    {
     "name": "stdout",
     "output_type": "stream",
     "text": [
      "spam\n"
     ]
    }
   ],
   "source": [
    "c = C(); c.f()"
   ]
  },
  {
   "cell_type": "code",
   "execution_count": 40,
   "id": "aea2e539",
   "metadata": {
    "cell_style": "split"
   },
   "outputs": [
    {
     "name": "stdout",
     "output_type": "stream",
     "text": [
      "spam\n",
      "beans\n"
     ]
    }
   ],
   "source": [
    "d = D(); d.f()"
   ]
  },
  {
   "cell_type": "markdown",
   "id": "72604fda",
   "metadata": {
    "slideshow": {
     "slide_type": "slide"
    }
   },
   "source": [
    "## résumé\n",
    "\n",
    "* les instances et classes sont des objets mutables (sauf classes *builtin*)\n",
    "* on utilise `isinstance()` pour tester le type d'un objet\n",
    "* chaque instance et chaque classe est un espace de nom\n",
    "* lorsqu'on écrit un attribut, on écrit directement dans l'espace de nom de cet objet\n",
    "* en lecture, on résoud la référence d'un attribut de bas en haut\n",
    "* en général\n",
    "  * les classes ont des attributs de type méthode\n",
    "  * les objets ont des attributs de type donnée\n",
    "  * mais le modèle est flexible\n",
    "* une méthode peut faire référence à la super-classe avec `super()`"
   ]
  }
 ],
 "metadata": {
  "celltoolbar": "Slideshow",
  "jupytext": {
   "cell_metadata_filter": "all,-hidden,-heading_collapsed,-run_control",
   "encoding": "# -*- coding: utf-8 -*-",
   "notebook_metadata_filter": "all,-language_info,-toc,-jupytext.text_representation.jupytext_version,-jupytext.text_representation.format_version",
   "text_representation": {
    "extension": ".md",
    "format_name": "myst"
   }
  },
  "kernelspec": {
   "display_name": "Python 3",
   "language": "python",
   "name": "python3"
  },
  "language_info": {
   "codemirror_mode": {
    "name": "ipython",
    "version": 3
   },
   "file_extension": ".py",
   "mimetype": "text/x-python",
   "name": "python",
   "nbconvert_exporter": "python",
   "pygments_lexer": "ipython3",
   "version": "3.9.6"
  },
  "notebookname": "héritage",
  "rise": {
   "autolaunch": true,
   "slideNumber": "c/t",
   "start_slideshow_at": "selected",
   "theme": "sky",
   "transition": "cube"
  },
  "source_map": [
   24,
   35,
   39,
   43,
   55,
   61,
   68,
   75,
   79,
   88,
   98,
   102,
   112,
   116,
   129,
   133,
   140,
   147,
   151,
   155,
   159,
   163,
   172,
   181,
   191,
   195,
   202,
   206,
   217,
   227,
   231,
   241,
   249,
   253,
   264,
   268,
   280,
   290,
   294,
   298,
   309,
   317,
   325,
   334,
   338,
   348,
   352,
   369,
   381,
   385,
   389,
   395,
   401,
   418,
   424,
   434,
   441,
   445,
   452,
   463,
   482,
   490,
   494,
   501,
   511,
   522,
   534,
   544,
   548,
   559,
   573,
   577,
   586,
   599,
   606,
   610,
   624,
   628,
   638,
   642,
   652,
   657,
   661,
   667,
   674,
   683,
   690,
   697,
   703,
   709,
   713,
   727,
   751,
   762,
   773,
   778,
   796,
   816,
   820,
   832,
   855,
   861,
   867,
   881,
   895,
   901,
   907
  ],
  "version": "1.0",
  "widgets": {
   "application/vnd.jupyter.widget-state+json": {
    "state": {
     "3d45b6453cc24cbdb26b2c41a2577451": {
      "model_module": "@jupyter-widgets/controls",
      "model_module_version": "1.5.0",
      "model_name": "DescriptionStyleModel",
      "state": {
       "_model_module": "@jupyter-widgets/controls",
       "_model_module_version": "1.5.0",
       "_model_name": "DescriptionStyleModel",
       "_view_count": null,
       "_view_module": "@jupyter-widgets/base",
       "_view_module_version": "1.2.0",
       "_view_name": "StyleView",
       "description_width": ""
      }
     },
     "5776f0a13ae94568bd69094841b8ee25": {
      "model_module": "@jupyter-widgets/base",
      "model_module_version": "1.2.0",
      "model_name": "LayoutModel",
      "state": {
       "_model_module": "@jupyter-widgets/base",
       "_model_module_version": "1.2.0",
       "_model_name": "LayoutModel",
       "_view_count": null,
       "_view_module": "@jupyter-widgets/base",
       "_view_module_version": "1.2.0",
       "_view_name": "LayoutView",
       "align_content": null,
       "align_items": null,
       "align_self": null,
       "border": null,
       "bottom": null,
       "display": null,
       "flex": null,
       "flex_flow": null,
       "grid_area": null,
       "grid_auto_columns": null,
       "grid_auto_flow": null,
       "grid_auto_rows": null,
       "grid_column": null,
       "grid_gap": null,
       "grid_row": null,
       "grid_template_areas": null,
       "grid_template_columns": null,
       "grid_template_rows": null,
       "height": null,
       "justify_content": null,
       "justify_items": null,
       "left": null,
       "margin": null,
       "max_height": null,
       "max_width": null,
       "min_height": null,
       "min_width": null,
       "object_fit": null,
       "object_position": null,
       "order": null,
       "overflow": null,
       "overflow_x": null,
       "overflow_y": null,
       "padding": null,
       "right": null,
       "top": null,
       "visibility": null,
       "width": null
      }
     },
     "58015ebf997446148e32603c3087c1a2": {
      "model_module": "@jupyter-widgets/base",
      "model_module_version": "1.2.0",
      "model_name": "LayoutModel",
      "state": {
       "_model_module": "@jupyter-widgets/base",
       "_model_module_version": "1.2.0",
       "_model_name": "LayoutModel",
       "_view_count": null,
       "_view_module": "@jupyter-widgets/base",
       "_view_module_version": "1.2.0",
       "_view_name": "LayoutView",
       "align_content": null,
       "align_items": null,
       "align_self": null,
       "border": null,
       "bottom": null,
       "display": null,
       "flex": null,
       "flex_flow": null,
       "grid_area": null,
       "grid_auto_columns": null,
       "grid_auto_flow": null,
       "grid_auto_rows": null,
       "grid_column": null,
       "grid_gap": null,
       "grid_row": null,
       "grid_template_areas": null,
       "grid_template_columns": null,
       "grid_template_rows": null,
       "height": null,
       "justify_content": null,
       "justify_items": null,
       "left": null,
       "margin": null,
       "max_height": null,
       "max_width": null,
       "min_height": null,
       "min_width": null,
       "object_fit": null,
       "object_position": null,
       "order": null,
       "overflow": null,
       "overflow_x": null,
       "overflow_y": null,
       "padding": null,
       "right": null,
       "top": null,
       "visibility": null,
       "width": null
      }
     },
     "5b483166d3cb44b9b676c517b065023b": {
      "model_module": "@jupyter-widgets/controls",
      "model_module_version": "1.5.0",
      "model_name": "HTMLModel",
      "state": {
       "_dom_classes": [],
       "_model_module": "@jupyter-widgets/controls",
       "_model_module_version": "1.5.0",
       "_model_name": "HTMLModel",
       "_view_count": null,
       "_view_module": "@jupyter-widgets/controls",
       "_view_module_version": "1.5.0",
       "_view_name": "HTMLView",
       "description": "",
       "description_tooltip": null,
       "layout": "IPY_MODEL_ea8982b1443c4b0387db1ae153a9be03",
       "placeholder": "​",
       "style": "IPY_MODEL_69ed8827fe644d8691dcda616c5b1790",
       "value": "<style>#ipythontutor7 </style><style>#ipythontutor8 { max-width:1000px; max-height:400px; box-sizing:border-box; }</style><div id=ipythontutor8><iframe id=\"ipythontutor7\" class=\"pythontutor\" width=\"1000.0\" height=\"400.0\" src=\"https://pythontutor.com/iframe-embed.html#code=class+Factory%3A%0A++++all_labels+%3D+%5B%5D%0A++++def+__init__%28self%2C+label%29%3A%0A++++++++self.label+%3D+label%0A++++++++%23+%C3%A7a+marche+aussi%2C+mais+ATTENTION%0A++++++++self.all_labels.append%28label%29%0Af1+%3D+Factory%28%27premier%27%29%0Af2+%3D+Factory%28%27second%27%29%0A&mode=display&origin=opt-frontend.js&textReferences=false&py=3&curInstr=0&verticalStack=&heapPrimitives=false\"></div>"
      }
     },
     "69ed8827fe644d8691dcda616c5b1790": {
      "model_module": "@jupyter-widgets/controls",
      "model_module_version": "1.5.0",
      "model_name": "DescriptionStyleModel",
      "state": {
       "_model_module": "@jupyter-widgets/controls",
       "_model_module_version": "1.5.0",
       "_model_name": "DescriptionStyleModel",
       "_view_count": null,
       "_view_module": "@jupyter-widgets/base",
       "_view_module_version": "1.2.0",
       "_view_name": "StyleView",
       "description_width": ""
      }
     },
     "726fefeaebba4682a11069896435ea40": {
      "model_module": "@jupyter-widgets/controls",
      "model_module_version": "1.5.0",
      "model_name": "DescriptionStyleModel",
      "state": {
       "_model_module": "@jupyter-widgets/controls",
       "_model_module_version": "1.5.0",
       "_model_name": "DescriptionStyleModel",
       "_view_count": null,
       "_view_module": "@jupyter-widgets/base",
       "_view_module_version": "1.2.0",
       "_view_name": "StyleView",
       "description_width": ""
      }
     },
     "a4989601f50b47cd88a2e7cef5ec8338": {
      "model_module": "@jupyter-widgets/base",
      "model_module_version": "1.2.0",
      "model_name": "LayoutModel",
      "state": {
       "_model_module": "@jupyter-widgets/base",
       "_model_module_version": "1.2.0",
       "_model_name": "LayoutModel",
       "_view_count": null,
       "_view_module": "@jupyter-widgets/base",
       "_view_module_version": "1.2.0",
       "_view_name": "LayoutView",
       "align_content": null,
       "align_items": null,
       "align_self": null,
       "border": null,
       "bottom": null,
       "display": null,
       "flex": null,
       "flex_flow": null,
       "grid_area": null,
       "grid_auto_columns": null,
       "grid_auto_flow": null,
       "grid_auto_rows": null,
       "grid_column": null,
       "grid_gap": null,
       "grid_row": null,
       "grid_template_areas": null,
       "grid_template_columns": null,
       "grid_template_rows": null,
       "height": null,
       "justify_content": null,
       "justify_items": null,
       "left": null,
       "margin": null,
       "max_height": null,
       "max_width": null,
       "min_height": null,
       "min_width": null,
       "object_fit": null,
       "object_position": null,
       "order": null,
       "overflow": null,
       "overflow_x": null,
       "overflow_y": null,
       "padding": null,
       "right": null,
       "top": null,
       "visibility": null,
       "width": null
      }
     },
     "b2879a61ec0e429fa8e57b19b565a2ae": {
      "model_module": "@jupyter-widgets/controls",
      "model_module_version": "1.5.0",
      "model_name": "DescriptionStyleModel",
      "state": {
       "_model_module": "@jupyter-widgets/controls",
       "_model_module_version": "1.5.0",
       "_model_name": "DescriptionStyleModel",
       "_view_count": null,
       "_view_module": "@jupyter-widgets/base",
       "_view_module_version": "1.2.0",
       "_view_name": "StyleView",
       "description_width": ""
      }
     },
     "c4c02311c69b4e3ea16b6bda9718f115": {
      "model_module": "@jupyter-widgets/controls",
      "model_module_version": "1.5.0",
      "model_name": "DescriptionStyleModel",
      "state": {
       "_model_module": "@jupyter-widgets/controls",
       "_model_module_version": "1.5.0",
       "_model_name": "DescriptionStyleModel",
       "_view_count": null,
       "_view_module": "@jupyter-widgets/base",
       "_view_module_version": "1.2.0",
       "_view_name": "StyleView",
       "description_width": ""
      }
     },
     "d3dbf4cc308f4f7283d9e1a7e606d88e": {
      "model_module": "@jupyter-widgets/base",
      "model_module_version": "1.2.0",
      "model_name": "LayoutModel",
      "state": {
       "_model_module": "@jupyter-widgets/base",
       "_model_module_version": "1.2.0",
       "_model_name": "LayoutModel",
       "_view_count": null,
       "_view_module": "@jupyter-widgets/base",
       "_view_module_version": "1.2.0",
       "_view_name": "LayoutView",
       "align_content": null,
       "align_items": null,
       "align_self": null,
       "border": null,
       "bottom": null,
       "display": null,
       "flex": null,
       "flex_flow": null,
       "grid_area": null,
       "grid_auto_columns": null,
       "grid_auto_flow": null,
       "grid_auto_rows": null,
       "grid_column": null,
       "grid_gap": null,
       "grid_row": null,
       "grid_template_areas": null,
       "grid_template_columns": null,
       "grid_template_rows": null,
       "height": null,
       "justify_content": null,
       "justify_items": null,
       "left": null,
       "margin": null,
       "max_height": null,
       "max_width": null,
       "min_height": null,
       "min_width": null,
       "object_fit": null,
       "object_position": null,
       "order": null,
       "overflow": null,
       "overflow_x": null,
       "overflow_y": null,
       "padding": null,
       "right": null,
       "top": null,
       "visibility": null,
       "width": null
      }
     },
     "d9bab769dd234d6f8a6118ff54d9353c": {
      "model_module": "@jupyter-widgets/controls",
      "model_module_version": "1.5.0",
      "model_name": "HTMLModel",
      "state": {
       "_dom_classes": [],
       "_model_module": "@jupyter-widgets/controls",
       "_model_module_version": "1.5.0",
       "_model_name": "HTMLModel",
       "_view_count": null,
       "_view_module": "@jupyter-widgets/controls",
       "_view_module_version": "1.5.0",
       "_view_name": "HTMLView",
       "description": "",
       "description_tooltip": null,
       "layout": "IPY_MODEL_58015ebf997446148e32603c3087c1a2",
       "placeholder": "​",
       "style": "IPY_MODEL_726fefeaebba4682a11069896435ea40",
       "value": "<style>#ipythontutor5 </style><style>#ipythontutor6 { max-width:1000px; max-height:400px; box-sizing:border-box; }</style><div id=ipythontutor6><iframe id=\"ipythontutor5\" class=\"pythontutor\" width=\"1000.0\" height=\"400.0\" src=\"https://pythontutor.com/iframe-embed.html#code=import+math%0Aclass+Vector%3A%0A++++def+__init__%28self%2C+x%2C+y%29%3A%0A++++++++self.x+%3D+x%0A++++++++self.y+%3D+y%0A++++def+length%28self%29%3A%0A++++++++return+math.sqrt%28self.x%2A%2A2+%2B+self.y%2A%2A2%29%0Aclass+SubVector%28Vector%29%3A%0A++++pass%0A%0Asubvector+%3D+SubVector%286%2C+8%29%0A&mode=display&origin=opt-frontend.js&textReferences=false&py=3&curInstr=8&verticalStack=&heapPrimitives=false\"></div>"
      }
     },
     "de7f2201c8e1428295298662d4f4973f": {
      "model_module": "@jupyter-widgets/controls",
      "model_module_version": "1.5.0",
      "model_name": "HTMLModel",
      "state": {
       "_dom_classes": [],
       "_model_module": "@jupyter-widgets/controls",
       "_model_module_version": "1.5.0",
       "_model_name": "HTMLModel",
       "_view_count": null,
       "_view_module": "@jupyter-widgets/controls",
       "_view_module_version": "1.5.0",
       "_view_name": "HTMLView",
       "description": "",
       "description_tooltip": null,
       "layout": "IPY_MODEL_d3dbf4cc308f4f7283d9e1a7e606d88e",
       "placeholder": "​",
       "style": "IPY_MODEL_b2879a61ec0e429fa8e57b19b565a2ae",
       "value": "<style>#ipythontutor1 </style><style>#ipythontutor2 { max-width:1000px; max-height:450px; box-sizing:border-box; }</style><div id=ipythontutor2><iframe id=\"ipythontutor1\" class=\"pythontutor\" width=\"1000.0\" height=\"450.0\" src=\"https://pythontutor.com/iframe-embed.html#code=%0Aclass+Point%3A%0A++++def+__init__%28self%2C+x%2C+y%29%3A%0A++++++++self.x+%3D+x%0A++++++++self.y+%3D+y%0A%0Apoint+%3D+Point%282%2C+3%29%0A&mode=display&origin=opt-frontend.js&textReferences=false&py=3&curInstr=0&verticalStack=&heapPrimitives=false\"></div>"
      }
     },
     "ea8982b1443c4b0387db1ae153a9be03": {
      "model_module": "@jupyter-widgets/base",
      "model_module_version": "1.2.0",
      "model_name": "LayoutModel",
      "state": {
       "_model_module": "@jupyter-widgets/base",
       "_model_module_version": "1.2.0",
       "_model_name": "LayoutModel",
       "_view_count": null,
       "_view_module": "@jupyter-widgets/base",
       "_view_module_version": "1.2.0",
       "_view_name": "LayoutView",
       "align_content": null,
       "align_items": null,
       "align_self": null,
       "border": null,
       "bottom": null,
       "display": null,
       "flex": null,
       "flex_flow": null,
       "grid_area": null,
       "grid_auto_columns": null,
       "grid_auto_flow": null,
       "grid_auto_rows": null,
       "grid_column": null,
       "grid_gap": null,
       "grid_row": null,
       "grid_template_areas": null,
       "grid_template_columns": null,
       "grid_template_rows": null,
       "height": null,
       "justify_content": null,
       "justify_items": null,
       "left": null,
       "margin": null,
       "max_height": null,
       "max_width": null,
       "min_height": null,
       "min_width": null,
       "object_fit": null,
       "object_position": null,
       "order": null,
       "overflow": null,
       "overflow_x": null,
       "overflow_y": null,
       "padding": null,
       "right": null,
       "top": null,
       "visibility": null,
       "width": null
      }
     },
     "fc62a79b309644458f55e7537f8d7144": {
      "model_module": "@jupyter-widgets/controls",
      "model_module_version": "1.5.0",
      "model_name": "HTMLModel",
      "state": {
       "_dom_classes": [],
       "_model_module": "@jupyter-widgets/controls",
       "_model_module_version": "1.5.0",
       "_model_name": "HTMLModel",
       "_view_count": null,
       "_view_module": "@jupyter-widgets/controls",
       "_view_module_version": "1.5.0",
       "_view_name": "HTMLView",
       "description": "",
       "description_tooltip": null,
       "layout": "IPY_MODEL_5776f0a13ae94568bd69094841b8ee25",
       "placeholder": "​",
       "style": "IPY_MODEL_c4c02311c69b4e3ea16b6bda9718f115",
       "value": "<style>#ipythontutor9 </style><style>#ipythontutor10 { max-width:1000px; max-height:400px; box-sizing:border-box; }</style><div id=ipythontutor10><iframe id=\"ipythontutor9\" class=\"pythontutor\" width=\"1000.0\" height=\"400.0\" src=\"https://pythontutor.com/iframe-embed.html#code=class+Factory%3A%0A++++all_labels+%3D+%5B%5D%0A%0A++++def+__init__%28self%2C+label%29%3A%0A++++++++self.label+%3D+label%0A++++++++%23+cette+forme+ne+fonctionne+pas+comme+attendu%0A++++++++%23+parce+que+%C3%A0+droite+d%27une+affectation%0A++++++++self.all_labels+%3D+self.all_labels+%2B+%5Blabel%5D%0A%0Af1+%3D+Factory%28%27premier%27%29%0Af2+%3D+Factory%28%27second%27%29%0A&mode=display&origin=opt-frontend.js&textReferences=false&py=3&curInstr=1&verticalStack=&heapPrimitives=false\"></div>"
      }
     },
     "ff85e5c4d2f64b9a98df50ac7f4b5163": {
      "model_module": "@jupyter-widgets/controls",
      "model_module_version": "1.5.0",
      "model_name": "HTMLModel",
      "state": {
       "_dom_classes": [],
       "_model_module": "@jupyter-widgets/controls",
       "_model_module_version": "1.5.0",
       "_model_name": "HTMLModel",
       "_view_count": null,
       "_view_module": "@jupyter-widgets/controls",
       "_view_module_version": "1.5.0",
       "_view_name": "HTMLView",
       "description": "",
       "description_tooltip": null,
       "layout": "IPY_MODEL_a4989601f50b47cd88a2e7cef5ec8338",
       "placeholder": "​",
       "style": "IPY_MODEL_3d45b6453cc24cbdb26b2c41a2577451",
       "value": "<style>#ipythontutor3 </style><style>#ipythontutor4 { max-width:1000px; max-height:400px; box-sizing:border-box; }</style><div id=ipythontutor4><iframe id=\"ipythontutor3\" class=\"pythontutor\" width=\"1000.0\" height=\"400.0\" src=\"https://pythontutor.com/iframe-embed.html#code=import+math%0Aclass+Vector%3A%0A++++def+__init__%28self%2C+x%2C+y%29%3A%0A++++++++self.x+%3D+x%0A++++++++self.y+%3D+y%0A++++def+length%28self%29%3A%0A++++++++return+math.sqrt%28self.x%2A%2A2+%2B+self.y%2A%2A2%29%0A%0Avector+%3D+Vector%282%2C+2%29%0A&mode=display&origin=opt-frontend.js&textReferences=false&py=3&curInstr=7&verticalStack=&heapPrimitives=false\"></div>"
      }
     }
    },
    "version_major": 2,
    "version_minor": 0
   }
  }
 },
 "nbformat": 4,
 "nbformat_minor": 5
}