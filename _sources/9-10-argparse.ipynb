{
 "cells": [
  {
   "cell_type": "markdown",
   "id": "1d0db872",
   "metadata": {
    "slideshow": {
     "slide_type": "-"
    },
    "tags": []
   },
   "source": [
    "<div class=\"licence\">\n",
    "<span>Licence CC BY-NC-ND</span>\n",
    "<span>Thierry Parmentelat</span>\n",
    "</div>\n",
    "\n",
    "<style>\n",
    ".smaller {font-size: smaller}\n",
    "</style>"
   ]
  },
  {
   "cell_type": "markdown",
   "id": "f938a87f",
   "metadata": {
    "slideshow": {
     "slide_type": ""
    }
   },
   "source": [
    "# écrire un lanceur / point d'entrée"
   ]
  },
  {
   "cell_type": "markdown",
   "id": "a5dc6eda",
   "metadata": {},
   "source": [
    "Quand on écrit un projet en Python, on peut publier uniquement une librairie : un paquet de classes, de fonctions, destinées à être utilisées depuis une autre application.\n",
    "\n",
    "Il est parfois aussi utile de publier un vrai \"lanceur\", c'est-à-dire un programme complet, destiné à être lancé en tant que tel avec une commande dans le terminal, genre\n",
    "\n",
    "```console\n",
    "$ python script.py\n",
    "```\n",
    "\n",
    "On appelle alors ce fichier `script.py` un **lanceur**, ou encore un **point d'entrée**"
   ]
  },
  {
   "cell_type": "markdown",
   "id": "e1b294cc",
   "metadata": {},
   "source": [
    "## lire les arguments"
   ]
  },
  {
   "cell_type": "markdown",
   "id": "64316caa",
   "metadata": {},
   "source": [
    "Il est souvent utile de pouvoir passer à ce lanceur **des paramètres**\n",
    "\n",
    "Par exemple si vous avez écrit un programme qui calcule la factorielle, on veut pouvoir passer au lanceur l'entier dont on veut calculer la factorielle, en écrivant \n",
    "\n",
    "```console\n",
    "$ python factorielle.py 6\n",
    "factorial(6)=720\n",
    "```"
   ]
  },
  {
   "cell_type": "markdown",
   "id": "beb597f9",
   "metadata": {},
   "source": [
    "Il nous faut donc trouver un moyen de \"faire passer\" ce paramètre `6` depuis le terminal jusqu'à l'application Python; pour cela on dispose de deux mécanismes :\n",
    "\n",
    "* `sys.argv`\n",
    "* le module `argparse`\n",
    "\n",
    "De manière générale, sauf dans les cas simplissimes, il est préférable d'utiliser le second, bien qu'un tout petit peu plus complexe que le premier; voyons cela"
   ]
  },
  {
   "cell_type": "markdown",
   "id": "1e359286",
   "metadata": {},
   "source": [
    "## `sys.argv`"
   ]
  },
  {
   "cell_type": "markdown",
   "id": "6e43b4c3",
   "metadata": {},
   "source": [
    "Python permet de retrouver la commande de lancement du point d'entrée au travers de l'attribu `sys.argv`, sous la forme d'une liste de chaines (la commande initiale est découpée selon les espaces)"
   ]
  },
  {
   "cell_type": "markdown",
   "id": "2575fb84",
   "metadata": {},
   "source": [
    "Considérons pour commencer le programme suivant"
   ]
  },
  {
   "cell_type": "code",
   "execution_count": 1,
   "id": "917fc40d",
   "metadata": {},
   "outputs": [
    {
     "name": "stdout",
     "output_type": "stream",
     "text": [
      "# on importe sys pour pouvoir accéder à sys.argv\r\n",
      "import sys\r\n",
      "\r\n",
      "def factorial(n):\r\n",
      "    return 1 if n <= 1 else n * factorial(n-1)\r\n",
      "\r\n",
      "# le programme principal est souvent appelé `main`\r\n",
      "def main():\r\n",
      "    # sys.argv est une liste avec d'abord le nom du lanceur\r\n",
      "    # puis les paramètres de la ligne de commande\r\n",
      "    print(f\"argv={sys.argv}\")\r\n",
      "    # on extrait le premier paramètre\r\n",
      "    # qui est à l'index 1 car l'index 0 contient le lanceur\r\n",
      "    number = int(sys.argv[1])\r\n",
      "    # ya plus ka\r\n",
      "    print(f\"factorial({number})={factorial(number)}\")\r\n",
      "\r\n",
      "# un idiome fréquent : pour les points d'entrée\r\n",
      "# on n'exécute ceci\r\n",
      "# **SEULEMENT** si le fichier est vraiment le point d'entrée,\r\n",
      "# et **PAS** s'il est importé\r\n",
      "if __name__ == '__main__':\r\n",
      "    main()\r\n"
     ]
    }
   ],
   "source": [
    "# %cat est une 'magic' de IPythion\n",
    "# qui permet d'afficher le contenu de fact_sysargv.py\n",
    "\n",
    "%cat fact_sysargv.py"
   ]
  },
  {
   "cell_type": "code",
   "execution_count": 2,
   "id": "62847c99",
   "metadata": {},
   "outputs": [
    {
     "name": "stdout",
     "output_type": "stream",
     "text": [
      "argv=['fact_sysargv.py', '6']\r\n",
      "factorial(6)=720\r\n"
     ]
    }
   ],
   "source": [
    "# avec le ! je fais comme si je tapais ça dans le terminal\n",
    "!python fact_sysargv.py 6"
   ]
  },
  {
   "cell_type": "markdown",
   "id": "2c572309",
   "metadata": {},
   "source": [
    "Cette mécanique fonctionne mais présente **de gros défauts** :\n",
    "\n",
    "* principalement, on ne fait **aucun contrôle** sur les paramètres; si vous appelez le programme avec trop ou pas assez d'arguments, il se passe des trucs pas forcément très nets\n",
    "* et si vous ne vous souvenez plus de comment il faut appeler le programme, vous en êtes quittes pour retrouver et relire le code..."
   ]
  },
  {
   "cell_type": "code",
   "execution_count": 3,
   "id": "15af3319",
   "metadata": {},
   "outputs": [
    {
     "name": "stdout",
     "output_type": "stream",
     "text": [
      "argv=['fact_sysargv.py']\r\n",
      "Traceback (most recent call last):\r\n",
      "  File \"/home/runner/work/python-advanced/python-advanced/notebooks/fact_sysargv.py\", line 23, in <module>\r\n",
      "    main()\r\n",
      "  File \"/home/runner/work/python-advanced/python-advanced/notebooks/fact_sysargv.py\", line 14, in main\r\n",
      "    number = int(sys.argv[1])\r\n",
      "IndexError: list index out of range\r\n"
     ]
    }
   ],
   "source": [
    "# par exemple si on essaie de lancer le programme sans le paramètre\n",
    "# on obtient une erreur - c'est normal - \n",
    "# mais franchement ce n'est pas très clair de comprendre ce qu'on a mal fait\n",
    "\n",
    "! python fact_sysargv.py"
   ]
  },
  {
   "cell_type": "code",
   "execution_count": 4,
   "id": "c80ba53c",
   "metadata": {},
   "outputs": [
    {
     "name": "stdout",
     "output_type": "stream",
     "text": [
      "argv=['fact_sysargv.py', '6', '20']\r\n",
      "factorial(6)=720\r\n"
     ]
    }
   ],
   "source": [
    "# et avec deux paramètres, le second est simplement ignoré...\n",
    "\n",
    "! python fact_sysargv.py 6 20"
   ]
  },
  {
   "cell_type": "markdown",
   "id": "f8564e44",
   "metadata": {},
   "source": [
    "## les options"
   ]
  },
  {
   "cell_type": "markdown",
   "id": "9cf0ca1e",
   "metadata": {},
   "source": [
    "en plus de tout cela, il arrive fréquemment qu'on ait envie de passer des **options**; par exemple, notre programme pourrait avoir deux modes d'affichage, bavard ou pas.\n",
    "\n",
    "traditionnellement, les options **commencent par un tiret haut**, comme ceci :"
   ]
  },
  {
   "cell_type": "code",
   "execution_count": 5,
   "id": "9d153564",
   "metadata": {},
   "outputs": [
    {
     "name": "stdout",
     "output_type": "stream",
     "text": [
      "factorial(6)=720\r\n"
     ]
    }
   ],
   "source": [
    "# le -v est une option (v pour verbose)\n",
    "# du coup le programme fonctionne en mode bavard\n",
    "\n",
    "! python fact_sysargv2.py -v 6"
   ]
  },
  {
   "cell_type": "code",
   "execution_count": 6,
   "id": "f68f5ee8",
   "metadata": {},
   "outputs": [
    {
     "name": "stdout",
     "output_type": "stream",
     "text": [
      "720\r\n"
     ]
    }
   ],
   "source": [
    "# sans option il marche en mode silencieux, pas de baratin\n",
    "\n",
    "! python fact_sysargv2.py 6"
   ]
  },
  {
   "cell_type": "markdown",
   "id": "7512e9ce",
   "metadata": {},
   "source": [
    "Vous pouvez regarder le code de `fact_sysargv2.py` pour voir comment on a implémenté cela; notez surtout que le code devient vite un peu torturé, même pour traiter ce cas hyper-simple où on n'a qu'une seule option"
   ]
  },
  {
   "cell_type": "markdown",
   "id": "5f885e27",
   "metadata": {},
   "source": [
    "## `argparse`"
   ]
  },
  {
   "cell_type": "markdown",
   "id": "b69de325",
   "metadata": {},
   "source": [
    "`argparse` est un module de la librairie standard, conçu spécialement pour traiter de manière plus lisible ce genre de cas\n",
    "\n",
    "on ne va pas ici entrer dans les détails, mais simplement montrer le code qui se comporterait comme `fact_sysargv2`.py"
   ]
  },
  {
   "cell_type": "code",
   "execution_count": 7,
   "id": "8561b867",
   "metadata": {},
   "outputs": [
    {
     "name": "stdout",
     "output_type": "stream",
     "text": [
      "import sys\r\n",
      "from argparse import ArgumentParser\r\n",
      "\r\n",
      "def factorial(n):\r\n",
      "    return 1 if n <= 1 else n * factorial(n-1)\r\n",
      "\r\n",
      "def main():\r\n",
      "    # on construit un objet ArgumentParser\r\n",
      "    parser = ArgumentParser()\r\n",
      "    # ensuite le code est déclaratif\r\n",
      "    # on se contente de dire quel.le.s sont les options et paramètres\r\n",
      "    parser.add_argument(\"-v\", \"--verbose\", default=False, action='store_true',\r\n",
      "                        # en donnant un petit text d'explication\r\n",
      "                        help=\"enable verbose mode\")\r\n",
      "    # on peut aussi dire leur type, pas besoin de les convertir\r\n",
      "    parser.add_argument(\"number\", type=int, help=\"the input integer\")\r\n",
      "    \r\n",
      "    # on déclenche l'analyse de la ligne de commande\r\n",
      "    # en fonction de ces spécifications\r\n",
      "    args = parser.parse_args()\r\n",
      "\r\n",
      "    # et on récupère les valeurs qui nous intéressent\r\n",
      "    # dans les attributs du résultat de parse_args()\r\n",
      "    verbose = args.verbose\r\n",
      "    number = args.number\r\n",
      "\r\n",
      "    # le reste est comme avant\r\n",
      "    if verbose:\r\n",
      "        print(f\"factorial({number})={factorial(number)}\")\r\n",
      "    else:\r\n",
      "        print(factorial(number))\r\n",
      "\r\n",
      "# un idiome fréquent : pour les points d'entrée\r\n",
      "# on n'exécute ceci\r\n",
      "# **SEULEMENT** si le fichier est vraiment le point d'entrée,\r\n",
      "# et **PAS** s'il est importé\r\n",
      "if __name__ == '__main__':\r\n",
      "    main()\r\n"
     ]
    }
   ],
   "source": [
    "%cat fact_argparse.py"
   ]
  },
  {
   "cell_type": "markdown",
   "id": "96876ccf",
   "metadata": {},
   "source": [
    "ce code peut sembler un peu plus bavard que tout à l'heure; mais d'abord il donne un programme plus agréable à utiliser"
   ]
  },
  {
   "cell_type": "code",
   "execution_count": 8,
   "id": "fc0bfc46",
   "metadata": {},
   "outputs": [
    {
     "name": "stdout",
     "output_type": "stream",
     "text": [
      "usage: fact_argparse.py [-h] [-v] number\r\n",
      "fact_argparse.py: error: the following arguments are required: number\r\n"
     ]
    }
   ],
   "source": [
    "# si on ne passe pas les paramètres imposés, \n",
    "# le programme ne fait rien, \n",
    "# mais il nous explique comment on aurait dû l'appeler\n",
    "! python fact_argparse.py"
   ]
  },
  {
   "cell_type": "code",
   "execution_count": 9,
   "id": "4a7010df",
   "metadata": {},
   "outputs": [
    {
     "name": "stdout",
     "output_type": "stream",
     "text": [
      "usage: fact_argparse.py [-h] [-v] number\r\n",
      "\r\n",
      "positional arguments:\r\n",
      "  number         the input integer\r\n",
      "\r\n",
      "optional arguments:\r\n",
      "  -h, --help     show this help message and exit\r\n",
      "  -v, --verbose  enable verbose mode\r\n"
     ]
    }
   ],
   "source": [
    "# on peut avoir de l'aide\n",
    "! python fact_argparse.py --help"
   ]
  },
  {
   "cell_type": "code",
   "execution_count": 10,
   "id": "4b6c2292",
   "metadata": {},
   "outputs": [
    {
     "name": "stdout",
     "output_type": "stream",
     "text": [
      "factorial(6)=720\r\n"
     ]
    }
   ],
   "source": [
    "# et les options sont disponibles en version courte \n",
    "# (-v comme tout à l'heure)\n",
    "# mais aussi en version longue\n",
    "! python fact_argparse.py --verbose 6"
   ]
  },
  {
   "cell_type": "markdown",
   "id": "5829b3b6",
   "metadata": {},
   "source": [
    "mais fondamentalement, le plus gros avantage c'est la lisibilité, et la simplicité de maintenance, car analyser les options \"à la main\" devient rapidement compliqué, fouillis, et donc peu lisible et peu maintenable."
   ]
  },
  {
   "cell_type": "markdown",
   "id": "9c492353",
   "metadata": {},
   "source": [
    "pour tous les détails sur `argparse`, [reportez-vous à ce tutoriel](https://docs.python.org/3/howto/argparse.html)"
   ]
  },
  {
   "cell_type": "markdown",
   "id": "d95e7740",
   "metadata": {
    "tags": [
     "level_intermediate"
    ]
   },
   "source": [
    "## packaging"
   ]
  },
  {
   "cell_type": "markdown",
   "id": "641bf025",
   "metadata": {},
   "source": [
    "on va conclure ce notebook sur une note plus avancée\n",
    "\n",
    "si maintenant vous avez besoin que votre lanceur s'installe en même temps que le reste de votre librairie, vous allez utilisez `setup.py` et écrire une clause comme ceci :"
   ]
  },
  {
   "cell_type": "markdown",
   "id": "e1371c9a",
   "metadata": {},
   "source": [
    "```python\n",
    "setup(\n",
    "    ...,\n",
    "    entry_points={\n",
    "        'console_scripts': [\n",
    "            'lanceur = monpackage.fact_argparse:main',\n",
    "        ]\n",
    ")\n",
    "```"
   ]
  },
  {
   "cell_type": "markdown",
   "id": "7b984acc",
   "metadata": {},
   "source": [
    "et de cette façon, après avoir installé le package avec `pip install` (localement ou pas), vous ou votre utilisateur pourra lancer la commande `bidule` qui sera branchée sur la fonction `main` du module `monmodule` dans le package `monpackage`"
   ]
  },
  {
   "cell_type": "markdown",
   "id": "7743dcd6",
   "metadata": {},
   "source": [
    "pour davantage de détails, [reportez-vous à la documentation de `setuptools` à ce sujet](https://setuptools.readthedocs.io/en/latest/userguide/quickstart.html#entry-points-and-automatic-script-creation)"
   ]
  },
  {
   "cell_type": "markdown",
   "id": "d7e7a693",
   "metadata": {},
   "source": [
    "## conclusion"
   ]
  },
  {
   "cell_type": "markdown",
   "id": "85dbfb4a",
   "metadata": {},
   "source": [
    "on vient de voir l'essentiel des techniques qui permettent d'écrire un lanceur en Python\n",
    "\n",
    "comme vous l'avez compris on recommande d'utiliser `argparse`, de préférence à l'accès direct à `sys.argv`, qui donne un code plus lisible, plus maintenable, et beaucoup plus court dans la plupart des cas réels\n",
    "\n",
    "enfin pour installer de tels lanceurs, il est préférable de sous-traiter le travail à `setuptools`, qui se chargera de tous les détails - souvent sordides - pour une installation propre sur tous les OS de vos éventuels utilisateurs"
   ]
  }
 ],
 "metadata": {
  "jupytext": {
   "cell_metadata_filter": "all,-hidden,-heading_collapsed,-run_control",
   "encoding": "# -*- coding: utf-8 -*-",
   "notebook_metadata_filter": "all,-language_info,-toc,-jupytext.text_representation.jupytext_version,-jupytext.text_representation.format_version",
   "text_representation": {
    "extension": ".md",
    "format_name": "myst"
   }
  },
  "kernelspec": {
   "display_name": "Python 3",
   "language": "python",
   "name": "python3"
  },
  "language_info": {
   "codemirror_mode": {
    "name": "ipython",
    "version": 3
   },
   "file_extension": ".py",
   "mimetype": "text/x-python",
   "name": "python",
   "nbconvert_exporter": "python",
   "pygments_lexer": "ipython3",
   "version": "3.9.6"
  },
  "notebookname": "écrire un lanceur",
  "source_map": [
   16,
   27,
   31,
   43,
   47,
   58,
   67,
   71,
   75,
   79,
   86,
   89,
   96,
   104,
   108,
   112,
   118,
   125,
   129,
   133,
   137,
   143,
   145,
   149,
   156,
   161,
   166,
   170,
   174,
   178,
   184,
   196,
   200,
   204,
   208
  ]
 },
 "nbformat": 4,
 "nbformat_minor": 5
}