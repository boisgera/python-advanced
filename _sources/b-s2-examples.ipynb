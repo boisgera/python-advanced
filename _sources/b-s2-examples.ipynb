{
 "cells": [
  {
   "cell_type": "markdown",
   "id": "67229c81",
   "metadata": {},
   "source": [
    "<span style=\"float:left;\">Licence CC BY-NC-ND</span><span style=\"float:right;\">Thierry Parmentelat<img src=\"media/inria-25-alpha.png\" style=\"display:inline\"></span><br/>"
   ]
  },
  {
   "cell_type": "markdown",
   "id": "624ffcd8",
   "metadata": {
    "slideshow": {
     "slide_type": "slide"
    }
   },
   "source": [
    "# premiers exemples"
   ]
  },
  {
   "cell_type": "markdown",
   "id": "990ced5e",
   "metadata": {},
   "source": [
    "La dernière fois nous avons vu des\n",
    "généralités sur la programmation\n",
    "asynchrone, et nous avons dit que la\n",
    "librairie `asyncio` était un bon candidat\n",
    "pour ça. Dans cette vidéo nous allons\n",
    "faire tourner quelques exemples pour\n",
    "illustrer les concepts de base.\n",
    "\n",
    "Pour commencer bien entendu j'ai besoin\n",
    "d'importer le module `asyncio`"
   ]
  },
  {
   "cell_type": "code",
   "execution_count": 1,
   "id": "e3541b5a",
   "metadata": {},
   "outputs": [],
   "source": [
    "import asyncio"
   ]
  },
  {
   "cell_type": "markdown",
   "id": "8c07afa1",
   "metadata": {
    "slideshow": {
     "slide_type": "slide"
    }
   },
   "source": [
    "## coroutine"
   ]
  },
  {
   "cell_type": "markdown",
   "id": "d329cd51",
   "metadata": {},
   "source": [
    "Voyons d'abord la notion de coroutine;\n",
    "c'est quoi une coroutine ? à la base\n",
    "cela ressemble beaucoup à une fonction,\n",
    "mais dont on sait qu'elle va faire son\n",
    "traitement en plusieurs segments de code\n",
    "séquentiels."
   ]
  },
  {
   "cell_type": "markdown",
   "id": "f54fb930",
   "metadata": {},
   "source": [
    "En voici un exemple; on commence par\n",
    "définir la coroutine presque comme une\n",
    "fonction mais avec `async def` au lieu\n",
    "de simplement `def`\n",
    "\n",
    "Cette coroutine est aussi simple que\n",
    "possible, elle fait un traitement en\n",
    "trois morceaux, qui impriment\n",
    "respectivement 'debut', 'milieu' et\n",
    "'fin', et on simule des temps morts\n",
    "entre ces trois morceaux.\n",
    "\n",
    "Il faut surtout remarquer la nouvelle\n",
    "directive `await`, qui nous permet\n",
    "d'indiquer les étapes du traitement **où\n",
    "on sait qu'un délai est attendu** - ici\n",
    "j'utilise la coroutine `asyncio.sleep()`\n",
    "qui nous permet d'attendre pendant un\n",
    "temps fixe; dans la vraie vie, on va plutôt attendre un\n",
    "événement, du genre que des données\n",
    "soient prêtes en lecture, on verra\n",
    "d'autres exemples tout à l'heure."
   ]
  },
  {
   "cell_type": "code",
   "execution_count": 2,
   "id": "f068ea43",
   "metadata": {
    "slideshow": {
     "slide_type": "fragment"
    }
   },
   "outputs": [],
   "source": [
    "async def morceaux(message):\n",
    "\n",
    "    # on appelle le code synchrone normalement\n",
    "    print(message, \"début\")\n",
    "    # avec await on rend la main\n",
    "    await asyncio.sleep(0.5)\n",
    "\n",
    "    print(message, \"milieu\")\n",
    "    await asyncio.sleep(1)\n",
    "    \n",
    "    print(message, \"fin\")\n",
    "    return f'{message} par morceaux'"
   ]
  },
  {
   "cell_type": "markdown",
   "id": "d0b9b155",
   "metadata": {
    "cell_style": "center",
    "slideshow": {
     "slide_type": "slide"
    }
   },
   "source": [
    "## coroutines"
   ]
  },
  {
   "cell_type": "markdown",
   "id": "ef510f86",
   "metadata": {},
   "source": [
    "Avant de vous montrer ce qu'on peut en\n",
    "faire, tout d'abord regardons l'objet\n",
    "`morceaux`, il s'agit bien d'une\n",
    "fonction, jusque là tout va bien."
   ]
  },
  {
   "cell_type": "code",
   "execution_count": 3,
   "id": "f5bffcb8",
   "metadata": {
    "cell_style": "split",
    "slideshow": {
     "slide_type": "-"
    }
   },
   "outputs": [
    {
     "data": {
      "text/plain": [
       "<function __main__.morceaux(message)>"
      ]
     },
     "execution_count": 3,
     "metadata": {},
     "output_type": "execute_result"
    }
   ],
   "source": [
    "# la fonction coroutine\n",
    "morceaux"
   ]
  },
  {
   "cell_type": "markdown",
   "id": "87cf4291",
   "metadata": {
    "cell_style": "split",
    "slideshow": {
     "slide_type": "fragment"
    }
   },
   "source": [
    "Si j'appelle cette fonction, comme on\n",
    "pourrait avoir envie de le faire"
   ]
  },
  {
   "cell_type": "code",
   "execution_count": 4,
   "id": "12819e3e",
   "metadata": {
    "cell_style": "split",
    "slideshow": {}
   },
   "outputs": [
    {
     "data": {
      "text/plain": [
       "<coroutine object morceaux at 0x7f22aa48d840>"
      ]
     },
     "execution_count": 4,
     "metadata": {},
     "output_type": "execute_result"
    }
   ],
   "source": [
    "# retourne un objet coroutine\n",
    "morceaux(\"run\")"
   ]
  },
  {
   "cell_type": "markdown",
   "id": "18f64b79",
   "metadata": {},
   "source": [
    "comme vous le voyez, il ne se passe rien\n",
    "de ce qu'on attendait, l'appel retourne\n",
    "immédiatement, et rien n'est imprimé.\n",
    "\n",
    "Le résultat de cet appel est un objet de\n",
    "type coroutine; une des façons\n",
    "d'exploiter un objet de ce type est de\n",
    "l'inclure dans une boucle d'événements,\n",
    "comme ceci"
   ]
  },
  {
   "cell_type": "code",
   "execution_count": 5,
   "id": "318ce884",
   "metadata": {},
   "outputs": [
    {
     "name": "stdout",
     "output_type": "stream",
     "text": [
      "run début\n"
     ]
    },
    {
     "name": "stdout",
     "output_type": "stream",
     "text": [
      "run milieu\n"
     ]
    },
    {
     "name": "stdout",
     "output_type": "stream",
     "text": [
      "run fin\n"
     ]
    },
    {
     "data": {
      "text/plain": [
       "'run par morceaux'"
      ]
     },
     "execution_count": 5,
     "metadata": {},
     "output_type": "execute_result"
    }
   ],
   "source": [
    "# depuis un notebook, j'exécute un objet coroutine \n",
    "# avec l'instruction await\n",
    "await morceaux('run')"
   ]
  },
  {
   "cell_type": "markdown",
   "id": "26b44bc9",
   "metadata": {},
   "source": [
    "*Note* - cette façon de faire ne fonctionne que avec Jupyter ou IPython"
   ]
  },
  {
   "cell_type": "markdown",
   "id": "9ed0eff4",
   "metadata": {},
   "source": [
    "Mais bon ça n'est pas crucial du tout, et pour ne pas tout embrouiller je suppose dans la suite que tout le monde utilise IPython ou Jupyter"
   ]
  },
  {
   "cell_type": "markdown",
   "id": "76e6ce3b",
   "metadata": {
    "slideshow": {
     "slide_type": "slide"
    }
   },
   "source": [
    "## plusieurs traitements"
   ]
  },
  {
   "cell_type": "markdown",
   "id": "8d9bad42",
   "metadata": {},
   "source": [
    "Naturellement avec une\n",
    "seule coroutine ça n'est pas très\n",
    "impressionnant. Voyons tout de suite ce\n",
    "que ça donne avec plusieurs traitements\n",
    "en parallèle.\n",
    "\n",
    "Pour cela je vais utiliser une coroutine\n",
    "fournie par la librairie, qui s'appelle\n",
    "`gather`.\n",
    "\n",
    "Elle est très importante, car elle prend\n",
    "en arguments plusieurs coroutines, et\n",
    "renvoie la liste des résultats. C'est\n",
    "donc ce qu'il nous faut pour exécuter\n",
    "**deux instances** de la coroutine `morceaux`\n",
    "**en parallèle**."
   ]
  },
  {
   "cell_type": "code",
   "execution_count": 6,
   "id": "368cf2c8",
   "metadata": {
    "slideshow": {
     "slide_type": "fragment"
    }
   },
   "outputs": [
    {
     "name": "stdout",
     "output_type": "stream",
     "text": [
      "run1 début\n",
      "run2 début\n"
     ]
    },
    {
     "name": "stdout",
     "output_type": "stream",
     "text": [
      "run1 milieu\n",
      "run2 milieu\n"
     ]
    },
    {
     "name": "stdout",
     "output_type": "stream",
     "text": [
      "run1 fin\n",
      "run2 fin\n"
     ]
    },
    {
     "data": {
      "text/plain": [
       "['run1 par morceaux', 'run2 par morceaux']"
      ]
     },
     "execution_count": 6,
     "metadata": {},
     "output_type": "execute_result"
    }
   ],
   "source": [
    "await     asyncio.gather(morceaux(\"run1\"), morceaux(\"run2\"))"
   ]
  },
  {
   "cell_type": "markdown",
   "id": "fce25148",
   "metadata": {},
   "source": [
    "Remarquez bien, quand j'ai évalué la cellule précédente, les deux segments de 3\n",
    "morceaux sont bien exécutés en\n",
    "parallèle, c'est-à-dire plus ou moins en\n",
    "même temps, les deux début, puis les\n",
    "deux milieu, etc.."
   ]
  },
  {
   "cell_type": "markdown",
   "id": "cd040bd8",
   "metadata": {
    "slideshow": {
     "slide_type": "slide"
    }
   },
   "source": [
    "![run1-run2](media/w8-s2-av-fig1.png)"
   ]
  },
  {
   "cell_type": "markdown",
   "id": "74b574e6",
   "metadata": {
    "slideshow": {
     "slide_type": "slide"
    }
   },
   "source": [
    "## boucle d'événements"
   ]
  },
  {
   "cell_type": "markdown",
   "id": "f621f493",
   "metadata": {},
   "source": [
    "Pour faire le lien avec ce qu'on avait\n",
    "vu dans la première séquence, voici\n",
    "comment ça se passe en termes de\n",
    "chronologie. \n",
    "\n",
    "Cachée derrière la scène, il y a une \"boucle d'événements\" - ***event loop*** - qui fait le \"chef d'orchestre\"; \n",
    "c'est en fait exactement comme le scheduler de l'OS, mais au lieu de donner la main à des threads, elle gère - disons pour simplifier à ce stade - des coroutines.\n",
    "\n",
    "Ici en l'occurrence le job de la boucle d'événements c'est de faire avancer les deux coroutines.\n",
    "Au début naturellement, il n'est\n",
    "pas possible de savoir à coup sûr\n",
    "laquelle des deux coroutines sera\n",
    "appelée en premier, puisqu'elles sont\n",
    "censées se dérouler en même temps, on en\n",
    "choisit donc une au hasard. Ce qui est\n",
    "important, c'est qu'une fois qu'on est\n",
    "entré dans disons `run1`, cette\n",
    "coroutine **ne va garder le processeur**\n",
    "que jusqu'à ce qu'elle **rende la main**\n",
    "explicitement en faisant **`await`**\n",
    "\n",
    "À ce stade, `run1` est mise en standby -\n",
    "avec tout son contexte d'exécution - et\n",
    "le scheduler cherche ensuite une autre\n",
    "coroutine à qui donner la main. Dans\n",
    "notre cas il se trouve que `run2` est\n",
    "prête, on l'exécute donc également, mais\n",
    "à nouveau **jusqu'à rencontrer un\n",
    "'await'**. À ce stade on a exécuté les\n",
    "deux débuts, pas tout à fait en même\n",
    "temps mais coup sur coup, et on a mis de\n",
    "coté les deux coroutines, avec leur\n",
    "état, prêtes à être réactivées.\n",
    "\n",
    "Après le délai qui est codé en dur dans\n",
    "ce petit exemple, la boucle se rend\n",
    "compte que `run1` devient prête à\n",
    "reprendre, on lui passe la main, puis à\n",
    "`run2`, etc. jusqu'à rencontrer un\n",
    "`return`; une fois que les coroutines\n",
    "sont toutes terminées, la coroutine\n",
    "`gather` est terminé également et la boucle d'événements nous rend la main.\n",
    "\n",
    "Une première chose à remarquer, on l'a\n",
    "dit dans la séquence précédente, c'est que\n",
    "tout ceci est executé **dans un seul\n",
    "thread**, et donc aucun des blocs que j'ai\n",
    "dessinés ici ne peut être interrompu une\n",
    "fois qu'il a commencé.\n",
    "\n",
    "Et ça c'est très important, parce que ça\n",
    "veut dire que je vais pouvoir me\n",
    "débarrasser de tout un tas de problèmes\n",
    "que j'aurais eus si j'avais utilisé des\n",
    "*threads*; quand on utilise plusieurs\n",
    "*threads*, c'est l'OS qui fait la\n",
    "commutation, du coup ça peut arriver n'importe\n",
    "quand, et ça crée des besoins d'accès\n",
    "exclusifs à certains objets; c'est toute\n",
    "une famille de problèmes qui sont\n",
    "beaucoup moins sévères avec `asyncio`."
   ]
  },
  {
   "cell_type": "markdown",
   "id": "09ceee83",
   "metadata": {
    "slideshow": {
     "slide_type": "slide"
    }
   },
   "source": [
    "## ce qu'il ne faut pas faire"
   ]
  },
  {
   "cell_type": "markdown",
   "id": "7434ac4a",
   "metadata": {},
   "source": [
    "Mais ce que ça veut dire aussi, c'est\n",
    "qu'il ne faut **pas garder le processeur\n",
    "trop longtemps** sans rendre la main avec\n",
    "un `await`. Voyons ça sur une version\n",
    "légèrement différente de notre coroutine\n",
    "`morceaux`, que je renomme en `famine` parce qu'elle ne favorise pas un juste accès aux ressources pour tout le monde\n",
    "\n",
    "elle fait presque\n",
    "comme `morceaux`, mais j'ai remplacé un\n",
    "`await sleep(1)` par un appel bloquant à\n",
    "`time.sleep(1)`, qui est un appel\n",
    "synchrone. Du coup on n'a plus 3 petits\n",
    "fragments, mais 1 petit et un gros de 1\n",
    "seconde."
   ]
  },
  {
   "cell_type": "code",
   "execution_count": 7,
   "id": "c3d246a1",
   "metadata": {
    "slideshow": {
     "slide_type": "fragment"
    }
   },
   "outputs": [],
   "source": [
    "import time \n",
    "\n",
    "async def famine(message):\n",
    "\n",
    "    print(message, \"début\")\n",
    "    # avec await on rend la main\n",
    "    await asyncio.sleep(0.5)\n",
    "\n",
    "    print(message, \"milieu\")\n",
    "    # on garde la main au lieu de la rendre\n",
    "    time.sleep(1)\n",
    "    print(message, \"fin\")\n",
    "    return f'{message} par famine'"
   ]
  },
  {
   "cell_type": "markdown",
   "id": "302cc2bb",
   "metadata": {
    "slideshow": {
     "slide_type": "slide"
    }
   },
   "source": [
    "### famine en action"
   ]
  },
  {
   "cell_type": "markdown",
   "id": "8509363e",
   "metadata": {},
   "source": [
    "Si on fait tourner ça, on observe que\n",
    "les impressions ne sont plus aussi bien mélangées entre les deux\n",
    "coroutines"
   ]
  },
  {
   "cell_type": "code",
   "execution_count": 8,
   "id": "f33ddd17",
   "metadata": {
    "slideshow": {
     "slide_type": "fragment"
    }
   },
   "outputs": [
    {
     "name": "stdout",
     "output_type": "stream",
     "text": [
      "run1 début\n",
      "run2 début\n"
     ]
    },
    {
     "name": "stdout",
     "output_type": "stream",
     "text": [
      "run1 milieu\n"
     ]
    },
    {
     "name": "stdout",
     "output_type": "stream",
     "text": [
      "run1 fin\n",
      "run2 milieu\n"
     ]
    },
    {
     "name": "stdout",
     "output_type": "stream",
     "text": [
      "run2 fin\n"
     ]
    },
    {
     "data": {
      "text/plain": [
       "['run1 par famine', 'run2 par famine']"
      ]
     },
     "execution_count": 8,
     "metadata": {},
     "output_type": "execute_result"
    }
   ],
   "source": [
    "await asyncio.gather(famine(\"run1\"), famine(\"run2\"))"
   ]
  },
  {
   "cell_type": "markdown",
   "id": "8c2d89fb",
   "metadata": {
    "slideshow": {
     "slide_type": "slide"
    }
   },
   "source": [
    "## chronologie"
   ]
  },
  {
   "cell_type": "markdown",
   "id": "561e43ca",
   "metadata": {},
   "source": [
    "dans cette version, chacune des deux coroutines **garde la main** entre les deux impressions de milieu et de fin\n",
    "\n",
    "du coup lorsque `run1` obtient la main pour imprimer son message `milieu`, elle la garde jusqu`à la fin de son travail, \n",
    "et c'est seulement à ce moment-là que `run2` pourra faire sa deuxième moitié\n",
    "\n",
    "si bien qu'au lieu que le tout dure environ 1.5 secondes comme avec `morceaux`, ici avec `famine` le tout prend environ 2.5 s"
   ]
  },
  {
   "cell_type": "markdown",
   "id": "c80c0848",
   "metadata": {},
   "source": [
    "![famine](media/w8-s2-av-fig2.png)"
   ]
  },
  {
   "cell_type": "markdown",
   "id": "ac4bd682",
   "metadata": {},
   "source": [
    "Dit comme ça c'est évident, mais dans la\n",
    "pratique ce type de comportement se\n",
    "produit plus souvent qu'on ne voudrait, ça n'est pas toujours facile de se rendre compte que c'est ce qui se passe, mais quand ça arrive ça a un gros impact\n",
    "sur la réactivité de votre application.\n",
    "\n",
    "Donc il faut être en permanence en train de s'assurer qu'on rend la main dès qu'on peut. \n",
    "Vous pouvez toujours insérer une\n",
    "instruction comme `await asyncio.sleep(0)`\n",
    "où vous voulez pour faire respirer votre\n",
    "code."
   ]
  },
  {
   "cell_type": "markdown",
   "id": "570c0e74",
   "metadata": {
    "slideshow": {
     "slide_type": "slide"
    }
   },
   "source": [
    "## conclusion"
   ]
  },
  {
   "cell_type": "markdown",
   "id": "1681a209",
   "metadata": {},
   "source": [
    "Pour récapituler cette séquence, on a vu\n",
    "que\n",
    "\n",
    ". on écrit le code asynchrone sous forme\n",
    "de coroutines; on crée une fonction coroutine avec `async def`, et sinon le code se présente presque\n",
    "comme des fonctions - et donc qui\n",
    "peuvent implémenter n'importe quelle\n",
    "logique\n",
    "\n",
    ". on peut appeler une coroutine depuis\n",
    "une autre coroutine grâce à `await`\n",
    "\n",
    ". une coroutine peut bien entendu\n",
    "appeler une fonction traditionnelle, en\n",
    "faisant attention à ne pas bloquer trop\n",
    "longtemps\n",
    "\n",
    ". on peut exécuter une ou plus\n",
    "généralement plusieurs coroutines en\n",
    "parallèle par l'intermédiaire d'une\n",
    "**boucle d'événements**"
   ]
  },
  {
   "cell_type": "markdown",
   "id": "8a7e8e1f",
   "metadata": {},
   "source": [
    "****\n",
    "****\n",
    "****"
   ]
  },
  {
   "cell_type": "markdown",
   "id": "07866703",
   "metadata": {},
   "source": [
    "## annexe : les 1000 façons de lancer du code asynchrone"
   ]
  },
  {
   "cell_type": "markdown",
   "id": "50036a34",
   "metadata": {},
   "source": [
    "**Note !!**  pour y revenir plus tard en cas de souci"
   ]
  },
  {
   "cell_type": "markdown",
   "id": "1c13c213",
   "metadata": {},
   "source": [
    "Comme on l'a vu plus haut, pour exécuter comme on l'a fait une coroutine depuis le *toplevel* avec `await`, cela ne marche que **avec IPython et les notebooks**"
   ]
  },
  {
   "cell_type": "markdown",
   "id": "ff8a5937",
   "metadata": {},
   "source": [
    "### pour lancer du code asynchrone depuis le toplevel Python"
   ]
  },
  {
   "cell_type": "markdown",
   "id": "6d3926ef",
   "metadata": {},
   "source": [
    "par contre ça ne **marchera pas tel quel** dans l'interpréteur Python normal, vous obtiendriez ça\n",
    "\n",
    "```bash\n",
    ">>>\n",
    ">>> await morceaux('depuis python')\n",
    "  File \"<stdin>\", line 1\n",
    "SyntaxError: 'await' outside function\n",
    "```\n",
    "    \n",
    "***\n",
    "pour pouvoir faire comme ça un `await` au toplevel dans l'interpréteur Python, vous devez **lancer l'interpréteur avec l'option `-m asyncio`**\n",
    " \n",
    "```bash \n",
    "$ python -m asyncio\n",
    "asyncio REPL 3.9.1 (default, Dec 11 2020, 06:28:49)\n",
    "[Clang 10.0.0 ] on darwin\n",
    "Use \"await\" directly instead of \"asyncio.run()\".\n",
    "Type \"help\", \"copyright\", \"credits\" or \"license\" for more information.\n",
    ">>>\n",
    "...\n",
    ">>> await morceaux('avec python -m asyncio')\n",
    "avec python -m asyncio début\n",
    "avec python -m asyncio milieu\n",
    "avec python -m asyncio fin\n",
    "'avec python -m asyncio par morceaux'\n",
    "```"
   ]
  },
  {
   "cell_type": "markdown",
   "id": "e8c438a9",
   "metadata": {},
   "source": [
    "il y a une autre façon de faire qui marche avec Python sans option, c'est en utilisant `asyncio.run()` :"
   ]
  },
  {
   "cell_type": "markdown",
   "id": "928d56cf",
   "metadata": {},
   "source": [
    "```bash\n",
    "$ python\n",
    "Python 3.9.1 (default, Dec 11 2020, 06:28:49)\n",
    "[Clang 10.0.0 ] :: Anaconda, Inc. on darwin\n",
    "Type \"help\", \"copyright\", \"credits\" or \"license\" for more information.\n",
    ">>> import asyncio\n",
    "...\n",
    ">>> asyncio.run(morceaux('avec asyncio.run()')\n",
    "... )\n",
    "avec asyncio.run() début\n",
    "avec asyncio.run() milieu\n",
    "avec asyncio.run() fin\n",
    "'avec asyncio.run() par morceaux'\n",
    "```"
   ]
  },
  {
   "cell_type": "markdown",
   "id": "0c1f79d4",
   "metadata": {},
   "source": [
    "enfin sachez qu'en fait ce qui se passe avec ces méthodes qui sont en fait des raccourcis, c'est quelque chose dans le genre de ceci\n",
    "\n",
    "```python \n",
    ">>> loop = asyncio.new_event_loop()\n",
    ">>> loop.run_until_complete(morceaux('avec run_until_complete'))\n",
    "avec run_until_complete début\n",
    "avec run_until_complete milieu\n",
    "avec run_until_complete fin\n",
    "'avec run_until_complete par morceaux'\n",
    "```"
   ]
  }
 ],
 "metadata": {
  "jupytext": {
   "cell_metadata_filter": "all,-hidden,-heading_collapsed,-run_control,-trusted",
   "notebook_metadata_filter": "all,-language_info,-toc,-jupytext.text_representation.jupytext_version,-jupytext.text_representation.format_version",
   "text_representation": {
    "extension": ".md",
    "format_name": "myst"
   }
  },
  "kernelspec": {
   "display_name": "Python 3",
   "language": "python",
   "name": "python3"
  },
  "language_info": {
   "codemirror_mode": {
    "name": "ipython",
    "version": 3
   },
   "file_extension": ".py",
   "mimetype": "text/x-python",
   "name": "python",
   "nbconvert_exporter": "python",
   "pygments_lexer": "ipython3",
   "version": "3.9.6"
  },
  "nbhosting": {
   "title": "premiers exemples"
  },
  "source_map": [
   14,
   18,
   22,
   35,
   39,
   43,
   52,
   77,
   96,
   100,
   107,
   117,
   122,
   128,
   140,
   144,
   148,
   152,
   156,
   175,
   181,
   189,
   193,
   197,
   261,
   265,
   282,
   302,
   306,
   312,
   320,
   324,
   333,
   337,
   350,
   354,
   378,
   384,
   388,
   392,
   396,
   400,
   429,
   433,
   450
  ]
 },
 "nbformat": 4,
 "nbformat_minor": 5
}