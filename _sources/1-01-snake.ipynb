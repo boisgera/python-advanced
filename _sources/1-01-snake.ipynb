{
 "cells": [
  {
   "cell_type": "markdown",
   "id": "23f2d692",
   "metadata": {},
   "source": [
    "<div class=\"licence\">\n",
    "<span>Licence CC BY-NC-ND</span>\n",
    "<span>Thierry Parmentelat</span>\n",
    "<span><img src=\"media/inria-25-alpha.png\" /></span>\n",
    "</div>"
   ]
  },
  {
   "cell_type": "markdown",
   "id": "17bfcb2e",
   "metadata": {},
   "source": [
    "# UE12 - Python avancé\n",
    "\n",
    "aujourd'hui nous allons coder un petit jeu (ou plus, pour les aguerris)"
   ]
  },
  {
   "cell_type": "markdown",
   "id": "558cc29c",
   "metadata": {},
   "source": [
    "## objectifs\n",
    "\n",
    "ce qu'on veut faire aujourd'hui principalement, c'est :\n",
    "\n",
    "* vérifier les installations de tout le monde\n",
    "* pratiquer en vraie grandeur la boucle \n",
    "  * écriture de code\n",
    "  * lancement de programme\n",
    "* de préférence avec\n",
    "  * vs-code pour l'édition de programme\n",
    "  * le terminal pour le lancement du programme  \n",
    "    (celui-ci pouvant être le terminal intégré de vs-code)\n",
    "* installation et utilisation d'une librairie\n",
    "* écriture de **code simple**\n",
    "  * pas nécessairement besoin de structures de données compliquées\n",
    "* en plus c'est ludique !"
   ]
  }
 ],
 "metadata": {
  "jupytext": {
   "cell_metadata_filter": "all,-hidden,-heading_collapsed",
   "formats": "md:myst",
   "notebook_metadata_filter": "all,-language_info,-toc,-jupytext.text_representation.jupytext_version,-jupytext.text_representation.format_version",
   "text_representation": {
    "extension": ".md",
    "format_name": "myst"
   }
  },
  "kernelspec": {
   "display_name": "Python 3",
   "language": "python",
   "name": "python3"
  },
  "language_info": {
   "codemirror_mode": {
    "name": "ipython",
    "version": 3
   },
   "file_extension": ".py",
   "mimetype": "text/x-python",
   "name": "python",
   "nbconvert_exporter": "python",
   "pygments_lexer": "ipython3",
   "version": "3.9.6"
  },
  "notebookname": "des jeux en Python",
  "rise": {
   "autolaunch": true,
   "slideNumber": "c/t",
   "start_slideshow_at": "selected",
   "theme": "sky",
   "transition": "cube"
  },
  "source_map": [
   21,
   29,
   35
  ],
  "version": "1.0"
 },
 "nbformat": 4,
 "nbformat_minor": 5
}