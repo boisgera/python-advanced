{
 "cells": [
  {
   "cell_type": "markdown",
   "id": "4fa34978",
   "metadata": {
    "slideshow": {
     "slide_type": "slide"
    }
   },
   "source": [
    "<div class=\"licence\">\n",
    "<span>Licence CC BY-NC-ND</span>\n",
    "<span>Thierry Parmentelat</span>\n",
    "</div>"
   ]
  },
  {
   "cell_type": "markdown",
   "id": "e25b3a24",
   "metadata": {
    "slideshow": {
     "slide_type": ""
    }
   },
   "source": [
    "# les générateurs"
   ]
  },
  {
   "cell_type": "markdown",
   "id": "4c205da7",
   "metadata": {
    "slideshow": {
     "slide_type": "slide"
    }
   },
   "source": [
    "## rappels"
   ]
  },
  {
   "cell_type": "markdown",
   "id": "2d219dc7",
   "metadata": {},
   "source": [
    "pour fabriquer des itérables en Python\n",
    "\n",
    "* les types de base / containers (`list`, `set`, `dict`)\n",
    "* compréhensions - construisent un container, et donc\n",
    "  * allouent de la mémoire\n",
    "  * font vraiment les calculs tout de suite\n",
    "* expression génératrice\n",
    "  * syntaxe très voisine de la compréhension de liste\n",
    "  * mais construit uniquement **un itérateur**\n",
    "  * qui pourra - quand on l'utilisera - passer au suivant, et ainsi de suite"
   ]
  },
  {
   "cell_type": "markdown",
   "id": "f4c320c3",
   "metadata": {
    "slideshow": {
     "slide_type": "slide"
    }
   },
   "source": [
    "## la fonction génératrice"
   ]
  },
  {
   "cell_type": "markdown",
   "id": "907240c2",
   "metadata": {},
   "source": [
    "* la **fonction génératrice** est une dernière forme très commune d'itérateurs\n",
    "* écrite sous la forme d'une fonction  \n",
    "  qui fait `yield` au lieu de `return`"
   ]
  },
  {
   "cell_type": "code",
   "execution_count": 1,
   "id": "d6b092f3",
   "metadata": {
    "cell_style": "split"
   },
   "outputs": [],
   "source": [
    "# si une fonction contient\n",
    "# au moins un yield\n",
    "# elle devient une\n",
    "# fonction génératrice\n",
    "\n",
    "def squares(iterable):\n",
    "    for i in iterable:\n",
    "        yield i**2"
   ]
  },
  {
   "cell_type": "code",
   "execution_count": 2,
   "id": "bd4301c6",
   "metadata": {
    "cell_style": "split"
   },
   "outputs": [
    {
     "data": {
      "text/plain": [
       "<generator object squares at 0x7f410af2acf0>"
      ]
     },
     "execution_count": 2,
     "metadata": {},
     "output_type": "execute_result"
    }
   ],
   "source": [
    "data = (4, 1, 7)\n",
    "\n",
    "# cet objet est un générateur\n",
    "squares(data)"
   ]
  },
  {
   "cell_type": "code",
   "execution_count": 3,
   "id": "e1346e85",
   "metadata": {
    "cell_style": "split"
   },
   "outputs": [
    {
     "name": "stdout",
     "output_type": "stream",
     "text": [
      "16 1 49 "
     ]
    }
   ],
   "source": [
    "# en particulier\n",
    "# on peut itérer dessus\n",
    "\n",
    "for square in squares(data):\n",
    "    print(square, end=\" \")"
   ]
  },
  {
   "cell_type": "markdown",
   "id": "3fae5885",
   "metadata": {
    "slideshow": {
     "slide_type": "slide"
    }
   },
   "source": [
    "### vocabulaire\n",
    "\n",
    "* une expression génératrice retourne un objet de type `generator`\n",
    "* il est fréquent - par abus de langage - d'appeler aussi simplement *générateur*  \n",
    "  une fonction génératrice\n",
    "* mais précisément, c'est **l'appel** à une fonction génératrice  \n",
    "  qui retourne un objet de type `generator`\n",
    "\n",
    "* on a donc **deux syntaxes différentes** pour construire  \n",
    "  des objets qui sont **tous de type `generator`**"
   ]
  },
  {
   "cell_type": "markdown",
   "id": "5122176a",
   "metadata": {
    "slideshow": {
     "slide_type": "slide"
    }
   },
   "source": [
    "### expression génératrice *vs* fonction génératrice"
   ]
  },
  {
   "cell_type": "code",
   "execution_count": 4,
   "id": "1a1d0082",
   "metadata": {
    "cell_style": "split"
   },
   "outputs": [],
   "source": [
    "# ces deux objets sont équivalents\n",
    "gen1 = (x**2 for x in data)"
   ]
  },
  {
   "cell_type": "code",
   "execution_count": 5,
   "id": "5f3c2a35",
   "metadata": {
    "cell_style": "split"
   },
   "outputs": [],
   "source": [
    "def squares(iterable):\n",
    "    for i in iterable:\n",
    "        yield i**2\n",
    "\n",
    "gen2 = squares(data)"
   ]
  },
  {
   "cell_type": "code",
   "execution_count": 6,
   "id": "12132241",
   "metadata": {
    "cell_style": "split"
   },
   "outputs": [
    {
     "name": "stdout",
     "output_type": "stream",
     "text": [
      "16\n",
      "1\n",
      "49\n"
     ]
    }
   ],
   "source": [
    "for x in gen1:\n",
    "    print(x)"
   ]
  },
  {
   "cell_type": "code",
   "execution_count": 7,
   "id": "16559722",
   "metadata": {
    "cell_style": "split"
   },
   "outputs": [
    {
     "name": "stdout",
     "output_type": "stream",
     "text": [
      "16\n",
      "1\n",
      "49\n"
     ]
    }
   ],
   "source": [
    "for x in gen2:\n",
    "    print(x)"
   ]
  },
  {
   "cell_type": "markdown",
   "id": "b5cd4530",
   "metadata": {
    "slideshow": {
     "slide_type": "slide"
    }
   },
   "source": [
    "#### expression génératrice *vs* fonction génératrice"
   ]
  },
  {
   "cell_type": "markdown",
   "id": "1d4125bc",
   "metadata": {},
   "source": [
    "* les deux formes de générateur (expression et fonction)  \n",
    "  produisent des objets de même type `generator`"
   ]
  },
  {
   "cell_type": "code",
   "execution_count": 8,
   "id": "83378a09",
   "metadata": {
    "cell_style": "split"
   },
   "outputs": [
    {
     "data": {
      "text/plain": [
       "generator"
      ]
     },
     "execution_count": 8,
     "metadata": {},
     "output_type": "execute_result"
    }
   ],
   "source": [
    "# une genexpr\n",
    "gen1 = (x**2 for x in data)\n",
    "type(gen1)"
   ]
  },
  {
   "cell_type": "code",
   "execution_count": 9,
   "id": "8910ba91",
   "metadata": {
    "cell_style": "split"
   },
   "outputs": [
    {
     "data": {
      "text/plain": [
       "generator"
      ]
     },
     "execution_count": 9,
     "metadata": {},
     "output_type": "execute_result"
    }
   ],
   "source": [
    "# (le résultat d'une)\n",
    "# fonction génératrice\n",
    "gen2 = squares(data)\n",
    "type(gen2)"
   ]
  },
  {
   "cell_type": "markdown",
   "id": "430dbcf0",
   "metadata": {},
   "source": [
    "* la fonction a toutefois une puissance d'expression supérieure\n",
    "* notamment elle permet de **conserver l'état** de l'itération  \n",
    "  sous la forme de variables locales"
   ]
  },
  {
   "cell_type": "markdown",
   "id": "9e77e3ee",
   "metadata": {
    "slideshow": {
     "slide_type": "slide"
    }
   },
   "source": [
    "### exercice\n",
    "\n",
    "implémenter un générateur qui parcourt tous les nombres premiers"
   ]
  },
  {
   "cell_type": "markdown",
   "id": "f6783095",
   "metadata": {
    "slideshow": {
     "slide_type": "slide"
    },
    "tags": [
     "level_intermediate"
    ]
   },
   "source": [
    "### `yield from`"
   ]
  },
  {
   "cell_type": "markdown",
   "id": "957329f3",
   "metadata": {},
   "source": [
    "* une fonction génératrice est une fonction\n",
    "* donc elle peut appeler d'autres fonctions\n",
    "* qui peuvent elles-mêmes être des fonctions génératrices"
   ]
  },
  {
   "cell_type": "markdown",
   "id": "f1e91553",
   "metadata": {},
   "source": [
    "exemple :\n",
    "partant d'une fonction génératrice qui énumère  \n",
    "tous les diviseurs d'un entier (1 et lui-même exclus)"
   ]
  },
  {
   "cell_type": "markdown",
   "id": "dececc2a",
   "metadata": {
    "cell_style": "center"
   },
   "source": [
    "comment écrire un générateur  \n",
    "qui énumère tous les diviseurs  \n",
    "... des diviseurs de `n` ?"
   ]
  },
  {
   "cell_type": "code",
   "execution_count": 10,
   "id": "631a5e06",
   "metadata": {
    "cell_style": "split",
    "slideshow": {
     "slide_type": "slide"
    }
   },
   "outputs": [],
   "source": [
    "# on énumère les diviseurs\n",
    "# en partant du plus grand\n",
    "def divs(n):\n",
    "    for i in range(n-1, 1, -1):\n",
    "        if n % i == 0:\n",
    "            yield i"
   ]
  },
  {
   "cell_type": "code",
   "execution_count": 11,
   "id": "6c3fd0a5",
   "metadata": {
    "cell_style": "split"
   },
   "outputs": [
    {
     "name": "stdout",
     "output_type": "stream",
     "text": [
      "6 4 3 2 "
     ]
    }
   ],
   "source": [
    "for div in divs(12):\n",
    "    print(div, end=\" \")"
   ]
  },
  {
   "cell_type": "code",
   "execution_count": 12,
   "id": "4a492157",
   "metadata": {
    "cell_style": "center"
   },
   "outputs": [
    {
     "name": "stdout",
     "output_type": "stream",
     "text": [
      "3\n",
      "2\n",
      "2\n"
     ]
    }
   ],
   "source": [
    "# maintenant on voudrait écrire\n",
    "# quelque chose qui fasse en gros\n",
    "n = 12\n",
    "for d1 in divs(n):\n",
    "    for d2 in divs(d1):\n",
    "        print(d2)"
   ]
  },
  {
   "cell_type": "markdown",
   "id": "13175dd2",
   "metadata": {},
   "source": [
    "mais sous forme de fonction génératrice"
   ]
  },
  {
   "cell_type": "markdown",
   "id": "069c3297",
   "metadata": {
    "slideshow": {
     "slide_type": "slide"
    }
   },
   "source": [
    "#### `yield from`"
   ]
  },
  {
   "cell_type": "markdown",
   "id": "4c12976a",
   "metadata": {},
   "source": [
    "pour énumérer les diviseurs des diviseurs, on pourrait penser écrire"
   ]
  },
  {
   "cell_type": "code",
   "execution_count": 13,
   "id": "d451ec19",
   "metadata": {
    "cell_style": "split"
   },
   "outputs": [],
   "source": [
    "# première idée\n",
    "\n",
    "# pourquoi ça ne marche pas ?\n",
    "\n",
    "def divsdivs1(n):\n",
    "    for d in divs(n):\n",
    "        return divs(d)"
   ]
  },
  {
   "cell_type": "code",
   "execution_count": 14,
   "id": "ab1ce8eb",
   "metadata": {
    "cell_style": "split",
    "slideshow": {
     "slide_type": "fragment"
    }
   },
   "outputs": [
    {
     "data": {
      "text/plain": [
       "<generator object divs at 0x7f4108e1dac0>"
      ]
     },
     "execution_count": 14,
     "metadata": {},
     "output_type": "execute_result"
    }
   ],
   "source": [
    "# c'est bien un générateur\n",
    "divsdivs1(12)"
   ]
  },
  {
   "cell_type": "code",
   "execution_count": 15,
   "id": "31d434d3",
   "metadata": {
    "cell_style": "split"
   },
   "outputs": [
    {
     "name": "stdout",
     "output_type": "stream",
     "text": [
      "3\n",
      "2\n"
     ]
    }
   ],
   "source": [
    "# mais...\n",
    "for d in divsdivs1(12):\n",
    "    print(d)"
   ]
  },
  {
   "cell_type": "markdown",
   "id": "4abe741e",
   "metadata": {
    "slideshow": {
     "slide_type": "fragment"
    }
   },
   "source": [
    "* on entre dans le `for` avec d=6\n",
    "* on évalue `divs(6)` (un générateur)\n",
    "* **et c'est ça qu'on retourne** de suite"
   ]
  },
  {
   "cell_type": "markdown",
   "id": "dbc12253",
   "metadata": {
    "slideshow": {
     "slide_type": "slide"
    }
   },
   "source": [
    "**deuxième idée**  \n",
    "pour énumérer les diviseurs des diviseurs, on pourrait penser écrire"
   ]
  },
  {
   "cell_type": "code",
   "execution_count": 16,
   "id": "15d77347",
   "metadata": {
    "cell_style": "split"
   },
   "outputs": [],
   "source": [
    "# pourquoi ça ne marche pas ?\n",
    "def divsdivs2(n):\n",
    "    for d in divs(n):\n",
    "        yield divs(d)"
   ]
  },
  {
   "cell_type": "code",
   "execution_count": 17,
   "id": "14848145",
   "metadata": {
    "cell_style": "split"
   },
   "outputs": [
    {
     "data": {
      "text/plain": [
       "<generator object divsdivs2 at 0x7f4108e1dc10>"
      ]
     },
     "execution_count": 17,
     "metadata": {},
     "output_type": "execute_result"
    }
   ],
   "source": [
    "# c'est bien un générateur\n",
    "divsdivs2(12)"
   ]
  },
  {
   "cell_type": "code",
   "execution_count": 18,
   "id": "3623f76f",
   "metadata": {
    "cell_style": "split"
   },
   "outputs": [
    {
     "name": "stdout",
     "output_type": "stream",
     "text": [
      "<generator object divs at 0x7f4108e1df90>\n",
      "<generator object divs at 0x7f4108e1f040>\n",
      "<generator object divs at 0x7f4108e1df90>\n",
      "<generator object divs at 0x7f4108e1f040>\n"
     ]
    }
   ],
   "source": [
    "# mais...\n",
    "for d in divsdivs2(12):\n",
    "    print(d)"
   ]
  },
  {
   "cell_type": "markdown",
   "id": "6743ec18",
   "metadata": {
    "slideshow": {
     "slide_type": "fragment"
    }
   },
   "source": [
    "* cette fois on va bien énumérer `divs(6)`, `divs(4)`, `divs(3)` puis `divs(2)`\n",
    "* **mais pas itérer** sur ces 4 générateurs\n",
    "* c'est pourquoi ils se retrouvent imprimés tels quels"
   ]
  },
  {
   "cell_type": "markdown",
   "id": "954f5be5",
   "metadata": {
    "slideshow": {
     "slide_type": "slide"
    }
   },
   "source": [
    "#### `yield from`"
   ]
  },
  {
   "cell_type": "markdown",
   "id": "ac8c4966",
   "metadata": {},
   "source": [
    "* on voit que lorsqu'une fonction génératrice en appelle une autre\n",
    "* il y a nécessité pour une syntaxe spéciale: `yield from`"
   ]
  },
  {
   "cell_type": "code",
   "execution_count": 19,
   "id": "5e7bc9bf",
   "metadata": {
    "cell_style": "split"
   },
   "outputs": [],
   "source": [
    "def divdivs(n):\n",
    "    for i in divs(n):\n",
    "        yield from divs(i)"
   ]
  },
  {
   "cell_type": "code",
   "execution_count": 20,
   "id": "2526e79d",
   "metadata": {
    "cell_style": "split"
   },
   "outputs": [
    {
     "name": "stdout",
     "output_type": "stream",
     "text": [
      "3\n",
      "2\n",
      "2\n"
     ]
    }
   ],
   "source": [
    "for div in divdivs(12):\n",
    "    print(div)"
   ]
  },
  {
   "cell_type": "markdown",
   "id": "a724c4ba",
   "metadata": {
    "slideshow": {
     "slide_type": "slide"
    },
    "tags": []
   },
   "source": [
    "## itérateurs à base d'une classe"
   ]
  },
  {
   "cell_type": "markdown",
   "id": "ad315142",
   "metadata": {},
   "source": [
    "on peut aussi créer des objets qui sont des itérateurs, grâce à ce qu'on appelle le \"protocole\" itérable\n",
    "\n",
    "dans les prochaines slides, on va construire de plusieurs façons différentes un objet qui a toujours les mêmes propriétés :\n",
    "* `carres_n` est un itérateur\n",
    "* qui est capable d'énumérer les carrés des nombres entiers"
   ]
  },
  {
   "cell_type": "code",
   "execution_count": 21,
   "id": "73ad2f94",
   "metadata": {
    "slideshow": {
     "slide_type": "slide"
    }
   },
   "outputs": [],
   "source": [
    "# en utilisant une fonction génératrice\n",
    "\n",
    "def carres():\n",
    "    i = 0\n",
    "    while True:\n",
    "        yield i*i\n",
    "        i += 1\n",
    "\n",
    "carres_1 = carres()"
   ]
  },
  {
   "cell_type": "code",
   "execution_count": 22,
   "id": "3c975fce",
   "metadata": {},
   "outputs": [
    {
     "name": "stdout",
     "output_type": "stream",
     "text": [
      "0\n",
      "1\n",
      "4\n"
     ]
    }
   ],
   "source": [
    "for _ in range(3):\n",
    "    print(next(carres_1))"
   ]
  },
  {
   "cell_type": "code",
   "execution_count": 23,
   "id": "065ddc05",
   "metadata": {
    "slideshow": {
     "slide_type": "slide"
    }
   },
   "outputs": [],
   "source": [
    "# qu'on peut facilement remplacer par une expression génératrice\n",
    "\n",
    "from itertools import count\n",
    "carres_2 = (i**2 for i in count())"
   ]
  },
  {
   "cell_type": "code",
   "execution_count": 24,
   "id": "42367945",
   "metadata": {},
   "outputs": [
    {
     "name": "stdout",
     "output_type": "stream",
     "text": [
      "0\n",
      "1\n",
      "4\n"
     ]
    }
   ],
   "source": [
    "for _ in range(3):\n",
    "    print(next(carres_2))"
   ]
  },
  {
   "cell_type": "code",
   "execution_count": 25,
   "id": "b0371767",
   "metadata": {
    "slideshow": {
     "slide_type": "slide"
    }
   },
   "outputs": [],
   "source": [
    "# ou - un peu plus pédestre, dans ce cas d'usage\n",
    "# on peut écrire une classe qui implémente\n",
    "# __iter__ et __next__\n",
    "#\n",
    "# pour fabriquer un itérateur,\n",
    "# il faut que __iter__() renvoie self\n",
    "\n",
    "class Carres3:\n",
    "    def __init__(self):\n",
    "        self.i = 0\n",
    "    def __iter_(self):\n",
    "        return self\n",
    "    def __next__(self):\n",
    "        carre = self.i * self.i\n",
    "        self.i += 1\n",
    "        return carre\n",
    "\n",
    "carres_3 = Carres3()"
   ]
  },
  {
   "cell_type": "code",
   "execution_count": 26,
   "id": "15a0d96b",
   "metadata": {},
   "outputs": [
    {
     "name": "stdout",
     "output_type": "stream",
     "text": [
      "0\n",
      "1\n",
      "4\n"
     ]
    }
   ],
   "source": [
    "for _ in range(3):\n",
    "    print(next(carres_3))"
   ]
  },
  {
   "cell_type": "code",
   "execution_count": 27,
   "id": "696322e3",
   "metadata": {
    "slideshow": {
     "slide_type": "slide"
    },
    "tags": [
     "level_intermediate"
    ]
   },
   "outputs": [],
   "source": [
    "# ici on crée un objet qui est bien itérable\n",
    "# mais comme __iter__(self) renvoie autre chose que self,\n",
    "# ce n'est pas un itérateur, on ne peut pas faire next() dessus\n",
    "\n",
    "class Carres4:\n",
    "     def __iter__(self):\n",
    "         return ( i*i for i in count() )\n",
    "\n",
    "carres_4 = Carres4()"
   ]
  },
  {
   "cell_type": "code",
   "execution_count": 28,
   "id": "171484a6",
   "metadata": {},
   "outputs": [
    {
     "name": "stdout",
     "output_type": "stream",
     "text": [
      "OOPS, <class 'TypeError'> 'Carres4' object is not an iterator\n"
     ]
    }
   ],
   "source": [
    "# on ne peut pas faire next()\n",
    "try:\n",
    "    for _ in range(3):\n",
    "        print(next(carres_4))\n",
    "except Exception as exc:\n",
    "    print(f\"OOPS, {type(exc)} {exc}\")"
   ]
  },
  {
   "cell_type": "code",
   "execution_count": 29,
   "id": "167ad810",
   "metadata": {},
   "outputs": [
    {
     "name": "stdout",
     "output_type": "stream",
     "text": [
      "0\n",
      "1\n",
      "4\n"
     ]
    }
   ],
   "source": [
    "# mais c'est quand même un itérable\n",
    "# donc on peut faire un for avec\n",
    "for x in carres_4:\n",
    "    print(x)\n",
    "    if x >= 4:\n",
    "        break"
   ]
  }
 ],
 "metadata": {
  "celltoolbar": "Slideshow",
  "jupytext": {
   "cell_metadata_filter": "all,-hidden,-heading_collapsed,-run_control",
   "encoding": "# -*- coding: utf-8 -*-",
   "notebook_metadata_filter": "all,-language_info,-toc,-jupytext.text_representation.jupytext_version,-jupytext.text_representation.format_version",
   "text_representation": {
    "extension": ".md",
    "format_name": "myst"
   }
  },
  "kernelspec": {
   "display_name": "Python 3",
   "language": "python",
   "name": "python3"
  },
  "language_info": {
   "codemirror_mode": {
    "name": "ipython",
    "version": 3
   },
   "file_extension": ".py",
   "mimetype": "text/x-python",
   "name": "python",
   "nbconvert_exporter": "python",
   "pygments_lexer": "ipython3",
   "version": "3.9.6"
  },
  "notebookname": "les générateurs",
  "rise": {
   "autolaunch": true,
   "slideNumber": "c/t",
   "start_slideshow_at": "selected",
   "theme": "sky",
   "transition": "cube"
  },
  "source_map": [
   24,
   31,
   35,
   39,
   52,
   56,
   62,
   75,
   84,
   94,
   107,
   111,
   118,
   128,
   135,
   142,
   146,
   151,
   159,
   166,
   172,
   178,
   182,
   188,
   194,
   200,
   214,
   221,
   230,
   234,
   238,
   242,
   254,
   264,
   272,
   278,
   283,
   292,
   299,
   307,
   313,
   317,
   322,
   330,
   337,
   341,
   349,
   365,
   370,
   381,
   386,
   411,
   416,
   433,
   442
  ],
  "version": "1.0"
 },
 "nbformat": 4,
 "nbformat_minor": 5
}