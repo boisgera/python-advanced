{
 "cells": [
  {
   "cell_type": "markdown",
   "id": "eecf2d55",
   "metadata": {
    "slideshow": {
     "slide_type": "slide"
    }
   },
   "source": [
    "<div class=\"licence\">\n",
    "<span>Licence CC BY-NC-ND</span>\n",
    "<span>Thierry Parmentelat</span>\n",
    "<span><img src=\"media/inria-25-alpha.png\" /></span>\n",
    "</div>"
   ]
  },
  {
   "cell_type": "markdown",
   "id": "aaba5ecd",
   "metadata": {
    "slideshow": {
     "slide_type": "slide"
    }
   },
   "source": [
    "# les itérations en Python"
   ]
  },
  {
   "cell_type": "markdown",
   "id": "6f6396a0",
   "metadata": {},
   "source": [
    "* la boucle `for` est la méthode **préférée**   \n",
    "  pour itérer sur un ensemble de valeurs\n",
    "\n",
    "* en général préférable au `while` en Python\n",
    "  * on peut faire un `for` sur n'importe quel itérable\n",
    "  * ce n'est pas le cas pour le `while`\n",
    "  * avec `for` c'est l'itérable qui se charge de la logique\n",
    "* de nombreuses techniques pour itérer de manière optimisée\n",
    "  * compréhensions\n",
    "  * itérateurs\n",
    "  * expressions génératrices\n",
    "  * générateurs (encore appelées fonctions génératrices)\n",
    "  * (rappel : avec numpy, pas de `for`, programmation vectorielle)"
   ]
  },
  {
   "cell_type": "markdown",
   "id": "eb85cd51",
   "metadata": {
    "slideshow": {
     "slide_type": "slide"
    }
   },
   "source": [
    "## la boucle `for`"
   ]
  },
  {
   "cell_type": "markdown",
   "id": "e28aed34",
   "metadata": {
    "slideshow": {
     "slide_type": ""
    }
   },
   "source": [
    "une instruction `for` ressemble à ceci :\n",
    "\n",
    "```python\n",
    "for item in iterable:\n",
    "    bloc\n",
    "    aligné\n",
    "    d_instructions\n",
    "```"
   ]
  },
  {
   "cell_type": "markdown",
   "id": "94e6b255",
   "metadata": {
    "slideshow": {
     "slide_type": "slide"
    }
   },
   "source": [
    "### `break` et `continue`"
   ]
  },
  {
   "cell_type": "markdown",
   "id": "5116b3f5",
   "metadata": {},
   "source": [
    "comme dans beaucoup d'autres langages :\n",
    "\n",
    "* `break` sort complètement de la boucle\n",
    "* `continue` termine abruptement l'itération courante et passe à la suivante\n",
    "* on parle toujours de la boucle **la plus imbriquée**\n",
    "\n",
    "l'instruction `else` attachée à un `for` est d'un usage plutôt rare en pratique"
   ]
  },
  {
   "cell_type": "markdown",
   "id": "329ff3b3",
   "metadata": {
    "slideshow": {
     "slide_type": "slide"
    }
   },
   "source": [
    "### `for .. else`"
   ]
  },
  {
   "cell_type": "markdown",
   "id": "030a1ed0",
   "metadata": {
    "slideshow": {
     "slide_type": ""
    }
   },
   "source": [
    "en fait la forme générale de la boucle `for` c'est\n",
    "\n",
    "\n",
    "```python\n",
    "for item in iterable:\n",
    "    bloc\n",
    "    aligné\n",
    "else:\n",
    "    bloc     # exécuté lorsque la boucle sort \"proprement\"\n",
    "    aligné   # c'est-à-dire pas avec un break\n",
    "```\n",
    "\n",
    "mais c'est d'un usage assez rare"
   ]
  },
  {
   "cell_type": "markdown",
   "id": "b7e70c6c",
   "metadata": {
    "slideshow": {
     "slide_type": "slide"
    }
   },
   "source": [
    "### ~~`for i in range(len(truc))`~~"
   ]
  },
  {
   "cell_type": "code",
   "execution_count": 1,
   "id": "18d96d95",
   "metadata": {
    "cell_style": "split",
    "slideshow": {
     "slide_type": ""
    }
   },
   "outputs": [
    {
     "name": "stdout",
     "output_type": "stream",
     "text": [
      "10 20 40 80 120 "
     ]
    }
   ],
   "source": [
    "liste = [10, 20, 40, 80, 120]\n",
    "\n",
    "# la bonne façon de faire un for\n",
    "\n",
    "for item in liste:\n",
    "    print(item, end=\" \")"
   ]
  },
  {
   "cell_type": "code",
   "execution_count": 2,
   "id": "997b965e",
   "metadata": {
    "cell_style": "split"
   },
   "outputs": [
    {
     "name": "stdout",
     "output_type": "stream",
     "text": [
      "10 20 40 80 120 "
     ]
    }
   ],
   "source": [
    "# et **non pas** cette\n",
    "# horrible périphrase !\n",
    "\n",
    "for i in range(len(liste)):\n",
    "    item = liste[i]\n",
    "    print(item, end=\" \")"
   ]
  },
  {
   "cell_type": "markdown",
   "id": "31bc1368",
   "metadata": {
    "cell_style": "center",
    "tags": [
     "level_advanced"
    ]
   },
   "source": [
    "* voir [une revue de code intéressante ici](http://sametmax.com/revue-de-code-publique/)"
   ]
  },
  {
   "cell_type": "markdown",
   "id": "d05c75e8",
   "metadata": {
    "slideshow": {
     "slide_type": "slide"
    }
   },
   "source": [
    "### boucle `for` sur un dictionnaire"
   ]
  },
  {
   "cell_type": "markdown",
   "id": "7de0ca42",
   "metadata": {},
   "source": [
    "* on peut facilement itérer sur un dictionnaire\n",
    "* mais il faut choisir si on veut le faire \n",
    "  * sur les clés,\n",
    "  * sur les valeurs,\n",
    "  * ou sur les deux\n",
    "* c'est à ça que servent les méthodes\n",
    "  * `keys()`\n",
    "  * `values()`\n",
    "  * `items()`"
   ]
  },
  {
   "cell_type": "markdown",
   "id": "ecd577cf",
   "metadata": {
    "slideshow": {
     "slide_type": "slide"
    }
   },
   "source": [
    "#### boucle `for` sur un dictionnaire"
   ]
  },
  {
   "cell_type": "code",
   "execution_count": 3,
   "id": "bc863c26",
   "metadata": {
    "cell_style": "split"
   },
   "outputs": [],
   "source": [
    "agenda = {\n",
    "    'paul': 12, \n",
    "    'pierre': 14,\n",
    "    'jean': 16,\n",
    "}"
   ]
  },
  {
   "cell_type": "code",
   "execution_count": 4,
   "id": "3afed4ee",
   "metadata": {
    "cell_style": "split"
   },
   "outputs": [
    {
     "name": "stdout",
     "output_type": "stream",
     "text": [
      "paul → 12\n",
      "pierre → 14\n",
      "jean → 16\n"
     ]
    }
   ],
   "source": [
    "# l'unpacking permet d'écrire \n",
    "# un code élégant\n",
    "for key, value in agenda.items():\n",
    "    print(f\"{key} → {value}\")"
   ]
  },
  {
   "cell_type": "markdown",
   "id": "6624415d",
   "metadata": {},
   "source": [
    "---"
   ]
  },
  {
   "cell_type": "code",
   "execution_count": 5,
   "id": "e7fcab56",
   "metadata": {
    "cell_style": "split"
   },
   "outputs": [
    {
     "name": "stdout",
     "output_type": "stream",
     "text": [
      "paul pierre jean "
     ]
    }
   ],
   "source": [
    "# un raccourci\n",
    "for key in agenda:      # ou agenda.keys()\n",
    "    print(key, end=\" \")"
   ]
  },
  {
   "cell_type": "code",
   "execution_count": 6,
   "id": "e549dd55",
   "metadata": {
    "cell_style": "split"
   },
   "outputs": [
    {
     "name": "stdout",
     "output_type": "stream",
     "text": [
      "12 14 16 "
     ]
    }
   ],
   "source": [
    "for value in agenda.values():\n",
    "    print(value, end=\" \")"
   ]
  },
  {
   "cell_type": "markdown",
   "id": "83b5c41e",
   "metadata": {
    "slideshow": {
     "slide_type": "slide"
    }
   },
   "source": [
    "### exemple de boucle"
   ]
  },
  {
   "cell_type": "code",
   "execution_count": 7,
   "id": "a8e4f6da",
   "metadata": {},
   "outputs": [
    {
     "name": "stdout",
     "output_type": "stream",
     "text": [
      "2 est un nombre premier\n",
      "3 est un nombre premier\n",
      "4 = 2 x 2\n",
      "5 est un nombre premier\n",
      "6 = 2 x 3\n",
      "7 est un nombre premier\n",
      "8 = 2 x 4\n",
      "9 = 3 x 3\n"
     ]
    }
   ],
   "source": [
    "# pour illustrer break, et for .. else\n",
    "\n",
    "\n",
    "# boucle (1)\n",
    "for p in range(2, 10):\n",
    "    # boucle (2)\n",
    "    for i in range(2, p):\n",
    "        if p % i == 0:\n",
    "            print(f\"{p} = {i} x {p//i}\")\n",
    "            # on sort de la boucle (2)\n",
    "            break\n",
    "    else:\n",
    "        print(f\"{p} est un nombre premier\")"
   ]
  },
  {
   "cell_type": "markdown",
   "id": "d6334e47",
   "metadata": {
    "slideshow": {
     "slide_type": "slide"
    }
   },
   "source": [
    "### boucles `for` : limite importante"
   ]
  },
  {
   "cell_type": "markdown",
   "id": "938ad0b9",
   "metadata": {},
   "source": [
    "* **règle très importante:** à l'intérieur d'une boucle\n",
    "* il ne faut **pas modifier l’objet** sur lequel on itère\n",
    "* on peut, par contre, en faire une copie"
   ]
  },
  {
   "cell_type": "markdown",
   "id": "fbe815e4",
   "metadata": {
    "cell_style": "split"
   },
   "source": [
    "ce code-ci provoquerait une boucle infinie\n",
    "```\n",
    "L = ['a', 'b', 'c']\n",
    "for i in L:\n",
    "    if i == 'c':\n",
    "        L.append(i)\n",
    "```"
   ]
  },
  {
   "cell_type": "code",
   "execution_count": 8,
   "id": "7289868b",
   "metadata": {
    "cell_style": "split"
   },
   "outputs": [
    {
     "data": {
      "text/plain": [
       "['a', 'b', 'c', 'c']"
      ]
     },
     "execution_count": 8,
     "metadata": {},
     "output_type": "execute_result"
    }
   ],
   "source": [
    "# il suffit de prendre la précaution\n",
    "# de faire une (shallow) copie\n",
    "L = ['a', 'b' , 'c']\n",
    "for i in L[:]:\n",
    "    if i == 'c':\n",
    "        L.append(i)\n",
    "L"
   ]
  },
  {
   "cell_type": "markdown",
   "id": "33144292",
   "metadata": {
    "slideshow": {
     "slide_type": "slide"
    }
   },
   "source": [
    "### boucles pythoniques ou pas"
   ]
  },
  {
   "cell_type": "markdown",
   "id": "6e39740c",
   "metadata": {},
   "source": [
    "#### soyez explicite"
   ]
  },
  {
   "cell_type": "code",
   "execution_count": 9,
   "id": "100cee6a",
   "metadata": {
    "cell_style": "split"
   },
   "outputs": [
    {
     "name": "stdout",
     "output_type": "stream",
     "text": [
      "alice 35\n",
      "bob 9\n",
      "charlie 6\n"
     ]
    }
   ],
   "source": [
    "D = {\n",
    "    'alice': 35,\n",
    "    'bob': 9,\n",
    "    'charlie': 6,\n",
    "}\n",
    "\n",
    "# pas pythonique (implicite)\n",
    "for t in D.items():         \n",
    "    print(t[0], t[1])"
   ]
  },
  {
   "cell_type": "code",
   "execution_count": 10,
   "id": "4f40abca",
   "metadata": {
    "cell_style": "split"
   },
   "outputs": [
    {
     "name": "stdout",
     "output_type": "stream",
     "text": [
      "alice 35\n",
      "bob 9\n",
      "charlie 6\n"
     ]
    }
   ],
   "source": [
    "# pythonique (explicite)\n",
    "\n",
    "for nom, age in D.items():\n",
    "    print(nom, age)"
   ]
  },
  {
   "cell_type": "markdown",
   "id": "49a4f893",
   "metadata": {
    "slideshow": {
     "slide_type": "slide"
    }
   },
   "source": [
    "## itérables et itérateurs"
   ]
  },
  {
   "cell_type": "markdown",
   "id": "2f14883d",
   "metadata": {
    "slideshow": {
     "slide_type": ""
    }
   },
   "source": [
    "### c'est quoi un itérable ?\n",
    "\n",
    "* par définition, c'est un objet .. sur lequel on peut faire un `for`\n",
    "* notamment avec les séquences natives : chaînes, listes, tuples, ensembles\n",
    "* et aussi dictionnaires, et des tas d'autres objets, mais patience"
   ]
  },
  {
   "cell_type": "code",
   "execution_count": 11,
   "id": "6db387e5",
   "metadata": {
    "cell_style": "split"
   },
   "outputs": [
    {
     "name": "stdout",
     "output_type": "stream",
     "text": [
      "u n   é t é "
     ]
    }
   ],
   "source": [
    "# une chaine est un itérable\n",
    "\n",
    "chaine = \"un été\"\n",
    "for char in chaine:\n",
    "    print(char, end=\" \")"
   ]
  },
  {
   "cell_type": "code",
   "execution_count": 12,
   "id": "0858f405",
   "metadata": {
    "cell_style": "split"
   },
   "outputs": [
    {
     "name": "stdout",
     "output_type": "stream",
     "text": [
      "40 10 80 "
     ]
    }
   ],
   "source": [
    "# un ensemble aussi\n",
    "\n",
    "ensemble = {10, 40, 80} \n",
    "for element in ensemble:\n",
    "    print(element, end=\" \")"
   ]
  },
  {
   "cell_type": "markdown",
   "id": "6bb675cf",
   "metadata": {
    "slideshow": {
     "slide_type": "slide"
    }
   },
   "source": [
    "#### la boucle `for`, mais pas que"
   ]
  },
  {
   "cell_type": "markdown",
   "id": "56251fe7",
   "metadata": {
    "cell_style": "split"
   },
   "source": [
    "* on a défini les itérables par rapport à la boucle `for` \n",
    "* mais plusieurs fonctions acceptent en argument des itérables\n",
    "* `sum`, `max`, `min`\n",
    "* `map`, `filter`\n",
    "* etc..."
   ]
  },
  {
   "cell_type": "code",
   "execution_count": 13,
   "id": "a328bfc1",
   "metadata": {
    "cell_style": "split"
   },
   "outputs": [
    {
     "data": {
      "text/plain": [
       "(2, 138)"
      ]
     },
     "execution_count": 13,
     "metadata": {},
     "output_type": "execute_result"
    }
   ],
   "source": [
    "L = [20, 34, 57, 2, 25]\n",
    "\n",
    "min(L), sum(L)"
   ]
  },
  {
   "cell_type": "markdown",
   "id": "d0b134a2",
   "metadata": {
    "slideshow": {
     "slide_type": "slide"
    }
   },
   "source": [
    "### itérateurs\n",
    "\n",
    "* les **itérateurs** sont une sous-famille des itérables\n",
    "* qui présentent la particularité de **consommer peu de mémoire**\n",
    "* en fait un objet itérateur capture uniquement  \n",
    "  **la logique de l'itération**, mais pas les données\n",
    "* c'est-à-dire où on en est, et comment passer au suivant"
   ]
  },
  {
   "cell_type": "code",
   "execution_count": 14,
   "id": "05b44ab1",
   "metadata": {
    "cell_style": "split",
    "slideshow": {
     "slide_type": ""
    }
   },
   "outputs": [
    {
     "data": {
      "text/plain": [
       "48"
      ]
     },
     "execution_count": 14,
     "metadata": {},
     "output_type": "execute_result"
    }
   ],
   "source": [
    "import sys\n",
    "\n",
    "# l'exemple le plus simple \n",
    "# d'itérateur est range()\n",
    "R = range(1000)\n",
    "sys.getsizeof(R)"
   ]
  },
  {
   "cell_type": "code",
   "execution_count": 15,
   "id": "188cbddb",
   "metadata": {
    "cell_style": "split"
   },
   "outputs": [
    {
     "data": {
      "text/plain": [
       "8056"
      ]
     },
     "execution_count": 15,
     "metadata": {},
     "output_type": "execute_result"
    }
   ],
   "source": [
    "L = list(R)\n",
    "sys.getsizeof(L)"
   ]
  },
  {
   "cell_type": "markdown",
   "id": "068c58c0",
   "metadata": {
    "cell_style": "split",
    "slideshow": {
     "slide_type": "slide"
    }
   },
   "source": [
    "cette boucle Python\n",
    "```python\n",
    "for i in range(100_000):\n",
    "    # do stuff\n",
    "```"
   ]
  },
  {
   "cell_type": "markdown",
   "id": "dd1e90e4",
   "metadata": {
    "cell_style": "split"
   },
   "source": [
    "est comparable à ceci en C\n",
    "```C\n",
    "for (int i=0; i<100000; i++) {\n",
    "    /* do stuff */\n",
    "}\n",
    "```"
   ]
  },
  {
   "cell_type": "markdown",
   "id": "20ab3f37",
   "metadata": {
    "slideshow": {
     "slide_type": ""
    }
   },
   "source": [
    "on ne veut **pas devoir allouer** une liste de 100.000 éléments  \n",
    "juste pour pouvoir faire cette boucle"
   ]
  },
  {
   "cell_type": "markdown",
   "id": "bbd04c2d",
   "metadata": {
    "slideshow": {
     "slide_type": "slide"
    }
   },
   "source": [
    "### création d'itérateurs"
   ]
  },
  {
   "cell_type": "markdown",
   "id": "dee14da4",
   "metadata": {},
   "source": [
    "Python propose des outils pour **créer** et **combiner** les itérables:\n",
    "\n",
    "* fonctions natives *builtin* qui créent des itérateurs:\n",
    "  * `range`, `enumerate`, et `zip`\n",
    "* dans un module dédié `itertools`:\n",
    "  * `chain`, `cycle`, `islice`, ..."
   ]
  },
  {
   "cell_type": "markdown",
   "id": "1981229d",
   "metadata": {
    "slideshow": {
     "slide_type": "slide"
    }
   },
   "source": [
    "### `range`"
   ]
  },
  {
   "cell_type": "markdown",
   "id": "bbab4dbc",
   "metadata": {},
   "source": [
    "* `range` crée un itérateur qui itère sur un intervalle de nombres entiers\n",
    "* arguments : même logique que le slicing\n",
    "  * début (inclus), fin (exclus), pas\n",
    "  * **sauf** (curiosité) : si un seul argument, c'est **la fin**"
   ]
  },
  {
   "cell_type": "code",
   "execution_count": 16,
   "id": "3589d8f6",
   "metadata": {
    "cell_style": "split"
   },
   "outputs": [
    {
     "name": "stdout",
     "output_type": "stream",
     "text": [
      "10 12 14 16 18 20 "
     ]
    }
   ],
   "source": [
    "# les nombres pairs de 10 à 20\n",
    "for i in range(10, 21, 2):\n",
    "    print(i, end=\" \")"
   ]
  },
  {
   "cell_type": "code",
   "execution_count": 17,
   "id": "d444ec39",
   "metadata": {
    "cell_style": "split"
   },
   "outputs": [
    {
     "name": "stdout",
     "output_type": "stream",
     "text": [
      "0 1 2 3 4 "
     ]
    }
   ],
   "source": [
    "# le début par défaut est 0\n",
    "for i in range(5):\n",
    "    print(i, end=\" \")"
   ]
  },
  {
   "cell_type": "markdown",
   "id": "55261ff3",
   "metadata": {
    "slideshow": {
     "slide_type": "slide"
    }
   },
   "source": [
    "### un `range` n'est **pas une liste**"
   ]
  },
  {
   "cell_type": "markdown",
   "id": "b3e85561",
   "metadata": {},
   "source": [
    "* l'objet retourné par `range` **n'est pas une liste**\n",
    "* au contraire il crée un objet tout petit, un **itérateur**\n",
    "* qui contient seulement la logique de l'itération\n",
    "* la preuve:"
   ]
  },
  {
   "cell_type": "code",
   "execution_count": 18,
   "id": "85144e47",
   "metadata": {
    "cell_style": "split"
   },
   "outputs": [
    {
     "data": {
      "text/plain": [
       "range(0, 100000000000000000000)"
      ]
     },
     "execution_count": 18,
     "metadata": {},
     "output_type": "execute_result"
    }
   ],
   "source": [
    "# 10**20 c'est 100 millions de Tera\n",
    "\n",
    "iterateur = range(10**20)\n",
    "iterateur"
   ]
  },
  {
   "cell_type": "code",
   "execution_count": 19,
   "id": "a855ebfc",
   "metadata": {
    "cell_style": "split"
   },
   "outputs": [
    {
     "name": "stdout",
     "output_type": "stream",
     "text": [
      "0 1 2 3 4 "
     ]
    }
   ],
   "source": [
    "for item in iterateur:\n",
    "    if item >= 5:\n",
    "        break\n",
    "    print(item, end=\" \")"
   ]
  },
  {
   "cell_type": "markdown",
   "id": "faab14c8",
   "metadata": {
    "slideshow": {
     "slide_type": "slide"
    }
   },
   "source": [
    "**exercice**: comment créer **une vraie liste** des entiers de 1 à 10 ?"
   ]
  },
  {
   "cell_type": "markdown",
   "id": "217b6b7f",
   "metadata": {
    "slideshow": {
     "slide_type": "fragment"
    }
   },
   "source": [
    "**réponse** avec\n",
    "\n",
    "```python\n",
    "list(range(1, 11))\n",
    "```\n",
    "\n",
    "où le type `list` se comporte, comme tous les types, comme une usine à fabriquer des listes"
   ]
  },
  {
   "cell_type": "markdown",
   "id": "86d4b5ae",
   "metadata": {
    "slideshow": {
     "slide_type": "slide"
    }
   },
   "source": [
    "### `count` : un itérateur infini"
   ]
  },
  {
   "cell_type": "markdown",
   "id": "b3fd1215",
   "metadata": {
    "slideshow": {
     "slide_type": ""
    }
   },
   "source": [
    "du coup un itérateur peut même .. ne jamais terminer :"
   ]
  },
  {
   "cell_type": "code",
   "execution_count": 20,
   "id": "18a4bee9",
   "metadata": {},
   "outputs": [],
   "source": [
    "# count fait partie du module itertools\n",
    "from itertools import count\n",
    "count?"
   ]
  },
  {
   "cell_type": "code",
   "execution_count": 21,
   "id": "9acce8bd",
   "metadata": {},
   "outputs": [
    {
     "name": "stdout",
     "output_type": "stream",
     "text": [
      "0 1 2 3 4 5 "
     ]
    }
   ],
   "source": [
    "# si on n'arrête pas la boucle nous mêmes\n",
    "# ce fragment va boucler sans fin\n",
    "\n",
    "for i in count():\n",
    "    print(i, end=\" \")\n",
    "    if i >= 5:\n",
    "        break"
   ]
  },
  {
   "cell_type": "markdown",
   "id": "24863e9c",
   "metadata": {
    "slideshow": {
     "slide_type": "slide"
    }
   },
   "source": [
    "### `enumerate`"
   ]
  },
  {
   "cell_type": "markdown",
   "id": "b8337095",
   "metadata": {
    "cell_style": "split"
   },
   "source": [
    "on a dit qu'on ne faisait jamais\n",
    "\n",
    "```python\n",
    "for i in range(len(liste)):\n",
    "    item = liste[i]\n",
    "    print(item, end=\" \")\n",
    "```"
   ]
  },
  {
   "cell_type": "markdown",
   "id": "fc1d5c04",
   "metadata": {
    "cell_style": "split"
   },
   "source": [
    "comment faire alors si on a vraiment besoin de l'index `i` ?\n",
    "\n",
    "→ il suffit d'utiliser la *builtin* `enumerate()`"
   ]
  },
  {
   "cell_type": "code",
   "execution_count": 22,
   "id": "6213d570",
   "metadata": {
    "cell_style": "center"
   },
   "outputs": [],
   "source": [
    "L = [1, 10, 100, 1000]"
   ]
  },
  {
   "cell_type": "code",
   "execution_count": 23,
   "id": "fd624226",
   "metadata": {
    "cell_style": "center"
   },
   "outputs": [
    {
     "name": "stdout",
     "output_type": "stream",
     "text": [
      "0: 1\n",
      "1: 10\n",
      "2: 100\n",
      "3: 1000\n"
     ]
    }
   ],
   "source": [
    "for i, item in enumerate(L):\n",
    "    print(f\"{i}: {item}\")"
   ]
  },
  {
   "cell_type": "markdown",
   "id": "f369a7e8",
   "metadata": {
    "slideshow": {
     "slide_type": "slide"
    }
   },
   "source": [
    "![](media/iter-enumerate.png)"
   ]
  },
  {
   "cell_type": "markdown",
   "id": "954ef7ec",
   "metadata": {
    "slideshow": {
     "slide_type": "slide"
    }
   },
   "source": [
    "#### `enumerate()` ..."
   ]
  },
  {
   "cell_type": "markdown",
   "id": "668561b0",
   "metadata": {},
   "source": [
    "* typiquement utile sur un fichier\n",
    "* pour avoir le numéro de ligne \n",
    "* remarquez le deuxième argument de `enumerate` pour commencer à 1"
   ]
  },
  {
   "cell_type": "code",
   "execution_count": 24,
   "id": "f0cb64af",
   "metadata": {},
   "outputs": [
    {
     "name": "stdout",
     "output_type": "stream",
     "text": [
      "1:Rappelez-vous l'objet que nous vîmes, mon âme,\n",
      "2:Ce beau matin d'été si doux:\n",
      "3:Au détour d'un sentier une charogne infâme\n",
      "4:Sur un lit semé de cailloux,\n",
      "5:\n",
      "6:Les jambes en l'air, comme une femme lubrique,\n",
      "7:Brûlante et suant les poisons,\n",
      "8:Ouvrait d'une façon nonchalante et cynique\n",
      "9:Son ventre plein d'exhalaisons.\n"
     ]
    }
   ],
   "source": [
    "with open(\"data/une-charogne.txt\") as feed:\n",
    "    for lineno, line in enumerate(feed, 1):\n",
    "        print(f\"{lineno}:{line}\", end=\"\")"
   ]
  },
  {
   "cell_type": "markdown",
   "id": "46519943",
   "metadata": {
    "slideshow": {
     "slide_type": "slide"
    }
   },
   "source": [
    "### `zip`"
   ]
  },
  {
   "cell_type": "markdown",
   "id": "fdc28400",
   "metadata": {},
   "source": [
    "`zip` fonctionne un peu comme `enumerate` mais entre deux itérables:\n",
    "\n",
    "![](media/iter-zip.png)"
   ]
  },
  {
   "cell_type": "markdown",
   "id": "9a4bc42e",
   "metadata": {
    "slideshow": {
     "slide_type": "slide"
    }
   },
   "source": [
    "#### `zip`"
   ]
  },
  {
   "cell_type": "code",
   "execution_count": 25,
   "id": "0ea96da4",
   "metadata": {
    "cell_style": "split"
   },
   "outputs": [],
   "source": [
    "liste1 = [10, 20, 30]\n",
    "liste2 = [100, 200, 300]"
   ]
  },
  {
   "cell_type": "code",
   "execution_count": 26,
   "id": "1e3075de",
   "metadata": {
    "cell_style": "split"
   },
   "outputs": [
    {
     "name": "stdout",
     "output_type": "stream",
     "text": [
      "10x100 20x200 30x300 "
     ]
    }
   ],
   "source": [
    "for a, b in zip(liste1, liste2):\n",
    "    print(f\"{a}x{b}\", end=\" \")"
   ]
  },
  {
   "cell_type": "markdown",
   "id": "d30f8f97",
   "metadata": {},
   "source": [
    "**NOTES**: \n",
    "\n",
    "* `zip` fonctionne avec autant d'arguments qu'on veut\n",
    "* elle s'arrête dès que l'entrée la plus courte est épuisée"
   ]
  },
  {
   "cell_type": "markdown",
   "id": "e88f254a",
   "metadata": {
    "slideshow": {
     "slide_type": "slide"
    }
   },
   "source": [
    "### `enumerate = zip + count`"
   ]
  },
  {
   "cell_type": "code",
   "execution_count": 27,
   "id": "292c0480",
   "metadata": {
    "slideshow": {
     "slide_type": ""
    }
   },
   "outputs": [
    {
     "data": {
      "text/plain": [
       "[1, 10, 100, 1000]"
      ]
     },
     "execution_count": 27,
     "metadata": {},
     "output_type": "execute_result"
    }
   ],
   "source": [
    "# par exemple on peut récrire enumerate\n",
    "# à base de zip et count\n",
    "L"
   ]
  },
  {
   "cell_type": "code",
   "execution_count": 28,
   "id": "d76b1fd6",
   "metadata": {
    "cell_style": "split"
   },
   "outputs": [
    {
     "name": "stdout",
     "output_type": "stream",
     "text": [
      "0 1\n",
      "1 10\n",
      "2 100\n",
      "3 1000\n"
     ]
    }
   ],
   "source": [
    "# zip s'arrête dès que \n",
    "# l'un de ses morceaux s'arrête\n",
    "for index, item in zip(count(), L):\n",
    "    print(f\"{index} {item}\")"
   ]
  },
  {
   "cell_type": "markdown",
   "id": "f5a622b3",
   "metadata": {
    "cell_style": "split"
   },
   "source": [
    "![](media/iter-zip-count.png)"
   ]
  },
  {
   "cell_type": "markdown",
   "id": "b5f89123",
   "metadata": {
    "slideshow": {
     "slide_type": "slide"
    }
   },
   "source": [
    "### un itérateur s'épuise\n",
    "\n",
    "**ATTENTION** il y a toutefois une limite lorsqu'on utilise un itérateur \n",
    "\n",
    "* une fois que l'itérateur est arrivé à sa fin\n",
    "* il est \"épuisé\" et on ne peut plus boucler dessus"
   ]
  },
  {
   "cell_type": "code",
   "execution_count": 29,
   "id": "765bedd9",
   "metadata": {
    "cell_style": "split"
   },
   "outputs": [
    {
     "name": "stdout",
     "output_type": "stream",
     "text": [
      "pass 1\n",
      "1\n",
      "2\n",
      "pass 2\n",
      "1\n",
      "2\n"
     ]
    }
   ],
   "source": [
    "L = [1, 2]\n",
    "\n",
    "print('pass 1')\n",
    "for i in L:\n",
    "    print(i)\n",
    "\n",
    "print('pass 2')\n",
    "for i in L:\n",
    "    print(i)\n",
    "    "
   ]
  },
  {
   "cell_type": "code",
   "execution_count": 30,
   "id": "00e60156",
   "metadata": {
    "cell_style": "split"
   },
   "outputs": [
    {
     "name": "stdout",
     "output_type": "stream",
     "text": [
      "pass 1\n",
      "1\n",
      "2\n",
      "pass 2\n"
     ]
    }
   ],
   "source": [
    "# iter() permet de construire\n",
    "# un itérateur sur un itérable\n",
    "R = iter(L)\n",
    "\n",
    "print('pass 1')\n",
    "for i in R:\n",
    "    print(i)\n",
    "\n",
    "print('pass 2')\n",
    "for i in R:\n",
    "    print(i)    "
   ]
  },
  {
   "cell_type": "markdown",
   "id": "bf2bc541",
   "metadata": {
    "slideshow": {
     "slide_type": "slide"
    }
   },
   "source": [
    "du coup par exemple,  \n",
    "**ne pas essayer d'itérer deux fois** sur un `zip()` ou un `enumerate()`"
   ]
  },
  {
   "cell_type": "code",
   "execution_count": 31,
   "id": "5f9b0d07",
   "metadata": {
    "cell_style": "split",
    "slideshow": {
     "slide_type": ""
    }
   },
   "outputs": [
    {
     "name": "stdout",
     "output_type": "stream",
     "text": [
      "pass 1\n",
      "0 4\n",
      "1 5\n",
      "2 6\n",
      "pass 2\n"
     ]
    }
   ],
   "source": [
    "Z = zip(range(3), range(4, 7))\n",
    "\n",
    "print('pass 1')\n",
    "for a, b in Z:\n",
    "    print(a, b)\n",
    "    \n",
    "print('pass 2')\n",
    "for a, b in Z:\n",
    "    print(a, b)    "
   ]
  },
  {
   "cell_type": "code",
   "execution_count": 32,
   "id": "c3434cb0",
   "metadata": {
    "cell_style": "split",
    "slideshow": {
     "slide_type": ""
    }
   },
   "outputs": [
    {
     "name": "stdout",
     "output_type": "stream",
     "text": [
      "pass 1\n",
      "0 1\n",
      "1 2\n",
      "pass 2\n"
     ]
    }
   ],
   "source": [
    "E = enumerate(L)\n",
    "\n",
    "print('pass 1')\n",
    "for a, b in E:\n",
    "    print(a, b)\n",
    "    \n",
    "print('pass 2')\n",
    "for a, b in E:\n",
    "    print(a, b)    "
   ]
  },
  {
   "cell_type": "markdown",
   "id": "327cc26e",
   "metadata": {},
   "source": [
    "**NB** il suffit de faire e.g. `for a, b in enumerate(L)` pour se débarrasser du problème"
   ]
  },
  {
   "cell_type": "markdown",
   "id": "ebba5e0b",
   "metadata": {
    "slideshow": {
     "slide_type": "slide"
    }
   },
   "source": [
    "## le module `itertools` - assemblage d'itérables"
   ]
  },
  {
   "cell_type": "markdown",
   "id": "32b76331",
   "metadata": {},
   "source": [
    "on trouve dans le module `itertools` plusieurs utilitaires très pratiques :\n",
    "\n",
    "* `count` pour énumérer les entiers (un `range` sans borne)\n",
    "* `chain` pour chainer plusieurs itérables\n",
    "* `cycle` pour rejouer un itérable en boucle\n",
    "* `repeat` pour énumérer plusieurs fois le même objet\n",
    "* `islice` pour n'énumérer que certains morceaux\n",
    "* `zip_longest` fonctionne comme `zip` mais s'arrête au morceau le plus long"
   ]
  },
  {
   "cell_type": "markdown",
   "id": "665a4a37",
   "metadata": {
    "slideshow": {
     "slide_type": "slide"
    }
   },
   "source": [
    "### `chain`, `cycle` et `repeat`"
   ]
  },
  {
   "cell_type": "code",
   "execution_count": 33,
   "id": "f323fbd7",
   "metadata": {
    "cell_style": "center",
    "slideshow": {
     "slide_type": ""
    }
   },
   "outputs": [],
   "source": [
    "from itertools import chain, cycle, repeat\n",
    "data1 = (10, 20, 30)\n",
    "data2 = (100, 200, 300)"
   ]
  },
  {
   "cell_type": "code",
   "execution_count": 34,
   "id": "8bd57ab1",
   "metadata": {
    "cell_style": "center"
   },
   "outputs": [
    {
     "name": "stdout",
     "output_type": "stream",
     "text": [
      "0x10 1x20"
     ]
    },
    {
     "name": "stdout",
     "output_type": "stream",
     "text": [
      " 2x30 3x100 4x200 5x300 "
     ]
    }
   ],
   "source": [
    "# chain()\n",
    "for i, d in enumerate(chain(data1, data2)):\n",
    "    print(f\"{i}x{d}\", end=\" \")"
   ]
  },
  {
   "cell_type": "code",
   "execution_count": 35,
   "id": "dacc7146",
   "metadata": {},
   "outputs": [
    {
     "name": "stdout",
     "output_type": "stream",
     "text": [
      "0x10 1x20 2x30 3x10 4x20 5x30 6x10 7x20 8x30 9x10 10x20 "
     ]
    }
   ],
   "source": [
    "# cycle() ne termine jamais non plus\n",
    "\n",
    "for i, d in enumerate(cycle(data1)):\n",
    "    print(f\"{i}x{d}\", end=\" \")\n",
    "    if i >= 10:\n",
    "        break"
   ]
  },
  {
   "cell_type": "code",
   "execution_count": 36,
   "id": "7b2b8498",
   "metadata": {},
   "outputs": [
    {
     "name": "stdout",
     "output_type": "stream",
     "text": [
      "0x10 1x20 2x30 3x1000 4x1000 5x1000 6x100 7x200 8x300 "
     ]
    }
   ],
   "source": [
    "# repeat()\n",
    "padding = repeat(1000, 3)\n",
    "\n",
    "for i, d in enumerate(chain(data1, padding, data2)):\n",
    "    print(f\"{i}x{d}\", end=\" \")"
   ]
  },
  {
   "cell_type": "markdown",
   "id": "4e3c1d7e",
   "metadata": {
    "slideshow": {
     "slide_type": "slide"
    }
   },
   "source": [
    "### `islice`"
   ]
  },
  {
   "cell_type": "code",
   "execution_count": 37,
   "id": "548818b7",
   "metadata": {
    "cell_style": "split"
   },
   "outputs": [],
   "source": [
    "# avec islice on peut par exemple \n",
    "# sauter une ligne sur deux dans un fichier\n",
    "from pathlib import Path\n",
    "\n",
    "# on crée un fichier \n",
    "with Path('islice.txt').open('w') as f:\n",
    "    for i in range(6):\n",
    "        f.write(f\"{i}**2 = {i**2}\\n\")"
   ]
  },
  {
   "cell_type": "code",
   "execution_count": 38,
   "id": "a8d90d7b",
   "metadata": {
    "cell_style": "split"
   },
   "outputs": [
    {
     "name": "stdout",
     "output_type": "stream",
     "text": [
      "0**2 = 0\n",
      "2**2 = 4\n",
      "4**2 = 16\n"
     ]
    }
   ],
   "source": [
    "# pour ne relire qu'une ligne sur deux\n",
    "\n",
    "from itertools import islice\n",
    "\n",
    "with Path('islice.txt').open() as f:\n",
    "    for line in islice(f, 0, None, 2):\n",
    "        print(line, end=\"\")"
   ]
  },
  {
   "cell_type": "code",
   "execution_count": 39,
   "id": "3127657d",
   "metadata": {
    "cell_style": "split"
   },
   "outputs": [
    {
     "name": "stdout",
     "output_type": "stream",
     "text": [
      "3**2 = 9\n",
      "4**2 = 16\n",
      "5**2 = 25\n"
     ]
    }
   ],
   "source": [
    "# ou zapper les 3 premières\n",
    "\n",
    "from itertools import islice\n",
    "\n",
    "with Path('islice.txt').open() as f:\n",
    "    for line in islice(f, 3, None):\n",
    "        print(line, end=\"\")"
   ]
  },
  {
   "cell_type": "code",
   "execution_count": 40,
   "id": "d96438ef",
   "metadata": {
    "cell_style": "split"
   },
   "outputs": [
    {
     "name": "stdout",
     "output_type": "stream",
     "text": [
      "0**2 = 0\n",
      "1**2 = 1\n",
      "2**2 = 4\n"
     ]
    }
   ],
   "source": [
    "# ou ne garder que les 3 premières\n",
    "\n",
    "from itertools import islice\n",
    "\n",
    "with Path('islice.txt').open() as f:\n",
    "    for line in islice(f, 3):\n",
    "        print(line, end=\"\")"
   ]
  },
  {
   "cell_type": "raw",
   "id": "af357986",
   "metadata": {
    "slideshow": {
     "slide_type": "slide"
    }
   },
   "source": [
    "### `zip_longest()`"
   ]
  },
  {
   "cell_type": "code",
   "execution_count": 41,
   "id": "afe84ab4",
   "metadata": {
    "cell_style": "split"
   },
   "outputs": [
    {
     "name": "stdout",
     "output_type": "stream",
     "text": [
      "0 1\n",
      "1 2\n",
      "2 X\n",
      "3 X\n",
      "4 X\n",
      "5 X\n"
     ]
    }
   ],
   "source": [
    "from itertools import zip_longest\n",
    "for i, d in zip_longest(\n",
    "        range(6), L, fillvalue='X'):\n",
    "    print(f\"{i} {d}\")"
   ]
  },
  {
   "cell_type": "markdown",
   "id": "3beddc8f",
   "metadata": {
    "cell_style": "split"
   },
   "source": [
    "![](media/iter-zip-longest.png)"
   ]
  },
  {
   "cell_type": "markdown",
   "id": "01c0507d",
   "metadata": {
    "slideshow": {
     "slide_type": "slide"
    }
   },
   "source": [
    "### `itertools` & combinatoires"
   ]
  },
  {
   "cell_type": "markdown",
   "id": "3a4a1e4b",
   "metadata": {},
   "source": [
    "Le module `itertools` propose aussi quelques combinatoires usuelles:\n",
    "\n",
    "* `product`: produit cartésien de deux itérables\n",
    "* `permutations`: les permutations ($n!$)\n",
    "* `combinations`: *p parmi n*\n",
    "* et d'autres... \n",
    "* https://docs.python.org/3/library/itertools.html"
   ]
  },
  {
   "cell_type": "markdown",
   "id": "53beb55f",
   "metadata": {
    "slideshow": {
     "slide_type": "slide"
    }
   },
   "source": [
    "#### exemple avec `product`"
   ]
  },
  {
   "cell_type": "code",
   "execution_count": 42,
   "id": "128314ce",
   "metadata": {},
   "outputs": [
    {
     "name": "stdout",
     "output_type": "stream",
     "text": [
      "i=1, d1=1 d2=♡\n",
      "i=2, d1=1 d2=♢\n",
      "i=3, d1=1 d2=♤\n",
      "i=4, d1=2 d2=♡\n",
      "i=5, d1=2 d2=♢\n",
      "i=6, d1=2 d2=♤\n",
      "i=7, d1=3 d2=♡\n",
      "i=8, d1=3 d2=♢\n",
      "i=9, d1=3 d2=♤\n"
     ]
    }
   ],
   "source": [
    "from itertools import product\n",
    "\n",
    "dim1 = (1, 2, 3)\n",
    "dim2 = '♡♢♤'\n",
    "\n",
    "for i, (d1, d2) in enumerate(product(dim1, dim2), 1):\n",
    "    print(f\"i={i}, d1={d1} d2={d2}\")"
   ]
  },
  {
   "cell_type": "markdown",
   "id": "6bcd1684",
   "metadata": {
    "slideshow": {
     "slide_type": "slide"
    }
   },
   "source": [
    "**exercices** (voir notebook séparé)\n",
    "\n",
    "* vigenere"
   ]
  },
  {
   "cell_type": "markdown",
   "id": "6c48f2ff",
   "metadata": {
    "slideshow": {
     "slide_type": "slide"
    },
    "tags": [
     "level_intermediate"
    ]
   },
   "source": [
    "## sous le capot"
   ]
  },
  {
   "cell_type": "markdown",
   "id": "a4f8c1d6",
   "metadata": {},
   "source": [
    "### comment marche la boucle `for`"
   ]
  },
  {
   "cell_type": "markdown",
   "id": "63e2773f",
   "metadata": {
    "cell_style": "split"
   },
   "source": [
    "lorsqu'on itère sur un itérable"
   ]
  },
  {
   "cell_type": "code",
   "execution_count": 43,
   "id": "8f890a03",
   "metadata": {
    "cell_style": "split"
   },
   "outputs": [],
   "source": [
    "iterable = [10, 20, 30]"
   ]
  },
  {
   "cell_type": "markdown",
   "id": "932fd284",
   "metadata": {},
   "source": [
    "sous le capot, la boucle `for` va faire:\n",
    "\n",
    "  * créer un itérateur en appelant `iter(iterable)`\n",
    "  * appeler `next()` sur cet itérateur\n",
    "  * jusqu'à obtenir l'exception `StopIteration`"
   ]
  },
  {
   "cell_type": "markdown",
   "id": "5e71ab31",
   "metadata": {
    "slideshow": {
     "slide_type": "slide"
    }
   },
   "source": [
    "voici un équivalent approximatif"
   ]
  },
  {
   "cell_type": "code",
   "execution_count": 44,
   "id": "88a16927",
   "metadata": {
    "cell_style": "split",
    "slideshow": {
     "slide_type": ""
    }
   },
   "outputs": [
    {
     "name": "stdout",
     "output_type": "stream",
     "text": [
      "10\n",
      "20\n",
      "30\n"
     ]
    }
   ],
   "source": [
    "# cette boucle for \n",
    "\n",
    "for item in iterable:\n",
    "    print(item)"
   ]
  },
  {
   "cell_type": "code",
   "execution_count": 45,
   "id": "6bf8cf85",
   "metadata": {
    "cell_style": "split",
    "slideshow": {
     "slide_type": ""
    }
   },
   "outputs": [
    {
     "name": "stdout",
     "output_type": "stream",
     "text": [
      "10\n",
      "20\n",
      "30\n"
     ]
    }
   ],
   "source": [
    "# est en gros équivalente\n",
    "# à ce fragment\n",
    "\n",
    "iterateur = iter(iterable)\n",
    "while True:\n",
    "    try:\n",
    "        item = next(iterateur)\n",
    "        print(item)\n",
    "    except StopIteration:\n",
    "        # print(\"fin\")\n",
    "        break"
   ]
  },
  {
   "cell_type": "markdown",
   "id": "7c09f113",
   "metadata": {
    "slideshow": {
     "slide_type": "slide"
    }
   },
   "source": [
    "### quel objet est itérable ?"
   ]
  },
  {
   "cell_type": "markdown",
   "id": "1cbc254d",
   "metadata": {},
   "source": [
    "* il existe beaucoup d’objets itérables en python\n",
    "  * tous les objets séquence: listes, tuples, chaînes, etc.\n",
    "  * les sets, les dictionnaires\n",
    "  * les vues (dict.keys(), dict.values()), etc.\n",
    "  * les fichiers\n",
    "  * les générateurs\n",
    "* il faut les utiliser, c’est le plus rapide et le plus lisible"
   ]
  },
  {
   "cell_type": "markdown",
   "id": "e8f71458",
   "metadata": {
    "slideshow": {
     "slide_type": "slide"
    }
   },
   "source": [
    "### quel objet est un itérateur ?"
   ]
  },
  {
   "cell_type": "markdown",
   "id": "7314fa21",
   "metadata": {
    "cell_style": "split"
   },
   "source": [
    "pour savoir si un objet est un itérateur  \n",
    "tester si  \n",
    "  `iter(obj) is obj`"
   ]
  },
  {
   "cell_type": "code",
   "execution_count": 46,
   "id": "727351fc",
   "metadata": {
    "cell_style": "split",
    "slideshow": {
     "slide_type": ""
    }
   },
   "outputs": [],
   "source": [
    "def is_iterator(obj):\n",
    "    return iter(obj) is obj"
   ]
  },
  {
   "cell_type": "markdown",
   "id": "63abf31c",
   "metadata": {
    "slideshow": {
     "slide_type": "slide"
    }
   },
   "source": [
    "### par exemple\n",
    "\n",
    "* une liste **n'est pas** son propre itérateur\n",
    "* un fichier **est** son propre itérateur"
   ]
  },
  {
   "cell_type": "code",
   "execution_count": 47,
   "id": "541920af",
   "metadata": {
    "cell_style": "split",
    "slideshow": {
     "slide_type": "slide"
    }
   },
   "outputs": [
    {
     "name": "stdout",
     "output_type": "stream",
     "text": [
      "is_iterator(F)=True\n"
     ]
    }
   ],
   "source": [
    "# un fichier est son propre itérateur\n",
    "with open(\"data/une-charogne.txt\") as F:\n",
    "    print(f\"{is_iterator(F)=}\")"
   ]
  },
  {
   "cell_type": "code",
   "execution_count": 48,
   "id": "0cb3d01a",
   "metadata": {
    "cell_style": "split"
   },
   "outputs": [
    {
     "name": "stdout",
     "output_type": "stream",
     "text": [
      "is_iterator(L)=False\n"
     ]
    }
   ],
   "source": [
    "# la liste non\n",
    "L = list(range(5))\n",
    "print(f\"{is_iterator(L)=}\")"
   ]
  },
  {
   "cell_type": "code",
   "execution_count": 49,
   "id": "e72afc0d",
   "metadata": {
    "cell_style": "split"
   },
   "outputs": [
    {
     "name": "stdout",
     "output_type": "stream",
     "text": [
      "is_iterator(C)=True\n"
     ]
    }
   ],
   "source": [
    "# cycle en est un\n",
    "C = cycle(L)\n",
    "print(f\"{is_iterator(C)=}\")"
   ]
  },
  {
   "cell_type": "code",
   "execution_count": 50,
   "id": "55f509bd",
   "metadata": {
    "cell_style": "split"
   },
   "outputs": [
    {
     "name": "stdout",
     "output_type": "stream",
     "text": [
      "is_iterator(Z)=True\n"
     ]
    }
   ],
   "source": [
    "# un zip() est un itérateur\n",
    "Z = zip(L, L)\n",
    "print(f\"{is_iterator(Z)=}\")"
   ]
  },
  {
   "cell_type": "markdown",
   "id": "5c03afcf",
   "metadata": {},
   "source": [
    "* Bien se souvenir : **un itérateur s'épuise**  \n",
    "  de manière générale, un objet qui est un itérateur  \n",
    "  ne peut être itéré qu'une seule fois"
   ]
  }
 ],
 "metadata": {
  "celltoolbar": "Slideshow",
  "jupytext": {
   "cell_metadata_filter": "all",
   "formats": "md:myst",
   "notebook_metadata_filter": "all,-language_info,-toc,-jupytext.text_representation.jupytext_version",
   "text_representation": {
    "extension": ".md",
    "format_name": "myst",
    "format_version": 0.12
   }
  },
  "kernelspec": {
   "display_name": "Python 3",
   "language": "python",
   "name": "python3"
  },
  "language_info": {
   "codemirror_mode": {
    "name": "ipython",
    "version": 3
   },
   "file_extension": ".py",
   "mimetype": "text/x-python",
   "name": "python",
   "nbconvert_exporter": "python",
   "pygments_lexer": "ipython3",
   "version": "3.9.6"
  },
  "notebookname": "les itérations en Python",
  "rise": {
   "autolaunch": true,
   "slideNumber": "c/t",
   "start_slideshow_at": "selected",
   "theme": "sky",
   "transition": "cube"
  },
  "source_map": [
   25,
   33,
   37,
   53,
   57,
   68,
   72,
   82,
   86,
   102,
   106,
   120,
   131,
   135,
   139,
   151,
   155,
   165,
   172,
   176,
   184,
   191,
   195,
   211,
   215,
   221,
   231,
   243,
   247,
   251,
   265,
   274,
   278,
   286,
   296,
   306,
   310,
   318,
   326,
   336,
   350,
   357,
   365,
   374,
   379,
   383,
   392,
   396,
   403,
   411,
   419,
   423,
   430,
   439,
   448,
   452,
   462,
   466,
   470,
   476,
   486,
   490,
   500,
   506,
   512,
   519,
   523,
   527,
   533,
   539,
   543,
   549,
   553,
   560,
   565,
   572,
   576,
   586,
   595,
   599,
   608,
   623,
   639,
   644,
   661,
   676,
   680,
   684,
   695,
   699,
   710,
   718,
   727,
   735,
   739,
   752,
   764,
   776,
   788,
   796,
   805,
   809,
   813,
   823,
   827,
   837,
   843,
   847,
   851,
   855,
   859,
   867,
   871,
   883,
   902,
   906,
   916,
   920,
   926,
   936,
   943,
   954,
   962,
   970,
   976
  ],
  "version": "1.0"
 },
 "nbformat": 4,
 "nbformat_minor": 5
}