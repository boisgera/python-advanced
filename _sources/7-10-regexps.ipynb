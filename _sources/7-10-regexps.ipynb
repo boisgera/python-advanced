{
 "cells": [
  {
   "cell_type": "markdown",
   "id": "6dca37a3",
   "metadata": {},
   "source": [
    "<div class=\"licence\">\n",
    "<span>Licence CC BY-NC-ND</span>\n",
    "<span>Thierry Parmentelat\n",
    "</div>"
   ]
  },
  {
   "cell_type": "markdown",
   "id": "ce835300",
   "metadata": {
    "slideshow": {
     "slide_type": ""
    }
   },
   "source": [
    "# expressions régulières"
   ]
  },
  {
   "cell_type": "markdown",
   "id": "3498bbb4",
   "metadata": {},
   "source": [
    "* notion transverse aux langages de programmation\n",
    "* présente dans la plupart d'entre eux\n",
    "* en particulier historiquement Perl  \n",
    "  qui en avait fait un *first-class citizen*"
   ]
  },
  {
   "cell_type": "markdown",
   "id": "3d574165",
   "metadata": {
    "slideshow": {
     "slide_type": "slide"
    }
   },
   "source": [
    "## exemples"
   ]
  },
  {
   "cell_type": "markdown",
   "id": "a2b57d53",
   "metadata": {
    "slideshow": {
     "slide_type": ""
    }
   },
   "source": [
    "* `a*` décrit tous les mots  \n",
    "  composés **de 0 ou plusieurs** `a`\n",
    "\n",
    "  * `''`, `'a'`, `'aa'`, …  \n",
    "    sont les mots reconnus \n",
    "\n",
    "* `(ab)+` : toutes les suites de  \n",
    "  **au moins 1 occurrence** de `ab`  \n",
    "\n",
    "  * `'ab'`, `'abab'`, `'ababab'`, …  \n",
    "    sont les mots reconnus"
   ]
  },
  {
   "cell_type": "markdown",
   "id": "f63f921e",
   "metadata": {
    "slideshow": {
     "slide_type": "slide"
    }
   },
   "source": [
    "## le module `re`"
   ]
  },
  {
   "cell_type": "markdown",
   "id": "cb236365",
   "metadata": {
    "slideshow": {
     "slide_type": ""
    }
   },
   "source": [
    "en Python, les expressions régulières sont accessibles au travers du module `re`"
   ]
  },
  {
   "cell_type": "code",
   "execution_count": 1,
   "id": "aa60a5f1",
   "metadata": {},
   "outputs": [
    {
     "data": {
      "text/plain": [
       "<re.Match object; span=(0, 0), match=''>"
      ]
     },
     "execution_count": 1,
     "metadata": {},
     "output_type": "execute_result"
    }
   ],
   "source": [
    "import re\n",
    "\n",
    "# en anglais on dit pattern\n",
    "# en français on dit filtre, \n",
    "# ou encore parfois motif\n",
    "pattern = \"a*\"\n",
    "\n",
    "# la fonction `match` \n",
    "re.match(pattern, '')"
   ]
  },
  {
   "cell_type": "code",
   "execution_count": 2,
   "id": "b576ad99",
   "metadata": {
    "cell_style": "split"
   },
   "outputs": [
    {
     "data": {
      "text/plain": [
       "<re.Match object; span=(0, 1), match='a'>"
      ]
     },
     "execution_count": 2,
     "metadata": {},
     "output_type": "execute_result"
    }
   ],
   "source": [
    "re.match(pattern, 'a')"
   ]
  },
  {
   "cell_type": "code",
   "execution_count": 3,
   "id": "c65602dd",
   "metadata": {
    "cell_style": "split"
   },
   "outputs": [
    {
     "data": {
      "text/plain": [
       "<re.Match object; span=(0, 2), match='aa'>"
      ]
     },
     "execution_count": 3,
     "metadata": {},
     "output_type": "execute_result"
    }
   ],
   "source": [
    "re.match(pattern, 'aa')"
   ]
  },
  {
   "cell_type": "code",
   "execution_count": 4,
   "id": "ed0a44f1",
   "metadata": {
    "cell_style": "split"
   },
   "outputs": [
    {
     "data": {
      "text/plain": [
       "<re.Match object; span=(0, 2), match='ab'>"
      ]
     },
     "execution_count": 4,
     "metadata": {},
     "output_type": "execute_result"
    }
   ],
   "source": [
    "re.match('(ab)+', 'ab')"
   ]
  },
  {
   "cell_type": "code",
   "execution_count": 5,
   "id": "7b4d2311",
   "metadata": {
    "cell_style": "split"
   },
   "outputs": [],
   "source": [
    "# pas conforme : retourne None\n",
    "re.match('(ab)+', 'ba')"
   ]
  },
  {
   "cell_type": "markdown",
   "id": "cc0bb14e",
   "metadata": {
    "slideshow": {
     "slide_type": "slide"
    }
   },
   "source": [
    "### `re.match()`"
   ]
  },
  {
   "cell_type": "markdown",
   "id": "5a749004",
   "metadata": {
    "slideshow": {
     "slide_type": ""
    }
   },
   "source": [
    "* **ATTENTION** car `re.match()` vérifie si l'expression régulière peut être trouvée **au début** de la chaine"
   ]
  },
  {
   "cell_type": "code",
   "execution_count": 6,
   "id": "14e0ba65",
   "metadata": {
    "cell_style": "center"
   },
   "outputs": [
    {
     "data": {
      "text/plain": [
       "<re.Match object; span=(0, 4), match='abab'>"
      ]
     },
     "execution_count": 6,
     "metadata": {},
     "output_type": "execute_result"
    }
   ],
   "source": [
    "# ici seulement LE DÉBUT du mot est reconnu\n",
    "\n",
    "match = re.match('(ab)+', 'ababzzz')\n",
    "match"
   ]
  },
  {
   "cell_type": "code",
   "execution_count": 7,
   "id": "3d2f0aee",
   "metadata": {
    "cell_style": "split"
   },
   "outputs": [
    {
     "data": {
      "text/plain": [
       "0"
      ]
     },
     "execution_count": 7,
     "metadata": {},
     "output_type": "execute_result"
    }
   ],
   "source": [
    "# commence au début \n",
    "match.start()"
   ]
  },
  {
   "cell_type": "code",
   "execution_count": 8,
   "id": "589ccd68",
   "metadata": {
    "cell_style": "split"
   },
   "outputs": [
    {
     "data": {
      "text/plain": [
       "4"
      ]
     },
     "execution_count": 8,
     "metadata": {},
     "output_type": "execute_result"
    }
   ],
   "source": [
    "# mais pas jusque la fin\n",
    "match.end()"
   ]
  },
  {
   "cell_type": "markdown",
   "id": "8ba36909",
   "metadata": {
    "slideshow": {
     "slide_type": "slide"
    }
   },
   "source": [
    "### `re.search()`"
   ]
  },
  {
   "cell_type": "markdown",
   "id": "5b20b68d",
   "metadata": {
    "slideshow": {
     "slide_type": ""
    }
   },
   "source": [
    "* `re.search()` cherche la première occurrence de l'expression régulière  \n",
    "* **pas forcément** au début de la chaine"
   ]
  },
  {
   "cell_type": "code",
   "execution_count": 9,
   "id": "51b314f8",
   "metadata": {
    "cell_style": "center"
   },
   "outputs": [],
   "source": [
    "# match répond non car seulement LE DÉBUT de la chaine est essayé\n",
    "\n",
    "re.match('abzz', 'ababzzz')"
   ]
  },
  {
   "cell_type": "code",
   "execution_count": 10,
   "id": "6f17a00a",
   "metadata": {
    "cell_style": "center"
   },
   "outputs": [
    {
     "data": {
      "text/plain": [
       "<re.Match object; span=(2, 6), match='abzz'>"
      ]
     },
     "execution_count": 10,
     "metadata": {},
     "output_type": "execute_result"
    }
   ],
   "source": [
    "re.search('abzz', 'ababzzz')"
   ]
  },
  {
   "cell_type": "markdown",
   "id": "f5d29016",
   "metadata": {
    "slideshow": {
     "slide_type": "slide"
    }
   },
   "source": [
    "### les objets `Match`"
   ]
  },
  {
   "cell_type": "markdown",
   "id": "86f8b768",
   "metadata": {
    "slideshow": {
     "slide_type": ""
    }
   },
   "source": [
    "* le résultat de `re.match()` est de type `Match` \n",
    "* pour les détails de ce qui a été trouvé  \n",
    "  (par exemple quelle partie de la chaine)\n",
    "\n",
    "* et aussi les sous-chaines  \n",
    "  correspondant aux **groupes**  \n",
    "  (on en reparlera)"
   ]
  },
  {
   "cell_type": "markdown",
   "id": "17bf112d",
   "metadata": {
    "slideshow": {
     "slide_type": "slide"
    }
   },
   "source": [
    "### autres façons de chercher"
   ]
  },
  {
   "cell_type": "markdown",
   "id": "e3263daf",
   "metadata": {
    "slideshow": {
     "slide_type": ""
    }
   },
   "source": [
    "* `re.findall()` et `re.finditer()` pour trouver toutes les occurences du filtre dans la chaine\n",
    "* `re.sub()` pour remplacer …\n",
    "\n",
    "**notre sujet**\n",
    "\n",
    "* ici nous nous intéressons surtout à la façon de **construire les regexps**\n",
    "* se reporter à [la documentation du module](https://docs.python.org/3/library/re.html) pour ces variantes"
   ]
  },
  {
   "cell_type": "markdown",
   "id": "9290fabc",
   "metadata": {
    "slideshow": {
     "slide_type": "slide"
    }
   },
   "source": [
    "#### pour visualiser"
   ]
  },
  {
   "cell_type": "code",
   "execution_count": 11,
   "id": "5d86f6a5",
   "metadata": {},
   "outputs": [],
   "source": [
    "# digression : un utilitaire pour montrer\n",
    "# le comportement d'un pattern / filtre\n",
    "\n",
    "def match_all(pattern, strings):\n",
    "    \"\"\"\n",
    "    match a pattern against a set of strings and shows result\n",
    "    \"\"\"\n",
    "    col_width = max(len(x) for x in strings) + 2 # for the quotes\n",
    "    for string in strings:\n",
    "        string_repr = f\"'{string}'\"\n",
    "        print(f\"'{pattern}' ⇆ {string_repr:<{col_width}} → \", end=\"\")\n",
    "        match = re.match(pattern, string)\n",
    "        if not match:\n",
    "            print(\"NO\")\n",
    "        elif match.end() != len(string):\n",
    "            # start() is always 0\n",
    "            print(f\"BEGINNING ONLY (until {match.end()})\")\n",
    "        else:\n",
    "            print(\"FULL MATCH\")"
   ]
  },
  {
   "cell_type": "code",
   "execution_count": 12,
   "id": "85140f1a",
   "metadata": {
    "cell_style": "center"
   },
   "outputs": [
    {
     "name": "stdout",
     "output_type": "stream",
     "text": [
      "'(ab)+' ⇆ 'ab'      → FULL MATCH\n",
      "'(ab)+' ⇆ 'abab'    → FULL MATCH\n",
      "'(ab)+' ⇆ 'ababzzz' → BEGINNING ONLY (until 4)\n",
      "'(ab)+' ⇆ ''        → NO\n"
     ]
    }
   ],
   "source": [
    "match_all('(ab)+', ['ab', 'abab', 'ababzzz', ''])"
   ]
  },
  {
   "cell_type": "markdown",
   "id": "7b1db308",
   "metadata": {
    "slideshow": {
     "slide_type": "slide"
    }
   },
   "source": [
    "## construire un pattern"
   ]
  },
  {
   "cell_type": "markdown",
   "id": "b0ef2ff8",
   "metadata": {
    "slideshow": {
     "slide_type": "slide"
    }
   },
   "source": [
    "### n'importe quel caractère : `.`"
   ]
  },
  {
   "cell_type": "code",
   "execution_count": 13,
   "id": "bdb6ee02",
   "metadata": {},
   "outputs": [
    {
     "name": "stdout",
     "output_type": "stream",
     "text": [
      "'.' ⇆ ''   → NO\n",
      "'.' ⇆ 'a'  → FULL MATCH\n",
      "'.' ⇆ '.'  → FULL MATCH\n",
      "'.' ⇆ 'Θ'  → FULL MATCH\n",
      "'.' ⇆ 'ab' → BEGINNING ONLY (until 1)\n"
     ]
    }
   ],
   "source": [
    "match_all('.', ['', 'a', '.', 'Θ', 'ab'])"
   ]
  },
  {
   "cell_type": "markdown",
   "id": "27d00cd6",
   "metadata": {
    "slideshow": {
     "slide_type": "slide"
    }
   },
   "source": [
    "### filtrer **un seul** caractère : `[..]`"
   ]
  },
  {
   "cell_type": "markdown",
   "id": "c8dc7fa8",
   "metadata": {
    "slideshow": {
     "slide_type": ""
    }
   },
   "source": [
    "* avec les `[]` on peut désigner un **ensemble** de caractères :\n",
    "* `[a-z]` les lettres minuscules\n",
    "* `[a-zA-Z0-9_]` les lettres et chiffres et underscore"
   ]
  },
  {
   "cell_type": "code",
   "execution_count": 14,
   "id": "78350b9b",
   "metadata": {
    "cell_style": "split"
   },
   "outputs": [
    {
     "name": "stdout",
     "output_type": "stream",
     "text": [
      "'[a-z]' ⇆ 'a' → FULL MATCH\n",
      "'[a-z]' ⇆ ''  → NO\n",
      "'[a-z]' ⇆ '0' → NO\n"
     ]
    }
   ],
   "source": [
    "match_all('[a-z]', ['a', '', '0'])"
   ]
  },
  {
   "cell_type": "code",
   "execution_count": 15,
   "id": "a6bbdc6c",
   "metadata": {
    "cell_style": "split",
    "slideshow": {
     "slide_type": ""
    }
   },
   "outputs": [
    {
     "name": "stdout",
     "output_type": "stream",
     "text": [
      "'[a-z0-9]' ⇆ 'a' → FULL MATCH\n",
      "'[a-z0-9]' ⇆ '9' → FULL MATCH\n",
      "'[a-z0-9]' ⇆ '-' → NO\n"
     ]
    }
   ],
   "source": [
    "match_all('[a-z0-9]', ['a', '9', '-'])"
   ]
  },
  {
   "cell_type": "code",
   "execution_count": 16,
   "id": "184db99f",
   "metadata": {
    "cell_style": "center"
   },
   "outputs": [
    {
     "name": "stdout",
     "output_type": "stream",
     "text": [
      "'[0-9+-]' ⇆ '0' → FULL MATCH\n",
      "'[0-9+-]' ⇆ '+' → FULL MATCH\n",
      "'[0-9+-]' ⇆ '-' → FULL MATCH\n",
      "'[0-9+-]' ⇆ 'A' → NO\n"
     ]
    }
   ],
   "source": [
    "# pour insérer un '-', le mettre à la fin\n",
    "# sinon ça va être compris comme un intervalle\n",
    "match_all('[0-9+-]', ['0', '+', '-', 'A'])"
   ]
  },
  {
   "cell_type": "markdown",
   "id": "7c97e6d7",
   "metadata": {
    "cell_style": "split",
    "slideshow": {
     "slide_type": "slide"
    }
   },
   "source": [
    "### idem mais à l'envers : `[^..]`"
   ]
  },
  {
   "cell_type": "markdown",
   "id": "ba488f5a",
   "metadata": {
    "cell_style": "split"
   },
   "source": [
    "* si l'ensemble de caractères entre `[]` commence par un `^`\n",
    "* cela désigne le **complémentaire** dans l'espace des caractères"
   ]
  },
  {
   "cell_type": "code",
   "execution_count": 17,
   "id": "3acb32e1",
   "metadata": {
    "cell_style": "split"
   },
   "outputs": [
    {
     "name": "stdout",
     "output_type": "stream",
     "text": [
      "'[^a-z]' ⇆ 'a' → NO\n",
      "'[^a-z]' ⇆ '0' → FULL MATCH\n",
      "'[^a-z]' ⇆ '↑' → FULL MATCH\n",
      "'[^a-z]' ⇆ 'Θ' → FULL MATCH\n"
     ]
    }
   ],
   "source": [
    "# complémentaires\n",
    "match_all('[^a-z]', ['a', '0', '↑', 'Θ'])"
   ]
  },
  {
   "cell_type": "code",
   "execution_count": 18,
   "id": "708a5e58",
   "metadata": {
    "cell_style": "split"
   },
   "outputs": [
    {
     "name": "stdout",
     "output_type": "stream",
     "text": [
      "'[^a-z0-9]' ⇆ 'a' → NO\n",
      "'[^a-z0-9]' ⇆ '9' → NO\n",
      "'[^a-z0-9]' ⇆ '-' → FULL MATCH\n"
     ]
    }
   ],
   "source": [
    "match_all('[^a-z0-9]', ['a', '9', '-'])"
   ]
  },
  {
   "cell_type": "markdown",
   "id": "d02e52a3",
   "metadata": {
    "slideshow": {
     "slide_type": "slide"
    }
   },
   "source": [
    "### 0 ou plusieurs occurrences : `..*`"
   ]
  },
  {
   "cell_type": "code",
   "execution_count": 19,
   "id": "6351e2a2",
   "metadata": {
    "cell_style": "split"
   },
   "outputs": [
    {
     "name": "stdout",
     "output_type": "stream",
     "text": [
      "'[a-z]*' ⇆ ''     → FULL MATCH\n",
      "'[a-z]*' ⇆ 'cba'  → FULL MATCH\n",
      "'[a-z]*' ⇆ 'xyz9' → BEGINNING ONLY (until 3)\n"
     ]
    }
   ],
   "source": [
    "match_all('[a-z]*', ['', 'cba', 'xyz9'])"
   ]
  },
  {
   "cell_type": "code",
   "execution_count": 20,
   "id": "04c2cdbc",
   "metadata": {
    "cell_style": "split"
   },
   "outputs": [
    {
     "name": "stdout",
     "output_type": "stream",
     "text": [
      "'(ab)*' ⇆ ''     → FULL MATCH\n",
      "'(ab)*' ⇆ 'ab'   → FULL MATCH\n",
      "'(ab)*' ⇆ 'abab' → FULL MATCH\n"
     ]
    }
   ],
   "source": [
    "match_all('(ab)*', ['', 'ab', 'abab'])"
   ]
  },
  {
   "cell_type": "markdown",
   "id": "826a63d3",
   "metadata": {
    "slideshow": {
     "slide_type": ""
    }
   },
   "source": [
    "### 1 ou plusieurs occurrences : `..+`"
   ]
  },
  {
   "cell_type": "code",
   "execution_count": 21,
   "id": "7f6608ce",
   "metadata": {
    "cell_style": "split"
   },
   "outputs": [
    {
     "name": "stdout",
     "output_type": "stream",
     "text": [
      "'[a-z]+' ⇆ ''     → NO\n",
      "'[a-z]+' ⇆ 'cba'  → FULL MATCH\n",
      "'[a-z]+' ⇆ 'xyz9' → BEGINNING ONLY (until 3)\n"
     ]
    }
   ],
   "source": [
    "match_all('[a-z]+', ['', 'cba', 'xyz9'])"
   ]
  },
  {
   "cell_type": "code",
   "execution_count": 22,
   "id": "015a60d2",
   "metadata": {
    "cell_style": "split"
   },
   "outputs": [
    {
     "name": "stdout",
     "output_type": "stream",
     "text": [
      "'(ab)+' ⇆ ''     → NO\n",
      "'(ab)+' ⇆ 'ab'   → FULL MATCH\n",
      "'(ab)+' ⇆ 'abab' → FULL MATCH\n"
     ]
    }
   ],
   "source": [
    "match_all('(ab)+', ['', 'ab', 'abab'])"
   ]
  },
  {
   "cell_type": "markdown",
   "id": "a6e16002",
   "metadata": {
    "slideshow": {
     "slide_type": "slide"
    }
   },
   "source": [
    "### concaténation\n",
    "\n",
    "quand on concatène deux filtres, la chaine doit matcher l'un puis l'autre"
   ]
  },
  {
   "cell_type": "code",
   "execution_count": 23,
   "id": "85b095d2",
   "metadata": {
    "cell_style": "split"
   },
   "outputs": [
    {
     "name": "stdout",
     "output_type": "stream",
     "text": [
      "'ABC' ⇆ 'ABC' → FULL MATCH\n"
     ]
    }
   ],
   "source": [
    "# c'est le seul mot qui matche\n",
    "match_all('ABC', ['ABC']) "
   ]
  },
  {
   "cell_type": "code",
   "execution_count": 24,
   "id": "ea342457",
   "metadata": {
    "cell_style": "split"
   },
   "outputs": [
    {
     "name": "stdout",
     "output_type": "stream",
     "text": [
      "'A*B' ⇆ 'B'    → FULL MATCH\n",
      "'A*B' ⇆ 'AB'   → FULL MATCH\n",
      "'A*B' ⇆ 'AAB'  → FULL MATCH\n",
      "'A*B' ⇆ 'AAAB' → FULL MATCH\n"
     ]
    }
   ],
   "source": [
    "match_all('A*B', ['B', 'AB', 'AAB', 'AAAB']) "
   ]
  },
  {
   "cell_type": "markdown",
   "id": "3a216110",
   "metadata": {
    "slideshow": {
     "slide_type": "slide"
    }
   },
   "source": [
    "### groupement : `(..)`"
   ]
  },
  {
   "cell_type": "markdown",
   "id": "e6a1f739",
   "metadata": {},
   "source": [
    "* permet d'appliquer un opérateur sur une regexp\n",
    "  * comme déjà vu avec `(ab)+`\n",
    "* cela définit un **groupe** qui peut être retrouvé dans le match\n",
    "  * grâce à la méthode `groups()`"
   ]
  },
  {
   "cell_type": "code",
   "execution_count": 25,
   "id": "dedcad6d",
   "metadata": {
    "cell_style": "split"
   },
   "outputs": [
    {
     "data": {
      "text/plain": [
       "<re.Match object; span=(0, 12), match='foo=barbar99'>"
      ]
     },
     "execution_count": 25,
     "metadata": {},
     "output_type": "execute_result"
    }
   ],
   "source": [
    "# groupes anonymes\n",
    "pattern = \"([a-z]+)=([a-z0-9]+)\"\n",
    "\n",
    "string = \"foo=barbar99\"\n",
    "\n",
    "match = re.match(pattern, string)\n",
    "match"
   ]
  },
  {
   "cell_type": "code",
   "execution_count": 26,
   "id": "e2265a48",
   "metadata": {
    "cell_style": "split"
   },
   "outputs": [
    {
     "data": {
      "text/plain": [
       "('foo', 'barbar99')"
      ]
     },
     "execution_count": 26,
     "metadata": {},
     "output_type": "execute_result"
    }
   ],
   "source": [
    "# dans l'ordre où ils apparaissent\n",
    "match.groups()"
   ]
  },
  {
   "cell_type": "markdown",
   "id": "f97d85af",
   "metadata": {
    "slideshow": {
     "slide_type": "slide"
    }
   },
   "source": [
    "### alternative : `..|..`"
   ]
  },
  {
   "cell_type": "markdown",
   "id": "30435ad3",
   "metadata": {},
   "source": [
    "pour filtrer avec une regexp **ou** une autre :"
   ]
  },
  {
   "cell_type": "code",
   "execution_count": 27,
   "id": "48f851af",
   "metadata": {
    "cell_style": "split"
   },
   "outputs": [
    {
     "name": "stdout",
     "output_type": "stream",
     "text": [
      "'ab|cd' ⇆ 'ab'   → FULL MATCH\n",
      "'ab|cd' ⇆ 'cd'   → FULL MATCH\n",
      "'ab|cd' ⇆ 'abcd' → BEGINNING ONLY (until 2)\n"
     ]
    }
   ],
   "source": [
    "match_all('ab|cd', ['ab', 'cd', 'abcd'])"
   ]
  },
  {
   "cell_type": "code",
   "execution_count": 28,
   "id": "89476630",
   "metadata": {
    "cell_style": "split"
   },
   "outputs": [
    {
     "name": "stdout",
     "output_type": "stream",
     "text": [
      "'ab|cd*' ⇆ 'ab'  → FULL MATCH\n",
      "'ab|cd*' ⇆ 'c'   → FULL MATCH\n",
      "'ab|cd*' ⇆ 'cd'  → FULL MATCH\n",
      "'ab|cd*' ⇆ 'cdd' → FULL MATCH\n"
     ]
    }
   ],
   "source": [
    "match_all('ab|cd*', ['ab', 'c', 'cd', 'cdd'])"
   ]
  },
  {
   "cell_type": "code",
   "execution_count": 29,
   "id": "634018fd",
   "metadata": {
    "cell_style": "split"
   },
   "outputs": [
    {
     "name": "stdout",
     "output_type": "stream",
     "text": [
      "'ab|(cd)*' ⇆ 'ab'  → FULL MATCH\n",
      "'ab|(cd)*' ⇆ 'c'   → BEGINNING ONLY (until 0)\n",
      "'ab|(cd)*' ⇆ 'cd'  → FULL MATCH\n",
      "'ab|(cd)*' ⇆ 'cdd' → BEGINNING ONLY (until 2)\n"
     ]
    }
   ],
   "source": [
    "match_all('ab|(cd)*', ['ab', 'c', 'cd', 'cdd'])"
   ]
  },
  {
   "cell_type": "code",
   "execution_count": 30,
   "id": "f05f98a2",
   "metadata": {
    "cell_style": "split"
   },
   "outputs": [
    {
     "name": "stdout",
     "output_type": "stream",
     "text": [
      "'(ab|cd)*' ⇆ 'ab'   → FULL MATCH\n",
      "'(ab|cd)*' ⇆ 'c'    → BEGINNING ONLY (until 0)\n",
      "'(ab|cd)*' ⇆ 'cd'   → FULL MATCH\n",
      "'(ab|cd)*' ⇆ 'cdd'  → BEGINNING ONLY (until 2)\n",
      "'(ab|cd)*' ⇆ 'abcd' → FULL MATCH\n"
     ]
    }
   ],
   "source": [
    "match_all('(ab|cd)*', ['ab', 'c', 'cd', 'cdd', 'abcd'])"
   ]
  },
  {
   "cell_type": "markdown",
   "id": "6c5245db",
   "metadata": {
    "slideshow": {
     "slide_type": "slide"
    }
   },
   "source": [
    "### 0 ou 1 occurrences : `..?`"
   ]
  },
  {
   "cell_type": "code",
   "execution_count": 31,
   "id": "9e20b290",
   "metadata": {
    "cell_style": "split"
   },
   "outputs": [
    {
     "name": "stdout",
     "output_type": "stream",
     "text": [
      "'[a-z]?' ⇆ ''   → FULL MATCH\n",
      "'[a-z]?' ⇆ 'b'  → FULL MATCH\n",
      "'[a-z]?' ⇆ 'xy' → BEGINNING ONLY (until 1)\n"
     ]
    }
   ],
   "source": [
    "match_all('[a-z]?', ['', 'b', 'xy'])"
   ]
  },
  {
   "cell_type": "markdown",
   "id": "0a07d845",
   "metadata": {
    "slideshow": {
     "slide_type": "slide"
    }
   },
   "source": [
    "### nombre d'occurrences dans un intervalle : `..{n,m}`"
   ]
  },
  {
   "cell_type": "markdown",
   "id": "ff1b6aeb",
   "metadata": {},
   "source": [
    "* `a{3}` : exactement 3 occurrences de `a`\n",
    "* `a{3,}` : au moins 3 occurrences\n",
    "* `a{3,6}` : entre 3 et 6 occurrences"
   ]
  },
  {
   "cell_type": "code",
   "execution_count": 32,
   "id": "ff229485",
   "metadata": {
    "cell_style": "center"
   },
   "outputs": [
    {
     "name": "stdout",
     "output_type": "stream",
     "text": [
      "'(ab){1,3}' ⇆ ''               → NO\n",
      "'(ab){1,3}' ⇆ 'ab'             → FULL MATCH\n",
      "'(ab){1,3}' ⇆ 'abab'           → FULL MATCH\n",
      "'(ab){1,3}' ⇆ 'ababab'         → FULL MATCH\n",
      "'(ab){1,3}' ⇆ 'ababababababab' → BEGINNING ONLY (until 6)\n"
     ]
    }
   ],
   "source": [
    "match_all('(ab){1,3}', ['', 'ab', 'abab', 'ababab', 'ababababababab'])"
   ]
  },
  {
   "cell_type": "markdown",
   "id": "9e0c2bdf",
   "metadata": {
    "slideshow": {
     "slide_type": "slide"
    }
   },
   "source": [
    "### classes de caractères"
   ]
  },
  {
   "cell_type": "markdown",
   "id": "95a58f9b",
   "metadata": {
    "slideshow": {
     "slide_type": ""
    }
   },
   "source": [
    "raccourcis qui filtrent **un caractère** dans une classe  \n",
    "définis en fonction de la configuration de l'OS en termes de langue\n",
    "\n",
    "* `\\s` (pour Space) : exactement un caractère de séparation (typiquement Espace, Tabulation, Newline)\n",
    "* `\\w` (pour Word) : exactement un caractère alphabétique ou numérique\n",
    "* `\\d` (pour Digit) : un chiffre\n",
    "* `\\S`, `\\W` et `\\D` : les complémentaires"
   ]
  },
  {
   "cell_type": "code",
   "execution_count": 33,
   "id": "159f6c1a",
   "metadata": {
    "cell_style": "split"
   },
   "outputs": [
    {
     "name": "stdout",
     "output_type": "stream",
     "text": [
      "'\\w+' ⇆ 'eFç0'  → FULL MATCH\n",
      "'\\w+' ⇆ 'été'   → FULL MATCH\n",
      "'\\w+' ⇆ ' ta98' → NO\n"
     ]
    }
   ],
   "source": [
    "match_all('\\w+', ['eFç0', 'été', ' ta98'])"
   ]
  },
  {
   "cell_type": "code",
   "execution_count": 34,
   "id": "1be7124e",
   "metadata": {
    "cell_style": "split"
   },
   "outputs": [
    {
     "name": "stdout",
     "output_type": "stream",
     "text": [
      "'\\s?\\w+' ⇆ 'eFç0'  → FULL MATCH\n",
      "'\\s?\\w+' ⇆ 'été'   → FULL MATCH\n",
      "'\\s?\\w+' ⇆ ' ta98' → FULL MATCH\n"
     ]
    }
   ],
   "source": [
    "match_all('\\s?\\w+', ['eFç0', 'été', ' ta98'])"
   ]
  },
  {
   "cell_type": "markdown",
   "id": "72753c87",
   "metadata": {
    "slideshow": {
     "slide_type": "slide"
    }
   },
   "source": [
    "### groupe nommé : `(?P<name>..)`"
   ]
  },
  {
   "cell_type": "markdown",
   "id": "d6e9b043",
   "metadata": {
    "slideshow": {
     "slide_type": ""
    }
   },
   "source": [
    "* le même effet que les groupes anonymes,\n",
    "* mais on peut retrouver le contenu depuis le nom du groupe\n",
    "* plutôt que le rang (numéro) du groupe\n",
    "  * qui peut rapidement devenir une notion fragile / peu maintenable"
   ]
  },
  {
   "cell_type": "code",
   "execution_count": 35,
   "id": "c275dc41",
   "metadata": {
    "cell_style": "center"
   },
   "outputs": [
    {
     "data": {
      "text/plain": [
       "<re.Match object; span=(0, 12), match='foo=barbar99'>"
      ]
     },
     "execution_count": 35,
     "metadata": {},
     "output_type": "execute_result"
    }
   ],
   "source": [
    "# groupes nommés\n",
    "pattern = \"(?P<variable>[a-z]+)=(?P<valeur>[a-z0-9]+)\"\n",
    "\n",
    "string = \"foo=barbar99\"\n",
    "\n",
    "match = re.match(pattern, string)\n",
    "match"
   ]
  },
  {
   "cell_type": "code",
   "execution_count": 36,
   "id": "8ae3d353",
   "metadata": {
    "cell_style": "split"
   },
   "outputs": [
    {
     "data": {
      "text/plain": [
       "'foo'"
      ]
     },
     "execution_count": 36,
     "metadata": {},
     "output_type": "execute_result"
    }
   ],
   "source": [
    "match.group('variable')"
   ]
  },
  {
   "cell_type": "code",
   "execution_count": 37,
   "id": "ebc1b810",
   "metadata": {
    "cell_style": "split"
   },
   "outputs": [
    {
     "data": {
      "text/plain": [
       "'barbar99'"
      ]
     },
     "execution_count": 37,
     "metadata": {},
     "output_type": "execute_result"
    }
   ],
   "source": [
    "match.group('valeur')"
   ]
  },
  {
   "cell_type": "markdown",
   "id": "7ba90fd0",
   "metadata": {
    "slideshow": {
     "slide_type": "slide"
    }
   },
   "source": [
    "### plusieurs occurrences du même groupe : `(?P=name)`"
   ]
  },
  {
   "cell_type": "markdown",
   "id": "40bc15a5",
   "metadata": {
    "slideshow": {
     "slide_type": ""
    }
   },
   "source": [
    "on peut spécifier qu'un groupe doit apparaître plusieurs fois"
   ]
  },
  {
   "cell_type": "code",
   "execution_count": 38,
   "id": "0eb6fbce",
   "metadata": {
    "tags": []
   },
   "outputs": [
    {
     "name": "stdout",
     "output_type": "stream",
     "text": [
      "'(?P<nom>\\w+).*(?P=nom)' ⇆ 'Jean again Jean'  → FULL MATCH\n",
      "'(?P<nom>\\w+).*(?P=nom)' ⇆ 'Jean nope Pierre' → NO\n",
      "'(?P<nom>\\w+).*(?P=nom)' ⇆ 'assez comme ça'   → FULL MATCH\n"
     ]
    }
   ],
   "source": [
    "# la deuxième occurrence de <nom> doit être la même que la première\n",
    "pattern = '(?P<nom>\\w+).*(?P=nom)'\n",
    "\n",
    "string1 = 'Jean again Jean'\n",
    "string2 = 'Jean nope Pierre'\n",
    "string3 = 'assez comme ça'\n",
    "\n",
    "match_all(pattern, [string1, string2, string3])"
   ]
  },
  {
   "cell_type": "markdown",
   "id": "b105ccb1",
   "metadata": {
    "slideshow": {
     "slide_type": "slide"
    }
   },
   "source": [
    "### début et fin de chaine : `^` et `$`"
   ]
  },
  {
   "cell_type": "code",
   "execution_count": 39,
   "id": "6bcf5181",
   "metadata": {
    "cell_style": "center"
   },
   "outputs": [
    {
     "name": "stdout",
     "output_type": "stream",
     "text": [
      "'ab|cd' ⇆ 'ab'   → FULL MATCH\n",
      "'ab|cd' ⇆ 'abcd' → BEGINNING ONLY (until 2)\n"
     ]
    }
   ],
   "source": [
    "match_all('ab|cd', ['ab', 'abcd'])"
   ]
  },
  {
   "cell_type": "code",
   "execution_count": 40,
   "id": "631d4277",
   "metadata": {},
   "outputs": [
    {
     "name": "stdout",
     "output_type": "stream",
     "text": [
      "'(ab|cd)$' ⇆ 'ab'   → FULL MATCH\n",
      "'(ab|cd)$' ⇆ 'abcd' → NO\n"
     ]
    }
   ],
   "source": [
    "# pour forcer la chaine à matcher jusqu'au bout\n",
    "# on ajoute un $ \n",
    "match_all('(ab|cd)$', ['ab', 'abcd'])"
   ]
  },
  {
   "cell_type": "markdown",
   "id": "7251f0bd",
   "metadata": {
    "slideshow": {
     "slide_type": "slide"
    }
   },
   "source": [
    "## pour aller plus loin"
   ]
  },
  {
   "cell_type": "markdown",
   "id": "058d986d",
   "metadata": {
    "slideshow": {
     "slide_type": ""
    }
   },
   "source": [
    "* beaucoup d'autres possibilités\n",
    "\n",
    "* testeurs en ligne  \n",
    "  <https://pythex.org>  \n",
    "  <https://regex101.com/> (bien choisir Python)\n",
    "\n",
    "* un peu de détente, avec ce jeu de mots croisés basé sur les regexps \n",
    "  <https://regexcrossword.com>  \n",
    "  commencer [par le tutorial](https://regexcrossword.com/challenges/tutorial/puzzles/1)\n",
    "\n",
    "* tour complet de la syntaxe des regexps  \n",
    "  <https://docs.python.org/3/library/re.html#regular-expression-syntax>"
   ]
  }
 ],
 "metadata": {
  "celltoolbar": "Slideshow",
  "jupytext": {
   "cell_metadata_filter": "all,-hidden,-heading_collapsed,-run_control",
   "encoding": "# -*- coding: utf-8 -*-",
   "notebook_metadata_filter": "all,-language_info,-toc,-jupytext.text_representation.jupytext_version,-jupytext.text_representation.format_version",
   "text_representation": {
    "extension": ".md",
    "format_name": "myst"
   }
  },
  "kernelspec": {
   "display_name": "Python 3",
   "language": "python",
   "name": "python3"
  },
  "language_info": {
   "codemirror_mode": {
    "name": "ipython",
    "version": 3
   },
   "file_extension": ".py",
   "mimetype": "text/x-python",
   "name": "python",
   "nbconvert_exporter": "python",
   "pygments_lexer": "ipython3",
   "version": "3.9.6"
  },
  "notebookname": "expressions régulières",
  "rise": {
   "autolaunch": true,
   "slideNumber": "c/t",
   "start_slideshow_at": "selected",
   "theme": "sky",
   "transition": "cube"
  },
  "source_map": [
   21,
   28,
   32,
   39,
   43,
   57,
   61,
   65,
   77,
   83,
   89,
   95,
   102,
   106,
   110,
   119,
   126,
   133,
   137,
   142,
   150,
   156,
   160,
   170,
   174,
   184,
   188,
   210,
   216,
   220,
   224,
   228,
   232,
   238,
   244,
   253,
   261,
   265,
   270,
   277,
   283,
   287,
   293,
   299,
   303,
   309,
   315,
   321,
   328,
   334,
   338,
   345,
   357,
   364,
   368,
   372,
   378,
   384,
   390,
   396,
   400,
   406,
   410,
   416,
   422,
   426,
   436,
   442,
   448,
   452,
   459,
   471,
   477,
   483,
   487,
   491,
   504,
   508,
   514,
   520,
   524
  ]
 },
 "nbformat": 4,
 "nbformat_minor": 5
}