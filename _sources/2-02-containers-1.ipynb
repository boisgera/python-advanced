{
 "cells": [
  {
   "cell_type": "markdown",
   "id": "7898ab64",
   "metadata": {},
   "source": [
    "<div class=\"licence\">\n",
    "<span>Licence CC BY-NC-ND</span>\n",
    "<span>Thierry Parmentelat</span>\n",
    "<span><img src=\"media/inria-25-alpha.png\" /></span>\n",
    "</div>"
   ]
  },
  {
   "cell_type": "markdown",
   "id": "c8fd2407",
   "metadata": {},
   "source": [
    "# les containers (1/2)"
   ]
  },
  {
   "cell_type": "markdown",
   "id": "46d61d2f",
   "metadata": {
    "slideshow": {
     "slide_type": "slide"
    },
    "tags": []
   },
   "source": [
    "## les listes"
   ]
  },
  {
   "cell_type": "markdown",
   "id": "d6698aec",
   "metadata": {},
   "source": [
    "* permet de créer une liste de n’importe quels objets\n",
    "  * techniquement, c’est un tableau de pointeurs vers les objets\n",
    "  * les listes sont dynamiques, de taille variable\n",
    "  * comme une liste est un objet, on peut avoir une liste de listes"
   ]
  },
  {
   "cell_type": "markdown",
   "id": "3235f807",
   "metadata": {
    "slideshow": {
     "slide_type": "slide"
    }
   },
   "source": [
    "### les listes"
   ]
  },
  {
   "cell_type": "code",
   "execution_count": 1,
   "id": "85ffa437",
   "metadata": {
    "cell_style": "split"
   },
   "outputs": [],
   "source": [
    "L = []\n",
    "L = [4, 'bob', 10 + 1j, True]"
   ]
  },
  {
   "cell_type": "code",
   "execution_count": 2,
   "id": "2d231b42",
   "metadata": {
    "cell_style": "split"
   },
   "outputs": [
    {
     "data": {
      "text/plain": [
       "[4, 'bob', (10+1j), True]"
      ]
     },
     "execution_count": 2,
     "metadata": {},
     "output_type": "execute_result"
    }
   ],
   "source": [
    "L"
   ]
  },
  {
   "cell_type": "code",
   "execution_count": 3,
   "id": "2ae66b7c",
   "metadata": {
    "cell_style": "split"
   },
   "outputs": [
    {
     "data": {
      "text/plain": [
       "(10+1j)"
      ]
     },
     "execution_count": 3,
     "metadata": {},
     "output_type": "execute_result"
    }
   ],
   "source": [
    "# les indices en python\n",
    "# commencent à 0\n",
    "L[2]"
   ]
  },
  {
   "cell_type": "code",
   "execution_count": 4,
   "id": "3bc1e4f5",
   "metadata": {
    "cell_style": "split"
   },
   "outputs": [],
   "source": [
    "L[0] = 10"
   ]
  },
  {
   "cell_type": "code",
   "execution_count": 5,
   "id": "66995da2",
   "metadata": {
    "cell_style": "split"
   },
   "outputs": [
    {
     "data": {
      "text/plain": [
       "[10, 'bob', (10+1j), True]"
      ]
     },
     "execution_count": 5,
     "metadata": {},
     "output_type": "execute_result"
    }
   ],
   "source": [
    "L"
   ]
  },
  {
   "cell_type": "markdown",
   "id": "49c35121",
   "metadata": {
    "slideshow": {
     "slide_type": "slide"
    }
   },
   "source": [
    "### modification des listes"
   ]
  },
  {
   "cell_type": "code",
   "execution_count": 6,
   "id": "48c5b286",
   "metadata": {
    "cell_style": "split"
   },
   "outputs": [
    {
     "data": {
      "text/plain": [
       "[10, 'bob', (10+1j), True]"
      ]
     },
     "execution_count": 6,
     "metadata": {},
     "output_type": "execute_result"
    }
   ],
   "source": [
    "L"
   ]
  },
  {
   "cell_type": "code",
   "execution_count": 7,
   "id": "968821af",
   "metadata": {
    "cell_style": "split",
    "slideshow": {
     "slide_type": ""
    }
   },
   "outputs": [
    {
     "data": {
      "text/plain": [
       "[(10+1j), True]"
      ]
     },
     "execution_count": 7,
     "metadata": {},
     "output_type": "execute_result"
    }
   ],
   "source": [
    "L[2:]"
   ]
  },
  {
   "cell_type": "code",
   "execution_count": 8,
   "id": "91abd608",
   "metadata": {
    "cell_style": "split",
    "slideshow": {
     "slide_type": ""
    }
   },
   "outputs": [
    {
     "data": {
      "text/plain": [
       "[10, 'bob', 6, 7, 8, 'alice']"
      ]
     },
     "execution_count": 8,
     "metadata": {},
     "output_type": "execute_result"
    }
   ],
   "source": [
    "L[2:] = [6, 7, 8, 'alice']\n",
    "L"
   ]
  },
  {
   "cell_type": "code",
   "execution_count": 9,
   "id": "8c80bfa0",
   "metadata": {
    "cell_style": "split",
    "slideshow": {
     "slide_type": ""
    }
   },
   "outputs": [
    {
     "data": {
      "text/plain": [
       "[10, 8, 'alice']"
      ]
     },
     "execution_count": 9,
     "metadata": {},
     "output_type": "execute_result"
    }
   ],
   "source": [
    "L[1:4] = []\n",
    "L"
   ]
  },
  {
   "cell_type": "markdown",
   "id": "5ebf66f0",
   "metadata": {
    "slideshow": {
     "slide_type": "slide"
    }
   },
   "source": [
    "#### attention"
   ]
  },
  {
   "cell_type": "markdown",
   "id": "c505301f",
   "metadata": {
    "slideshow": {
     "slide_type": ""
    }
   },
   "source": [
    "* `L[i] = L2`\n",
    "  * **remplace** le i-ème élément de `L` par la liste `L2`\n",
    "* `L[i:j] = L2`\n",
    "  * **insère** tous les éléments de la liste `L2` à la position `i`\n",
    "  * après avoir supprimé les éléments `i` jusqu’à `j-1` dans `L`"
   ]
  },
  {
   "cell_type": "markdown",
   "id": "cdd68437",
   "metadata": {
    "slideshow": {
     "slide_type": "slide"
    }
   },
   "source": [
    "#### modification des listes..."
   ]
  },
  {
   "cell_type": "code",
   "execution_count": 10,
   "id": "61c0eb42",
   "metadata": {
    "cell_style": "split"
   },
   "outputs": [
    {
     "data": {
      "text/plain": [
       "[1, 2, 3, 4, 5]"
      ]
     },
     "execution_count": 10,
     "metadata": {},
     "output_type": "execute_result"
    }
   ],
   "source": [
    "L = [1, 2, 3, 4, 5]\n",
    "L"
   ]
  },
  {
   "cell_type": "code",
   "execution_count": 11,
   "id": "312e24b9",
   "metadata": {
    "cell_style": "split"
   },
   "outputs": [
    {
     "data": {
      "text/plain": [
       "[1, 2, 10, 11, 12, 5]"
      ]
     },
     "execution_count": 11,
     "metadata": {},
     "output_type": "execute_result"
    }
   ],
   "source": [
    "L[2:4] = [10, 11, 12]\n",
    "L"
   ]
  },
  {
   "cell_type": "code",
   "execution_count": 12,
   "id": "910f4346",
   "metadata": {},
   "outputs": [
    {
     "data": {
      "text/plain": [
       "[1, 2, 10, [3, 4], 12, 5]"
      ]
     },
     "execution_count": 12,
     "metadata": {},
     "output_type": "execute_result"
    }
   ],
   "source": [
    "L[3] = [3, 4]\n",
    "L"
   ]
  },
  {
   "cell_type": "code",
   "execution_count": 13,
   "id": "2283f400",
   "metadata": {
    "slideshow": {
     "slide_type": "slide"
    }
   },
   "outputs": [],
   "source": [
    "%load_ext ipythontutor"
   ]
  },
  {
   "cell_type": "code",
   "execution_count": 14,
   "id": "3d0a6d89",
   "metadata": {
    "slideshow": {
     "slide_type": ""
    }
   },
   "outputs": [
    {
     "data": {
      "application/vnd.jupyter.widget-view+json": {
       "model_id": "c7efd7b39dfd4a1fba83a5aea6eeaa08",
       "version_major": 2,
       "version_minor": 0
      },
      "text/plain": [
       "HTML(value='<style>#ipythontutor1 </style><style>#ipythontutor2 { max-width:800px; max-height:300px; box-sizin…"
      ]
     },
     "metadata": {},
     "output_type": "display_data"
    }
   ],
   "source": [
    "%%ipythontutor curInstr=1 width=800\n",
    "L = [1, 2, 3, 4, 5]\n",
    "L[2:4] = [10, 11, 12]\n",
    "L[3] = [3, 4]"
   ]
  },
  {
   "cell_type": "markdown",
   "id": "80f0d79b",
   "metadata": {
    "slideshow": {
     "slide_type": "slide"
    }
   },
   "source": [
    "### méthodes sur les listes"
   ]
  },
  {
   "cell_type": "markdown",
   "id": "c7d6fd47",
   "metadata": {},
   "source": [
    "* toutes les méthodes sur les séquences\n",
    "* optimisé pour les ajouts **à la fin** de la liste"
   ]
  },
  {
   "cell_type": "code",
   "execution_count": 15,
   "id": "b5244976",
   "metadata": {
    "cell_style": "split"
   },
   "outputs": [],
   "source": [
    "L = []\n",
    "for i in range(4):\n",
    "    L.append(i)"
   ]
  },
  {
   "cell_type": "code",
   "execution_count": 16,
   "id": "84a637bf",
   "metadata": {
    "cell_style": "split"
   },
   "outputs": [
    {
     "name": "stdout",
     "output_type": "stream",
     "text": [
      "3\n",
      "2\n",
      "1\n",
      "0\n"
     ]
    }
   ],
   "source": [
    "while L:\n",
    "    print(L.pop())"
   ]
  },
  {
   "cell_type": "markdown",
   "id": "a4bc8f2f",
   "metadata": {},
   "source": [
    "si nécessaire, envisager la liste **doublement chainée**"
   ]
  },
  {
   "cell_type": "code",
   "execution_count": 17,
   "id": "217f0042",
   "metadata": {},
   "outputs": [],
   "source": [
    "from collections import deque\n",
    "deque?"
   ]
  },
  {
   "cell_type": "markdown",
   "id": "df722698",
   "metadata": {
    "slideshow": {
     "slide_type": "slide"
    }
   },
   "source": [
    "#### méthodes sur les listes..."
   ]
  },
  {
   "cell_type": "markdown",
   "id": "a051022c",
   "metadata": {},
   "source": [
    "* des méthodes spécifiques aux types mutables  \n",
    "  (modifications *in-place*)\n",
    "\n",
    "  * `L.append(x)` ajoute `x` à la fin de `L`\n",
    "  * `L.extend(L2)` ajoute chaque élément de `L2` à la fin de `L`\n",
    "  * `L.insert(i, x)` ajoute x à la position `i`\n",
    "  * `L.sort()`  trie `L`\n",
    "  * `L.reverse()` renverse les éléments de `L`"
   ]
  },
  {
   "cell_type": "markdown",
   "id": "e4de6b0f",
   "metadata": {
    "slideshow": {
     "slide_type": "slide"
    }
   },
   "source": [
    "#### méthodes sur les listes..."
   ]
  },
  {
   "cell_type": "markdown",
   "id": "1ee689e5",
   "metadata": {},
   "source": [
    "* `L.pop(i)` supprime l’élément à la position `i`, si i n’est pas fourni, supprime le dernier élément. La fonction retourne l’élément supprimé\n",
    "  * utilisé pour faire une pile d’éléments\n",
    "* `L.remove(x)` supprime la première occurrence de `x` dans `L`. S’il n’y a pas de `x`, une exception est retournée\n",
    "* `del L[i:j:k]` supprime tous les éléments entre `i` et `j-1` par pas de `k` éléments\n",
    "  * si `i == j` supprime l’élément `i`"
   ]
  },
  {
   "cell_type": "markdown",
   "id": "691a8a2d",
   "metadata": {
    "slideshow": {
     "slide_type": "slide"
    }
   },
   "source": [
    "### digression: `range()`"
   ]
  },
  {
   "cell_type": "markdown",
   "id": "ac33a94a",
   "metadata": {
    "cell_style": "center"
   },
   "source": [
    "* `range()` est une fonction *builtin* ou native\n",
    "* qui retourne un objet **itérateur**\n",
    "* c'est-à-dire sur lequel on peut faire un `for`\n",
    "* on y reviendra longuement"
   ]
  },
  {
   "cell_type": "code",
   "execution_count": 18,
   "id": "89edd2e5",
   "metadata": {
    "cell_style": "center"
   },
   "outputs": [
    {
     "name": "stdout",
     "output_type": "stream",
     "text": [
      "0 1 2 3 "
     ]
    }
   ],
   "source": [
    "for i in range(4):\n",
    "    print(i, end=\" \")"
   ]
  },
  {
   "cell_type": "markdown",
   "id": "b0a59576",
   "metadata": {
    "slideshow": {
     "slide_type": "slide"
    }
   },
   "source": [
    "#### digression: `range()` ..."
   ]
  },
  {
   "cell_type": "markdown",
   "id": "c7ee1a66",
   "metadata": {},
   "source": [
    "* essentiellement, **même logique que le slicing**\n",
    "* `range(j)` balaie de `0` à `j-1`\n",
    "* `range(i, j)` balaie de `i` à `j-1`\n",
    "* `range(i, j, k)` balaie de `i` à `j-1` par pas de `k`\n",
    "* pour obtenir une liste on transforme (*cast*)  \n",
    "  en liste en appelant `list()`"
   ]
  },
  {
   "cell_type": "code",
   "execution_count": 19,
   "id": "06d224aa",
   "metadata": {
    "cell_style": "split"
   },
   "outputs": [
    {
     "name": "stdout",
     "output_type": "stream",
     "text": [
      "1 6 11 16 "
     ]
    }
   ],
   "source": [
    "for i in range(1, 21, 5):\n",
    "    print(i, end=\" \")"
   ]
  },
  {
   "cell_type": "code",
   "execution_count": 20,
   "id": "778ff36c",
   "metadata": {
    "cell_style": "split"
   },
   "outputs": [
    {
     "data": {
      "text/plain": [
       "[1, 6, 11, 16]"
      ]
     },
     "execution_count": 20,
     "metadata": {},
     "output_type": "execute_result"
    }
   ],
   "source": [
    "list(range(1, 21, 5))"
   ]
  },
  {
   "cell_type": "markdown",
   "id": "e42a8374",
   "metadata": {
    "slideshow": {
     "slide_type": "slide"
    }
   },
   "source": [
    "### méthodes sur les listes..."
   ]
  },
  {
   "cell_type": "code",
   "execution_count": 21,
   "id": "ecef21aa",
   "metadata": {
    "cell_style": "split"
   },
   "outputs": [
    {
     "data": {
      "text/plain": [
       "[0, 1, 2, 3, 4, 100]"
      ]
     },
     "execution_count": 21,
     "metadata": {},
     "output_type": "execute_result"
    }
   ],
   "source": [
    "L = list(range(5))\n",
    "L.append(100)\n",
    "L"
   ]
  },
  {
   "cell_type": "code",
   "execution_count": 22,
   "id": "f428c49e",
   "metadata": {
    "cell_style": "split"
   },
   "outputs": [
    {
     "data": {
      "text/plain": [
       "[0, 1, 2, 3, 4, 100, 10, 20]"
      ]
     },
     "execution_count": 22,
     "metadata": {},
     "output_type": "execute_result"
    }
   ],
   "source": [
    "# comme si append(10)\n",
    "#     puis append(20)\n",
    "L.extend([10, 20])\n",
    "L"
   ]
  },
  {
   "cell_type": "code",
   "execution_count": 23,
   "id": "b6752140",
   "metadata": {
    "cell_style": "split"
   },
   "outputs": [
    {
     "data": {
      "text/plain": [
       "[0, 1, 2, 3, 4, 100, 20]"
      ]
     },
     "execution_count": 23,
     "metadata": {},
     "output_type": "execute_result"
    }
   ],
   "source": [
    "L.remove(10)\n",
    "L"
   ]
  },
  {
   "cell_type": "code",
   "execution_count": 24,
   "id": "13ee898b",
   "metadata": {
    "cell_style": "split"
   },
   "outputs": [
    {
     "data": {
      "text/plain": [
       "[0, 1, 2, 3, 4, 20, 100]"
      ]
     },
     "execution_count": 24,
     "metadata": {},
     "output_type": "execute_result"
    }
   ],
   "source": [
    "L.sort()\n",
    "L"
   ]
  },
  {
   "cell_type": "markdown",
   "id": "8d99f9a3",
   "metadata": {
    "slideshow": {
     "slide_type": "slide"
    }
   },
   "source": [
    "### tri sur les listes"
   ]
  },
  {
   "cell_type": "markdown",
   "id": "aeb4b89b",
   "metadata": {},
   "source": [
    "* le tri des listes est très puissant en Python\n",
    "  * tri **en place** méthode `list.sort()`\n",
    "* il a aussi la fonction built-in `sorted()`  \n",
    "  qui trie toutes les séquences"
   ]
  },
  {
   "cell_type": "code",
   "execution_count": 25,
   "id": "ee787bf5",
   "metadata": {
    "cell_style": "split"
   },
   "outputs": [
    {
     "data": {
      "text/plain": [
       "[-5, 3, 10, 100]"
      ]
     },
     "execution_count": 25,
     "metadata": {},
     "output_type": "execute_result"
    }
   ],
   "source": [
    "L = [10, -5, 3, 100]\n",
    "\n",
    "# tri en place\n",
    "L.sort()\n",
    "L"
   ]
  },
  {
   "cell_type": "code",
   "execution_count": 26,
   "id": "c23144a7",
   "metadata": {
    "cell_style": "split"
   },
   "outputs": [
    {
     "name": "stdout",
     "output_type": "stream",
     "text": [
      "[10, -5, 3, 100]\n",
      "[-5, 3, 10, 100]\n"
     ]
    }
   ],
   "source": [
    "L1 = [10, -5, 3, 100]\n",
    "\n",
    "# crée une copie\n",
    "L2 = sorted(L1)\n",
    "print(L1)\n",
    "print(L2)"
   ]
  },
  {
   "cell_type": "markdown",
   "id": "665a9fff",
   "metadata": {},
   "source": [
    "* https://docs.python.org/3.5/howto/sorting.html"
   ]
  },
  {
   "cell_type": "markdown",
   "id": "13bea954",
   "metadata": {
    "slideshow": {
     "slide_type": "slide"
    }
   },
   "source": [
    "### avertissement sur les listes"
   ]
  },
  {
   "cell_type": "markdown",
   "id": "7540e958",
   "metadata": {
    "slideshow": {
     "slide_type": ""
    }
   },
   "source": [
    "* outil très très pratique\n",
    "* **mais** parfois (souvent) pas nécessaire\n",
    "* car nécessite de la mémoire\n",
    "* alors qu'on veut juste itérer sur le contenu\n",
    "* dans ce cas, techniques + adaptées : itérateurs et autres générateurs\n",
    "* sujet avancé que l’on verra plus tard"
   ]
  },
  {
   "cell_type": "markdown",
   "id": "c911b479",
   "metadata": {
    "slideshow": {
     "slide_type": "slide"
    }
   },
   "source": [
    "## les tuples"
   ]
  },
  {
   "cell_type": "markdown",
   "id": "dc1c7e0f",
   "metadata": {},
   "source": [
    "* comme des listes, mais **immutables**\n",
    "* syntaxe: `()` au lieu de `[]`\n",
    "* mais attention si un seul élément"
   ]
  },
  {
   "cell_type": "code",
   "execution_count": 27,
   "id": "087d1117",
   "metadata": {
    "cell_style": "split"
   },
   "outputs": [
    {
     "data": {
      "text/plain": [
       "()"
      ]
     },
     "execution_count": 27,
     "metadata": {},
     "output_type": "execute_result"
    }
   ],
   "source": [
    "# syntaxe pour un tuple vide\n",
    "T = ()\n",
    "T"
   ]
  },
  {
   "cell_type": "code",
   "execution_count": 28,
   "id": "222e856a",
   "metadata": {
    "cell_style": "split"
   },
   "outputs": [
    {
     "data": {
      "text/plain": [
       "True"
      ]
     },
     "execution_count": 28,
     "metadata": {},
     "output_type": "execute_result"
    }
   ],
   "source": [
    "# syntaxe pour un singleton\n",
    "T1 = (4,)\n",
    "# ou encore\n",
    "T2 = 4,\n",
    "\n",
    "T1 == T2"
   ]
  },
  {
   "cell_type": "markdown",
   "id": "59d3860c",
   "metadata": {},
   "source": [
    "* **attention** `(4)` est un **entier** et `(4,)` est un **tuple**\n",
    "* c'est la virgule qui est importante\n",
    "* on peut omettre les `()` - la plupart du temps  \n",
    "  (mais pas toujours malheureusement)"
   ]
  },
  {
   "cell_type": "markdown",
   "id": "b5206b3a",
   "metadata": {
    "slideshow": {
     "slide_type": "slide"
    }
   },
   "source": [
    "### les tuples"
   ]
  },
  {
   "cell_type": "code",
   "execution_count": 29,
   "id": "2195e204",
   "metadata": {
    "cell_style": "split"
   },
   "outputs": [],
   "source": [
    "# syntaxe pour plusieurs éléments\n",
    "T1 = (3, 5, 'alice', 10+1j)\n",
    "\n",
    "# ou encore\n",
    "T2 =  3, 5, 'alice', 10+1j\n",
    "\n",
    "# ou encore\n",
    "T3 =  3, 5, 'alice', 10+1j,"
   ]
  },
  {
   "cell_type": "code",
   "execution_count": 30,
   "id": "657211b2",
   "metadata": {
    "cell_style": "split"
   },
   "outputs": [
    {
     "data": {
      "text/plain": [
       "True"
      ]
     },
     "execution_count": 30,
     "metadata": {},
     "output_type": "execute_result"
    }
   ],
   "source": [
    "T1 == T2"
   ]
  },
  {
   "cell_type": "code",
   "execution_count": 31,
   "id": "60c0f00a",
   "metadata": {
    "cell_style": "split"
   },
   "outputs": [
    {
     "data": {
      "text/plain": [
       "True"
      ]
     },
     "execution_count": 31,
     "metadata": {},
     "output_type": "execute_result"
    }
   ],
   "source": [
    "T1 == T3"
   ]
  },
  {
   "cell_type": "markdown",
   "id": "61bc2f61",
   "metadata": {
    "slideshow": {
     "slide_type": "slide"
    }
   },
   "source": [
    "* un tuple est **non mutable**\n",
    "* ce qui le rend hashable :  \n",
    "  on **peut l'utiliser** dans un **ensemble**  \n",
    "  ou comme clé dans un **dictionnaire**\n",
    "* par contre bien sûr les fonctions faisant des modifications  \n",
    "  *in-place* ne s’appliquent pas aux tuples"
   ]
  },
  {
   "cell_type": "code",
   "execution_count": 32,
   "id": "f5a34967",
   "metadata": {},
   "outputs": [
    {
     "name": "stdout",
     "output_type": "stream",
     "text": [
      "OOPS <class 'TypeError'> 'tuple' object does not support item assignment\n"
     ]
    }
   ],
   "source": [
    "try: \n",
    "    T1[3] = 5   # python n'est pas content\n",
    "except Exception as exc:\n",
    "    print(f\"OOPS {type(exc)} {exc}\")"
   ]
  }
 ],
 "metadata": {
  "celltoolbar": "Slideshow",
  "jupytext": {
   "cell_metadata_filter": "all,-hidden,-heading_collapsed",
   "formats": "md:myst",
   "notebook_metadata_filter": "all,-language_info,-toc,-jupytext.text_representation.jupytext_version,-jupytext.text_representation.format_version",
   "text_representation": {
    "extension": ".md",
    "format_name": "myst"
   }
  },
  "kernelspec": {
   "display_name": "Python 3",
   "language": "python",
   "name": "python3"
  },
  "language_info": {
   "codemirror_mode": {
    "name": "ipython",
    "version": 3
   },
   "file_extension": ".py",
   "mimetype": "text/x-python",
   "name": "python",
   "nbconvert_exporter": "python",
   "pygments_lexer": "ipython3",
   "version": "3.9.6"
  },
  "notebookname": "containers (1/2)",
  "rise": {
   "autolaunch": true,
   "slideNumber": "c/t",
   "start_slideshow_at": "selected",
   "theme": "sky",
   "transition": "cube"
  },
  "source_map": [
   22,
   30,
   34,
   38,
   45,
   49,
   56,
   62,
   70,
   76,
   82,
   86,
   92,
   101,
   111,
   121,
   125,
   133,
   137,
   144,
   151,
   156,
   164,
   175,
   179,
   184,
   192,
   197,
   201,
   206,
   210,
   221,
   225,
   233,
   237,
   244,
   251,
   255,
   264,
   271,
   277,
   281,
   289,
   298,
   305,
   312,
   316,
   323,
   333,
   342,
   346,
   350,
   359,
   363,
   369,
   377,
   386,
   393,
   397,
   410,
   416,
   422,
   431
  ],
  "version": "1.0",
  "widgets": {
   "application/vnd.jupyter.widget-state+json": {
    "state": {
     "b80e6ef7b69541669725bcce3f83012e": {
      "model_module": "@jupyter-widgets/base",
      "model_module_version": "1.2.0",
      "model_name": "LayoutModel",
      "state": {
       "_model_module": "@jupyter-widgets/base",
       "_model_module_version": "1.2.0",
       "_model_name": "LayoutModel",
       "_view_count": null,
       "_view_module": "@jupyter-widgets/base",
       "_view_module_version": "1.2.0",
       "_view_name": "LayoutView",
       "align_content": null,
       "align_items": null,
       "align_self": null,
       "border": null,
       "bottom": null,
       "display": null,
       "flex": null,
       "flex_flow": null,
       "grid_area": null,
       "grid_auto_columns": null,
       "grid_auto_flow": null,
       "grid_auto_rows": null,
       "grid_column": null,
       "grid_gap": null,
       "grid_row": null,
       "grid_template_areas": null,
       "grid_template_columns": null,
       "grid_template_rows": null,
       "height": null,
       "justify_content": null,
       "justify_items": null,
       "left": null,
       "margin": null,
       "max_height": null,
       "max_width": null,
       "min_height": null,
       "min_width": null,
       "object_fit": null,
       "object_position": null,
       "order": null,
       "overflow": null,
       "overflow_x": null,
       "overflow_y": null,
       "padding": null,
       "right": null,
       "top": null,
       "visibility": null,
       "width": null
      }
     },
     "c38a821cccda491aaf3cd1ea903893c2": {
      "model_module": "@jupyter-widgets/controls",
      "model_module_version": "1.5.0",
      "model_name": "DescriptionStyleModel",
      "state": {
       "_model_module": "@jupyter-widgets/controls",
       "_model_module_version": "1.5.0",
       "_model_name": "DescriptionStyleModel",
       "_view_count": null,
       "_view_module": "@jupyter-widgets/base",
       "_view_module_version": "1.2.0",
       "_view_name": "StyleView",
       "description_width": ""
      }
     },
     "c7efd7b39dfd4a1fba83a5aea6eeaa08": {
      "model_module": "@jupyter-widgets/controls",
      "model_module_version": "1.5.0",
      "model_name": "HTMLModel",
      "state": {
       "_dom_classes": [],
       "_model_module": "@jupyter-widgets/controls",
       "_model_module_version": "1.5.0",
       "_model_name": "HTMLModel",
       "_view_count": null,
       "_view_module": "@jupyter-widgets/controls",
       "_view_module_version": "1.5.0",
       "_view_name": "HTMLView",
       "description": "",
       "description_tooltip": null,
       "layout": "IPY_MODEL_b80e6ef7b69541669725bcce3f83012e",
       "placeholder": "​",
       "style": "IPY_MODEL_c38a821cccda491aaf3cd1ea903893c2",
       "value": "<style>#ipythontutor1 </style><style>#ipythontutor2 { max-width:800px; max-height:300px; box-sizing:border-box; }</style><div id=ipythontutor2><iframe id=\"ipythontutor1\" class=\"pythontutor\" width=\"800.0\" height=\"300.0\" src=\"https://pythontutor.com/iframe-embed.html#code=L+%3D+%5B1%2C+2%2C+3%2C+4%2C+5%5D%0AL%5B2%3A4%5D+%3D+%5B10%2C+11%2C+12%5D%0AL%5B3%5D+%3D+%5B3%2C+4%5D%0A&mode=display&origin=opt-frontend.js&textReferences=false&py=3&curInstr=1&verticalStack=&heapPrimitives=false\"></div>"
      }
     }
    },
    "version_major": 2,
    "version_minor": 0
   }
  }
 },
 "nbformat": 4,
 "nbformat_minor": 5
}