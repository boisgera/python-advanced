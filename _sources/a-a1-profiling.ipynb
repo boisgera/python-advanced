{
 "cells": [
  {
   "cell_type": "markdown",
   "id": "eab2f306",
   "metadata": {},
   "source": [
    "# étude de performances"
   ]
  },
  {
   "cell_type": "markdown",
   "id": "d4d3d383",
   "metadata": {},
   "source": [
    "imaginons que vous venez d'écrire un code magnifique pour résoudre le Rubik's cube ou calculer la quadrature de la Tour Eiffel, ou peu importe\n",
    "\n",
    "bon, le code marche, il retourne bien les bonnes valeurs; sauf que c'est mou, le programme se traîne et n'en finit pas de mouliner, alors que vous avez le sentiment que ça devrait aller beaucoup plus vite que ça"
   ]
  },
  {
   "cell_type": "markdown",
   "id": "2afa9836",
   "metadata": {},
   "source": [
    "dans ces cas-là, le premier réflexe, c'est de commencer par une petite analyse introspective\n",
    "\n",
    "* **ça devrait être quoi en principe la complexité ?**  \n",
    "  ça vaut toujours la peine de s'arrêter 5 minutes pour ré-évaluer, sur le code présent et non pas sur la version d'il y a deux semaines, la complexité théorique du code  \n",
    "  en n'oubliant pas de prendre en compte les spécificités des types de données qu'on a choisies; rappelez-vous le cours, et regardez bien toutes les fois où vous balayez toute une liste (on vous bassine depuis le début du cours sur le fait que les recherches dans une liste sont en O(n)); assurez-vous de bien utiliser des ensembles si vous avez beaucoup de recherches à faire, ce genre de choses\n",
    "\n",
    "* **est-ce que cette complexité théorique est bien confirmée par l'expérience ?**  \n",
    "  par exemple si vous attendez à un algo quadratique, est-ce que de multiplier la taille des entrées par 3 ou par 10, ça provoque un allongement dans un rapport 9 ou 100 ?"
   ]
  },
  {
   "cell_type": "markdown",
   "id": "43b08939",
   "metadata": {},
   "source": [
    "c'est important de faire cette analyse, et de ne pas se jeter immédiatement dans le profiling\n",
    "\n",
    "mais clairement avec juste un cerveau ça n'est pas forcément trivial de tout prendre en compte, surtout lorsqu'on utilise des librairies tierces qui fonctionnent on ne sait pas toujours exactement comment"
   ]
  },
  {
   "cell_type": "markdown",
   "id": "a3a934f4",
   "metadata": {},
   "source": [
    "## c'est quoi le *profiling* ?"
   ]
  },
  {
   "cell_type": "markdown",
   "id": "6e254269",
   "metadata": {},
   "source": [
    "du coup, pour pouvoir faire une analyse basée sur des faits objectifs, il existe une technique, le *profiling* donc, qui repose sur une idée relativement simple.\n",
    "\n",
    "dans le cas de Python, le code est interprété; ça signifie que c'est l'interpréteur qui se charge de faire avancer le programme; et si on lui demande gentiment, on peut faire en sorte qu'il enregistre les événements du type *appel de fonction*, avec l'instant où ça se passe."
   ]
  },
  {
   "cell_type": "markdown",
   "id": "d98881e3",
   "metadata": {
    "tags": [
     "level_intermediate"
    ]
   },
   "source": [
    "pour information, on appelle cette méthode le *profiling* déterministe, car tous les événements sont pris en compte;\n",
    "avec les langages compilés comme C++, on est obligé d'utiliser une approche statistique, qui consiste à échantillonner à intervalle régulier l'état de la pile d'exécution; mais peu importe.."
   ]
  },
  {
   "cell_type": "markdown",
   "id": "2a333cf9",
   "metadata": {},
   "source": [
    "## en pratique : `cProfile`"
   ]
  },
  {
   "cell_type": "markdown",
   "id": "c0b60575",
   "metadata": {},
   "source": [
    "pour commencer on va utiliser un script simplissime qui est celui-ci  \n",
    "(souvenez-vous que les commandes avec un `!` sont à destination **du terminal** et pas de Python)"
   ]
  },
  {
   "cell_type": "code",
   "execution_count": 1,
   "id": "f7e51900",
   "metadata": {},
   "outputs": [
    {
     "name": "stdout",
     "output_type": "stream",
     "text": [
      "def fibo(n):\r\n",
      "    unused = 10\r\n",
      "    if n <= 1:\r\n",
      "        return 1\r\n",
      "    return fibo(n-1) + fibo(n-2)\r\n",
      "\r\n",
      "def main():\r\n",
      "    import sys\r\n",
      "    print(fibo(int(sys.argv[1])))\r\n",
      "\r\n",
      "main()"
     ]
    }
   ],
   "source": [
    "! cat fibo.py"
   ]
  },
  {
   "cell_type": "markdown",
   "id": "0cb445f5",
   "metadata": {},
   "source": [
    "### lancer en mode *profiling*"
   ]
  },
  {
   "cell_type": "markdown",
   "id": "da2bba2e",
   "metadata": {},
   "source": [
    "si vous devez ne retenir qu'une chose pour la mise en pratique, c'est que pour un programme qui se lance comme ceci"
   ]
  },
  {
   "cell_type": "code",
   "execution_count": 2,
   "id": "12279818",
   "metadata": {},
   "outputs": [
    {
     "name": "stdout",
     "output_type": "stream",
     "text": [
      "3524578\r\n"
     ]
    }
   ],
   "source": [
    "! python fibo.py 32"
   ]
  },
  {
   "cell_type": "markdown",
   "id": "bf59e6d2",
   "metadata": {},
   "source": [
    "alors vous pouvez le lancer en mode profiling en invoquant le module `cProfile` comme ceci"
   ]
  },
  {
   "cell_type": "code",
   "execution_count": 3,
   "id": "194c1f74",
   "metadata": {},
   "outputs": [
    {
     "name": "stdout",
     "output_type": "stream",
     "text": [
      "3524578\r\n",
      "         7049160 function calls (6 primitive calls) in 1.842 seconds\r\n",
      "\r\n",
      "   Ordered by: standard name\r\n",
      "\r\n",
      "   ncalls  tottime  percall  cumtime  percall filename:lineno(function)\r\n",
      "        1    0.000    0.000    1.842    1.842 fibo.py:1(<module>)\r\n",
      "7049155/1    1.842    0.000    1.842    1.842 fibo.py:1(fibo)\r\n",
      "        1    0.000    0.000    1.842    1.842 fibo.py:7(main)\r\n",
      "        1    0.000    0.000    1.842    1.842 {built-in method builtins.exec}\r\n",
      "        1    0.000    0.000    0.000    0.000 {built-in method builtins.print}\r\n",
      "        1    0.000    0.000    0.000    0.000 {method 'disable' of '_lsprof.Profiler' objects}\r\n",
      "\r\n",
      "\r\n"
     ]
    }
   ],
   "source": [
    "# il suffit d'ajouter le '-m cProfile' \n",
    "\n",
    "! python -m cProfile fibo.py 32"
   ]
  },
  {
   "cell_type": "markdown",
   "id": "88b782d0",
   "metadata": {},
   "source": [
    "### comment lire le résultat"
   ]
  },
  {
   "cell_type": "markdown",
   "id": "b82d9d69",
   "metadata": {},
   "source": [
    "en gros, on y trouve une ligne par fonction appelée dans le programme \n",
    "\n",
    "dans notre premier exemple trivialissime, nous n'avons défini que deux fonctions `fibo` et `main`; (il y a toujours un peu de bruit, des fonctions appelées par l'interpréteur, à ignorer) \n",
    "\n",
    "pour chaque fonction on va trouver\n",
    "\n",
    "* `ncalls` : le nombre de fois que la fonction a été appelée\n",
    "* `tottime` : le **temps CPU** pendant laquelle **la fonction a eu le CPU**\n",
    "* `cumtime` : le **temps CPU** pendant laquelle **la fonction ou une fonction appelée par elle**, a eu le CPU\n",
    "\n",
    "ainsi dans notre exemple, la fonction `main` a un `cumtime` quasi égal\n",
    "à celui de `fibo` (parce que pendant tout le temps on est dans `fibo`,\n",
    "on est aussi indirectement dans `main`) , mais un temps \"en propre\"\n",
    "quasi nul"
   ]
  },
  {
   "cell_type": "markdown",
   "id": "e671e4fa",
   "metadata": {
    "tags": [
     "level_intermediate"
    ]
   },
   "source": [
    "notez la subtilité, ici on **parle de temps CPU, pas de temps ressenti**\n",
    "\n",
    "c'est quoi la différence, me direz-vous ? \n",
    "\n",
    "imaginez une fonction qui attend un paquet en provenance du réseau\n",
    "\n",
    "le temps ressenti (en anglais on parle de *wallclock time*) c'est basé sur l'heure usuelle; on va mesurer le temps ressenti comme la différence entre l'heure à laquelle la fonction commence son travail et celle où elle le finit; si le paquet réseau met 1 s à arriver, le temps ressenti pour exécuter la fonction c'est 1s\n",
    "\n",
    "le temps CPU au contraire, c'est lié au nombre de cycles pendant lesquels la fonction a le CPU, et dans notre cas ça va être plutôt quelque chose d'un ordre de grandeur largement inférieur à la milliseconde"
   ]
  },
  {
   "cell_type": "markdown",
   "id": "92761fa2",
   "metadata": {},
   "source": [
    "### trier le résultat"
   ]
  },
  {
   "cell_type": "markdown",
   "id": "176901fb",
   "metadata": {},
   "source": [
    "pour trier selon une colonne, on ajoute encore l'option `-s`, (s comme\n",
    "*sort* évidemment)"
   ]
  },
  {
   "cell_type": "code",
   "execution_count": 4,
   "id": "71bfc831",
   "metadata": {},
   "outputs": [
    {
     "name": "stdout",
     "output_type": "stream",
     "text": [
      "3524578\r\n",
      "         7049160 function calls (6 primitive calls) in 1.784 seconds\r\n",
      "\r\n",
      "   Ordered by: call count\r\n",
      "\r\n",
      "   ncalls  tottime  percall  cumtime  percall filename:lineno(function)\r\n",
      "7049155/1    1.784    0.000    1.784    1.784 fibo.py:1(fibo)\r\n",
      "        1    0.000    0.000    1.784    1.784 {built-in method builtins.exec}\r\n",
      "        1    0.000    0.000    0.000    0.000 {built-in method builtins.print}\r\n",
      "        1    0.000    0.000    1.784    1.784 fibo.py:7(main)\r\n",
      "        1    0.000    0.000    1.784    1.784 fibo.py:1(<module>)\r\n",
      "        1    0.000    0.000    0.000    0.000 {method 'disable' of '_lsprof.Profiler' objects}\r\n",
      "\r\n",
      "\r\n"
     ]
    }
   ],
   "source": [
    "# pour trier selon le nombre d'appels - la colonne 'ncalls' \n",
    "\n",
    "! python -m cProfile -s ncalls fibo.py 32"
   ]
  },
  {
   "cell_type": "markdown",
   "id": "3b587f07",
   "metadata": {},
   "source": [
    "### comment s'en servir"
   ]
  },
  {
   "cell_type": "markdown",
   "id": "cc1c9d45",
   "metadata": {},
   "source": [
    "dans un cas réel, ce n'est pas `ncalls` qui nous intéresse le plus, et souvent la découverte la plus intéressante est faite en triant selon la colonne `tottime`, la fonction qui mange le plus de CPU"
   ]
  },
  {
   "cell_type": "markdown",
   "id": "a304596d",
   "metadata": {},
   "source": [
    "## **exercice**"
   ]
  },
  {
   "cell_type": "markdown",
   "id": "db9fb4d9",
   "metadata": {},
   "source": [
    "reprenez un de vos codes - par exemple le taquin, sujet qui se prête particulièremente bien ici\n",
    "\n",
    "* utilisez le profiler pour trouver la fonction qui consomme le plus de CPU\n",
    "* comparez ça par rapport au temps total d'exécution du programme\n",
    "* si le gagnant consomme plus de 20% du temps total, il y a matière à agir\n",
    "\n",
    "faites une ou deux itérations d'optimisation, tout en utilisant le profiler"
   ]
  },
  {
   "cell_type": "markdown",
   "id": "f4c2adfd",
   "metadata": {},
   "source": [
    "## *right tool for the job*"
   ]
  },
  {
   "cell_type": "markdown",
   "id": "dc6b2056",
   "metadata": {},
   "source": [
    "juste pour bien préciser le vocabulaire, on a vu pendant le cours plusieurs techniques qui sont bien distinctes, qu'il faut savoir utiliser à bon escient\n",
    "\n",
    "* le ***debugging*** c'est l'art de passer d'un premier jet à un code qui marche vraiment; dit autrement, il s'agit  de trouver où et/ou pourquoi un programme ne fait pas tout à fait exactement ce qu'on voudrait  \n",
    "  pour cette phase, on peut soit a) instrumenter manuellement le code en ajoutant des `print()`, ou b) faire tourner le programme sous un debugger - par exemple sous vs-code - qui au prix d'un peu de setup et d'apprentissage, est un outil bien plus puissant pour gérer les *breakpoint* à la souris, exécuter le programme pas à pas tout en inspectant la valeur des variables, etc...\n",
    "\n",
    "* le ***benchmarking***, qui consiste à mesurer très finement le temps d'exécution d'un fragment de code  \n",
    "  pour ça on a rencontré déjà le module `timeit`, avec comme compagnons les *magic* Jupyter en `%timeit` et `%%timeit`\n",
    "\n",
    "* le ***profiling***, qui consiste à observer le programme en cours d'exécution, pour créer des statistiques, et ultimement déterminer la partie de code la plus sollicitée, en vue d'optimiser le code  \n",
    "  pour ça on utilise les outils vus plus haut, comme `cProfile`\n",
    "\n",
    "* le ***test*** : on veut avoir une info de synthèse sur le bon comportement du code dans idéalement un grand nombre de situtations - *the more the better*\n",
    "\n",
    "  pour ça on utilise des outils comme `pytest`; l'objectif ici étant de donner **une synthèse** sur le plus grand nombre possible de tests, ces outils sont *mal adaptés* au debugging; dit autrement, lorsqu'un test échoue on est censé retourner à la case *debug*"
   ]
  },
  {
   "cell_type": "markdown",
   "id": "f50c05c9",
   "metadata": {
    "tags": []
   },
   "source": [
    "## *see also*"
   ]
  },
  {
   "cell_type": "markdown",
   "id": "4430697a",
   "metadata": {},
   "source": [
    "la documentation standard Python [sur le profiling](https://docs.python.org/3/library/profile.html)  \n",
    "il y a notamment toute une API pour utiliser le profiler"
   ]
  },
  {
   "cell_type": "markdown",
   "id": "426903dc",
   "metadata": {
    "tags": [
     "level_intermediate"
    ]
   },
   "source": [
    "cet article très intéressant vous parle des alternatives à `cProfile`\n",
    "\n",
    "https://pythonspeed.com/articles/beyond-cprofile/"
   ]
  }
 ],
 "metadata": {
  "jupytext": {
   "cell_metadata_filter": "all,-hidden,-heading_collapsed,-run_control,-trusted",
   "notebook_metadata_filter": "all,-language_info,-toc,-jupytext.text_representation.jupytext_version,-jupytext.text_representation.format_version",
   "text_representation": {
    "extension": ".md",
    "format_name": "myst"
   }
  },
  "kernelspec": {
   "display_name": "Python 3",
   "language": "python",
   "name": "python3"
  },
  "language_info": {
   "codemirror_mode": {
    "name": "ipython",
    "version": 3
   },
   "file_extension": ".py",
   "mimetype": "text/x-python",
   "name": "python",
   "nbconvert_exporter": "python",
   "pygments_lexer": "ipython3",
   "version": "3.9.6"
  },
  "nbhosting": {
   "title": "profiling et al"
  },
  "source_map": [
   14,
   18,
   24,
   35,
   41,
   45,
   51,
   56,
   60,
   65,
   67,
   71,
   75,
   77,
   81,
   85,
   89,
   106,
   118,
   122,
   127,
   131,
   135,
   139,
   143,
   153,
   157,
   174,
   178,
   183
  ]
 },
 "nbformat": 4,
 "nbformat_minor": 5
}