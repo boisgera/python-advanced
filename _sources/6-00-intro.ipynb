{
 "cells": [
  {
   "cell_type": "markdown",
   "id": "ff9c452e",
   "metadata": {},
   "source": [
    "# cours 6/9 : fonctions"
   ]
  },
  {
   "cell_type": "markdown",
   "id": "6487ac78",
   "metadata": {
    "tags": []
   },
   "source": [
    "## objectifs\n",
    "\n",
    "le programme pour aujourd'hui\n",
    "\n",
    "* corriger les exercices sur les classes\n",
    "  * le TP sur les classes `Student` et `Class`\n",
    "  * les exercices `Roman`, `Polynomial` et `Quaternion`\n",
    "\n",
    "* étudier les objets de type fonction\n",
    "  * le passage de paramètre\n",
    "  * les fonctions comme citoyen de niveau 1"
   ]
  },
  {
   "cell_type": "markdown",
   "id": "98fa955f",
   "metadata": {},
   "source": [
    "## support PDF\n",
    "\n",
    "une [présentation de type slides au format pdf](media/les-fonctions.pdf)"
   ]
  },
  {
   "cell_type": "markdown",
   "id": "a26b9750",
   "metadata": {},
   "source": [
    "## vidéos\n",
    "\n",
    "1. une vidéo sur le passage de paramètres\n",
    "\n",
    "<video width=\"800px\" controls src=\"media/les-arguments-des-fonctions.mp4\" type=\"video/mp4\"></video>"
   ]
  },
  {
   "cell_type": "markdown",
   "id": "71570b53",
   "metadata": {},
   "source": [
    "1. [Les arguments](https://youtu.be/8hLlyUbXZ3U)\n",
    "1. [Les clôtures](https://youtu.be/msoWN4wSplM)\n",
    "1. [La syntaxe lambda](https://youtu.be/Rsu9O1soTsA)\n",
    "1. [Les générateurs](https://youtu.be/DqYM_XMVtKw)\n",
    "\n",
    "<!-- bien sûr ça marche pas car la page est une vraie page web\n",
    "     mais même avec /embed ajouté non plus\n",
    "     on dirait bien que YT fait tout pour qu'on ne puisse pas faire comme ça\n",
    "\n",
    "<video width=\"800px\" controls src=\"https://youtu.be/8hLlyUbXZ3U\" type=\"video/mp4\"></video>\n",
    "\n",
    "<video width=\"800px\" controls src=\"https://youtu.be/msoWN4wSplM\" type=\"video/mp4\"></video>\n",
    "\n",
    "<video width=\"800px\" controls src=\"https://youtu.be/Rsu9O1soTsA\" type=\"video/mp4\"></video>\n",
    "\n",
    "<video width=\"800px\" controls src=\"https://youtu.be/DqYM_XMVtKw\" type=\"video/mp4\"></video>\n",
    "-->"
   ]
  },
  {
   "cell_type": "markdown",
   "id": "1bed4d7f",
   "metadata": {},
   "source": [
    "## les solutions\n",
    "\n",
    "comme toujours dans \n",
    "\n",
    "https://github.com/ue12/python-advanced-solutions"
   ]
  }
 ],
 "metadata": {
  "jupytext": {
   "cell_metadata_filter": "all,-hidden,-heading_collapsed",
   "formats": "md:myst",
   "notebook_metadata_filter": "all,-language_info,-toc,-jupytext.text_representation.jupytext_version,-jupytext.text_representation.format_version",
   "text_representation": {
    "extension": ".md",
    "format_name": "myst"
   }
  },
  "kernelspec": {
   "display_name": "Python 3",
   "language": "python",
   "name": "python3"
  },
  "language_info": {
   "codemirror_mode": {
    "name": "ipython",
    "version": 3
   },
   "file_extension": ".py",
   "mimetype": "text/x-python",
   "name": "python",
   "nbconvert_exporter": "python",
   "pygments_lexer": "ipython3",
   "version": "3.9.6"
  },
  "notebookname": "intro cours 6/9",
  "rise": {
   "autolaunch": true,
   "slideNumber": "c/t",
   "start_slideshow_at": "selected",
   "theme": "sky",
   "transition": "cube"
  },
  "source_map": [
   21,
   25,
   39,
   45,
   53,
   73
  ],
  "version": "1.0"
 },
 "nbformat": 4,
 "nbformat_minor": 5
}