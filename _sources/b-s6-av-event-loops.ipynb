{
 "cells": [
  {
   "cell_type": "markdown",
   "id": "17e9191f",
   "metadata": {},
   "source": [
    "<span style=\"float:left;\">Licence CC BY-NC-ND</span><span style=\"float:right;\">Thierry Parmentelat<img src=\"media/inria-25-alpha.png\" style=\"display:inline\"></span><br/>"
   ]
  },
  {
   "cell_type": "markdown",
   "id": "2c78de54",
   "metadata": {
    "slideshow": {
     "slide_type": "slide"
    }
   },
   "source": [
    "# boucle d'événements `asyncio`\n",
    "\n",
    "Maintenant qu'on a vu les extensions asynchrones du langage, nous allons pouvoir nous\n",
    "intéresser d'un peu plus près aux boucles d'événements.\n",
    "\n",
    "Jusqu'ici nous avons toujours utilisé nos boucles en utilisant `await` depuis le *toplevel* du notebook.\n",
    "\n",
    "Bon d'abord il faut redire que cette méthode **ne marche pas dans du \"vrai\" code Python**, puisqu'on a vu qu'on n'avait **pas le droit de faire `await` depuis du code synchrone**.\n",
    "\n",
    "Avec `await` on peut \"lancer\" **une** coroutine; du coup nous avons\n",
    "utilisé `gather` pour montrer des exemples avec des traitements concurrents.\n",
    "\n",
    "Mais bon, on ne peut pas toujours faire ça aussi simplement; il y a des cas bien entendu\n",
    "où il faut **ajouter des traitements à la volée**, et voyons comment ça se présente alors.\n",
    "\n",
    "Bref, on va voir maintenant comment faire pour faire de l'asynchrone dans un vrai code\n",
    "Python."
   ]
  },
  {
   "cell_type": "code",
   "execution_count": null,
   "id": "a2e3cfbb",
   "metadata": {
    "slideshow": {
     "slide_type": "fragment"
    }
   },
   "outputs": [],
   "source": [
    "import asyncio"
   ]
  },
  {
   "cell_type": "markdown",
   "id": "94aa9931",
   "metadata": {
    "slideshow": {
     "slide_type": "slide"
    }
   },
   "source": [
    "## utilitaire"
   ]
  },
  {
   "cell_type": "markdown",
   "id": "3cdd4368",
   "metadata": {},
   "source": [
    "Mais avant ça on va regarder un petit utilitaire que j'ai écrit juste pour ce cours, c'est extrêment simple on a deux fonctions, ce sont des **fonctions synchrones** (normales, pas des `async`), et voici ce qu'elles font:"
   ]
  },
  {
   "cell_type": "code",
   "execution_count": null,
   "id": "aa64004a",
   "metadata": {},
   "outputs": [],
   "source": [
    "from asynchelpers import start_timer, show_timer"
   ]
  },
  {
   "cell_type": "code",
   "execution_count": null,
   "id": "3b3e451a",
   "metadata": {},
   "outputs": [],
   "source": [
    "# start_timer() ça mémorise l'heure courante\n",
    "# et pour qu'on le voie bien ça écrit 'zéro'\n",
    "start_timer()"
   ]
  },
  {
   "cell_type": "code",
   "execution_count": null,
   "id": "fe5a0eef",
   "metadata": {
    "cell_style": "center"
   },
   "outputs": [],
   "source": [
    "# et ensuite j'appelle show_timer\n",
    "# ça s'utilise comme print en fait\n",
    "# sauf qu'en plus ça dit combien de temps \n",
    "# s'est écoulé depuis le start_time()\n",
    "\n",
    "show_timer('un message')"
   ]
  },
  {
   "cell_type": "markdown",
   "id": "436129fe",
   "metadata": {},
   "source": [
    "bref pour faire simple, on veut juste pouvoir utiliser `show_timer(...)` comme `print()`, mais que ça affiche en plus où on en est (le temps écoulé) dans le scénario"
   ]
  },
  {
   "cell_type": "markdown",
   "id": "f0fd8db7",
   "metadata": {},
   "source": [
    "## créer une boucle d'événements"
   ]
  },
  {
   "cell_type": "markdown",
   "id": "99424f14",
   "metadata": {},
   "source": [
    "### le notebook ne se prête pas bien à cette partie"
   ]
  },
  {
   "cell_type": "markdown",
   "id": "f0c526d8",
   "metadata": {},
   "source": [
    "il y a quelques contraintes supplémentaires par rapport à ce qu'on a vu jusqu'ici, notamment on ne peut **pas avoir plus d'une boucle d'événements active par thread**\n",
    "\n",
    "ça se comprend si on réalise que c'est la boucle d'événements qui contrôle tout se qui se passe dans le thread à un moment donné (il faudrait sinon une espèce de système de *nested loops*, mais c'est déjà assez compliqué comme ça)"
   ]
  },
  {
   "cell_type": "markdown",
   "id": "05a90460",
   "metadata": {},
   "source": [
    "**MAIS** il se trouve que dans le serveur Jupyter, il y a **déja une boucle d'événements**; ça aussi ça se comprend car par essence, les fonctionnalités de Jupyter sont très asynchrones si vous considérez qu'il faut\n",
    "* créer le kernel Python, et lire ses sorties (pour les afficher dans le `Out[]` correspondant)\n",
    "* et en même temps réagir aux actions de l'utilisateur, notamment réagir aux 'Shift Enter' que vous tapez dans les cellules de code...\n",
    "\n",
    "Donc naturellement, le code du serveur Jupyter est .. écrit en code asynchrone, et donc il y a déjà une boucle d'événements qui est présente\n",
    "\n",
    "cer qui induit certaines limitations sur ce qu'on peut faire dans le notebook quand on aborde cette partie du cours\n",
    "\n",
    "C'est pourquoi on va faire le plus gros directement avec l'interpréteur Python"
   ]
  },
  {
   "cell_type": "markdown",
   "id": "69605dd4",
   "metadata": {},
   "source": [
    "### `new_event_loop()` et `run_until_complete()`"
   ]
  },
  {
   "cell_type": "markdown",
   "id": "60437aa9",
   "metadata": {},
   "source": [
    "Pour créer une boucle d'événements on peut appeler `asyncio.new_event_loop()`\n",
    "\n",
    "Et ensuite lui envoyer la méthode `run_until_complete()` qui \n",
    "\n",
    "* prend en paramètre un *awaitable* - pour l'instant, on va dire un objet coroutine\n",
    "* et le fait tourner, et garde le contrôle jusqu'à que son exécution termine"
   ]
  },
  {
   "cell_type": "code",
   "execution_count": null,
   "id": "28970540",
   "metadata": {},
   "outputs": [],
   "source": [
    "!cat exo1-simple-loop.py"
   ]
  },
  {
   "cell_type": "code",
   "execution_count": null,
   "id": "91cfe1bd",
   "metadata": {},
   "outputs": [],
   "source": [
    "!python exo1-simple-loop.py"
   ]
  },
  {
   "cell_type": "markdown",
   "id": "11b8201f",
   "metadata": {},
   "source": [
    "OK, donc du coup cette formule magique \n",
    "\n",
    "```python\n",
    "loop = asyncio.new_event_loop()\n",
    "loop.run_until_complete(both())\n",
    "``` \n",
    "\n",
    "remplace le `await both()` qu'on aurait fait si on avait été sous Jupyter; c'est vrai quand même que c'est plus pratique de faire juste `await` ..."
   ]
  },
  {
   "cell_type": "markdown",
   "id": "3e73a1d7",
   "metadata": {},
   "source": [
    "**Remarque**\n",
    "\n",
    "Quand c'est aussi simple que ça, on peut aussi faire plus simplement\n",
    "```python\n",
    "asyncio.run(both())\n",
    "```\n",
    "\n",
    "qui est également plus simple que notre formule magique; et c'est ça qu'on trouve d'ailleurs dans la plupart des petits exemples; je vous encourage à l'utiliser quand c'est possible, mais disons qu'avec notre version on comprend miexu ce qui se passe vraiment derrière la scène."
   ]
  },
  {
   "cell_type": "markdown",
   "id": "bf3a507a",
   "metadata": {},
   "source": [
    "### injecter un peu d'asynchrone dans du code synchrone"
   ]
  },
  {
   "cell_type": "markdown",
   "id": "43225f5b",
   "metadata": {},
   "source": [
    "`run_until_complete()` c'est pratique pour des petits essais comme ça; c'est aussi utile lorsque vous avez une application qui est majoritairement synchrone, et que vous voulez juste injecter un tout petit peu de parallèlisme dedans.\n",
    "\n",
    "Mettons que votre appli, qui n'a pas un gramme d'asynchrone dedans, a besoin de downloaded 4 URLs de manière efficace, vous pouvez tout à fait insérer le code de la séquence précédente pour passer de ceci"
   ]
  },
  {
   "cell_type": "code",
   "execution_count": null,
   "id": "774bc0f6",
   "metadata": {},
   "outputs": [],
   "source": [
    "def mon_code_synchrone():\n",
    "    # le corps d'une fonction synchrone\n",
    "    # qui a besoin ICI de 4 URLS\n",
    "    remotes = []\n",
    "    for url in urls:\n",
    "        req = requests.get(url)\n",
    "        remotes.append(req.text)\n",
    "    # avant de continuer\n",
    "    pass"
   ]
  },
  {
   "cell_type": "markdown",
   "id": "4fa128aa",
   "metadata": {},
   "source": [
    "à ceci,"
   ]
  },
  {
   "cell_type": "code",
   "execution_count": null,
   "id": "a2adb695",
   "metadata": {},
   "outputs": [],
   "source": [
    "def mon_code_un_peu_asynchrone():\n",
    "    # la fonction reste synchrone\n",
    "    # mais elle sous-traite juste cette partie\n",
    "    # à une boucle d'événements\n",
    "    loop = asyncio.new_event_loop()\n",
    "    async def fetch(url):\n",
    "        async with aiohttp.ClientSession() as session:\n",
    "            async with session.get(url) as response:\n",
    "                return await response.read()\n",
    "    remotes = loop.run_until_complete(\n",
    "        asyncio.gather(*(fetch(url) for url in urls)))\n",
    "    # ici on repasse dans le mode purement synchrone\n",
    "    pass"
   ]
  },
  {
   "cell_type": "markdown",
   "id": "ef7926aa",
   "metadata": {},
   "source": [
    "qui va aller beaucoup plus vite, comme on l'a vu, mais sans changer fondamentalement la logique de l'application; remarquez que dans les deux versions la fonction qui nous intéresse est une fonction **synchrone** (normale quoi) définie sans `async`"
   ]
  },
  {
   "cell_type": "markdown",
   "id": "d29b4d51",
   "metadata": {
    "cell_style": "center",
    "slideshow": {
     "slide_type": "slide"
    }
   },
   "source": [
    "## ajout de traitements"
   ]
  },
  {
   "cell_type": "markdown",
   "id": "2d4c9848",
   "metadata": {},
   "source": [
    "Quand on commence à ajouter comme ça de l'asynchrone, assez vite on se retrouve à avoir**une seule boucle d'événements** dans laquelle on ajoute au fil de l'eau des trucs à faire - comme le serveur Jupyter par exemple."
   ]
  },
  {
   "cell_type": "markdown",
   "id": "20cbc93f",
   "metadata": {},
   "source": [
    "Pour ce genre d'usages-là, la librairie propose deux autres\n",
    "mécanismes de base qui sont\n",
    "\n",
    "* `ensure_future`, pour ajouter un\n",
    "  traitement dans la boucle, avant ou\n",
    "  après qu'elle a commencé\n",
    "\n",
    "* et aussi `run_forever`, qui fait tourner\n",
    "  une boucle d'événements indéfiniment;\n",
    "  cette méthode sur les boucles ne prend\n",
    "  aucun argument, ce qui suppose qu'on a\n",
    "  donc rempli la boucle au préalable\n",
    "  avec, justement, `ensure_future`"
   ]
  },
  {
   "cell_type": "markdown",
   "id": "92793b09",
   "metadata": {},
   "source": [
    "### `asyncio.ensure_future()`"
   ]
  },
  {
   "cell_type": "markdown",
   "id": "141bfe49",
   "metadata": {},
   "source": [
    "et pour illustrer `ensure_future`, le plus simple c'est cette fois .. dans le notebook Jupyter; on a vu qu'il y a déjà une boucle d'événements active :"
   ]
  },
  {
   "cell_type": "code",
   "execution_count": null,
   "id": "8cd73199",
   "metadata": {},
   "outputs": [],
   "source": [
    "# dans le notebook on a déjà une boucle d'événements !\n",
    "\n",
    "asyncio.get_event_loop()"
   ]
  },
  {
   "cell_type": "markdown",
   "id": "2da7026e",
   "metadata": {},
   "source": [
    "et comme j'ai cette boucle active, je peux y ajouter par exemple un objet coroutine"
   ]
  },
  {
   "cell_type": "code",
   "execution_count": null,
   "id": "f45f22ea",
   "metadata": {},
   "outputs": [],
   "source": [
    "async def loop1():\n",
    "    for _ in range(3):\n",
    "        show_timer('tick1')\n",
    "        await asyncio.sleep(0.1)\n",
    "\n",
    "async def loop2():\n",
    "    for _ in range(6):\n",
    "        show_timer('tick2')\n",
    "        await asyncio.sleep(0.05)\n",
    "\n",
    "async def both():\n",
    "    await asyncio.gather(loop1(), loop2())"
   ]
  },
  {
   "cell_type": "code",
   "execution_count": null,
   "id": "b07dc796",
   "metadata": {},
   "outputs": [],
   "source": [
    "asyncio.ensure_future(both())"
   ]
  },
  {
   "cell_type": "markdown",
   "id": "ec70a8cc",
   "metadata": {},
   "source": [
    "### loop.run_forever()"
   ]
  },
  {
   "cell_type": "markdown",
   "id": "18ae846b",
   "metadata": {},
   "source": [
    "cette méthode ne prend pas d'argument, elle va juste faire tourner la boucle jusqu'à la fin des temps (on verra après comment l'arrêter, si besoin)\n",
    "\n",
    "je vais l'utiliser pour implémenter un workflow comme celui de la figure; \n",
    "le point ici c'est qu'au départ on ne sait pas le nombre de tâches à faire en parallèle, et que donc il ous faut apprendre comment ajouter des *trucs à faire* au fil de l'eau."
   ]
  },
  {
   "cell_type": "markdown",
   "id": "177faf93",
   "metadata": {
    "slideshow": {}
   },
   "source": [
    "![figure fork](media/w8-s6-av-fig1.png)"
   ]
  },
  {
   "cell_type": "markdown",
   "id": "91cda966",
   "metadata": {},
   "source": [
    "remarquez le `In [*]` qui reste affiché tant que le programme n'est pas terminé"
   ]
  },
  {
   "cell_type": "code",
   "execution_count": null,
   "id": "00d9d264",
   "metadata": {
    "cell_style": "split",
    "slideshow": {
     "slide_type": "fragment"
    }
   },
   "outputs": [],
   "source": [
    "!cat exo2-fork.py"
   ]
  },
  {
   "cell_type": "code",
   "execution_count": null,
   "id": "3965f955",
   "metadata": {
    "cell_style": "split",
    "slideshow": {
     "slide_type": "fragment"
    }
   },
   "outputs": [],
   "source": [
    "# à ce stade on n'a rien prévu dans le code pour terminer la boucle, \n",
    "# attention à bien interrompre après quelques secondes\n",
    "# avec Kernel -> Interrupt  (raccourci clavier : 2 fois la touche 'i' )\n",
    "\n",
    "!python exo2-fork.py"
   ]
  },
  {
   "cell_type": "markdown",
   "id": "6430c560",
   "metadata": {},
   "source": [
    "### petite remarque sur la boucle courante"
   ]
  },
  {
   "cell_type": "markdown",
   "id": "5dc720ed",
   "metadata": {},
   "source": [
    "à la fin du code précédent, \n",
    "au lieu de \n",
    "\n",
    "```python\n",
    "loop = asyncio.new_event_loop()\n",
    "asyncio.ensure_future(c1(), loop=loop)\n",
    "```\n",
    "\n",
    "on aurait pu aussi bien écrire ceci\n",
    "\n",
    "```python\n",
    "asyncio.ensure_future(c1())\n",
    "asyncio.get_event_loop().run_forever()\n",
    "```\n",
    "\n",
    "c'est vrai que c'est un petit peu plus simple, mais ça utilise la notion de boucle courante (`get_event_loop()`) qui est à mon avis un peu plus dangereuse car elle dépend d'un état qu'on ne contrôle pas toujours; bref c'est une question de goût...\n",
    "\n",
    "sachez pour conclure dans cette rubrique qu'il existe aussi une fonction pour choisir la boucle courante\n",
    "```python\n",
    "asyncio.set_event_loop(loop)\n",
    "```\n",
    "\n",
    "si bien qu'on peut faire en quelque sorte un reset en faisant ceci\n",
    "\n",
    "```python\n",
    "asyncio.set_event_loop(asyncio.new_event_loop())\n",
    "```\n",
    "\n",
    "mais tout ça est plutôt de second ordre..."
   ]
  },
  {
   "cell_type": "markdown",
   "id": "aff14dc7",
   "metadata": {
    "slideshow": {
     "slide_type": "slide"
    }
   },
   "source": [
    "## `loop.stop()`"
   ]
  },
  {
   "cell_type": "markdown",
   "id": "c37b06e6",
   "metadata": {},
   "source": [
    "on peut arrêter une boucle avec une fonction (synchrone)\n",
    "voici une version quasiment identique de l'exo précédent mais qui s'arrête toute seule à la fin du scénario\n",
    "\n",
    "question subsidiaire: pourquoi est-ce que c'est une fonction synchrone ?"
   ]
  },
  {
   "cell_type": "code",
   "execution_count": null,
   "id": "f5505672",
   "metadata": {
    "cell_style": "split"
   },
   "outputs": [],
   "source": [
    "# essentiellement on a juste ajouté une ligne \n",
    "\n",
    "!diff exo2-fork.py exo3-fork-and-stop.py"
   ]
  },
  {
   "cell_type": "code",
   "execution_count": null,
   "id": "d8420300",
   "metadata": {
    "cell_style": "split"
   },
   "outputs": [],
   "source": [
    "# cette fois-ci ça s'arrête tout seul..\n",
    "\n",
    "!python exo3-fork-and-stop.py"
   ]
  },
  {
   "cell_type": "markdown",
   "id": "017ad37c",
   "metadata": {
    "slideshow": {
     "slide_type": "slide"
    }
   },
   "source": [
    "## `run_until_complete` sur une boucle non-vide"
   ]
  },
  {
   "cell_type": "markdown",
   "id": "0aff11f7",
   "metadata": {},
   "source": [
    "Ce qu'il faut bien comprendre c'est que la boucle d'événements peut très bien être suspendue avant la fin; dans ce cas lorsqu'on la relance ces 'arriérés' sont exécutés quand même"
   ]
  },
  {
   "cell_type": "markdown",
   "id": "7bf6cc9a",
   "metadata": {},
   "source": [
    "pour illustrer ça j'utilise une fonction `sequence` dans `asynchelpers` qui fonctionne comme ceci"
   ]
  },
  {
   "cell_type": "code",
   "execution_count": null,
   "id": "761e5abc",
   "metadata": {},
   "outputs": [],
   "source": [
    "from asynchelpers import sequence"
   ]
  },
  {
   "cell_type": "code",
   "execution_count": null,
   "id": "2b5b15b1",
   "metadata": {},
   "outputs": [],
   "source": [
    "# juste une fonction qui dure un certain temps et qui imprime avant et après.\n",
    "await sequence(\"hello\", delay=0.5)"
   ]
  },
  {
   "cell_type": "code",
   "execution_count": null,
   "id": "bc511ebc",
   "metadata": {
    "cell_style": "split"
   },
   "outputs": [],
   "source": [
    "!cat exo4-until-complete+forever.py"
   ]
  },
  {
   "cell_type": "code",
   "execution_count": null,
   "id": "9fbeed03",
   "metadata": {
    "cell_style": "split"
   },
   "outputs": [],
   "source": [
    "# à nouveau ici il faudra interrompre le kernel car le programme boucle sans fin\n",
    "\n",
    "!python exo4-until-complete+forever.py"
   ]
  },
  {
   "cell_type": "markdown",
   "id": "7aaa205a",
   "metadata": {
    "slideshow": {
     "slide_type": "slide"
    }
   },
   "source": [
    "## `run_until_complete` vs `run_forever`"
   ]
  },
  {
   "cell_type": "markdown",
   "id": "7816e307",
   "metadata": {
    "cell_style": "center",
    "slideshow": {
     "slide_type": "fragment"
    }
   },
   "source": [
    "* `run_until_complete`\n",
    "\n",
    "   * prend exactement un argument\n",
    "   * retourne la valeur\n",
    "   * insérer un fragment asynchrone au milieu d'un code synchrone"
   ]
  },
  {
   "cell_type": "markdown",
   "id": "a23e8e7c",
   "metadata": {
    "slideshow": {
     "slide_type": "fragment"
    }
   },
   "source": [
    "* `run_forever`\n",
    "  * ne prend pas d'argument\n",
    "  * ne retourne pas (sauf en cas de `stop()`)\n",
    "  * orienté traitement massivement asynchrone"
   ]
  },
  {
   "cell_type": "markdown",
   "id": "20f44d79",
   "metadata": {},
   "source": [
    "Si on se met à aller plus loin dans le parallèlisme, on va devoir convertir de plus en plus de fonctions de synchrone en asynchrone (c'est pour ça qu'on dit que le paradigme est contagieux)"
   ]
  },
  {
   "cell_type": "markdown",
   "id": "93d89030",
   "metadata": {},
   "source": [
    "## `Task`, résultats et exceptions"
   ]
  },
  {
   "cell_type": "markdown",
   "id": "e8720aa4",
   "metadata": {},
   "source": [
    "Pour compléter le tableau, il nous faut dire un mot sur les résultats\n",
    "\n",
    "Quand on met des *trucs à faire* dans la boucle, ce serait bien qu'on arrive à savoir (après coup, mais pas que) si ces bouts de calcul ont **retourné quelque chose**, ou si quelque chose **est allé de travers**; pour ça il y a le type `Task`"
   ]
  },
  {
   "cell_type": "markdown",
   "id": "a41db2b7",
   "metadata": {},
   "source": [
    "En fait la méthode `ensure_future()` retourne un objet de type `Task`"
   ]
  },
  {
   "cell_type": "code",
   "execution_count": null,
   "id": "f7c7e0fe",
   "metadata": {},
   "outputs": [],
   "source": [
    "task_ok = asyncio.ensure_future(sequence('dummy', delay = 3))"
   ]
  },
  {
   "cell_type": "code",
   "execution_count": null,
   "id": "2024308c",
   "metadata": {},
   "outputs": [],
   "source": [
    "type(task_ok)"
   ]
  },
  {
   "cell_type": "markdown",
   "id": "04478f70",
   "metadata": {},
   "source": [
    "### retouver les résultats des calculs"
   ]
  },
  {
   "cell_type": "markdown",
   "id": "c132fd15",
   "metadata": {},
   "source": [
    "il se trouve que - c'est exprès pour pour cet exemple-ci - la coroutine `sequence` retourne `10*delay`\n",
    "\n",
    "et l'objet `Task` est intéressant parce qu'il nous permet de **récupérer le résultat** de la coroutine:"
   ]
  },
  {
   "cell_type": "code",
   "execution_count": null,
   "id": "396ebd27",
   "metadata": {},
   "outputs": [],
   "source": [
    "# je peux retrouver après coup le résultat de la coroutine\n",
    "# que j'avais soumise avec ensure_future un peu plus haut\n",
    "\n",
    "# attention il faut bien sûr qu'elle soit terminée\n",
    "\n",
    "task_ok.result()"
   ]
  },
  {
   "cell_type": "markdown",
   "id": "a08c8703",
   "metadata": {},
   "source": [
    "### exceptions"
   ]
  },
  {
   "cell_type": "markdown",
   "id": "8cbc58e0",
   "metadata": {},
   "source": [
    "Et alors que se passe-t-il avec les exceptions ?\n",
    "\n",
    "Lorsqu'une exception est levée dans le code asynchrone, tout se passe comme d'habitude, on **recherche dans la pile** (parce que chacune des coroutines a sa propre pile) mais **on se limite au code asynchrone** bien entendu.\n",
    "\n",
    "Il faut distinguer deux cas de figure:\n",
    "\n",
    "* soit l'exception est attrapée dans le code asynchrone, dans ce cas-la pas de lézard, la coroutine continue à cet `except` et pour la boucle d'événements, c'est comme s'il ne s'était rien passé\n",
    "\n",
    "* soit au contraire l'exception remonte jusqu'au fond de la pile (asynchrone); là c'est plus compliqué. Pour ne pas avoir à interrompre **tout le système**, ce que fait la boucle dans ce cas-là, c'est de ranger l'exception dans l'objet `Task`, et de considérer que cette tâche là est terminée. \n",
    "\n",
    "Dans ce dernier cas, on peut retrouver l'information dans l'objet `Task` avec la méthode `exception()`; voyons tout de suite un exemple"
   ]
  },
  {
   "cell_type": "code",
   "execution_count": null,
   "id": "323db77f",
   "metadata": {},
   "outputs": [],
   "source": [
    "async def boom(n):\n",
    "    print(f\"running boom({n})\")\n",
    "    if n == 1:\n",
    "        raise Exception(\"boom\")\n",
    "    else:\n",
    "        await boom(n-1)"
   ]
  },
  {
   "cell_type": "code",
   "execution_count": null,
   "id": "4bdf5916",
   "metadata": {},
   "outputs": [],
   "source": [
    "# on la fait tourner\n",
    "\n",
    "task_ko = asyncio.ensure_future(boom(4))"
   ]
  },
  {
   "cell_type": "markdown",
   "id": "9cbaa538",
   "metadata": {},
   "source": [
    "Entre parenthèse, remarquez que c'est heureux que l'exception n'ait pas été propagée au delà de la boucle d'événements; parce qu'en l'occurrence ici, c'est .. la boucle du serveur Jupyter; et donc si elle s'était arrêtée, je n'aurais plus de notebook..."
   ]
  },
  {
   "cell_type": "markdown",
   "id": "4722acf9",
   "metadata": {},
   "source": [
    "Mais quand même, ça **pose un gros problème** ! ça veut dire en gros qu'une exception peut se déclencher et ensuite **passer complètement inaperçue !!**"
   ]
  },
  {
   "cell_type": "markdown",
   "id": "d9027923",
   "metadata": {},
   "source": [
    "Et pour éviter ça, ce qui se passe c'est que\n",
    "* donc comme on l'a dit plus haut on **peut** accéder à l'exception des tâches\n",
    "* et en plus Python va **s'assurer que toutes les exceptions ont bien été lues**  \n",
    "  dit autrement on **doit** lire l'exception de toutes les tâches qui sont lancées et qui ont planté à cause d'une exception"
   ]
  },
  {
   "cell_type": "code",
   "execution_count": null,
   "id": "226875d5",
   "metadata": {},
   "outputs": [],
   "source": [
    "# ici en lisant l'exception je signifie que j'ai vu qu'il y avait un souci\n",
    "\n",
    "task_ko.exception()"
   ]
  },
  {
   "cell_type": "markdown",
   "id": "b54ff7cd",
   "metadata": {},
   "source": [
    "C'est important de bien comprendre ce point; dès que vous allez commencer à écrire du vrai code asynchrone, vous allez constater assez souvent que\n",
    "\n",
    "* certains trucs ne se passent pas comme prévu\n",
    "* et **bien longtemps après** vous allez recevoir des tas de message parlant d'exception non traitées\n",
    "\n",
    "Il faut penser à faire le lien entre les deux; c'est parce que c'est compliqué pour la boucle de savoir à quel moment elle doit se plaindre que l'exception d'une tâche n'a pas été lue, elle a des heuristiques mais bon rien n'est parfait dans ce domaine.\n",
    "\n",
    "\n",
    "Et c'est le moment justement de parler des bonnes pratiques pour le debug, qui sont détaillées ici\n",
    "\n",
    "https://docs.python.org/3/library/asyncio-dev.html\n",
    "\n",
    "où vous trouverez entre autres la recette à savoir absolument pour activer le debugging, qui est de définir la variable d'environnement `PYTHONASYNCIODEBUG` - et pour ça lancez dans le terminal (bash)\n",
    "\n",
    "```bash\n",
    "PYTHONASYNCIODEBUG=1 python votre-script.py\n",
    "```"
   ]
  },
  {
   "cell_type": "markdown",
   "id": "75fff7ef",
   "metadata": {
    "slideshow": {
     "slide_type": "slide"
    }
   },
   "source": [
    "## résumé"
   ]
  },
  {
   "cell_type": "markdown",
   "id": "3107403f",
   "metadata": {
    "slideshow": {
     "slide_type": "fragment"
    }
   },
   "source": [
    "* `ensure_future()` pour ajouter des *trucs à faire* (des tâches)\n",
    "* `run_until_complete()` et `run_forever()`\n",
    "* `loop.stop()`\n",
    "* le type `Task` pour inspecter une tâche *(en train de tourner ? résultat ? exception ?)\n",
    "* être attentif aux exceptions qui ont tendance à être signifiées bien après qu'elles se produisent"
   ]
  }
 ],
 "metadata": {
  "jupytext": {
   "cell_metadata_filter": "all,-hidden,-heading_collapsed,-run_control,-trusted",
   "notebook_metadata_filter": "all,-language_info,-toc,-jupytext.text_representation.jupytext_version,-jupytext.text_representation.format_version",
   "text_representation": {
    "extension": ".md",
    "format_name": "myst"
   }
  },
  "kernelspec": {
   "display_name": "Python 3",
   "language": "python",
   "name": "python3"
  },
  "nbhosting": {
   "title": "boucle d'événements"
  },
  "source_map": [
   14,
   18,
   38,
   46,
   50,
   54,
   58,
   64,
   73,
   77,
   81,
   85,
   91,
   103,
   107,
   116,
   120,
   122,
   133,
   144,
   148,
   154,
   164,
   168,
   182,
   186,
   190,
   194,
   210,
   214,
   218,
   222,
   226,
   241,
   243,
   247,
   254,
   258,
   262,
   271,
   282,
   286,
   318,
   322,
   329,
   337,
   345,
   349,
   353,
   357,
   361,
   366,
   372,
   380,
   384,
   392,
   399,
   403,
   407,
   413,
   417,
   421,
   423,
   427,
   433,
   440,
   444,
   458,
   467,
   471,
   475,
   479,
   486,
   490,
   510,
   514
  ]
 },
 "nbformat": 4,
 "nbformat_minor": 5
}