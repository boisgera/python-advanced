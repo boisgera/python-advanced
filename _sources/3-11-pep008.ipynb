{
 "cells": [
  {
   "cell_type": "markdown",
   "id": "77a26224",
   "metadata": {},
   "source": [
    "<div class=\"licence\">\n",
    "<span>Licence CC BY-NC-ND</span>\n",
    "<span>Thierry Parmentelat</span>\n",
    "<span><img src=\"media/inria-25-alpha.png\" /></span>\n",
    "</div>"
   ]
  },
  {
   "cell_type": "markdown",
   "id": "67b82c98",
   "metadata": {},
   "source": [
    "# présentation du code"
   ]
  },
  {
   "cell_type": "markdown",
   "id": "bd7f25d5",
   "metadata": {
    "slideshow": {
     "slide_type": "slide"
    }
   },
   "source": [
    "## style de présentation du code\n",
    "\n",
    "* tout le code de la librairie standard obéit à des règles de présentation\n",
    "* elles ne sont pas imposées par le langage, **MAIS**\n",
    "* elles sont très largement appliquées\n",
    "* autant prendre de bonnes habitudes\n",
    "* survol rapide ici des traits les plus marquants"
   ]
  },
  {
   "cell_type": "markdown",
   "id": "34d68f31",
   "metadata": {
    "slideshow": {
     "slide_type": "slide"
    }
   },
   "source": [
    "## PEP-008"
   ]
  },
  {
   "cell_type": "markdown",
   "id": "f1de82ba",
   "metadata": {},
   "source": [
    "ces règles de présentation sont explicitées dans [la note dite *PEP-008*](https://www.python.org/dev/peps/pep-0008/)"
   ]
  },
  {
   "cell_type": "markdown",
   "id": "c74b5d0a",
   "metadata": {
    "cell_style": "split"
   },
   "source": [
    "OUI:\n",
    "\n",
    "* `fonction(a, b, c)`\n",
    "* `GLOBALE = 1000`\n",
    "* lignes de longueur <= 80 caractères"
   ]
  },
  {
   "cell_type": "markdown",
   "id": "9fd0dbc3",
   "metadata": {
    "cell_style": "split"
   },
   "source": [
    "NON:\n",
    "\n",
    "* ~~`fonction (a,b,c)`~~\n",
    "* ~~`globale=1000`~~\n",
    "* lignes très longues"
   ]
  },
  {
   "cell_type": "markdown",
   "id": "7c49fb3f",
   "metadata": {},
   "source": [
    "on va voir tout ça un peu plus en détail"
   ]
  },
  {
   "cell_type": "markdown",
   "id": "ed0ed702",
   "metadata": {
    "slideshow": {
     "slide_type": "slide"
    }
   },
   "source": [
    "## les espaces"
   ]
  },
  {
   "cell_type": "markdown",
   "id": "076ee3d0",
   "metadata": {},
   "source": [
    "|  OUI  |  NON  |\n",
    "|------------------|---------------|\n",
    "| `a = 10` | ~~`a=10`~~ |\n",
    "| `L = [1, 2, 3, 4]` | ~~`L = [1,2,3,4]`~~ |\n",
    "| `D = ['k1': 'v1', 'k2': 'v2'}` | ~~`D = ['k1':'v1', 'k2' : 'v2'}`~~ |"
   ]
  },
  {
   "cell_type": "markdown",
   "id": "07119648",
   "metadata": {},
   "source": [
    "|  OUI  |  NON  |\n",
    "|------------------|---------------|\n",
    "| `def foo(a, b, c):` | ~~`def foo (a, b, c):`~~ | \n",
    "|                     | ~~`def foo(a,b,c):`~~ | \n",
    "| `res = foo(a, b, c)` | ~~`res = foo (a, b, c)`~~ |"
   ]
  },
  {
   "cell_type": "markdown",
   "id": "fc7f1290",
   "metadata": {},
   "source": [
    "### les espaces..."
   ]
  },
  {
   "cell_type": "markdown",
   "id": "8d28ff65",
   "metadata": {},
   "source": [
    "| **OUI** | **NON** |\n",
    "|---------|---------|\n",
    "| d = {1: 'un', 2: 'deux'} | ~~`d = {1:'un',2:'deux'}`~~ |\n",
    "                           | ~~`d = { 1 : 'un', 2 : 'deux' }`~~ |\n",
    "| s = {'a', 'b', 'c', 'd'} | ~~`s = {'a','b','c','d'}`~~ |\n",
    "                           | ~~`s = { 'a' , 'b' , 'c' , 'd' }`~~ |"
   ]
  },
  {
   "cell_type": "markdown",
   "id": "af37a445",
   "metadata": {
    "slideshow": {
     "slide_type": "slide"
    }
   },
   "source": [
    "## les noms de variables"
   ]
  },
  {
   "cell_type": "markdown",
   "id": "af63bb34",
   "metadata": {
    "cell_style": "split"
   },
   "source": [
    "| type d'objet | catégorie |\n",
    "|------------------|---------------|\n",
    "| variable usuelle | 1 | \n",
    "| fonction | 1 |\n",
    "| module | 1 | \n",
    "| classe | 2 |"
   ]
  },
  {
   "cell_type": "markdown",
   "id": "c0e92d82",
   "metadata": {
    "cell_style": "split"
   },
   "source": [
    "| catégorie |  OUI  |  NON  |\n",
    "|------|------------------|---------------|\n",
    "| 1    | `minuscule` | ~~`MAJUSCULE`~~ |\n",
    "| 1    | `deux_mots` | ~~`DeuxMots`~~  |\n",
    "| 2    | `Mixte`     | ~~`minuscule`~~ (sauf types prédéfinis) |\n",
    "| 2    | `DeuxMots`  | ~~`MAJUSCULE`~~ |"
   ]
  },
  {
   "cell_type": "markdown",
   "id": "bcc988f5",
   "metadata": {
    "slideshow": {
     "slide_type": "slide"
    }
   },
   "source": [
    "## le docstring\n",
    "\n",
    "lorsqu'on écrit une fonction (ou une classe, ou un module) on la documente comme ceci"
   ]
  },
  {
   "cell_type": "code",
   "execution_count": 1,
   "id": "f9789aa6",
   "metadata": {
    "cell_style": "split",
    "slideshow": {
     "slide_type": ""
    }
   },
   "outputs": [],
   "source": [
    "def gcd(a, b):\n",
    "    \"\"\"\n",
    "    returns the greatest common divisor\n",
    "    of both inputs\n",
    "    \"\"\"\n",
    "    while b:\n",
    "        a, b = b, a % b\n",
    "    return a"
   ]
  },
  {
   "cell_type": "code",
   "execution_count": 2,
   "id": "7c9d8523",
   "metadata": {
    "cell_style": "split"
   },
   "outputs": [
    {
     "name": "stdout",
     "output_type": "stream",
     "text": [
      "Help on function gcd in module __main__:\n",
      "\n",
      "gcd(a, b)\n",
      "    returns the greatest common divisor\n",
      "    of both inputs\n",
      "\n"
     ]
    }
   ],
   "source": [
    "help(gcd)"
   ]
  },
  {
   "cell_type": "markdown",
   "id": "afcda84a",
   "metadata": {
    "slideshow": {
     "slide_type": "slide"
    }
   },
   "source": [
    "* le docstring est une simple chaine  \n",
    "  qui apparaît en premier\n",
    "* permet de ranger de la documentation \n",
    "  directement dans l'objet fonction\n",
    "* pas indispensable pour les fonctions internes  \n",
    "  mais nécessaire pour celles qui sont exposées aux utilisateurs"
   ]
  },
  {
   "cell_type": "markdown",
   "id": "d09cbdb0",
   "metadata": {
    "slideshow": {
     "slide_type": "slide"
    }
   },
   "source": [
    "## type hints\n",
    "\n",
    "de manière optionnelle, on peut indiquer les types des arguments et le type de retour"
   ]
  },
  {
   "cell_type": "code",
   "execution_count": 3,
   "id": "214bba8f",
   "metadata": {
    "cell_style": "split",
    "slideshow": {
     "slide_type": ""
    }
   },
   "outputs": [],
   "source": [
    "def gcd2(a: int, b: int) -> int:\n",
    "    \"\"\"\n",
    "    returns the greatest common divisor\n",
    "    of both inputs\n",
    "    \"\"\"\n",
    "    while b:\n",
    "        a, b = b, a % b\n",
    "    return a"
   ]
  },
  {
   "cell_type": "code",
   "execution_count": 4,
   "id": "94d78703",
   "metadata": {
    "cell_style": "split"
   },
   "outputs": [
    {
     "name": "stdout",
     "output_type": "stream",
     "text": [
      "Help on function gcd2 in module __main__:\n",
      "\n",
      "gcd2(a: int, b: int) -> int\n",
      "    returns the greatest common divisor\n",
      "    of both inputs\n",
      "\n"
     ]
    }
   ],
   "source": [
    "help(gcd2)"
   ]
  },
  {
   "cell_type": "markdown",
   "id": "596f6724",
   "metadata": {
    "slideshow": {
     "slide_type": "slide"
    }
   },
   "source": [
    "* annotations de type (*type hints*) totalement optionnelles et ignorées par l'interpréteur\n",
    "* mais utiles pour une meilleure documentation\n",
    "* et aussi pour détecter des erreurs de type par **analyse statique** i.e. avant l'exécution, avec des outils dédiés [comme par exemple `mypy`](http://mypy-lang.org/)"
   ]
  },
  {
   "cell_type": "markdown",
   "id": "54ffc9d3",
   "metadata": {
    "slideshow": {
     "slide_type": "slide"
    }
   },
   "source": [
    "## largeur de la page\n",
    "\n",
    "* dans sa version orthodoxe, la largeur de la page est limitée à 80 caractères\n",
    "  en pratique aujourd'hui on peut être un peu plus souple,   \n",
    "  mais **jamais > 100 caractères de large**\n",
    "* l'idée est de pouvoir juxtaposer plusieurs codes (3 voire 4 )  \n",
    "  dans la largeur d'un écran moderne\n",
    "* on a parfois besoin de recourir à des astuces pour y arriver"
   ]
  },
  {
   "cell_type": "markdown",
   "id": "b1ae280d",
   "metadata": {
    "slideshow": {
     "slide_type": "slide"
    }
   },
   "source": [
    "### longueur des lignes"
   ]
  },
  {
   "cell_type": "markdown",
   "id": "9e266b3f",
   "metadata": {},
   "source": [
    "plusieurs astuces pour respecter une largeur fixe :"
   ]
  },
  {
   "cell_type": "code",
   "execution_count": 5,
   "id": "bad88dff",
   "metadata": {},
   "outputs": [],
   "source": [
    "# 1. utiliser les parenthèses\n",
    "\n",
    "def foo():\n",
    "    if expression(args):\n",
    "        return (le_resultat() and de_l_expression() \n",
    "                and est_susceptible() and de_prendre()\n",
    "                and beaucoup_de_place())"
   ]
  },
  {
   "cell_type": "markdown",
   "id": "6e347259",
   "metadata": {
    "slideshow": {
     "slide_type": "slide"
    }
   },
   "source": [
    "### longueur des lignes et parenthèses"
   ]
  },
  {
   "cell_type": "code",
   "execution_count": 6,
   "id": "d90d3e49",
   "metadata": {},
   "outputs": [],
   "source": [
    "# 2. ça marche aussi avec les {} et [] \n",
    "\n",
    "GLOBAL_MAP = [\n",
    "    {'shortcut': 'ctrl-w', 'function': 'RISE:render-all-cells'},\n",
    "    {'shortcut': 'ctrl-q', 'function': 'RISE:edit-all-cells'},\n",
    "]"
   ]
  },
  {
   "cell_type": "markdown",
   "id": "2a04e3b0",
   "metadata": {
    "slideshow": {
     "slide_type": "slide"
    }
   },
   "source": [
    "### longueur des lignes et chaines littérales"
   ]
  },
  {
   "cell_type": "code",
   "execution_count": 7,
   "id": "72a91e00",
   "metadata": {},
   "outputs": [],
   "source": [
    "# 3. lorsqu'on a besoin de retourner des chaines de caractères très longues\n",
    "# on peut utiliser un conjonction de\n",
    "# * parenthèses\n",
    "# * concaténation des chaines dans le source\n",
    "\n",
    "def longue_chaine(nom, prenom):\n",
    "    return (\n",
    "        f\"<table><thead><tr><th>Nom</th><th>Prénom</th></tr></thead>\"\n",
    "        f\"<tbody><tr><td>{nom}</td><td>{prenom}</td></tr></tbody>\"\n",
    "        f\"</table>\"\n",
    "    )"
   ]
  },
  {
   "cell_type": "code",
   "execution_count": 8,
   "id": "5b0aeb42",
   "metadata": {
    "cell_style": "center"
   },
   "outputs": [
    {
     "data": {
      "text/html": [
       "<table><thead><tr><th>Nom</th><th>Prénom</th></tr></thead><tbody><tr><td>Jean</td><td>Dupont</td></tr></tbody></table>"
      ],
      "text/plain": [
       "<IPython.core.display.HTML object>"
      ]
     },
     "execution_count": 8,
     "metadata": {},
     "output_type": "execute_result"
    }
   ],
   "source": [
    "# astuce\n",
    "# là on a produit du HTML, pour le voir rendu \n",
    "# dans le notebook\n",
    "\n",
    "from IPython.display import HTML\n",
    "HTML(longue_chaine(\"Jean\", \"Dupont\"))"
   ]
  },
  {
   "cell_type": "markdown",
   "id": "73bf61c4",
   "metadata": {
    "slideshow": {
     "slide_type": "slide"
    }
   },
   "source": [
    "### longueur des lignes : éviter le `\\`"
   ]
  },
  {
   "cell_type": "markdown",
   "id": "6ae1fc81",
   "metadata": {},
   "source": [
    "enfin il peut être utile de savoir qu'on peut 'échapper' les fins de ligne"
   ]
  },
  {
   "cell_type": "code",
   "execution_count": 9,
   "id": "d87e5eb6",
   "metadata": {},
   "outputs": [],
   "source": [
    "# on **pourrait** écrire ça (sachez le lire) \n",
    "# mais je vous recommande de **ne pas faire comme ça**\n",
    "# essayez par exemple d'ajouter un espace juste après un \\ \n",
    "# ça ne se voit pas et pourtant ça fait tout planter\n",
    "\n",
    "def foo():\n",
    "    if expression(args):\n",
    "        return le_resultat() and de_l_expression() \\\n",
    "                and est_susceptible() and de_prendre() \\\n",
    "                and beaucoup_de_place()"
   ]
  },
  {
   "cell_type": "markdown",
   "id": "a2820f42",
   "metadata": {},
   "source": [
    "**les parenthèses, c'est mieux**  \n",
    "dans l'exemple 1. on a le même code, mais avec les parenthèses on n'a pas cette fragilité"
   ]
  },
  {
   "cell_type": "markdown",
   "id": "36960c41",
   "metadata": {
    "slideshow": {
     "slide_type": "slide"
    }
   },
   "source": [
    "## fait partie des attendus\n",
    "\n",
    "* ne pas parler le PEP008, c'est un peu  \n",
    "  comme faire plein de fautes d'orthographe\n",
    "* ça n'empêche pas d'avoir de bonnes idées  \n",
    "  mais ça donne mauvaise impression\n",
    "* faites-y attention à partir de maintenant \n",
    "* fait partie des critères pour l'évaluation"
   ]
  },
  {
   "cell_type": "markdown",
   "id": "21b0907e",
   "metadata": {
    "slideshow": {
     "slide_type": "slide"
    }
   },
   "source": [
    "## de nombreux outils"
   ]
  },
  {
   "cell_type": "markdown",
   "id": "179caf26",
   "metadata": {
    "cell_style": "center"
   },
   "source": [
    "* très grand nombre d'outils de vérification de code Python\n",
    "* du plus simple qui vérifie seulement *PEP008* - par exemple `flake8`\n",
    "* au plus compliqué - genre `pylint` - qui peut trouver \n",
    "  * les erreurs de frappe dans les noms de variable\n",
    "  * les imports inutiles"
   ]
  },
  {
   "cell_type": "markdown",
   "id": "88270177",
   "metadata": {
    "slideshow": {
     "slide_type": "slide"
    }
   },
   "source": [
    "### command line"
   ]
  },
  {
   "cell_type": "markdown",
   "id": "f3ba5475",
   "metadata": {},
   "source": [
    "regardez du coté de \n",
    "\n",
    "* `autopep8` (sait *réparer* avec l'option `-i`)\n",
    "* `black` (sait réparer)\n",
    "\n",
    "* `flake8` (affiche les erreurs)\n",
    "* `pylint` (affiche les erreurs pep8 \n",
    " et bien d'autres d'ailleurs)"
   ]
  },
  {
   "cell_type": "markdown",
   "id": "caf6d826",
   "metadata": {
    "cell_style": "split",
    "slideshow": {
     "slide_type": "slide"
    }
   },
   "source": [
    "### vs-code"
   ]
  },
  {
   "cell_type": "markdown",
   "id": "0e15895e",
   "metadata": {
    "cell_style": "split",
    "slideshow": {
     "slide_type": ""
    }
   },
   "source": [
    "![](media/vscode-problems.png)"
   ]
  },
  {
   "cell_type": "markdown",
   "id": "c8243d1d",
   "metadata": {
    "cell_style": "split"
   },
   "source": [
    "← <span style=\"font-size:small;\">par exemple avec flake8</span>"
   ]
  },
  {
   "cell_type": "markdown",
   "id": "7bbab77b",
   "metadata": {
    "cell_style": "split"
   },
   "source": [
    "et pour naviguer entre les erreurs\n",
    "\n",
    "![](media/vscode-next-problem.png)"
   ]
  }
 ],
 "metadata": {
  "celltoolbar": "Slideshow",
  "jupytext": {
   "cell_metadata_filter": "all,-hidden,-heading_collapsed",
   "formats": "md:myst",
   "notebook_metadata_filter": "all,-language_info,-toc,-jupytext.text_representation.jupytext_version,-jupytext.text_representation.format_version",
   "text_representation": {
    "extension": ".md",
    "format_name": "myst"
   }
  },
  "kernelspec": {
   "display_name": "Python 3",
   "language": "python",
   "name": "python3"
  },
  "language_info": {
   "codemirror_mode": {
    "name": "ipython",
    "version": 3
   },
   "file_extension": ".py",
   "mimetype": "text/x-python",
   "name": "python",
   "nbconvert_exporter": "python",
   "pygments_lexer": "ipython3",
   "version": "3.9.6"
  },
  "notebookname": "présentation du code",
  "rise": {
   "autolaunch": true,
   "slideNumber": "c/t",
   "start_slideshow_at": "selected",
   "theme": "sky",
   "transition": "cube"
  },
  "source_map": [
   22,
   30,
   34,
   44,
   48,
   52,
   60,
   68,
   72,
   76,
   84,
   92,
   96,
   105,
   109,
   118,
   127,
   133,
   149,
   155,
   164,
   170,
   186,
   192,
   198,
   209,
   213,
   217,
   227,
   231,
   240,
   244,
   258,
   269,
   273,
   277,
   288,
   293,
   304,
   308,
   316,
   320,
   331,
   335,
   339,
   343
  ],
  "version": "1.0"
 },
 "nbformat": 4,
 "nbformat_minor": 5
}