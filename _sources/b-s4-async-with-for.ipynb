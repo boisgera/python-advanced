{
 "cells": [
  {
   "cell_type": "markdown",
   "id": "70554057",
   "metadata": {},
   "source": [
    "<span style=\"float:left;\">Licence CC BY-NC-ND</span><span style=\"float:right;\">Thierry Parmentelat<img src=\"media/inria-25-alpha.png\" style=\"display:inline\"></span><br/>"
   ]
  },
  {
   "cell_type": "markdown",
   "id": "96c7c645",
   "metadata": {
    "slideshow": {
     "slide_type": "slide"
    }
   },
   "source": [
    "# extensions asynchrones du langage\n",
    "\n",
    "Vous avez maintenant compris dans les grandes lignes à quoi sert asyncio; on a vu aussi\n",
    "très sommairement les notions de coroutines et de boucle d'événement, maintenant dans\n",
    "cette séquence nous allons voir des exemples, toujours assez simples mais plus réalistes,\n",
    "de codes asyncio."
   ]
  },
  {
   "cell_type": "markdown",
   "id": "79054f40",
   "metadata": {
    "slideshow": {
     "slide_type": "slide"
    }
   },
   "source": [
    "## accès http avec `async with`\n",
    "\n",
    "Pour commencer nous allons voir comment faire par exemple des accès concurrents à\n",
    "plusieurs pages web. Imaginons qu'on a plusieurs pages web à aller chercher"
   ]
  },
  {
   "cell_type": "code",
   "execution_count": null,
   "id": "48c38bc0",
   "metadata": {},
   "outputs": [],
   "source": [
    "import time\n",
    "\n",
    "urls = [\"http://www.irs.gov/pub/irs-pdf/f1040.pdf\",\n",
    "        \"http://www.irs.gov/pub/irs-pdf/f1040ez.pdf\",\n",
    "        \"http://www.irs.gov/pub/irs-pdf/f1040es.pdf\",\n",
    "        \"http://www.irs.gov/pub/irs-pdf/f1040sb.pdf\"]"
   ]
  },
  {
   "cell_type": "markdown",
   "id": "7ebce191",
   "metadata": {
    "slideshow": {
     "slide_type": "slide"
    }
   },
   "source": [
    "##### en version séquentielle\n",
    "\n",
    "Comme on l'a vu en introduction, si on va chercher ces 4 pages séquentiellement ça peut\n",
    "prendre un certain temps, selon les conditions réseau ... ici pour moi environ 12s - ça\n",
    "dépend bien sûr de vos conditions réseau."
   ]
  },
  {
   "cell_type": "code",
   "execution_count": null,
   "id": "ae8ed17a",
   "metadata": {},
   "outputs": [],
   "source": [
    "import requests\n",
    "\n",
    "beg = time.time()\n",
    "\n",
    "for url in urls:\n",
    "    req = requests.get(url)\n",
    "    print(f\"{url} returned {len(req.text)} chars\")\n",
    "\n",
    "print(f\"duration = {time.time()-beg}s\")"
   ]
  },
  {
   "cell_type": "markdown",
   "id": "49cbd32a",
   "metadata": {},
   "source": [
    "Alors souvenez-vous, on a bien dit qu'avec `asyncio` on allait pouvoir simplement faire la\n",
    "même chose mais de manière concurrente, sans bloquer l'exécution entre tous les délais\n",
    "réseau qui interviennent ici.\n",
    "\n",
    "Alors voyons cela. Je commence par importer la librairie `aiohttp` qui est, vous l'avez\n",
    "compris, une version asynchrone pour aller chercher des pages web.\n",
    "\n",
    "Je dois vous signaler que cette librairie n'est **pas dans la librairie standard**, vous\n",
    "devez l'installer comme d'habitude avec\n",
    "`pip install aiohttp`."
   ]
  },
  {
   "cell_type": "code",
   "execution_count": null,
   "id": "892c7295",
   "metadata": {
    "slideshow": {
     "slide_type": "slide"
    }
   },
   "outputs": [],
   "source": [
    "import asyncio\n",
    "import aiohttp"
   ]
  },
  {
   "cell_type": "markdown",
   "id": "687e0c4e",
   "metadata": {},
   "source": [
    "grâce à quoi je peux construire une coroutine qui va chercher une page web, je l'ai\n",
    "appelée `fetch`.\n",
    "\n",
    "Comment ça marche ? de manière assez standard, je construis un objet session; à\n",
    "l'intérieur de cette session, je crée une requête avec `session.get()`, pour obtenir un\n",
    "objet `response`, sur lequel je peux lire le contenu brut de la page web.\n",
    "\n",
    "Ce qui est intéressant ici, c'est la syntaxe `async with` - vous en voyez ici deux\n",
    "exemplaires; de même qu'en python synchrone on peut faire `with` sur un context manager,\n",
    "on peut faire `async with` sur un context manager asynchrone."
   ]
  },
  {
   "cell_type": "code",
   "execution_count": null,
   "id": "289bfa4d",
   "metadata": {
    "slideshow": {
     "slide_type": "fragment"
    }
   },
   "outputs": [],
   "source": [
    "async def fetch(url):\n",
    "\n",
    "    async with aiohttp.ClientSession() as session:\n",
    "        print(f\"fetching {url}\")\n",
    "\n",
    "        async with session.get(url) as response:\n",
    "            #print(f\"{url} returned status {response.status}\")\n",
    "            raw = await response.read()\n",
    "            print(f\"{url} returned {len(raw)} bytes\")"
   ]
  },
  {
   "cell_type": "markdown",
   "id": "1cd7a7c8",
   "metadata": {},
   "source": [
    "C'est quoi un context manager asynchrone ?\n",
    "\n",
    "Rappelez-vous, on ouvre un fichier avec un `with` pour être bien sûr de fermer le fichier;\n",
    "un context manager normal a deux étapes prédéfinies qu'on exécute au début et à la fin du\n",
    "`with` (ce sont les dunder rméthodes `__enter__` et `__exit__`)\n",
    "\n",
    "Eh bien c'est comme un context manager normal, sauf que les deux étapes de\n",
    "construction/destruction sont faites aussi de manière asynchrone - au travers d'un await -\n",
    "(et elles s'appellent `__aenter__` et `__aexit__`)\n",
    "\n",
    "Ça se prête donc très bien à toutes les applications réseau ou autres bases de données, où\n",
    "la création du contexte, et aussi sa destruction, sont au moins aussi asynchrones que ce\n",
    "qu'on fait avec\n",
    "\n",
    "Ici par exemple, pour créer l'objet `session` on doit créer une connexion réseau, c'est\n",
    "une étape relativement lente, il est important que l'on ne garde pas le processeur pendant\n",
    "ce temps-là.\n",
    "\n",
    "Bref, la construction 'async with' est très fréquente dans du code asynchrone.\n",
    "\n",
    "Je vous [signale à cet égard la\n",
    "PEP-0492](https://www.python.org/dev/peps/pep-0492/#asynchronous-context-managers-and-async-with),\n",
    "si vous voulez creuser tout ceci, qui explique ce protocole de *context manager*\n",
    "asynchrone, et dont je vous recommande la lecture si vous décidez de vous lancer avec\n",
    "asyncio."
   ]
  },
  {
   "cell_type": "markdown",
   "id": "508a297f",
   "metadata": {},
   "source": [
    "Je peux maintenant utiliser gather pour aller chercher mes 4 URLs en même temps. Pour cela\n",
    "je crée une coroutine fetch_urls,"
   ]
  },
  {
   "cell_type": "code",
   "execution_count": null,
   "id": "db5078e9",
   "metadata": {
    "slideshow": {
     "slide_type": "slide"
    }
   },
   "outputs": [],
   "source": [
    "# une coroutine qui va chercher toutes les URLs\n",
    "# ne fait toujours rien, naturellement\n",
    "async def fetch_urls():\n",
    "    await asyncio.gather(*(fetch(url) for url in urls))"
   ]
  },
  {
   "cell_type": "markdown",
   "id": "303234ee",
   "metadata": {},
   "source": [
    "que je peux ensuite invoquer au travers d'une boucle d'événements, comme on l'a déjà vu,\n",
    "et cette fois avec ce code"
   ]
  },
  {
   "cell_type": "code",
   "execution_count": null,
   "id": "3d2886f8",
   "metadata": {
    "slideshow": {
     "slide_type": "fragment"
    }
   },
   "outputs": [],
   "source": [
    "beg = time.time()\n",
    "await fetch_urls()\n",
    "print(f\"duration = {time.time()-beg}s\")"
   ]
  },
  {
   "cell_type": "markdown",
   "id": "0fdb55a0",
   "metadata": {},
   "source": [
    "qui va chercher mes quatre pages, tout est fait en même temps, je n'ai pas perdu de temps\n",
    "à attendre, les 4 requêtes se déroulent complètement en même temps, pour moi ça ne prend\n",
    "que 2 secondes environ, soit le délai que j'avais observé pour le plus lent des 4 liens."
   ]
  },
  {
   "cell_type": "markdown",
   "id": "e7cc3a73",
   "metadata": {
    "slideshow": {
     "slide_type": "slide"
    }
   },
   "source": [
    "## itérations asynchrones\n",
    "\n",
    "De la même façon, le langage supporte les itérateurs asynchrones, et aussi les\n",
    "compréhensions asynchrones (ajoutées plus tard [dans la\n",
    "PEP-530](https://www.python.org/dev/peps/pep-0530/))\n",
    "\n",
    "Voyons tout d'abord un exemple pratique; je vais reprendre le même exemple, ça a le mérite\n",
    "d'être simple, mais plutôt que de lire d'un seul coup tout le contenu de la page web,\n",
    "imaginons que je veuille traiter les lignes au fur et à mesure qu'elles arrivent."
   ]
  },
  {
   "cell_type": "code",
   "execution_count": null,
   "id": "6eb96768",
   "metadata": {},
   "outputs": [],
   "source": [
    "import asyncio\n",
    "\n",
    "# une variante\n",
    "async def fetch2(url, i):\n",
    "    async with aiohttp.ClientSession() as session:\n",
    "        async with session.get(url) as response:\n",
    "            # avec ici une itération asynchrone\n",
    "            async for line in response.content:\n",
    "                print(f'{i}', end='')\n",
    "    return url"
   ]
  },
  {
   "cell_type": "markdown",
   "id": "d1491947",
   "metadata": {},
   "source": [
    "C'est un exemple un peu artificiel, mais ce serait la même chose avec par exemple une\n",
    "requête de base de données, ou similaire.\n",
    "\n",
    "J'ai repris le code de fetch, mais cette fois j'utilise un for asynchrone `async for` pour\n",
    "lire les lignes au fur et à mesure.\n",
    "\n",
    "Malgré le fait que je ne fais aucun `await` explicitement dans ce `for`, les lignes sont\n",
    "bel et bien lues de manière asynchrone et pour bien le montrer, j'imprime en vrac l'indice\n",
    "de l'URL, que l'on va bien voir arriver dans le désordre."
   ]
  },
  {
   "cell_type": "code",
   "execution_count": null,
   "id": "3027e213",
   "metadata": {},
   "outputs": [],
   "source": [
    "# un peu de gymnastique pour passer à gather les 4 coroutines\n",
    "await asyncio.gather(*(fetch2(url, i) for i, url in enumerate(urls)))"
   ]
  },
  {
   "cell_type": "markdown",
   "id": "a2b00027",
   "metadata": {},
   "source": [
    "## résumé (1)\n",
    "\n",
    "À ce stade, c'est certainement utile que l'on fasse un résumé de ce que nous avons vu\n",
    "jusqu'ici au sujet des extensions asynchrones du langage à proprement parler;\n",
    "\n",
    "Nous avons vu jusqu'ici\n",
    "\n",
    "* la notion de coroutine; j'insiste bien à nouveau sur la différence entre une fonction\n",
    "  coroutine (qui est définie par `async def`) et ce qu'elle renvoie, un objet coroutine.\n",
    "\n",
    "* le fait d'appeler une coroutine n'exécute rien, cela renvoie immédiatement un objet\n",
    "  coroutine qui ne provoquera une exécution que si on lui applique un await, ou si on la\n",
    "  passe à une boucle d'évènements\n",
    "\n",
    "* tout ceci n'a de sens qu'au travers d'une boucle d'événements, qui joue le rôle de\n",
    "  *scheduler*; même si on ne crée pas explicitement de *event loop*, lorsqu'on utilise\n",
    "  `await` depuis le toplevel cela crée pour nous une boucle d'événements.\n",
    "\n",
    "* enfin on a vu les notions de context managers et d'itérateurs asynchrones, qui indiquent\n",
    "  au langage que les méthodes spéciales en jeu sont des coroutines \n",
    "  * `__aenter__()` et `__aexit__()` pour les *context managers*\n",
    "  * `__aiter__()` et `__anext__()` pour les itérateurs"
   ]
  },
  {
   "cell_type": "markdown",
   "id": "5d559d8a",
   "metadata": {
    "cell_style": "split",
    "slideshow": {
     "slide_type": "fragment"
    }
   },
   "source": [
    "## résumé 2\n",
    "\n",
    "* enfin, une coroutine peut appeler une autre coroutine avec `await`; on ne peut pas faire\n",
    "  `await` dans une fonction ordinaire, seulement dans une coroutine"
   ]
  },
  {
   "cell_type": "markdown",
   "id": "33191cf5",
   "metadata": {},
   "source": [
    "* si on définit une fonction coroutine `async def foo():`\n",
    "\n",
    "* `foo()` → objet *coroutine* :  faire `await foo()`"
   ]
  },
  {
   "cell_type": "markdown",
   "id": "a6419361",
   "metadata": {
    "cell_style": "split",
    "slideshow": {
     "slide_type": "fragment"
    }
   },
   "source": [
    "**autorisé**\n",
    "\n",
    "````\n",
    "async def bar():\n",
    "    await foo()\n",
    "````"
   ]
  },
  {
   "cell_type": "markdown",
   "id": "24be3108",
   "metadata": {
    "cell_style": "split",
    "slideshow": {
     "slide_type": "-"
    }
   },
   "source": [
    "**pas autorisé** : *SyntaxError*\n",
    "\n",
    "````\n",
    "def bar():\n",
    "    await foo()\n",
    "````"
   ]
  },
  {
   "cell_type": "markdown",
   "id": "b1331bf3",
   "metadata": {},
   "source": [
    "**au *toplevel* (directement au prompt dans la *repl*)**"
   ]
  },
  {
   "cell_type": "markdown",
   "id": "ffc746ca",
   "metadata": {
    "cell_style": "split",
    "slideshow": {
     "slide_type": "fragment"
    }
   },
   "source": [
    "**autorisé** dans IPython et notebooks\n",
    "\n",
    "````\n",
    "await foo()\n",
    "````"
   ]
  },
  {
   "cell_type": "markdown",
   "id": "7c7eeacc",
   "metadata": {
    "cell_style": "split",
    "slideshow": {
     "slide_type": "-"
    }
   },
   "source": [
    "**pas autorisé** : dans python standard - *SyntaxError*\n",
    "\n",
    "````\n",
    "await foo()\n",
    "````"
   ]
  }
 ],
 "metadata": {
  "jupytext": {
   "cell_metadata_filter": "all,-hidden,-heading_collapsed,-run_control,-trusted",
   "notebook_metadata_filter": "all,-language_info,-toc,-jupytext.text_representation.jupytext_version,-jupytext.text_representation.format_version",
   "text_representation": {
    "extension": ".md",
    "format_name": "myst"
   }
  },
  "kernelspec": {
   "display_name": "Python 3",
   "language": "python",
   "name": "python3"
  },
  "nbhosting": {
   "title": "http avec async for et async with"
  },
  "source_map": [
   14,
   18,
   27,
   34,
   43,
   51,
   61,
   74,
   81,
   94,
   108,
   136,
   141,
   150,
   155,
   163,
   169,
   181,
   192,
   204,
   207,
   232,
   239,
   245,
   254,
   263,
   267,
   275
  ]
 },
 "nbformat": 4,
 "nbformat_minor": 5
}